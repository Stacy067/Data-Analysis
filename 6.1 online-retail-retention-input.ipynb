{
 "cells": [
  {
   "cell_type": "markdown",
   "metadata": {
    "id": "_6F6rxolVUph"
   },
   "source": [
    "* 데이터셋 : https://archive.ics.uci.edu/ml/datasets/Online+Retail#\n",
    "## 라이브러리 로드"
   ]
  },
  {
   "cell_type": "code",
   "execution_count": null,
   "metadata": {
    "id": "al7uPLI5VUpu"
   },
   "outputs": [],
   "source": [
    "import pandas as pd\n",
    "import numpy as np\n",
    "import seaborn as sns\n",
    "import datetime as dt\n",
    "import matplotlib.pyplot as plt"
   ]
  },
  {
   "cell_type": "markdown",
   "metadata": {
    "id": "pG9cuPCfVUpy"
   },
   "source": [
    "## 폰트 설정"
   ]
  },
  {
   "cell_type": "code",
   "execution_count": null,
   "metadata": {
    "colab": {
     "base_uri": "https://localhost:8080/"
    },
    "executionInfo": {
     "elapsed": 4226,
     "status": "ok",
     "timestamp": 1634789334125,
     "user": {
      "displayName": "JINY ROH",
      "photoUrl": "https://lh3.googleusercontent.com/a-/AOh14Gi7VIzxUnr7MUJE9Bupl4bkwgEAsz4e1gsgrYIPZw=s64",
      "userId": "06348894780083418282"
     },
     "user_tz": -540
    },
    "id": "TZZCAq_CVUpz",
    "outputId": "803a6ac5-5de0-4186-88e1-78928981c948"
   },
   "outputs": [],
   "source": [
    "def get_font_family():\n",
    "    \"\"\"\n",
    "    시스템 환경에 따른 기본 폰트명을 반환하는 함수\n",
    "    \"\"\"\n",
    "    import platform\n",
    "    system_name = platform.system()\n",
    "    \n",
    "    if system_name == \"Darwin\" :\n",
    "        font_family = \"AppleGothic\"\n",
    "    elif system_name == \"Windows\":\n",
    "        font_family = \"Malgun Gothic\"\n",
    "    else:\n",
    "        # Linux(colab)\n",
    "        !apt-get install fonts-nanum -qq  > /dev/null\n",
    "        !fc-cache -fv\n",
    "\n",
    "        import matplotlib as mpl\n",
    "        mpl.font_manager._rebuild()\n",
    "        findfont = mpl.font_manager.fontManager.findfont\n",
    "        mpl.font_manager.findfont = findfont\n",
    "        mpl.backends.backend_agg.findfont = findfont\n",
    "        \n",
    "        font_family = \"NanumBarunGothic\"\n",
    "    return font_family\n",
    "\n",
    "plt.rc(\"font\", family=get_font_family())\n",
    "plt.rc(\"axes\", unicode_minus=False)"
   ]
  },
  {
   "cell_type": "markdown",
   "metadata": {
    "id": "zB3XCKfr8ne9"
   },
   "source": [
    "<img src=\"https://pandas.pydata.org/docs/_images/02_io_readwrite.svg\">"
   ]
  },
  {
   "cell_type": "code",
   "execution_count": null,
   "metadata": {
    "colab": {
     "base_uri": "https://localhost:8080/"
    },
    "executionInfo": {
     "elapsed": 933,
     "status": "ok",
     "timestamp": 1634789335055,
     "user": {
      "displayName": "JINY ROH",
      "photoUrl": "https://lh3.googleusercontent.com/a-/AOh14Gi7VIzxUnr7MUJE9Bupl4bkwgEAsz4e1gsgrYIPZw=s64",
      "userId": "06348894780083418282"
     },
     "user_tz": -540
    },
    "id": "aCg7NWdbVUp2",
    "outputId": "76f5f611-8b15-4a51-8a77-c905905703e8"
   },
   "outputs": [],
   "source": [
    "# pd.read_excel 로 데이터를 불러옵니다.\n",
    "# 데이터의 용량이 커서 로드하는데 1분 이상 걸릴 수도 있습니다. 또 read_excel은 시간이 오래 걸립니다.\n",
    "# csv로 로드하는 것이 훨씬빠릅니다.\n",
    "# df = pd.read_excel(\"http://archive.ics.uci.edu/ml/machine-learning-databases/00352/Online%20Retail.xlsx\")\n",
    "df = pd.read_csv(\"data/online_retail.csv\")\n",
    "df.shape"
   ]
  },
  {
   "cell_type": "markdown",
   "metadata": {
    "id": "n_IHFwI6VUp3"
   },
   "source": [
    "## 데이터 미리보기 및 요약"
   ]
  },
  {
   "cell_type": "code",
   "execution_count": null,
   "metadata": {
    "colab": {
     "base_uri": "https://localhost:8080/",
     "height": 206
    },
    "executionInfo": {
     "elapsed": 14,
     "status": "ok",
     "timestamp": 1634789335056,
     "user": {
      "displayName": "JINY ROH",
      "photoUrl": "https://lh3.googleusercontent.com/a-/AOh14Gi7VIzxUnr7MUJE9Bupl4bkwgEAsz4e1gsgrYIPZw=s64",
      "userId": "06348894780083418282"
     },
     "user_tz": -540
    },
    "id": "3QlSbyvNVUp4",
    "outputId": "35d077f9-aab1-4489-c123-c66b2a877428"
   },
   "outputs": [],
   "source": [
    "# head\n"
   ]
  },
  {
   "cell_type": "code",
   "execution_count": null,
   "metadata": {
    "colab": {
     "base_uri": "https://localhost:8080/",
     "height": 206
    },
    "executionInfo": {
     "elapsed": 13,
     "status": "ok",
     "timestamp": 1634789335056,
     "user": {
      "displayName": "JINY ROH",
      "photoUrl": "https://lh3.googleusercontent.com/a-/AOh14Gi7VIzxUnr7MUJE9Bupl4bkwgEAsz4e1gsgrYIPZw=s64",
      "userId": "06348894780083418282"
     },
     "user_tz": -540
    },
    "id": "RAlJtBTNVUp6",
    "outputId": "44743a68-6d98-4c62-b430-788f8f61a7b5"
   },
   "outputs": [],
   "source": [
    "# tail\n"
   ]
  },
  {
   "cell_type": "markdown",
   "metadata": {},
   "source": [
    "## info"
   ]
  },
  {
   "cell_type": "code",
   "execution_count": null,
   "metadata": {
    "colab": {
     "base_uri": "https://localhost:8080/"
    },
    "executionInfo": {
     "elapsed": 13,
     "status": "ok",
     "timestamp": 1634789335057,
     "user": {
      "displayName": "JINY ROH",
      "photoUrl": "https://lh3.googleusercontent.com/a-/AOh14Gi7VIzxUnr7MUJE9Bupl4bkwgEAsz4e1gsgrYIPZw=s64",
      "userId": "06348894780083418282"
     },
     "user_tz": -540
    },
    "id": "LREXvgJBVUp7",
    "outputId": "d34ae5bc-79da-4592-99a7-a9ea7fafb1f8"
   },
   "outputs": [],
   "source": [
    "# 데이터 집합과 각 열들의 자료형을 확인합니다.\n"
   ]
  },
  {
   "cell_type": "markdown",
   "metadata": {
    "id": "2HuBJz6q2tNw"
   },
   "source": [
    "Attribute Information:\n",
    "\n",
    "- InvoiceNo: 송장번호. 해당 거래에 할당된 6자리 정수\n",
    "  * 이 코드가 문자 'c'로 시작하면 취소를 나타냅니다.\n",
    "- StockCode: 제품 코드. 각 고유 제품에 고유하게 할당된 5자리 정수\n",
    "- Description: 제품 이름\n",
    "- Quantity: 거래당 각 제품의 수량 \n",
    "  * 이 코드가 ‘-’(마이너스)로 시작하면 취소를 나타냅니다.\n",
    "- InvoiceDate:  송장 날짜 및 시간. 숫자, 각 거래가 생성된 날짜 및 시간\n",
    "- UnitPrice: 단가. 제품 가격(영국 화폐)\n",
    "- CustomerID: 고객 번호. 해당 고객에게 고유하게 할당된 5자리 정수\n",
    "- Country: 국가 이름. 해당 고객이 거주하는 국가의 이름"
   ]
  },
  {
   "cell_type": "markdown",
   "metadata": {
    "id": "FK7JmRLSVUp7"
   },
   "source": [
    "## 기술통계"
   ]
  },
  {
   "cell_type": "code",
   "execution_count": null,
   "metadata": {
    "colab": {
     "base_uri": "https://localhost:8080/",
     "height": 300
    },
    "executionInfo": {
     "elapsed": 446,
     "status": "ok",
     "timestamp": 1634789335496,
     "user": {
      "displayName": "JINY ROH",
      "photoUrl": "https://lh3.googleusercontent.com/a-/AOh14Gi7VIzxUnr7MUJE9Bupl4bkwgEAsz4e1gsgrYIPZw=s64",
      "userId": "06348894780083418282"
     },
     "user_tz": -540
    },
    "id": "7SbTfuoXVUp8",
    "outputId": "facfd927-5f5f-479f-86e5-e62eb3bdf7cf"
   },
   "outputs": [],
   "source": [
    "# describe 를 통해 수치 타입의 기술통계를 구합니다.\n"
   ]
  },
  {
   "cell_type": "code",
   "execution_count": null,
   "metadata": {
    "colab": {
     "base_uri": "https://localhost:8080/",
     "height": 175
    },
    "executionInfo": {
     "elapsed": 384,
     "status": "ok",
     "timestamp": 1634789335877,
     "user": {
      "displayName": "JINY ROH",
      "photoUrl": "https://lh3.googleusercontent.com/a-/AOh14Gi7VIzxUnr7MUJE9Bupl4bkwgEAsz4e1gsgrYIPZw=s64",
      "userId": "06348894780083418282"
     },
     "user_tz": -540
    },
    "id": "iQptie-vVUp9",
    "outputId": "478093f0-95eb-4dc3-ffad-721681b88816"
   },
   "outputs": [],
   "source": [
    "# describe 를 통해 object 타입의 기술통계를 구합니다.\n"
   ]
  },
  {
   "cell_type": "markdown",
   "metadata": {
    "id": "ncWBHyToVUp_"
   },
   "source": [
    "## 결측치"
   ]
  },
  {
   "cell_type": "code",
   "execution_count": null,
   "metadata": {
    "colab": {
     "base_uri": "https://localhost:8080/"
    },
    "executionInfo": {
     "elapsed": 11,
     "status": "ok",
     "timestamp": 1634789335878,
     "user": {
      "displayName": "JINY ROH",
      "photoUrl": "https://lh3.googleusercontent.com/a-/AOh14Gi7VIzxUnr7MUJE9Bupl4bkwgEAsz4e1gsgrYIPZw=s64",
      "userId": "06348894780083418282"
     },
     "user_tz": -540
    },
    "id": "eaER7TiDVUp_",
    "outputId": "a890869c-56ea-4a3e-c80b-235eb9346405"
   },
   "outputs": [],
   "source": [
    "# 결측치 합계를 구합니다.\n"
   ]
  },
  {
   "cell_type": "code",
   "execution_count": null,
   "metadata": {
    "colab": {
     "base_uri": "https://localhost:8080/"
    },
    "executionInfo": {
     "elapsed": 7,
     "status": "ok",
     "timestamp": 1634789335878,
     "user": {
      "displayName": "JINY ROH",
      "photoUrl": "https://lh3.googleusercontent.com/a-/AOh14Gi7VIzxUnr7MUJE9Bupl4bkwgEAsz4e1gsgrYIPZw=s64",
      "userId": "06348894780083418282"
     },
     "user_tz": -540
    },
    "id": "5e9vOOm5VUqA",
    "outputId": "27e9dc38-81dc-4e92-aa0e-d47d6e81f253"
   },
   "outputs": [],
   "source": [
    "# 결측치 비율을 구합니다.\n"
   ]
  },
  {
   "cell_type": "code",
   "execution_count": null,
   "metadata": {
    "colab": {
     "base_uri": "https://localhost:8080/",
     "height": 289
    },
    "executionInfo": {
     "elapsed": 6034,
     "status": "ok",
     "timestamp": 1634789341908,
     "user": {
      "displayName": "JINY ROH",
      "photoUrl": "https://lh3.googleusercontent.com/a-/AOh14Gi7VIzxUnr7MUJE9Bupl4bkwgEAsz4e1gsgrYIPZw=s64",
      "userId": "06348894780083418282"
     },
     "user_tz": -540
    },
    "id": "oIOP4VyOVUqA",
    "outputId": "2578887d-0b55-47de-e095-60c186040723"
   },
   "outputs": [],
   "source": [
    "# 결측치를 시각화 합니다.\n"
   ]
  },
  {
   "cell_type": "markdown",
   "metadata": {
    "id": "B1pBw-_OVUqB"
   },
   "source": [
    "## 히스토그램으로 전체 수치변수 시각화"
   ]
  },
  {
   "cell_type": "code",
   "execution_count": null,
   "metadata": {
    "colab": {
     "base_uri": "https://localhost:8080/",
     "height": 607
    },
    "executionInfo": {
     "elapsed": 902,
     "status": "ok",
     "timestamp": 1634789342808,
     "user": {
      "displayName": "JINY ROH",
      "photoUrl": "https://lh3.googleusercontent.com/a-/AOh14Gi7VIzxUnr7MUJE9Bupl4bkwgEAsz4e1gsgrYIPZw=s64",
      "userId": "06348894780083418282"
     },
     "user_tz": -540
    },
    "id": "R84kQu4mVUqC",
    "outputId": "54f51d78-f5f4-49e1-b403-516d4039b00b"
   },
   "outputs": [],
   "source": [
    "# 히스토그램은 측정값을 구간으로 나누어 도수분포로 나타낸 plot입니다.\n"
   ]
  },
  {
   "cell_type": "markdown",
   "metadata": {
    "id": "2mX7Cx0NVUqC"
   },
   "source": [
    "## 전체 주문금액 파생변수 만들기\n",
    "* 수량 X 금액으로 전체 금액 계산하기"
   ]
  },
  {
   "cell_type": "code",
   "execution_count": null,
   "metadata": {
    "id": "wlEz7o0CVUqC"
   },
   "outputs": [],
   "source": [
    "# TotalPrice 는 RFM 중 MonetaryValue의 값이 됩니다.\n",
    "df[\"TotalPrice\"]\n"
   ]
  },
  {
   "cell_type": "markdown",
   "metadata": {
    "id": "B7YCaej9VUqD"
   },
   "source": [
    "## 회원 vs 비회원 구매"
   ]
  },
  {
   "cell_type": "code",
   "execution_count": null,
   "metadata": {
    "colab": {
     "base_uri": "https://localhost:8080/"
    },
    "executionInfo": {
     "elapsed": 19,
     "status": "ok",
     "timestamp": 1634789342809,
     "user": {
      "displayName": "JINY ROH",
      "photoUrl": "https://lh3.googleusercontent.com/a-/AOh14Gi7VIzxUnr7MUJE9Bupl4bkwgEAsz4e1gsgrYIPZw=s64",
      "userId": "06348894780083418282"
     },
     "user_tz": -540
    },
    "id": "IMfr249QVUqD",
    "outputId": "1558140c-5967-41e5-a2bc-acb36af049d8"
   },
   "outputs": [],
   "source": [
    "# CustomerID 결측치 유무\n"
   ]
  },
  {
   "cell_type": "markdown",
   "metadata": {
    "id": "82lJFz5oVUqF"
   },
   "source": [
    "## 매출액 상위 국가"
   ]
  },
  {
   "cell_type": "code",
   "execution_count": null,
   "metadata": {
    "colab": {
     "base_uri": "https://localhost:8080/",
     "height": 275
    },
    "executionInfo": {
     "elapsed": 8,
     "status": "ok",
     "timestamp": 1634789342811,
     "user": {
      "displayName": "JINY ROH",
      "photoUrl": "https://lh3.googleusercontent.com/a-/AOh14Gi7VIzxUnr7MUJE9Bupl4bkwgEAsz4e1gsgrYIPZw=s64",
      "userId": "06348894780083418282"
     },
     "user_tz": -540
    },
    "id": "7MBnsUThVUqF",
    "outputId": "b2a3f354-a1e8-46a0-b3b1-8525c4682a64"
   },
   "outputs": [],
   "source": [
    "# 국가별 매출액의 평균과 합계를 구합니다.\n",
    "# TotalPrice를 통해 매출액 상위 10개만 가져옵니다.\n",
    "top_sale_country =  df.groupby(\"Country\")[\"TotalPrice\"].agg(\n",
    "    [\"mean\", \"sum\"]).sort_values(\"sum\", ascending=False)\n",
    "top_sale_country.head(10).style.format(\"{:,}\")"
   ]
  },
  {
   "cell_type": "markdown",
   "metadata": {
    "id": "OAeweOlzVUqJ"
   },
   "source": [
    "## 날짜와 시간"
   ]
  },
  {
   "cell_type": "code",
   "execution_count": null,
   "metadata": {
    "colab": {
     "base_uri": "https://localhost:8080/"
    },
    "executionInfo": {
     "elapsed": 14,
     "status": "ok",
     "timestamp": 1634789344443,
     "user": {
      "displayName": "JINY ROH",
      "photoUrl": "https://lh3.googleusercontent.com/a-/AOh14Gi7VIzxUnr7MUJE9Bupl4bkwgEAsz4e1gsgrYIPZw=s64",
      "userId": "06348894780083418282"
     },
     "user_tz": -540
    },
    "id": "7stfxt2XVUqJ",
    "outputId": "30e13872-d61a-4166-d760-b4236bd95915"
   },
   "outputs": [],
   "source": [
    "# InvoiceDate를 datetime 모듈을 통해 날짜형식으로 변환해 줍니다.\n",
    "df[\"InvoiceDate\"] = pd.to_datetime(df[\"InvoiceDate\"])\n",
    "df[\"InvoiceDate\"].head(1)"
   ]
  },
  {
   "cell_type": "code",
   "execution_count": null,
   "metadata": {
    "colab": {
     "base_uri": "https://localhost:8080/",
     "height": 170
    },
    "executionInfo": {
     "elapsed": 328,
     "status": "ok",
     "timestamp": 1634789344762,
     "user": {
      "displayName": "JINY ROH",
      "photoUrl": "https://lh3.googleusercontent.com/a-/AOh14Gi7VIzxUnr7MUJE9Bupl4bkwgEAsz4e1gsgrYIPZw=s64",
      "userId": "06348894780083418282"
     },
     "user_tz": -540
    },
    "id": "sVkvqHweVUqK",
    "outputId": "74ebfa68-6106-451a-8e0e-88307f3307d5"
   },
   "outputs": [],
   "source": [
    "# year, month, day, dayofweek 를 InvoiceDate에서 추출하여 파생변수로 생성합니다.\n",
    "df[\"InvoiceYear\"] = df[\"InvoiceDate\"].dt.year\n",
    "df[\"InvoiceMonth\"] = df[\"InvoiceDate\"].dt.month\n",
    "df[\"InvoiceDay\"] = df[\"InvoiceDate\"].dt.day\n",
    "df[\"InvoiceDow\"] = df[\"InvoiceDate\"].dt.dayofweek\n",
    "df.head(1)"
   ]
  },
  {
   "cell_type": "code",
   "execution_count": null,
   "metadata": {
    "colab": {
     "base_uri": "https://localhost:8080/",
     "height": 170
    },
    "executionInfo": {
     "elapsed": 346,
     "status": "ok",
     "timestamp": 1634789346545,
     "user": {
      "displayName": "JINY ROH",
      "photoUrl": "https://lh3.googleusercontent.com/a-/AOh14Gi7VIzxUnr7MUJE9Bupl4bkwgEAsz4e1gsgrYIPZw=s64",
      "userId": "06348894780083418282"
     },
     "user_tz": -540
    },
    "id": "cVXFooyFVUqK",
    "outputId": "a0a64f5c-1959-4d2f-fe65-2b97bec2a701"
   },
   "outputs": [],
   "source": [
    "# InvoiceDate 에서 time, hour 에 대한 파생변수도 생성합니다.\n",
    "df[\"InvoiceTime\"] = df[\"InvoiceDate\"].dt.time\n",
    "df[\"InvoiceHour\"] = df[\"InvoiceDate\"].dt.hour\n",
    "df.head(1)"
   ]
  },
  {
   "cell_type": "code",
   "execution_count": null,
   "metadata": {
    "colab": {
     "base_uri": "https://localhost:8080/",
     "height": 170
    },
    "executionInfo": {
     "elapsed": 325,
     "status": "ok",
     "timestamp": 1634789345083,
     "user": {
      "displayName": "JINY ROH",
      "photoUrl": "https://lh3.googleusercontent.com/a-/AOh14Gi7VIzxUnr7MUJE9Bupl4bkwgEAsz4e1gsgrYIPZw=s64",
      "userId": "06348894780083418282"
     },
     "user_tz": -540
    },
    "id": "294gQT94VUqK",
    "outputId": "ee3c0498-b8d2-4025-839b-b3d648f70127"
   },
   "outputs": [],
   "source": [
    "# day_name() 을 통해 InvoiceDate 에서 요일명을 추출하여 파생변수로 생성합니다.\n",
    "df[\"InvoiceDayname\"] = df[\"InvoiceDate\"].dt.day_name()\n",
    "df[\"InvoiceDayname\"].sample(5)"
   ]
  },
  {
   "cell_type": "code",
   "execution_count": null,
   "metadata": {
    "colab": {
     "base_uri": "https://localhost:8080/",
     "height": 170
    },
    "executionInfo": {
     "elapsed": 1120,
     "status": "ok",
     "timestamp": 1634789346201,
     "user": {
      "displayName": "JINY ROH",
      "photoUrl": "https://lh3.googleusercontent.com/a-/AOh14Gi7VIzxUnr7MUJE9Bupl4bkwgEAsz4e1gsgrYIPZw=s64",
      "userId": "06348894780083418282"
     },
     "user_tz": -540
    },
    "id": "p4Gr-7GiVUqK",
    "outputId": "9b0c9bd6-a26f-42d3-b9b2-8ccbcbe3b19f"
   },
   "outputs": [],
   "source": [
    "# InvoiceDate 에서 앞에서 7개문자만 가져오면([:7]) 연, 월만 따로 생성합니다.\n",
    "df[\"InvoiceYM\"] = df[\"InvoiceDate\"].astype(str).str[:7]\n",
    "df[[\"InvoiceDate\", \"InvoiceYM\"]].sample(5)"
   ]
  },
  {
   "cell_type": "code",
   "execution_count": null,
   "metadata": {
    "colab": {
     "base_uri": "https://localhost:8080/",
     "height": 298
    },
    "executionInfo": {
     "elapsed": 13,
     "status": "ok",
     "timestamp": 1634789346545,
     "user": {
      "displayName": "JINY ROH",
      "photoUrl": "https://lh3.googleusercontent.com/a-/AOh14Gi7VIzxUnr7MUJE9Bupl4bkwgEAsz4e1gsgrYIPZw=s64",
      "userId": "06348894780083418282"
     },
     "user_tz": -540
    },
    "id": "UiLRfNfRVUqK",
    "outputId": "f6da291f-7e90-4575-b202-a0fe29008926"
   },
   "outputs": [],
   "source": [
    "# countplot 으로 연도(InvoiceYear)별 구매 빈도수 시각화합니다.\n",
    "sns.countplot(data=df, x=\"InvoiceYear\")"
   ]
  },
  {
   "cell_type": "code",
   "execution_count": null,
   "metadata": {
    "colab": {
     "base_uri": "https://localhost:8080/",
     "height": 298
    },
    "executionInfo": {
     "elapsed": 437,
     "status": "ok",
     "timestamp": 1634789346976,
     "user": {
      "displayName": "JINY ROH",
      "photoUrl": "https://lh3.googleusercontent.com/a-/AOh14Gi7VIzxUnr7MUJE9Bupl4bkwgEAsz4e1gsgrYIPZw=s64",
      "userId": "06348894780083418282"
     },
     "user_tz": -540
    },
    "id": "XzJ5efozVUqL",
    "outputId": "74f9ec47-31a1-4046-b95d-d2396cd6487a"
   },
   "outputs": [],
   "source": [
    "# countplot 으로 월(InvoiceMonth)별 구매 빈도수 시각화합니다.\n",
    "\n",
    "sns.countplot(data=df, x=\"InvoiceMonth\")"
   ]
  },
  {
   "cell_type": "code",
   "execution_count": null,
   "metadata": {
    "colab": {
     "base_uri": "https://localhost:8080/",
     "height": 298
    },
    "executionInfo": {
     "elapsed": 620,
     "status": "ok",
     "timestamp": 1634789347592,
     "user": {
      "displayName": "JINY ROH",
      "photoUrl": "https://lh3.googleusercontent.com/a-/AOh14Gi7VIzxUnr7MUJE9Bupl4bkwgEAsz4e1gsgrYIPZw=s64",
      "userId": "06348894780083418282"
     },
     "user_tz": -540
    },
    "id": "t8GRdWq_VUqL",
    "outputId": "a160294e-85f8-4234-9532-f9532b9ffb17"
   },
   "outputs": [],
   "source": [
    "# countplot 으로 연도-월별(InvoiceYM) 구매 빈도수 시각화합니다.\n",
    "plt.figure(figsize=(12, 4))\n",
    "sns.countplot(data=df, x=\"InvoiceYM\")"
   ]
  },
  {
   "cell_type": "markdown",
   "metadata": {
    "id": "PsbAaCqsVUqL"
   },
   "source": [
    "### 요일별 빈도수"
   ]
  },
  {
   "cell_type": "code",
   "execution_count": null,
   "metadata": {
    "colab": {
     "base_uri": "https://localhost:8080/",
     "height": 298
    },
    "executionInfo": {
     "elapsed": 823,
     "status": "ok",
     "timestamp": 1634789348410,
     "user": {
      "displayName": "JINY ROH",
      "photoUrl": "https://lh3.googleusercontent.com/a-/AOh14Gi7VIzxUnr7MUJE9Bupl4bkwgEAsz4e1gsgrYIPZw=s64",
      "userId": "06348894780083418282"
     },
     "user_tz": -540
    },
    "id": "4JKPmUJrVUqL",
    "outputId": "ddca263f-7ebf-48bf-a786-fb3246df16ce"
   },
   "outputs": [],
   "source": [
    "# countplot 으로 요일별( InvoiceDow ) 구매 빈도수 시각화합니다.\n",
    "sns.countplot(data=df, x=\"InvoiceDow\")"
   ]
  },
  {
   "cell_type": "code",
   "execution_count": null,
   "metadata": {
    "colab": {
     "base_uri": "https://localhost:8080/",
     "height": 551
    },
    "executionInfo": {
     "elapsed": 773,
     "status": "ok",
     "timestamp": 1634789350817,
     "user": {
      "displayName": "JINY ROH",
      "photoUrl": "https://lh3.googleusercontent.com/a-/AOh14Gi7VIzxUnr7MUJE9Bupl4bkwgEAsz4e1gsgrYIPZw=s64",
      "userId": "06348894780083418282"
     },
     "user_tz": -540
    },
    "id": "T_DEDaZSVUqO",
    "outputId": "a0affbfe-c48d-4ddb-8c63-ba52a86b3641"
   },
   "outputs": [],
   "source": [
    "# 시간별( InvoiceHour ), 요일별( InvoiceDow )로 crosstab 을 통해 구매 빈도수 구합니다.\n",
    "order_hour_dow = pd.crosstab(df[\"InvoiceHour\"], df[\"InvoiceDow\"])\n",
    "order_hour_dow"
   ]
  },
  {
   "cell_type": "code",
   "execution_count": null,
   "metadata": {
    "colab": {
     "base_uri": "https://localhost:8080/",
     "height": 382
    },
    "executionInfo": {
     "elapsed": 14,
     "status": "ok",
     "timestamp": 1634789350817,
     "user": {
      "displayName": "JINY ROH",
      "photoUrl": "https://lh3.googleusercontent.com/a-/AOh14Gi7VIzxUnr7MUJE9Bupl4bkwgEAsz4e1gsgrYIPZw=s64",
      "userId": "06348894780083418282"
     },
     "user_tz": -540
    },
    "id": "EQSbfhQcVUqP",
    "outputId": "ea3a1b8e-dd8e-4549-e367-52ccf95f935b"
   },
   "outputs": [],
   "source": [
    "# 리스트컴프리헨션(List comprehension)을 통해 토요일을 제외한 \n",
    "# \"월화수목금일\"요일 문자열을 리스트를 컬럼명으로 대체합니다.\n",
    "# 위에서 구한 값을 .style.background_gradient() 통해서 시각화합니다.\n",
    "# order_hour_dow\n",
    "\n",
    "order_hour_dow.columns = [w for w in \"월화수목금일\"]\n",
    "order_hour_dow.style.background_gradient()"
   ]
  },
  {
   "cell_type": "code",
   "execution_count": null,
   "metadata": {
    "colab": {
     "base_uri": "https://localhost:8080/",
     "height": 298
    },
    "executionInfo": {
     "elapsed": 13,
     "status": "ok",
     "timestamp": 1634789350818,
     "user": {
      "displayName": "JINY ROH",
      "photoUrl": "https://lh3.googleusercontent.com/a-/AOh14Gi7VIzxUnr7MUJE9Bupl4bkwgEAsz4e1gsgrYIPZw=s64",
      "userId": "06348894780083418282"
     },
     "user_tz": -540
    },
    "id": "YU1ofas-VUqP",
    "outputId": "83656899-4ae7-442e-a92d-03a99b4dc67e"
   },
   "outputs": [],
   "source": [
    "# 시간별_요열별 구매 주문( order_hour_dow )을 시각화합니다.\n",
    "order_hour_dow.plot(figsize=(12, 3))"
   ]
  },
  {
   "cell_type": "code",
   "execution_count": null,
   "metadata": {
    "colab": {
     "base_uri": "https://localhost:8080/",
     "height": 458
    },
    "executionInfo": {
     "elapsed": 1934,
     "status": "ok",
     "timestamp": 1634789352743,
     "user": {
      "displayName": "JINY ROH",
      "photoUrl": "https://lh3.googleusercontent.com/a-/AOh14Gi7VIzxUnr7MUJE9Bupl4bkwgEAsz4e1gsgrYIPZw=s64",
      "userId": "06348894780083418282"
     },
     "user_tz": -540
    },
    "id": "0Yfzh3qdVUqQ",
    "outputId": "0ae91fa5-f2b5-4d67-97b4-fcc6e5b83c0d"
   },
   "outputs": [],
   "source": [
    "# 시간별_요열별 구매 주문( order_hour_dow )을 subplot을 통해 요일별 시각화합니다.\n",
    "\n",
    "_ = order_hour_dow.plot.area(figsize=(12, 6), subplots=True)"
   ]
  },
  {
   "cell_type": "code",
   "execution_count": null,
   "metadata": {
    "colab": {
     "base_uri": "https://localhost:8080/",
     "height": 502
    },
    "executionInfo": {
     "elapsed": 732,
     "status": "ok",
     "timestamp": 1634789353469,
     "user": {
      "displayName": "JINY ROH",
      "photoUrl": "https://lh3.googleusercontent.com/a-/AOh14Gi7VIzxUnr7MUJE9Bupl4bkwgEAsz4e1gsgrYIPZw=s64",
      "userId": "06348894780083418282"
     },
     "user_tz": -540
    },
    "id": "qZdWYtTBVUqQ",
    "outputId": "b11dbe8e-6471-40c0-ffb2-98e096160c3b"
   },
   "outputs": [],
   "source": [
    "# 시간별_요열별 구매 주문( order_hour_dow )을 heatmap을 통해 구매 빈도수를 시각화합니다.\n",
    "plt.figure(figsize=(12, 8))\n",
    "sns.heatmap(order_hour_dow, annot=True, fmt=',.0f',cmap=\"Blues\")"
   ]
  },
  {
   "cell_type": "markdown",
   "metadata": {
    "id": "CnzPBth_VUqR"
   },
   "source": [
    "### 시간대 빈도수"
   ]
  },
  {
   "cell_type": "code",
   "execution_count": null,
   "metadata": {
    "colab": {
     "base_uri": "https://localhost:8080/",
     "height": 298
    },
    "executionInfo": {
     "elapsed": 678,
     "status": "ok",
     "timestamp": 1634789354142,
     "user": {
      "displayName": "JINY ROH",
      "photoUrl": "https://lh3.googleusercontent.com/a-/AOh14Gi7VIzxUnr7MUJE9Bupl4bkwgEAsz4e1gsgrYIPZw=s64",
      "userId": "06348894780083418282"
     },
     "user_tz": -540
    },
    "id": "yXpnGPBEVUqR",
    "outputId": "8cf7ae41-0dcf-4f32-9b9e-83f1103244dd"
   },
   "outputs": [],
   "source": [
    "# countplot으로 시간대( InvoiceHour ) 구매 빈도수를 시각화합니다.\n",
    "plt.figure(figsize=(12, 4))\n",
    "sns.countplot(data=df, x=\"InvoiceHour\")"
   ]
  },
  {
   "cell_type": "markdown",
   "metadata": {},
   "source": [
    "## 유효한 데이터만 추출\n",
    "```python\n",
    "\n",
    "df_valid = df[df[\"CustomerID\"].notnull() & (df[\"Quantity\"] > 0) & (df[\"UnitPrice\"] > 0)]\n",
    "df_valid = df_valid.drop_duplicates()\n",
    "df_valid.shape\n",
    "```"
   ]
  },
  {
   "cell_type": "code",
   "execution_count": null,
   "metadata": {
    "colab": {
     "base_uri": "https://localhost:8080/",
     "height": 911
    },
    "executionInfo": {
     "elapsed": 334,
     "status": "ok",
     "timestamp": 1634789354905,
     "user": {
      "displayName": "JINY ROH",
      "photoUrl": "https://lh3.googleusercontent.com/a-/AOh14Gi7VIzxUnr7MUJE9Bupl4bkwgEAsz4e1gsgrYIPZw=s64",
      "userId": "06348894780083418282"
     },
     "user_tz": -540
    },
    "id": "UkxMnfspVUqc",
    "outputId": "fdba401d-fae8-4b2f-aa31-84cbbf5f550d"
   },
   "outputs": [],
   "source": [
    "# \"CustomerID\" 가 있고(notnull) \"Quantity\", \"UnitPrice\" 가 0보다 큰 데이터를 가져옵니다.\n",
    "# 구매하고 취소한 건 중 취소한 건만 제외하고 구매 건은 남깁니다.\n",
    "# 유효한 데이터를 df_valid 변수에 할당합니다.\n"
   ]
  },
  {
   "cell_type": "code",
   "execution_count": null,
   "metadata": {
    "colab": {
     "base_uri": "https://localhost:8080/",
     "height": 911
    },
    "executionInfo": {
     "elapsed": 8,
     "status": "ok",
     "timestamp": 1634789354906,
     "user": {
      "displayName": "JINY ROH",
      "photoUrl": "https://lh3.googleusercontent.com/a-/AOh14Gi7VIzxUnr7MUJE9Bupl4bkwgEAsz4e1gsgrYIPZw=s64",
      "userId": "06348894780083418282"
     },
     "user_tz": -540
    },
    "id": "dUSmXEq_1BXf",
    "outputId": "1a4f35cb-c23a-485b-9c4f-8c0ef6f071cc"
   },
   "outputs": [],
   "source": [
    "# 고객ID가 없는 건도 제거하여 df_valid 변수에 할당합니다.\n",
    "# 중복 데이터 제거\n"
   ]
  },
  {
   "cell_type": "markdown",
   "metadata": {
    "id": "tZRUYNdmVUqc"
   },
   "source": [
    "## 고객"
   ]
  },
  {
   "cell_type": "code",
   "execution_count": null,
   "metadata": {
    "colab": {
     "base_uri": "https://localhost:8080/"
    },
    "executionInfo": {
     "elapsed": 319,
     "status": "ok",
     "timestamp": 1634789355218,
     "user": {
      "displayName": "JINY ROH",
      "photoUrl": "https://lh3.googleusercontent.com/a-/AOh14Gi7VIzxUnr7MUJE9Bupl4bkwgEAsz4e1gsgrYIPZw=s64",
      "userId": "06348894780083418282"
     },
     "user_tz": -540
    },
    "id": "2LqFRCJKVUqd",
    "outputId": "9a3bd4d8-8ab9-4372-ba84-0ce1ce905c01"
   },
   "outputs": [],
   "source": [
    "# df_valid(유효고객, 유효주문) 내 고객별( CustomerID ) 구매( InvoiceNo ) 빈도수를 구합니다.\n",
    "cust_count = df_valid.groupby(\"CustomerID\")[\"InvoiceNo\"].count()\n",
    "cust_count"
   ]
  },
  {
   "cell_type": "code",
   "execution_count": null,
   "metadata": {
    "colab": {
     "base_uri": "https://localhost:8080/"
    },
    "executionInfo": {
     "elapsed": 13,
     "status": "ok",
     "timestamp": 1634789355219,
     "user": {
      "displayName": "JINY ROH",
      "photoUrl": "https://lh3.googleusercontent.com/a-/AOh14Gi7VIzxUnr7MUJE9Bupl4bkwgEAsz4e1gsgrYIPZw=s64",
      "userId": "06348894780083418282"
     },
     "user_tz": -540
    },
    "id": "Yijqdf-AVUqd",
    "outputId": "8d113d3e-280e-4e8c-8a69-2f13638968e9",
    "scrolled": true
   },
   "outputs": [],
   "source": [
    "# 고객별( CustomerID ) 구매( InvoiceNo ) 빈도수의 기술통계 값을 확인합니다.\n",
    "cust_count.describe()"
   ]
  },
  {
   "cell_type": "code",
   "execution_count": null,
   "metadata": {
    "colab": {
     "base_uri": "https://localhost:8080/",
     "height": 455
    },
    "executionInfo": {
     "elapsed": 11,
     "status": "ok",
     "timestamp": 1634789355220,
     "user": {
      "displayName": "JINY ROH",
      "photoUrl": "https://lh3.googleusercontent.com/a-/AOh14Gi7VIzxUnr7MUJE9Bupl4bkwgEAsz4e1gsgrYIPZw=s64",
      "userId": "06348894780083418282"
     },
     "user_tz": -540
    },
    "id": "GQjvC0xmVUqe",
    "outputId": "600e3607-6df9-4fa6-9cbf-b15456842135"
   },
   "outputs": [],
   "source": [
    "# cust_count.to_frame(name=\"count\") 으로 데이터 타입을 Series에서 Dataframe으로 변환합니다.\n",
    "df_cust_count = cust_count.to_frame(name=\"count\")\n",
    "df_cust_count"
   ]
  },
  {
   "cell_type": "code",
   "execution_count": null,
   "metadata": {},
   "outputs": [],
   "source": [
    "df_cust_count.hist(bins=50)"
   ]
  },
  {
   "cell_type": "code",
   "execution_count": null,
   "metadata": {
    "colab": {
     "base_uri": "https://localhost:8080/",
     "height": 284
    },
    "executionInfo": {
     "elapsed": 10,
     "status": "ok",
     "timestamp": 1634789355220,
     "user": {
      "displayName": "JINY ROH",
      "photoUrl": "https://lh3.googleusercontent.com/a-/AOh14Gi7VIzxUnr7MUJE9Bupl4bkwgEAsz4e1gsgrYIPZw=s64",
      "userId": "06348894780083418282"
     },
     "user_tz": -540
    },
    "id": "YZzKbOFCVUqf",
    "outputId": "227f3111-88cc-40f3-bc4c-c6d14c209e74",
    "scrolled": true
   },
   "outputs": [],
   "source": [
    "# df_cust_count 를 violinplot 으로 시각화합니다.\n",
    "sns.violinplot(data=df_cust_count)"
   ]
  },
  {
   "cell_type": "markdown",
   "metadata": {
    "id": "_fBp-TimVUqf"
   },
   "source": [
    "## 월단위 데이터 전처리"
   ]
  },
  {
   "cell_type": "code",
   "execution_count": null,
   "metadata": {
    "id": "NiKg56-UVUqg"
   },
   "outputs": [],
   "source": [
    "# get_month_day1() 함수를 통해 \" 연도-월-1 \" 형식으로 만듭니다.\n",
    "# 일자를 \" 1 \"로 통일화한 이유는 월별 잔존률을 구하기 위해서 입니다.(월 단위)\n",
    "def get_month_day1(x): \n",
    "    return dt.datetime(x.year, x.month, 1)"
   ]
  },
  {
   "cell_type": "markdown",
   "metadata": {},
   "source": [
    "```python\n",
    "df_valid[\"InvoiceDate1\"] = df_valid[\"InvoiceDate\"].map(get_month_day1)\n",
    "```"
   ]
  },
  {
   "cell_type": "code",
   "execution_count": null,
   "metadata": {
    "id": "nM00s5M8VUqg"
   },
   "outputs": [],
   "source": [
    "# map() 함수를 통해 get_month_day1() 함수를 df_valid(유효고객, 유효주문)에 일괄 적용합니다.\n",
    "# \" 연도-월-1 \"로 표기가 통일된 InvoiceDate1 이라는 파생변수를 생성합니다.\n",
    "# df_valid[\"InvoiceDate1\"]"
   ]
  },
  {
   "cell_type": "code",
   "execution_count": null,
   "metadata": {
    "colab": {
     "base_uri": "https://localhost:8080/"
    },
    "executionInfo": {
     "elapsed": 9,
     "status": "ok",
     "timestamp": 1634789357432,
     "user": {
      "displayName": "JINY ROH",
      "photoUrl": "https://lh3.googleusercontent.com/a-/AOh14Gi7VIzxUnr7MUJE9Bupl4bkwgEAsz4e1gsgrYIPZw=s64",
      "userId": "06348894780083418282"
     },
     "user_tz": -540
    },
    "id": "wGjB_hCIVUqg",
    "outputId": "74cce784-822a-499d-ab71-9dae2f5ecaa9"
   },
   "outputs": [],
   "source": [
    "# InvoiceDdf_valid[\"InvoiceDate1\"]을 구합니다.\n",
    "df_valid.groupby(\"CustomerID\")[\"InvoiceDate1\"].transform(\"min\")"
   ]
  },
  {
   "cell_type": "markdown",
   "metadata": {},
   "source": [
    "```python\n",
    "df_valid[\"InvoiceDateMin\"] = df_valid.groupby(\"CustomerID\")[\"InvoiceDate1\"].transform(\"min\")\n",
    "```"
   ]
  },
  {
   "cell_type": "code",
   "execution_count": null,
   "metadata": {
    "id": "87EjZ0a5VUqh"
   },
   "outputs": [],
   "source": [
    "# 최초 구매일( InvoiceDateMin )에 InvoiceDate1의 최솟값을 구하여 할당합니다.\n",
    "# 일자가 \" 1 \"로 통일되어 있어 \" 최근 구매일 - 최초 구매일 \"로 첫 구매 후 몇달 후 구매인지를 알 수 있습니다.\n",
    "# df_valid[\"InvoiceDateMin\"]"
   ]
  },
  {
   "cell_type": "markdown",
   "metadata": {},
   "source": [
    "```python\n",
    "year_diff = df_valid[\"InvoiceDate1\"].dt.year - df_valid[\"InvoiceDateMin\"].dt.year\n",
    "month_diff = df_valid[\"InvoiceDate1\"].dt.month - df_valid[\"InvoiceDateMin\"].dt.month\n",
    "```"
   ]
  },
  {
   "cell_type": "code",
   "execution_count": null,
   "metadata": {
    "id": "QpDiUiQKVUqh"
   },
   "outputs": [],
   "source": [
    "# 연도별 차이(year_diff)와 월별 차이(month_diff)를 구합니다.\n",
    " \n",
    "# year_diff \n",
    "# month_diff"
   ]
  },
  {
   "cell_type": "markdown",
   "metadata": {},
   "source": [
    "```python\n",
    "df_valid[\"CohortIndex\"] = year_diff * 12 + month_diff + 1\n",
    "```"
   ]
  },
  {
   "cell_type": "code",
   "execution_count": null,
   "metadata": {
    "id": "2CqjhHRhVUqh"
   },
   "outputs": [],
   "source": [
    "# \" 연도차이 * 12개월 + 월차이 + 1 \"로 첫 구매 후 몇달 후 구매인지 알 수 있도록 CohortIndex 변수를 생성합니다.\n",
    "# 2010-12-01부터 2011-12-01의 데이터를 기반으로 진행되어 CohortIndex 변수의 최솟값은 1이며, 최댓값 13입니다.\n",
    "df_valid[\"CohortIndex\"]"
   ]
  },
  {
   "cell_type": "markdown",
   "metadata": {
    "id": "Dzrk-uO5VUqi"
   },
   "source": [
    "### 코호트 월별 빈도수"
   ]
  },
  {
   "cell_type": "code",
   "execution_count": null,
   "metadata": {
    "colab": {
     "base_uri": "https://localhost:8080/"
    },
    "executionInfo": {
     "elapsed": 15,
     "status": "ok",
     "timestamp": 1634789357990,
     "user": {
      "displayName": "JINY ROH",
      "photoUrl": "https://lh3.googleusercontent.com/a-/AOh14Gi7VIzxUnr7MUJE9Bupl4bkwgEAsz4e1gsgrYIPZw=s64",
      "userId": "06348894780083418282"
     },
     "user_tz": -540
    },
    "id": "cuGdlq1jVUqi",
    "outputId": "850241c5-7e74-472c-e1fd-c9283a9c4f37"
   },
   "outputs": [],
   "source": [
    "# CohortIndex 값으로 월별 잔존 구매에 대한 빈도수를 구합니다.\n",
    "# 회원가입 후 월별 구매 빈도수를 value_counts 로 구합니다.\n",
    "df_valid[\"CohortIndex\"].value_counts().sort_index()"
   ]
  },
  {
   "cell_type": "code",
   "execution_count": null,
   "metadata": {
    "colab": {
     "base_uri": "https://localhost:8080/",
     "height": 298
    },
    "executionInfo": {
     "elapsed": 12,
     "status": "ok",
     "timestamp": 1634789357991,
     "user": {
      "displayName": "JINY ROH",
      "photoUrl": "https://lh3.googleusercontent.com/a-/AOh14Gi7VIzxUnr7MUJE9Bupl4bkwgEAsz4e1gsgrYIPZw=s64",
      "userId": "06348894780083418282"
     },
     "user_tz": -540
    },
    "id": "O3yTHc5EVUqi",
    "outputId": "3d00b9d7-f686-4791-fe56-8ad23e8de469"
   },
   "outputs": [],
   "source": [
    "# countplot 으로 CohortIndex 의 빈도수를 시각화합니다.\n",
    "plt.figure(figsize=(12, 4))\n",
    "sns.countplot(data=df_valid, x=\"CohortIndex\")"
   ]
  },
  {
   "cell_type": "markdown",
   "metadata": {
    "id": "pttmLPouVUqk"
   },
   "source": [
    "## 월별, 주문건, 주문제품 종류 수, 중복을 제외한 고객 수, 총 주문금액"
   ]
  },
  {
   "cell_type": "code",
   "execution_count": null,
   "metadata": {
    "colab": {
     "base_uri": "https://localhost:8080/",
     "height": 318
    },
    "executionInfo": {
     "elapsed": 318,
     "status": "ok",
     "timestamp": 1634789358304,
     "user": {
      "displayName": "JINY ROH",
      "photoUrl": "https://lh3.googleusercontent.com/a-/AOh14Gi7VIzxUnr7MUJE9Bupl4bkwgEAsz4e1gsgrYIPZw=s64",
      "userId": "06348894780083418282"
     },
     "user_tz": -540
    },
    "id": "kaoFCIYHVUqk",
    "outputId": "644076c3-3d1b-4ebc-9cc2-d37af490dab9"
   },
   "outputs": [],
   "source": [
    "# df_valid(유효고객, 유효주문)에 대해 월별 데이터( InvoiceMonth )를 확인합니다.\n",
    "# InvoiceNo 의 수\n",
    "# StockCode, CustomerID 의 유일값의 수\n",
    "# UnitPrice, Quantity, TotalPrice 의 sum\n",
    "df_valid.groupby('InvoiceMonth').agg({\"InvoiceNo\":\"_______\", \n",
    "                                      \"StockCode\":\"_______\", \n",
    "                                      \"CustomerID\":\"_______\",\n",
    "                                      \"UnitPrice\":\"_______\",\n",
    "                                      \"Quantity\":\"_______\",\n",
    "                                      \"TotalPrice\":\"_______\"\n",
    "                                     }).style.format(\"{:,}\")"
   ]
  },
  {
   "cell_type": "markdown",
   "metadata": {
    "id": "iGfd7BtbVUqk"
   },
   "source": [
    "## 잔존 빈도 구하기\n",
    "```python\n",
    "cohort_count = df_valid.groupby([\"InvoiceDateMin\", \"CohortIndex\"])[\"CustomerID\"].nunique().unstack()\n",
    "cohort_count\n",
    "```"
   ]
  },
  {
   "cell_type": "code",
   "execution_count": null,
   "metadata": {
    "colab": {
     "base_uri": "https://localhost:8080/",
     "height": 488
    },
    "executionInfo": {
     "elapsed": 9,
     "status": "ok",
     "timestamp": 1634789358305,
     "user": {
      "displayName": "JINY ROH",
      "photoUrl": "https://lh3.googleusercontent.com/a-/AOh14Gi7VIzxUnr7MUJE9Bupl4bkwgEAsz4e1gsgrYIPZw=s64",
      "userId": "06348894780083418282"
     },
     "user_tz": -540
    },
    "id": "Jk5MZXgfVUql",
    "outputId": "2952174e-01d5-4394-fb06-8ee0125eea09"
   },
   "outputs": [],
   "source": [
    "# InvoiceDateMin , CohortIndex 로 그룹화 하여 CustomerID 의 유일값에 대한 빈도수를 구합니다.\n",
    "# cohort_count\n"
   ]
  },
  {
   "cell_type": "code",
   "execution_count": null,
   "metadata": {},
   "outputs": [],
   "source": [
    "# cohort_count.index = cohort_count.index.astype(str)"
   ]
  },
  {
   "cell_type": "code",
   "execution_count": null,
   "metadata": {
    "colab": {
     "base_uri": "https://localhost:8080/",
     "height": 516
    },
    "executionInfo": {
     "elapsed": 1168,
     "status": "ok",
     "timestamp": 1634789359465,
     "user": {
      "displayName": "JINY ROH",
      "photoUrl": "https://lh3.googleusercontent.com/a-/AOh14Gi7VIzxUnr7MUJE9Bupl4bkwgEAsz4e1gsgrYIPZw=s64",
      "userId": "06348894780083418282"
     },
     "user_tz": -540
    },
    "id": "u_HooWzvVUql",
    "outputId": "087b5350-76a3-4502-afa7-b7e8444dab91"
   },
   "outputs": [],
   "source": [
    "# heatmap을 통해 위에서 구한 잔존수을 시각화 합니다.\n",
    "plt.figure(figsize=(12, 8))\n"
   ]
  },
  {
   "cell_type": "markdown",
   "metadata": {},
   "source": [
    "### 월별 신규 유입 고객 수 \n",
    "* Acqusition"
   ]
  },
  {
   "cell_type": "code",
   "execution_count": null,
   "metadata": {
    "scrolled": true
   },
   "outputs": [],
   "source": [
    "cohort_count[1]"
   ]
  },
  {
   "cell_type": "code",
   "execution_count": null,
   "metadata": {},
   "outputs": [],
   "source": [
    "# Monthly Acqusition 을 구합니다.\n",
    "cohort_count[1].sort_index(\n",
    "    ascending=False).plot.barh(figsize=(12, 6), title=\"Monthly Acqusition\")"
   ]
  },
  {
   "cell_type": "markdown",
   "metadata": {
    "id": "pBm8RhFuVUql"
   },
   "source": [
    "## 잔존율 구하기\n",
    "```python\n",
    "\n",
    "cohort_ratio = cohort_count.div(cohort_count[1], axis=0) * 100\n",
    "cohort_ratio = cohort_ratio.round(2)\n",
    "cohort_ratio\n",
    "```"
   ]
  },
  {
   "cell_type": "code",
   "execution_count": null,
   "metadata": {},
   "outputs": [],
   "source": [
    "# NAN == Not a Number 의 약자\n",
    "np.nan"
   ]
  },
  {
   "cell_type": "code",
   "execution_count": null,
   "metadata": {
    "colab": {
     "base_uri": "https://localhost:8080/",
     "height": 488
    },
    "executionInfo": {
     "elapsed": 10,
     "status": "ok",
     "timestamp": 1634789359466,
     "user": {
      "displayName": "JINY ROH",
      "photoUrl": "https://lh3.googleusercontent.com/a-/AOh14Gi7VIzxUnr7MUJE9Bupl4bkwgEAsz4e1gsgrYIPZw=s64",
      "userId": "06348894780083418282"
     },
     "user_tz": -540
    },
    "id": "tJPPTLnJVUqm",
    "outputId": "64bcbda8-8f14-4845-a4f5-c0e575d85a6b"
   },
   "outputs": [],
   "source": [
    "# 가입한 달을 1로 나누면 잔존률을 구할 수 있습니다.\n",
    "# div 를 통해 구하며 axis=0 으로 설정하면 첫 달을 기준으로 나머지 달을 나누게 됩니다.\n",
    "cohort_ratio\n"
   ]
  },
  {
   "cell_type": "code",
   "execution_count": null,
   "metadata": {
    "colab": {
     "base_uri": "https://localhost:8080/",
     "height": 519
    },
    "executionInfo": {
     "elapsed": 630,
     "status": "ok",
     "timestamp": 1634789360088,
     "user": {
      "displayName": "JINY ROH",
      "photoUrl": "https://lh3.googleusercontent.com/a-/AOh14Gi7VIzxUnr7MUJE9Bupl4bkwgEAsz4e1gsgrYIPZw=s64",
      "userId": "06348894780083418282"
     },
     "user_tz": -540
    },
    "id": "GNU1FBAhVUqm",
    "outputId": "90eb7c49-609c-4acf-b245-1298c8b6aff6"
   },
   "outputs": [],
   "source": [
    "# heatmap을 통해 위에서 구한 잔존률을 시각화 합니다.\n",
    "plt.figure(figsize=(12, 8))\n"
   ]
  },
  {
   "cell_type": "code",
   "execution_count": null,
   "metadata": {},
   "outputs": [],
   "source": []
  }
 ],
 "metadata": {
  "colab": {
   "collapsed_sections": [],
   "name": "01-basic-eda.ipynb",
   "provenance": []
  },
  "kernelspec": {
   "display_name": "Python 3 (ipykernel)",
   "language": "python",
   "name": "python3"
  },
  "language_info": {
   "codemirror_mode": {
    "name": "ipython",
    "version": 3
   },
   "file_extension": ".py",
   "mimetype": "text/x-python",
   "name": "python",
   "nbconvert_exporter": "python",
   "pygments_lexer": "ipython3",
   "version": "3.7.13"
  },
  "toc": {
   "base_numbering": 1,
   "nav_menu": {},
   "number_sections": true,
   "sideBar": true,
   "skip_h1_title": false,
   "title_cell": "Table of Contents",
   "title_sidebar": "Contents",
   "toc_cell": false,
   "toc_position": {
    "height": "calc(100% - 180px)",
    "left": "10px",
    "top": "150px",
    "width": "165px"
   },
   "toc_section_display": true,
   "toc_window_display": true
  },
  "varInspector": {
   "cols": {
    "lenName": 16,
    "lenType": 16,
    "lenVar": 40
   },
   "kernels_config": {
    "python": {
     "delete_cmd_postfix": "",
     "delete_cmd_prefix": "del ",
     "library": "var_list.py",
     "varRefreshCmd": "print(var_dic_list())"
    },
    "r": {
     "delete_cmd_postfix": ") ",
     "delete_cmd_prefix": "rm(",
     "library": "var_list.r",
     "varRefreshCmd": "cat(var_dic_list()) "
    }
   },
   "types_to_exclude": [
    "module",
    "function",
    "builtin_function_or_method",
    "instance",
    "_Feature"
   ],
   "window_display": false
  }
 },
 "nbformat": 4,
 "nbformat_minor": 1
}
