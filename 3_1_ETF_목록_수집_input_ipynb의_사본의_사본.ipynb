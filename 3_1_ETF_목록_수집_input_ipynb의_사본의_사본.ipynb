{
  "cells": [
    {
      "cell_type": "markdown",
      "metadata": {
        "id": "view-in-github",
        "colab_type": "text"
      },
      "source": [
        "<a href=\"https://colab.research.google.com/github/Stacy067/Data-Analysis/blob/main/3_1_ETF_%EB%AA%A9%EB%A1%9D_%EC%88%98%EC%A7%91_input_ipynb%EC%9D%98_%EC%82%AC%EB%B3%B8%EC%9D%98_%EC%82%AC%EB%B3%B8.ipynb\" target=\"_parent\"><img src=\"https://colab.research.google.com/assets/colab-badge.svg\" alt=\"Open In Colab\"/></a>"
      ]
    },
    {
      "cell_type": "markdown",
      "metadata": {
        "id": "b6ZRO3Ic0jYm"
      },
      "source": [
        "## ETF란?\n",
        "* ETF(상장지수펀드)는 기초지수의 성과를 추적하는 것이 목표인 인덱스펀드로, 거래소에 상장되어 있어서 개별주식과 마찬가지로 기존의 주식계좌를 통해 거래를 할 수 있습니다. 그 구성종목과 수량 등 자산구성내역(PDF)이 투명하게 공개되어 있고, 장중에는 실시간으로 순자산가치(NAV)가 제공되어 거래에 참고하실 수 있습니다. ETF는 1좌를 거래할 수 있는 최소한의 금액만으로 분산투자 효과를 누릴 수 있어 효율적인 투자수단이며, 펀드보다 운용보수가 낮고 주식에 적용되는 거래세도 붙지 않습니다. \n",
        "    * 출처 : [ETF : 네이버 금융](https://finance.naver.com/sise/etf.nhn)\n",
        "\n",
        "\n",
        "## 크롬 브라우저의 네트워크 정보를 통한 데이터 수집\n",
        "* json 데이터 수집과 파일저장 방법\n",
        "\n",
        "* [ETF : 네이버 금융](https://finance.naver.com/sise/etf.nhn)\n",
        "\n"
      ]
    },
    {
      "cell_type": "code",
      "execution_count": null,
      "metadata": {
        "id": "RzS961AR0jYn"
      },
      "outputs": [],
      "source": [
        "# 라이브러리를 불러옵니다.\n",
        "# 데이터 분석을 위한 pandas, 수치계산을 위한 numpy, http 요청을 위한 requests를 받아옵니다.\n",
        "import pandas as pd\n",
        "import numpy as np"
      ]
    },
    {
      "cell_type": "code",
      "source": [
        "!pip install requests"
      ],
      "metadata": {
        "colab": {
          "base_uri": "https://localhost:8080/"
        },
        "id": "oHQEzphp4hLV",
        "outputId": "ba4fea43-9a55-4a8c-e614-2765e8128630"
      },
      "execution_count": null,
      "outputs": [
        {
          "output_type": "stream",
          "name": "stdout",
          "text": [
            "Looking in indexes: https://pypi.org/simple, https://us-python.pkg.dev/colab-wheels/public/simple/\n",
            "Requirement already satisfied: requests in /usr/local/lib/python3.7/dist-packages (2.23.0)\n",
            "Requirement already satisfied: chardet<4,>=3.0.2 in /usr/local/lib/python3.7/dist-packages (from requests) (3.0.4)\n",
            "Requirement already satisfied: certifi>=2017.4.17 in /usr/local/lib/python3.7/dist-packages (from requests) (2022.6.15)\n",
            "Requirement already satisfied: idna<3,>=2.5 in /usr/local/lib/python3.7/dist-packages (from requests) (2.10)\n",
            "Requirement already satisfied: urllib3!=1.25.0,!=1.25.1,<1.26,>=1.21.1 in /usr/local/lib/python3.7/dist-packages (from requests) (1.24.3)\n"
          ]
        }
      ]
    },
    {
      "cell_type": "code",
      "source": [
        "import requests"
      ],
      "metadata": {
        "id": "Ev0w8F_44yf3"
      },
      "execution_count": null,
      "outputs": []
    },
    {
      "cell_type": "code",
      "execution_count": null,
      "metadata": {
        "id": "tNPvs5c50jYn",
        "colab": {
          "base_uri": "https://localhost:8080/",
          "height": 35
        },
        "outputId": "a0a6c229-fb7e-4ac2-fe4a-a46057068f1d"
      },
      "outputs": [
        {
          "output_type": "execute_result",
          "data": {
            "text/plain": [
              "'https://finance.naver.com/api/sise/etfItemList.nhn?etfType=0&targetColumn=market_sum&sortOrder=desc'"
            ],
            "application/vnd.google.colaboratory.intrinsic+json": {
              "type": "string"
            }
          },
          "metadata": {},
          "execution_count": 27
        }
      ],
      "source": [
        "# 수집할 url을 가져옵니다.\n",
        "url = \"https://finance.naver.com/api/sise/etfItemList.nhn?etfType=0&targetColumn=market_sum&sortOrder=desc\"\n",
        "url"
      ]
    },
    {
      "cell_type": "code",
      "source": [
        "url2 = \"http://finance.naver.com/sise/sise_group_detail.naver?type=theme&no=506\"\n",
        "url2"
      ],
      "metadata": {
        "colab": {
          "base_uri": "https://localhost:8080/",
          "height": 35
        },
        "id": "KmdDOGa8-e6O",
        "outputId": "86fb77f6-03f1-4688-be12-5416e0633fb4"
      },
      "execution_count": null,
      "outputs": [
        {
          "output_type": "execute_result",
          "data": {
            "text/plain": [
              "'http://finance.naver.com/sise/sise_group_detail.naver?type=theme&no=506'"
            ],
            "application/vnd.google.colaboratory.intrinsic+json": {
              "type": "string"
            }
          },
          "metadata": {},
          "execution_count": 34
        }
      ]
    },
    {
      "cell_type": "markdown",
      "metadata": {
        "id": "njNjy3zDYcM8"
      },
      "source": [
        "## Pandas를 통한 요청"
      ]
    },
    {
      "cell_type": "code",
      "execution_count": null,
      "metadata": {
        "id": "4U3nWVJvYcM8",
        "colab": {
          "base_uri": "https://localhost:8080/",
          "height": 327
        },
        "outputId": "c2e3a080-ac6a-4116-91b3-853c8205bfaf"
      },
      "outputs": [
        {
          "output_type": "error",
          "ename": "ValueError",
          "evalue": "ignored",
          "traceback": [
            "\u001b[0;31m---------------------------------------------------------------------------\u001b[0m",
            "\u001b[0;31mValueError\u001b[0m                                Traceback (most recent call last)",
            "\u001b[0;32m<ipython-input-28-5d8f83db45ac>\u001b[0m in \u001b[0;36m<module>\u001b[0;34m()\u001b[0m\n\u001b[0;32m----> 1\u001b[0;31m \u001b[0mpd\u001b[0m\u001b[0;34m.\u001b[0m\u001b[0mread_html\u001b[0m\u001b[0;34m(\u001b[0m\u001b[0murl\u001b[0m\u001b[0;34m)\u001b[0m\u001b[0;34m\u001b[0m\u001b[0;34m\u001b[0m\u001b[0m\n\u001b[0m",
            "\u001b[0;32m/usr/local/lib/python3.7/dist-packages/pandas/util/_decorators.py\u001b[0m in \u001b[0;36mwrapper\u001b[0;34m(*args, **kwargs)\u001b[0m\n\u001b[1;32m    309\u001b[0m                     \u001b[0mstacklevel\u001b[0m\u001b[0;34m=\u001b[0m\u001b[0mstacklevel\u001b[0m\u001b[0;34m,\u001b[0m\u001b[0;34m\u001b[0m\u001b[0;34m\u001b[0m\u001b[0m\n\u001b[1;32m    310\u001b[0m                 )\n\u001b[0;32m--> 311\u001b[0;31m             \u001b[0;32mreturn\u001b[0m \u001b[0mfunc\u001b[0m\u001b[0;34m(\u001b[0m\u001b[0;34m*\u001b[0m\u001b[0margs\u001b[0m\u001b[0;34m,\u001b[0m \u001b[0;34m**\u001b[0m\u001b[0mkwargs\u001b[0m\u001b[0;34m)\u001b[0m\u001b[0;34m\u001b[0m\u001b[0;34m\u001b[0m\u001b[0m\n\u001b[0m\u001b[1;32m    312\u001b[0m \u001b[0;34m\u001b[0m\u001b[0m\n\u001b[1;32m    313\u001b[0m         \u001b[0;32mreturn\u001b[0m \u001b[0mwrapper\u001b[0m\u001b[0;34m\u001b[0m\u001b[0;34m\u001b[0m\u001b[0m\n",
            "\u001b[0;32m/usr/local/lib/python3.7/dist-packages/pandas/io/html.py\u001b[0m in \u001b[0;36mread_html\u001b[0;34m(io, match, flavor, header, index_col, skiprows, attrs, parse_dates, thousands, encoding, decimal, converters, na_values, keep_default_na, displayed_only)\u001b[0m\n\u001b[1;32m   1111\u001b[0m         \u001b[0mna_values\u001b[0m\u001b[0;34m=\u001b[0m\u001b[0mna_values\u001b[0m\u001b[0;34m,\u001b[0m\u001b[0;34m\u001b[0m\u001b[0;34m\u001b[0m\u001b[0m\n\u001b[1;32m   1112\u001b[0m         \u001b[0mkeep_default_na\u001b[0m\u001b[0;34m=\u001b[0m\u001b[0mkeep_default_na\u001b[0m\u001b[0;34m,\u001b[0m\u001b[0;34m\u001b[0m\u001b[0;34m\u001b[0m\u001b[0m\n\u001b[0;32m-> 1113\u001b[0;31m         \u001b[0mdisplayed_only\u001b[0m\u001b[0;34m=\u001b[0m\u001b[0mdisplayed_only\u001b[0m\u001b[0;34m,\u001b[0m\u001b[0;34m\u001b[0m\u001b[0;34m\u001b[0m\u001b[0m\n\u001b[0m\u001b[1;32m   1114\u001b[0m     )\n",
            "\u001b[0;32m/usr/local/lib/python3.7/dist-packages/pandas/io/html.py\u001b[0m in \u001b[0;36m_parse\u001b[0;34m(flavor, io, match, attrs, encoding, displayed_only, **kwargs)\u001b[0m\n\u001b[1;32m    924\u001b[0m     \u001b[0;32melse\u001b[0m\u001b[0;34m:\u001b[0m\u001b[0;34m\u001b[0m\u001b[0;34m\u001b[0m\u001b[0m\n\u001b[1;32m    925\u001b[0m         \u001b[0;32massert\u001b[0m \u001b[0mretained\u001b[0m \u001b[0;32mis\u001b[0m \u001b[0;32mnot\u001b[0m \u001b[0;32mNone\u001b[0m  \u001b[0;31m# for mypy\u001b[0m\u001b[0;34m\u001b[0m\u001b[0;34m\u001b[0m\u001b[0m\n\u001b[0;32m--> 926\u001b[0;31m         \u001b[0;32mraise\u001b[0m \u001b[0mretained\u001b[0m\u001b[0;34m\u001b[0m\u001b[0;34m\u001b[0m\u001b[0m\n\u001b[0m\u001b[1;32m    927\u001b[0m \u001b[0;34m\u001b[0m\u001b[0m\n\u001b[1;32m    928\u001b[0m     \u001b[0mret\u001b[0m \u001b[0;34m=\u001b[0m \u001b[0;34m[\u001b[0m\u001b[0;34m]\u001b[0m\u001b[0;34m\u001b[0m\u001b[0;34m\u001b[0m\u001b[0m\n",
            "\u001b[0;32m/usr/local/lib/python3.7/dist-packages/pandas/io/html.py\u001b[0m in \u001b[0;36m_parse\u001b[0;34m(flavor, io, match, attrs, encoding, displayed_only, **kwargs)\u001b[0m\n\u001b[1;32m    904\u001b[0m \u001b[0;34m\u001b[0m\u001b[0m\n\u001b[1;32m    905\u001b[0m         \u001b[0;32mtry\u001b[0m\u001b[0;34m:\u001b[0m\u001b[0;34m\u001b[0m\u001b[0;34m\u001b[0m\u001b[0m\n\u001b[0;32m--> 906\u001b[0;31m             \u001b[0mtables\u001b[0m \u001b[0;34m=\u001b[0m \u001b[0mp\u001b[0m\u001b[0;34m.\u001b[0m\u001b[0mparse_tables\u001b[0m\u001b[0;34m(\u001b[0m\u001b[0;34m)\u001b[0m\u001b[0;34m\u001b[0m\u001b[0;34m\u001b[0m\u001b[0m\n\u001b[0m\u001b[1;32m    907\u001b[0m         \u001b[0;32mexcept\u001b[0m \u001b[0mValueError\u001b[0m \u001b[0;32mas\u001b[0m \u001b[0mcaught\u001b[0m\u001b[0;34m:\u001b[0m\u001b[0;34m\u001b[0m\u001b[0;34m\u001b[0m\u001b[0m\n\u001b[1;32m    908\u001b[0m             \u001b[0;31m# if `io` is an io-like object, check if it's seekable\u001b[0m\u001b[0;34m\u001b[0m\u001b[0;34m\u001b[0m\u001b[0;34m\u001b[0m\u001b[0m\n",
            "\u001b[0;32m/usr/local/lib/python3.7/dist-packages/pandas/io/html.py\u001b[0m in \u001b[0;36mparse_tables\u001b[0;34m(self)\u001b[0m\n\u001b[1;32m    220\u001b[0m         \u001b[0mlist\u001b[0m \u001b[0mof\u001b[0m \u001b[0mparsed\u001b[0m \u001b[0;34m(\u001b[0m\u001b[0mheader\u001b[0m\u001b[0;34m,\u001b[0m \u001b[0mbody\u001b[0m\u001b[0;34m,\u001b[0m \u001b[0mfooter\u001b[0m\u001b[0;34m)\u001b[0m \u001b[0mtuples\u001b[0m \u001b[0;32mfrom\u001b[0m \u001b[0mtables\u001b[0m\u001b[0;34m.\u001b[0m\u001b[0;34m\u001b[0m\u001b[0;34m\u001b[0m\u001b[0m\n\u001b[1;32m    221\u001b[0m         \"\"\"\n\u001b[0;32m--> 222\u001b[0;31m         \u001b[0mtables\u001b[0m \u001b[0;34m=\u001b[0m \u001b[0mself\u001b[0m\u001b[0;34m.\u001b[0m\u001b[0m_parse_tables\u001b[0m\u001b[0;34m(\u001b[0m\u001b[0mself\u001b[0m\u001b[0;34m.\u001b[0m\u001b[0m_build_doc\u001b[0m\u001b[0;34m(\u001b[0m\u001b[0;34m)\u001b[0m\u001b[0;34m,\u001b[0m \u001b[0mself\u001b[0m\u001b[0;34m.\u001b[0m\u001b[0mmatch\u001b[0m\u001b[0;34m,\u001b[0m \u001b[0mself\u001b[0m\u001b[0;34m.\u001b[0m\u001b[0mattrs\u001b[0m\u001b[0;34m)\u001b[0m\u001b[0;34m\u001b[0m\u001b[0;34m\u001b[0m\u001b[0m\n\u001b[0m\u001b[1;32m    223\u001b[0m         \u001b[0;32mreturn\u001b[0m \u001b[0;34m(\u001b[0m\u001b[0mself\u001b[0m\u001b[0;34m.\u001b[0m\u001b[0m_parse_thead_tbody_tfoot\u001b[0m\u001b[0;34m(\u001b[0m\u001b[0mtable\u001b[0m\u001b[0;34m)\u001b[0m \u001b[0;32mfor\u001b[0m \u001b[0mtable\u001b[0m \u001b[0;32min\u001b[0m \u001b[0mtables\u001b[0m\u001b[0;34m)\u001b[0m\u001b[0;34m\u001b[0m\u001b[0;34m\u001b[0m\u001b[0m\n\u001b[1;32m    224\u001b[0m \u001b[0;34m\u001b[0m\u001b[0m\n",
            "\u001b[0;32m/usr/local/lib/python3.7/dist-packages/pandas/io/html.py\u001b[0m in \u001b[0;36m_parse_tables\u001b[0;34m(self, doc, match, attrs)\u001b[0m\n\u001b[1;32m    550\u001b[0m \u001b[0;34m\u001b[0m\u001b[0m\n\u001b[1;32m    551\u001b[0m         \u001b[0;32mif\u001b[0m \u001b[0;32mnot\u001b[0m \u001b[0mtables\u001b[0m\u001b[0;34m:\u001b[0m\u001b[0;34m\u001b[0m\u001b[0;34m\u001b[0m\u001b[0m\n\u001b[0;32m--> 552\u001b[0;31m             \u001b[0;32mraise\u001b[0m \u001b[0mValueError\u001b[0m\u001b[0;34m(\u001b[0m\u001b[0;34m\"No tables found\"\u001b[0m\u001b[0;34m)\u001b[0m\u001b[0;34m\u001b[0m\u001b[0;34m\u001b[0m\u001b[0m\n\u001b[0m\u001b[1;32m    553\u001b[0m \u001b[0;34m\u001b[0m\u001b[0m\n\u001b[1;32m    554\u001b[0m         \u001b[0mresult\u001b[0m \u001b[0;34m=\u001b[0m \u001b[0;34m[\u001b[0m\u001b[0;34m]\u001b[0m\u001b[0;34m\u001b[0m\u001b[0;34m\u001b[0m\u001b[0m\n",
            "\u001b[0;31mValueError\u001b[0m: No tables found"
          ]
        }
      ],
      "source": [
        "pd.read_html(url)"
      ]
    },
    {
      "cell_type": "markdown",
      "metadata": {
        "id": "qVBlHSlYYcM9"
      },
      "source": [
        "## JSON \n",
        "\n",
        "<img src=\"https://upload.wikimedia.org/wikipedia/commons/thumb/c/c9/JSON_vector_logo.svg/300px-JSON_vector_logo.svg.png\" width=\"100\">\n",
        "\n",
        "JSON(제이슨, JavaScript Object Notation)은 속성-값 쌍( attribute–value pairs and array data types (or any other serializable value)) 또는 \"키-값 쌍\"으로 이루어진 데이터 오브젝트를 전달하기 위해 인간이 읽을 수 있는 텍스트를 사용하는 개방형 표준 포맷이다. 비동기 브라우저/서버 통신 (AJAX)을 위해, 넓게는 XML(AJAX가 사용)을 대체하는 주요 데이터 포맷이다. 특히, 인터넷에서 자료를 주고 받을 때 그 자료를 표현하는 방법으로 알려져 있다. 자료의 종류에 큰 제한은 없으며, 특히 컴퓨터 프로그램의 변수값을 표현하는 데 적합하다.\n",
        "본래는 자바스크립트 언어로부터 파생되어 자바스크립트의 구문 형식을 따르지만 언어 독립형 데이터 포맷이다. 즉, 프로그래밍 언어나 플랫폼에 독립적이므로, 구문 분석 및 JSON 데이터 생성을 위한 코드는 C, C++, C#, 자바, 자바스크립트, 펄, 파이썬 등 수많은 프로그래밍 언어에서 쉽게 이용할 수 있다.\n",
        "\n",
        "* 출처 : [JSON - 위키백과, 우리 모두의 백과사전](https://ko.wikipedia.org/wiki/JSON)"
      ]
    },
    {
      "cell_type": "markdown",
      "metadata": {
        "id": "oLoQrAuRYcM9"
      },
      "source": [
        "## requests를 통한 HTTP 요청\n",
        "* [Requests: HTTP for Humans™ — Requests documentation](https://requests.readthedocs.io/en/master/)"
      ]
    },
    {
      "cell_type": "code",
      "execution_count": null,
      "metadata": {
        "id": "Cuo_DDk80jYn",
        "colab": {
          "base_uri": "https://localhost:8080/"
        },
        "outputId": "5384fc50-2833-4e3a-d09a-f5c8375ebba3"
      },
      "outputs": [
        {
          "output_type": "execute_result",
          "data": {
            "text/plain": [
              "<Response [200]>"
            ]
          },
          "metadata": {},
          "execution_count": 17
        }
      ],
      "source": [
        "# requests 라이브러리를 통해 url을 받아옵니다.\n",
        "response = requests.get(url)\n",
        "response"
      ]
    },
    {
      "cell_type": "code",
      "execution_count": null,
      "metadata": {
        "id": "Vkm6oVtrYcNA",
        "colab": {
          "base_uri": "https://localhost:8080/",
          "height": 146
        },
        "outputId": "27083759-ce0e-424d-aa44-8df1475acaaf"
      },
      "outputs": [
        {
          "output_type": "execute_result",
          "data": {
            "text/plain": [
              "'{\"resultCode\":\"success\",\"result\":{\"etfItemList\":[{\"itemcode\":\"069500\",\"etfTabCode\":1,\"itemname\":\"KODEX 200\",\"nowVal\":30895,\"risefall\":\"2\",\"changeVal\":185,\"changeRate\":0.6,\"nav\":30958.0,\"threeMonthEarnRate\":-14.0234,\"quant\":4656347,\"amonut\":142798,\"marketSum\":51780},{\"itemcode\":\"371460\",\"etfTabCode\":4,\"itemname\":\"TIGER 차이나전기차SOLACTIVE\",\"nowVal\":17485,\"risefall\":\"2\",\"changeVal\":130,\"changeRate\":0.75,\"nav\":17426.0,\"threeMonthEarnRate\":30.0487,\"quant\":9177362,\"amonut\":162330,\"marketSum\":39222},{\"itemcode\":\"122630\",\"etfTabCode\":3,\"itemname\":\"KODEX 레버리지\",\"nowVal\":14295,\"risefall\":\"2\",\"changeVal\":190,\"changeRate\":1.35,\"nav\":14335.0,\"threeMonthEarnRate\":-27.4621,\"quant\":47812806,\"amonut\":673712,\"marketSum\":23537},{\"itemcode\":\"133690\",\"etfTabCode\":4,\"itemname\":\"TIGER 미국나스닥100\",\"nowVal\":70025,\"risefall\":\"2\",\"changeVal\":1385,\"changeRate\":2.02,\"nav\":69884.0,\"threeMonthEarnRate\":-12.2363,\"quant\":132532,\"amonut\":9273,\"marketSum\":20713},{\"itemcode\":\"252670\",\"etfTabCode\":3,\"itemname\":\"KODEX 200선물인버스2X\",\"nowVal\":3305,\"risefall\":\"5\",\"changeVal\":-40,\"changeRate\":-1.2,\"nav\":3315.0,\"threeMonthEarnRate\":31.6929,\"quant\":298231327,\"amonut\":1000885,\"marketSum\":20653},{\"itemcode\":\"102110\",\"etfTabCode\":1,\"itemname\":\"TIGER 200\",\"nowVal\":30965,\"risefall\":\"2\",\"changeVal\":180,\"changeRate\":0.58,\"nav\":31022.0,\"threeMonthEarnRate\":-13.9507,\"quant\":596156,\"amonut\":18354,\"marketSum\":19988},{\"itemcode\":\"157450\",\"etfTabCode\":6,\"itemname\":\"TIGER 단기통안채\",\"nowVal\":100960,\"risefall\":\"5\",\"changeVal\":-5,\"changeRate\":0.0,\"nav\":100957.0,\"threeMonthEarnRate\":0.2432,\"quant\":301703,\"amonut\":30459,\"marketSum\":17078},{\"itemcode\":\"214980\",\"etfTabCode\":6,\"itemname\":\"KODEX 단기채권PLUS\",\"nowVal\":103680,\"risefall\":\"5\",\"changeVal\":-30,\"changeRate\":-0.03,\"nav\":103687.0,\"threeMonthEarnRate\":0.0337,\"quant\":359489,\"amonut\":37273,\"marketSum\":16387},{\"itemcode\":\"360750\",\"etfTabCode\":4,\"itemname\":\"TIGER 미국S&P500\",\"nowVal\":12665,\"risefall\":\"2\",\"changeVal\":160,\"changeRate\":1.28,\"nav\":12650.0,\"threeMonthEarnRate\":-8.716,\"quant\":680110,\"amonut\":8598,\"marketSum\":16287},{\"itemcode\":\"381180\",\"etfTabCode\":4,\"itemname\":\"TIGER 미국필라델피아반도체나스닥\",\"nowVal\":9435,\"risefall\":\"2\",\"changeVal\":355,\"changeRate\":3.91,\"nav\":9371.0,\"threeMonthEarnRate\":-12.007,\"quant\":1317175,\"amonut\":12350,\"marketSum\":13761},{\"itemcode\":\"273130\",\"etfTabCode\":6,\"itemname\":\"KODEX 종합채권(AA-이상)액티브\",\"nowVal\":103185,\"risefall\":\"2\",\"changeVal\":75,\"changeRate\":0.07,\"nav\":103149.0,\"threeMonthEarnRate\":-0.1743,\"quant\":1435,\"amonut\":147,\"marketSum\":13545},{\"itemcode\":\"381170\",\"etfTabCode\":4,\"itemname\":\"TIGER 미국테크TOP10 INDXX\",\"nowVal\":10305,\"risefall\":\"2\",\"changeVal\":180,\"changeRate\":1.78,\"nav\":10276.0,\"threeMonthEarnRate\":-14.0128,\"quant\":341564,\"amonut\":3513,\"marketSum\":13288},{\"itemcode\":\"423160\",\"etfTabCode\":7,\"itemname\":\"KODEX KOFR금리액티브(합성)\",\"nowVal\":100380,\"risefall\":\"2\",\"changeVal\":10,\"changeRate\":0.01,\"nav\":100385.0,\"threeMonthEarnRate\":null,\"quant\":47,\"amonut\":4,\"marketSum\":13245},{\"itemcode\":\"153130\",\"etfTabCode\":6,\"itemname\":\"KODEX 단기채권\",\"nowVal\":103385,\"risefall\":\"5\",\"changeVal\":-25,\"changeRate\":-0.02,\"nav\":103392.0,\"threeMonthEarnRate\":0.1161,\"quant\":2315230,\"amonut\":239371,\"marketSum\":13212},{\"itemcode\":\"292150\",\"etfTabCode\":2,\"itemname\":\"TIGER TOP10\",\"nowVal\":10205,\"risefall\":\"2\",\"changeVal\":130,\"changeRate\":1.29,\"nav\":10204.0,\"threeMonthEarnRate\":-13.8889,\"quant\":228621,\"amonut\":2314,\"marketSum\":13078},{\"itemcode\":\"102780\",\"etfTabCode\":2,\"itemname\":\"KODEX 삼성그룹\",\"nowVal\":8195,\"risefall\":\"2\",\"changeVal\":90,\"changeRate\":1.11,\"nav\":8210.0,\"threeMonthEarnRate\":-10.6395,\"quant\":319191,\"amonut\":2603,\"marketSum\":12842},{\"itemcode\":\"305720\",\"etfTabCode\":2,\"itemname\":\"KODEX 2차전지산업\",\"nowVal\":17350,\"risefall\":\"5\",\"changeVal\":-95,\"changeRate\":-0.54,\"nav\":17346.0,\"threeMonthEarnRate\":-13.6087,\"quant\":2472608,\"amonut\":42917,\"marketSum\":12214},{\"itemcode\":\"310970\",\"etfTabCode\":1,\"itemname\":\"TIGER MSCI Korea TR\",\"nowVal\":12725,\"risefall\":\"2\",\"changeVal\":130,\"changeRate\":1.03,\"nav\":12728.0,\"threeMonthEarnRate\":-12.9579,\"quant\":172,\"amonut\":2,\"marketSum\":11783},{\"itemcode\":\"305540\",\"etfTabCode\":2,\"itemname\":\"TIGER 2차전지테마\",\"nowVal\":17415,\"risefall\":\"5\",\"changeVal\":-165,\"changeRate\":-0.94,\"nav\":17417.0,\"threeMonthEarnRate\":-15.6835,\"quant\":1600712,\"amonut\":27867,\"marketSum\":11494},{\"itemcode\":\"278530\",\"etfTabCode\":1,\"itemname\":\"KODEX 200TR\",\"nowVal\":10300,\"risefall\":\"2\",\"changeVal\":65,\"changeRate\":0.64,\"nav\":10309.0,\"threeMonthEarnRate\":-13.9916,\"quant\":93328,\"amonut\":955,\"marketSum\":10784},{\"itemcode\":\"148020\",\"etfTabCode\":1,\"itemname\":\"KBSTAR 200\",\"nowVal\":31010,\"risefall\":\"2\",\"changeVal\":200,\"changeRate\":0.65,\"nav\":31071.0,\"threeMonthEarnRate\":-14.2858,\"quant\":121022,\"amonut\":3733,\"marketSum\":10404},{\"itemcode\":\"114800\",\"etfTabCode\":3,\"itemname\":\"KODEX 인버스\",\"nowVal\":5010,\"risefall\":\"5\",\"changeVal\":-25,\"changeRate\":-0.5,\"nav\":5017.0,\"threeMonthEarnRate\":15.3493,\"quant\":54473680,\"amonut\":274548,\"marketSum\":9404},{\"itemcode\":\"233740\",\"etfTabCode\":3,\"itemname\":\"KODEX 코스닥150레버리지\",\"nowVal\":8240,\"risefall\":\"5\",\"changeVal\":-10,\"changeRate\":-0.12,\"nav\":8324.0,\"threeMonthEarnRate\":-29.6076,\"quant\":22651569,\"amonut\":186268,\"marketSum\":9369},{\"itemcode\":\"139260\",\"etfTabCode\":2,\"itemname\":\"TIGER 200 IT\",\"nowVal\":27985,\"risefall\":\"2\",\"changeVal\":765,\"changeRate\":2.81,\"nav\":27907.0,\"threeMonthEarnRate\":-17.5077,\"quant\":120784,\"amonut\":3347,\"marketSum\":7131},{\"itemcode\":\"091180\",\"etfTabCode\":2,\"itemname\":\"KODEX 자동차\",\"nowVal\":17755,\"risefall\":\"2\",\"changeVal\":115,\"changeRate\":0.65,\"nav\":17743.0,\"threeMonthEarnRate\":-2.3581,\"quant\":531773,\"amonut\":9369,\"marketSum\":6791},{\"itemcode\":\"394670\",\"etfTabCode\":4,\"itemname\":\"TIGER 글로벌리튬&2차전지SOLACTIVE(합성)\",\"nowVal\":10500,\"risefall\":\"2\",\"changeVal\":40,\"changeRate\":0.38,\"nav\":10477.0,\"threeMonthEarnRate\":3.1049,\"quant\":113123,\"amonut\":1191,\"marketSum\":6741},{\"itemcode\":\"152100\",\"etfTabCode\":1,\"itemname\":\"ARIRANG 200\",\"nowVal\":31375,\"risefall\":\"2\",\"changeVal\":205,\"changeRate\":0.66,\"nav\":31422.0,\"threeMonthEarnRate\":-14.0115,\"quant\":40368,\"amonut\":1262,\"marketSum\":6495},{\"itemcode\":\"357870\",\"etfTabCode\":7,\"itemname\":\"TIGER CD금리투자KIS(합성)\",\"nowVal\":50975,\"risefall\":\"3\",\"changeVal\":0,\"changeRate\":0.0,\"nav\":50972.0,\"threeMonthEarnRate\":0.4334,\"quant\":0,\"amonut\":0,\"marketSum\":6125},{\"itemcode\":\"229200\",\"etfTabCode\":1,\"itemname\":\"KODEX 코스닥150\",\"nowVal\":10860,\"risefall\":\"5\",\"changeVal\":-5,\"changeRate\":-0.05,\"nav\":10996.0,\"threeMonthEarnRate\":-14.4623,\"quant\":5119532,\"amonut\":55516,\"marketSum\":6114},{\"itemcode\":\"278540\",\"etfTabCode\":1,\"itemname\":\"KODEX MSCI Korea TR\",\"nowVal\":10130,\"risefall\":\"2\",\"changeVal\":100,\"changeRate\":1.0,\"nav\":10138.0,\"threeMonthEarnRate\":-13.1978,\"quant\":220466,\"amonut\":2207,\"marketSum\":5926},{\"itemcode\":\"293180\",\"etfTabCode\":1,\"itemname\":\"HANARO 200\",\"nowVal\":30985,\"risefall\":\"2\",\"changeVal\":200,\"changeRate\":0.65,\"nav\":31035.0,\"threeMonthEarnRate\":-13.9604,\"quant\":47628,\"amonut\":1471,\"marketSum\":5887},{\"itemcode\":\"196230\",\"etfTabCode\":6,\"itemname\":\"KBSTAR 단기통안채\",\"nowVal\":105230,\"risefall\":\"5\",\"changeVal\":-15,\"changeRate\":-0.01,\"nav\":105230.0,\"threeMonthEarnRate\":0.2142,\"quant\":27218,\"amonut\":2864,\"marketSum\":5187},{\"itemcode\":\"105190\",\"etfTabCode\":1,\"itemname\":\"KINDEX 200\",\"nowVal\":30975,\"risefall\":\"2\",\"changeVal\":195,\"changeRate\":0.63,\"nav\":31035.0,\"threeMonthEarnRate\":-14.0776,\"quant\":228212,\"amonut\":7031,\"marketSum\":5095},{\"itemcode\":\"272580\",\"etfTabCode\":6,\"itemname\":\"TIGER 단기채권액티브\",\"nowVal\":50530,\"risefall\":\"3\",\"changeVal\":0,\"changeRate\":0.0,\"nav\":50525.0,\"threeMonthEarnRate\":0.2181,\"quant\":2156,\"amonut\":108,\"marketSum\":5018},{\"itemcode\":\"360200\",\"etfTabCode\":4,\"itemname\":\"KINDEX 미국S&P500\",\"nowVal\":12775,\"risefall\":\"2\",\"changeVal\":170,\"changeRate\":1.35,\"nav\":12756.0,\"threeMonthEarnRate\":-8.6859,\"quant\":307050,\"amonut\":3920,\"marketSum\":4944},{\"itemcode\":\"294400\",\"etfTabCode\":1,\"itemname\":\"KOSEF 200TR\",\"nowVal\":37425,\"risefall\":\"2\",\"changeVal\":220,\"changeRate\":0.59,\"nav\":37474.0,\"threeMonthEarnRate\":-14.0068,\"quant\":2458,\"amonut\":91,\"marketSum\":4734},{\"itemcode\":\"251350\",\"etfTabCode\":4,\"itemname\":\"KODEX 선진국MSCI World\",\"nowVal\":19105,\"risefall\":\"2\",\"changeVal\":115,\"changeRate\":0.61,\"nav\":19099.0,\"threeMonthEarnRate\":-9.636,\"quant\":15378,\"amonut\":293,\"marketSum\":4413},{\"itemcode\":\"315930\",\"etfTabCode\":2,\"itemname\":\"KODEX Top5PlusTR\",\"nowVal\":15115,\"risefall\":\"2\",\"changeVal\":265,\"changeRate\":1.78,\"nav\":15117.0,\"threeMonthEarnRate\":-14.6061,\"quant\":20726,\"amonut\":309,\"marketSum\":4323},{\"itemcode\":\"379800\",\"etfTabCode\":4,\"itemname\":\"KODEX 미국S&P500TR\",\"nowVal\":11170,\"risefall\":\"2\",\"changeVal\":140,\"changeRate\":1.27,\"nav\":11158.0,\"threeMonthEarnRate\":-8.5786,\"quant\":103726,\"amonut\":1156,\"marketSum\":4211},{\"itemcode\":\"190620\",\"etfTabCode\":6,\"itemname\":\"KINDEX 단기통안채\",\"nowVal\":100595,\"risefall\":\"3\",\"changeVal\":0,\"changeRate\":0.0,\"nav\":100591.0,\"threeMonthEarnRate\":0.2441,\"quant\":896,\"amonut\":90,\"marketSum\":4125},{\"itemcode\":\"148070\",\"etfTabCode\":6,\"itemname\":\"KOSEF 국고채10년\",\"nowVal\":111675,\"risefall\":\"2\",\"changeVal\":465,\"changeRate\":0.42,\"nav\":111609.0,\"threeMonthEarnRate\":0.0269,\"quant\":36965,\"amonut\":4124,\"marketSum\":4054},{\"itemcode\":\"385540\",\"etfTabCode\":6,\"itemname\":\"KBSTAR KIS종합채권(A-이상)액티브\",\"nowVal\":95465,\"risefall\":\"2\",\"changeVal\":140,\"changeRate\":0.15,\"nav\":95523.0,\"threeMonthEarnRate\":-0.0315,\"quant\":138,\"amonut\":13,\"marketSum\":3983},{\"itemcode\":\"364980\",\"etfTabCode\":2,\"itemname\":\"TIGER KRX2차전지K-뉴딜\",\"nowVal\":12790,\"risefall\":\"5\",\"changeVal\":-85,\"changeRate\":-0.66,\"nav\":12818.0,\"threeMonthEarnRate\":-11.2008,\"quant\":798639,\"amonut\":10226,\"marketSum\":3946},{\"itemcode\":\"367380\",\"etfTabCode\":4,\"itemname\":\"KINDEX 미국나스닥100\",\"nowVal\":12025,\"risefall\":\"2\",\"changeVal\":245,\"changeRate\":2.08,\"nav\":12003.0,\"threeMonthEarnRate\":-12.1814,\"quant\":51951,\"amonut\":623,\"marketSum\":3932},{\"itemcode\":\"069660\",\"etfTabCode\":1,\"itemname\":\"KOSEF 200\",\"nowVal\":30875,\"risefall\":\"2\",\"changeVal\":200,\"changeRate\":0.65,\"nav\":30913.0,\"threeMonthEarnRate\":-14.0588,\"quant\":183073,\"amonut\":5604,\"marketSum\":3813},{\"itemcode\":\"371160\",\"etfTabCode\":4,\"itemname\":\"TIGER 차이나항셍테크\",\"nowVal\":6485,\"risefall\":\"5\",\"changeVal\":-120,\"changeRate\":-1.82,\"nav\":6501.0,\"threeMonthEarnRate\":13.0993,\"quant\":894510,\"amonut\":5864,\"marketSum\":3807},{\"itemcode\":\"314250\",\"etfTabCode\":4,\"itemname\":\"KODEX 미국FANG플러스(H)\",\"nowVal\":19430,\"risefall\":\"5\",\"changeVal\":-40,\"changeRate\":-0.21,\"nav\":19283.0,\"threeMonthEarnRate\":-20.5144,\"quant\":41001,\"amonut\":795,\"marketSum\":3791},{\"itemcode\":\"251340\",\"etfTabCode\":3,\"itemname\":\"KODEX 코스닥150선물인버스\",\"nowVal\":5125,\"risefall\":\"2\",\"changeVal\":5,\"changeRate\":0.1,\"nav\":5133.0,\"threeMonthEarnRate\":13.2743,\"quant\":51044505,\"amonut\":261958,\"marketSum\":3772},{\"itemcode\":\"329750\",\"etfTabCode\":6,\"itemname\":\"TIGER 미국달러단기채권액티브\",\"nowVal\":11325,\"risefall\":\"2\",\"changeVal\":120,\"changeRate\":1.07,\"nav\":11317.0,\"threeMonthEarnRate\":7.2762,\"quant\":177752,\"amonut\":2007,\"marketSum\":3533},{\"itemcode\":\"226490\",\"etfTabCode\":1,\"itemname\":\"KODEX 코스피\",\"nowVal\":23650,\"risefall\":\"2\",\"changeVal\":85,\"changeRate\":0.36,\"nav\":23674.0,\"threeMonthEarnRate\":-13.9776,\"quant\":90052,\"amonut\":2116,\"marketSum\":3453},{\"itemcode\":\"379810\",\"etfTabCode\":4,\"itemname\":\"KODEX 미국나스닥100TR\",\"nowVal\":10315,\"risefall\":\"2\",\"changeVal\":215,\"changeRate\":2.13,\"nav\":10286.0,\"threeMonthEarnRate\":-12.2121,\"quant\":147073,\"amonut\":1514,\"marketSum\":3430},{\"itemcode\":\"385550\",\"etfTabCode\":6,\"itemname\":\"KBSTAR KIS단기종합채권(AA-이상)액티브\",\"nowVal\":100760,\"risefall\":\"5\",\"changeVal\":-25,\"changeRate\":-0.02,\"nav\":100761.0,\"threeMonthEarnRate\":0.159,\"quant\":849824,\"amonut\":85632,\"marketSum\":2996},{\"itemcode\":\"401470\",\"etfTabCode\":2,\"itemname\":\"KODEX K-메타버스액티브\",\"nowVal\":8115,\"risefall\":\"5\",\"changeVal\":-55,\"changeRate\":-0.67,\"nav\":8130.0,\"threeMonthEarnRate\":-22.8445,\"quant\":437922,\"amonut\":3554,\"marketSum\":2873},{\"itemcode\":\"400970\",\"etfTabCode\":2,\"itemname\":\"TIGER Fn메타버스\",\"nowVal\":8015,\"risefall\":\"5\",\"changeVal\":-65,\"changeRate\":-0.8,\"nav\":8012.0,\"threeMonthEarnRate\":-26.6988,\"quant\":443681,\"amonut\":3550,\"marketSum\":2853},{\"itemcode\":\"414780\",\"etfTabCode\":4,\"itemname\":\"TIGER 차이나과창판STAR50(합성)\",\"nowVal\":8475,\"risefall\":\"2\",\"changeVal\":80,\"changeRate\":0.95,\"nav\":8573.0,\"threeMonthEarnRate\":11.6356,\"quant\":94202,\"amonut\":799,\"marketSum\":2610},{\"itemcode\":\"367770\",\"etfTabCode\":2,\"itemname\":\"KBSTAR Fn수소경제테마\",\"nowVal\":8855,\"risefall\":\"5\",\"changeVal\":-80,\"changeRate\":-0.9,\"nav\":8853.0,\"threeMonthEarnRate\":-10.9706,\"quant\":68068,\"amonut\":598,\"marketSum\":2555},{\"itemcode\":\"332940\",\"etfTabCode\":1,\"itemname\":\"HANARO MSCI Korea TR\",\"nowVal\":12685,\"risefall\":\"2\",\"changeVal\":95,\"changeRate\":0.75,\"nav\":12721.0,\"threeMonthEarnRate\":-12.9323,\"quant\":51,\"amonut\":0,\"marketSum\":2550},{\"itemcode\":\"217770\",\"etfTabCode\":5,\"itemname\":\"TIGER 원유선물인버스(H)\",\"nowVal\":3180,\"risefall\":\"5\",\"changeVal\":-5,\"changeRate\":-0.16,\"nav\":3170.0,\"threeMonthEarnRate\":-1.5456,\"quant\":5180824,\"amonut\":16466,\"marketSum\":2509},{\"itemcode\":\"290130\",\"etfTabCode\":2,\"itemname\":\"KBSTAR ESG사회책임투자\",\"nowVal\":10420,\"risefall\":\"2\",\"changeVal\":140,\"changeRate\":1.36,\"nav\":10424.0,\"threeMonthEarnRate\":-13.366,\"quant\":44825,\"amonut\":462,\"marketSum\":2428},{\"itemcode\":\"213610\",\"etfTabCode\":2,\"itemname\":\"KODEX 삼성그룹밸류\",\"nowVal\":7965,\"risefall\":\"2\",\"changeVal\":95,\"changeRate\":1.21,\"nav\":7976.0,\"threeMonthEarnRate\":-12.2925,\"quant\":77867,\"amonut\":617,\"marketSum\":2421},{\"itemcode\":\"329200\",\"etfTabCode\":2,\"itemname\":\"TIGER 리츠부동산인프라\",\"nowVal\":5305,\"risefall\":\"5\",\"changeVal\":-45,\"changeRate\":-0.84,\"nav\":5335.0,\"threeMonthEarnRate\":-15.3079,\"quant\":424800,\"amonut\":2250,\"marketSum\":2387},{\"itemcode\":\"143850\",\"etfTabCode\":4,\"itemname\":\"TIGER 미국S&P500선물(H)\",\"nowVal\":44525,\"risefall\":\"2\",\"changeVal\":100,\"changeRate\":0.23,\"nav\":44412.0,\"threeMonthEarnRate\":-15.1142,\"quant\":79532,\"amonut\":3545,\"marketSum\":2360},{\"itemcode\":\"394660\",\"etfTabCode\":4,\"itemname\":\"TIGER 글로벌자율주행&전기차SOLACTIVE\",\"nowVal\":9285,\"risefall\":\"2\",\"changeVal\":100,\"changeRate\":1.09,\"nav\":9249.0,\"threeMonthEarnRate\":-10.3903,\"quant\":85056,\"amonut\":786,\"marketSum\":2299},{\"itemcode\":\"364960\",\"etfTabCode\":2,\"itemname\":\"TIGER KRX BBIG K-뉴딜\",\"nowVal\":7580,\"risefall\":\"5\",\"changeVal\":-110,\"changeRate\":-1.43,\"nav\":7577.0,\"threeMonthEarnRate\":-14.413,\"quant\":228783,\"amonut\":1736,\"marketSum\":2278},{\"itemcode\":\"397410\",\"etfTabCode\":6,\"itemname\":\"KBSTAR 국채선물5년추종인버스\",\"nowVal\":52910,\"risefall\":\"5\",\"changeVal\":-175,\"changeRate\":-0.33,\"nav\":52897.0,\"threeMonthEarnRate\":0.2549,\"quant\":7,\"amonut\":0,\"marketSum\":2260},{\"itemcode\":\"379780\",\"etfTabCode\":4,\"itemname\":\"KBSTAR 미국S&P500\",\"nowVal\":11040,\"risefall\":\"2\",\"changeVal\":150,\"changeRate\":1.38,\"nav\":11022.0,\"threeMonthEarnRate\":-8.7482,\"quant\":855696,\"amonut\":9431,\"marketSum\":2219},{\"itemcode\":\"368590\",\"etfTabCode\":4,\"itemname\":\"KBSTAR 미국나스닥100\",\"nowVal\":11665,\"risefall\":\"2\",\"changeVal\":235,\"changeRate\":2.06,\"nav\":11640.0,\"threeMonthEarnRate\":-12.2053,\"quant\":38350,\"amonut\":446,\"marketSum\":2216},{\"itemcode\":\"192090\",\"etfTabCode\":4,\"itemname\":\"TIGER 차이나CSI300\",\"nowVal\":11070,\"risefall\":\"3\",\"changeVal\":0,\"changeRate\":0.0,\"nav\":11028.0,\"threeMonthEarnRate\":4.3355,\"quant\":38521,\"amonut\":428,\"marketSum\":2087},{\"itemcode\":\"271050\",\"etfTabCode\":5,\"itemname\":\"KODEX WTI원유선물인버스(H)\",\"nowVal\":4575,\"risefall\":\"2\",\"changeVal\":5,\"changeRate\":0.11,\"nav\":4614.0,\"threeMonthEarnRate\":-1.0823,\"quant\":3182503,\"amonut\":14542,\"marketSum\":2064},{\"itemcode\":\"091160\",\"etfTabCode\":2,\"itemname\":\"KODEX 반도체\",\"nowVal\":27100,\"risefall\":\"2\",\"changeVal\":545,\"changeRate\":2.05,\"nav\":27102.0,\"threeMonthEarnRate\":-25.153,\"quant\":291850,\"amonut\":7863,\"marketSum\":1992},{\"itemcode\":\"168580\",\"etfTabCode\":4,\"itemname\":\"KINDEX 중국본토CSI300\",\"nowVal\":29710,\"risefall\":\"5\",\"changeVal\":-295,\"changeRate\":-0.98,\"nav\":29725.0,\"threeMonthEarnRate\":4.9309,\"quant\":1050,\"amonut\":31,\"marketSum\":1991},{\"itemcode\":\"282000\",\"etfTabCode\":3,\"itemname\":\"KBSTAR 국고채3년선물인버스\",\"nowVal\":103365,\"risefall\":\"5\",\"changeVal\":-215,\"changeRate\":-0.21,\"nav\":103344.0,\"threeMonthEarnRate\":0.208,\"quant\":9,\"amonut\":0,\"marketSum\":1989},{\"itemcode\":\"407310\",\"etfTabCode\":1,\"itemname\":\"HANARO 200 TOP10\",\"nowVal\":7810,\"risefall\":\"5\",\"changeVal\":-15,\"changeRate\":-0.19,\"nav\":7835.0,\"threeMonthEarnRate\":-6.9339,\"quant\":53,\"amonut\":0,\"marketSum\":1902},{\"itemcode\":\"091170\",\"etfTabCode\":2,\"itemname\":\"KODEX 은행\",\"nowVal\":5700,\"risefall\":\"5\",\"changeVal\":-155,\"changeRate\":-2.65,\"nav\":5710.0,\"threeMonthEarnRate\":-23.3338,\"quant\":1419396,\"amonut\":8090,\"marketSum\":1770},{\"itemcode\":\"132030\",\"etfTabCode\":5,\"itemname\":\"KODEX 골드선물(H)\",\"nowVal\":11415,\"risefall\":\"5\",\"changeVal\":-130,\"changeRate\":-1.13,\"nav\":11410.0,\"threeMonthEarnRate\":-13.2608,\"quant\":118477,\"amonut\":1356,\"marketSum\":1746},{\"itemcode\":\"228800\",\"etfTabCode\":2,\"itemname\":\"TIGER 여행레저\",\"nowVal\":3730,\"risefall\":\"5\",\"changeVal\":-40,\"changeRate\":-1.06,\"nav\":3737.0,\"threeMonthEarnRate\":-28.2589,\"quant\":422097,\"amonut\":1567,\"marketSum\":1696},{\"itemcode\":\"182480\",\"etfTabCode\":7,\"itemname\":\"TIGER 미국MSCI리츠(합성 H)\",\"nowVal\":12870,\"risefall\":\"5\",\"changeVal\":-80,\"changeRate\":-0.62,\"nav\":12891.0,\"threeMonthEarnRate\":-18.5996,\"quant\":25951,\"amonut\":333,\"marketSum\":1692},{\"itemcode\":\"412770\",\"etfTabCode\":4,\"itemname\":\"TIGER 글로벌메타버스액티브\",\"nowVal\":6605,\"risefall\":\"2\",\"changeVal\":80,\"changeRate\":1.23,\"nav\":6566.0,\"threeMonthEarnRate\":-19.8896,\"quant\":44494,\"amonut\":293,\"marketSum\":1664},{\"itemcode\":\"245710\",\"etfTabCode\":4,\"itemname\":\"KINDEX 베트남VN30(합성)\",\"nowVal\":19920,\"risefall\":\"2\",\"changeVal\":310,\"changeRate\":1.58,\"nav\":20116.0,\"threeMonthEarnRate\":-17.7433,\"quant\":14983,\"amonut\":297,\"marketSum\":1653},{\"itemcode\":\"325020\",\"etfTabCode\":2,\"itemname\":\"KODEX 배당가치\",\"nowVal\":10935,\"risefall\":\"2\",\"changeVal\":15,\"changeRate\":0.14,\"nav\":10927.0,\"threeMonthEarnRate\":-14.009,\"quant\":5918,\"amonut\":63,\"marketSum\":1651},{\"itemcode\":\"275980\",\"etfTabCode\":4,\"itemname\":\"TIGER 글로벌4차산업혁신기술(합성 H)\",\"nowVal\":14155,\"risefall\":\"5\",\"changeVal\":-35,\"changeRate\":-0.25,\"nav\":14112.0,\"threeMonthEarnRate\":-15.6613,\"quant\":17719,\"amonut\":249,\"marketSum\":1611},{\"itemcode\":\"161510\",\"etfTabCode\":2,\"itemname\":\"ARIRANG 고배당주\",\"nowVal\":10515,\"risefall\":\"5\",\"changeVal\":-145,\"changeRate\":-1.36,\"nav\":10512.0,\"threeMonthEarnRate\":-15.7579,\"quant\":59584,\"amonut\":624,\"marketSum\":1593},{\"itemcode\":\"302450\",\"etfTabCode\":1,\"itemname\":\"KBSTAR 코스피\",\"nowVal\":23845,\"risefall\":\"2\",\"changeVal\":90,\"changeRate\":0.38,\"nav\":23843.0,\"threeMonthEarnRate\":-13.9998,\"quant\":488,\"amonut\":11,\"marketSum\":1574},{\"itemcode\":\"401170\",\"etfTabCode\":2,\"itemname\":\"KBSTAR iSelect메타버스\",\"nowVal\":7165,\"risefall\":\"5\",\"changeVal\":-120,\"changeRate\":-1.65,\"nav\":7162.0,\"threeMonthEarnRate\":-26.8354,\"quant\":88975,\"amonut\":639,\"marketSum\":1559},{\"itemcode\":\"295040\",\"etfTabCode\":1,\"itemname\":\"SOL 200TR\",\"nowVal\":10710,\"risefall\":\"2\",\"changeVal\":55,\"changeRate\":0.52,\"nav\":10724.0,\"threeMonthEarnRate\":-13.9686,\"quant\":9320,\"amonut\":99,\"marketSum\":1558},{\"itemcode\":\"143860\",\"etfTabCode\":2,\"itemname\":\"TIGER 헬스케어\",\"nowVal\":30355,\"risefall\":\"5\",\"changeVal\":-275,\"changeRate\":-0.9,\"nav\":30577.0,\"threeMonthEarnRate\":0.1143,\"quant\":30746,\"amonut\":933,\"marketSum\":1554},{\"itemcode\":\"329650\",\"etfTabCode\":7,\"itemname\":\"KODEX TRF3070\",\"nowVal\":10740,\"risefall\":\"2\",\"changeVal\":20,\"changeRate\":0.19,\"nav\":10775.0,\"threeMonthEarnRate\":-3.2055,\"quant\":27945,\"amonut\":299,\"marketSum\":1547},{\"itemcode\":\"372330\",\"etfTabCode\":4,\"itemname\":\"KODEX 차이나항셍테크\",\"nowVal\":6515,\"risefall\":\"5\",\"changeVal\":-125,\"changeRate\":-1.88,\"nav\":6516.0,\"threeMonthEarnRate\":12.9251,\"quant\":72543,\"amonut\":476,\"marketSum\":1525},{\"itemcode\":\"326240\",\"etfTabCode\":2,\"itemname\":\"KBSTAR IT플러스\",\"nowVal\":15820,\"risefall\":\"2\",\"changeVal\":185,\"changeRate\":1.18,\"nav\":15817.0,\"threeMonthEarnRate\":-18.4616,\"quant\":1411,\"amonut\":22,\"marketSum\":1493},{\"itemcode\":\"363570\",\"etfTabCode\":6,\"itemname\":\"KODEX 장기종합채권(AA-이상)액티브KAP\",\"nowVal\":88360,\"risefall\":\"2\",\"changeVal\":355,\"changeRate\":0.4,\"nav\":88280.0,\"threeMonthEarnRate\":0.405,\"quant\":201,\"amonut\":17,\"marketSum\":1415},{\"itemcode\":\"130730\",\"etfTabCode\":6,\"itemname\":\"KOSEF 단기자금\",\"nowVal\":101300,\"risefall\":\"5\",\"changeVal\":-10,\"changeRate\":-0.01,\"nav\":101295.0,\"threeMonthEarnRate\":0.1433,\"quant\":93,\"amonut\":9,\"marketSum\":1388},{\"itemcode\":\"232080\",\"etfTabCode\":1,\"itemname\":\"TIGER 코스닥150\",\"nowVal\":11135,\"risefall\":\"5\",\"changeVal\":-20,\"changeRate\":-0.18,\"nav\":11263.0,\"threeMonthEarnRate\":-14.0932,\"quant\":24854,\"amonut\":275,\"marketSum\":1379},{\"itemcode\":\"409820\",\"etfTabCode\":4,\"itemname\":\"KODEX 미국나스닥100레버리지(합성 H)\",\"nowVal\":4830,\"risefall\":\"2\",\"changeVal\":85,\"changeRate\":1.79,\"nav\":4808.0,\"threeMonthEarnRate\":-35.5299,\"quant\":970996,\"amonut\":4695,\"marketSum\":1321},{\"itemcode\":\"241180\",\"etfTabCode\":4,\"itemname\":\"TIGER 일본니케이225\",\"nowVal\":15055,\"risefall\":\"2\",\"changeVal\":150,\"changeRate\":1.01,\"nav\":15142.0,\"threeMonthEarnRate\":-5.1845,\"quant\":3727,\"amonut\":55,\"marketSum\":1316},{\"itemcode\":\"252710\",\"etfTabCode\":3,\"itemname\":\"TIGER 200선물인버스2X\",\"nowVal\":3460,\"risefall\":\"5\",\"changeVal\":-40,\"changeRate\":-1.14,\"nav\":3468.0,\"threeMonthEarnRate\":31.8267,\"quant\":9966949,\"amonut\":34964,\"marketSum\":1308},{\"itemcode\":\"138540\",\"etfTabCode\":2,\"itemname\":\"TIGER 현대차그룹+펀더멘털\",\"nowVal\":21525,\"risefall\":\"5\",\"changeVal\":-10,\"changeRate\":-0.05,\"nav\":21524.0,\"threeMonthEarnRate\":-3.6078,\"quant\":27667,\"amonut\":591,\"marketSum\":1274},{\"itemcode\":\"219480\",\"etfTabCode\":4,\"itemname\":\"KODEX 미국S&P500선물(H)\",\"nowVal\":18265,\"risefall\":\"2\",\"changeVal\":40,\"changeRate\":0.22,\"nav\":18215.0,\"threeMonthEarnRate\":-15.3704,\"quant\":17134,\"amonut\":313,\"marketSum\":1242},{\"itemcode\":\"385560\",\"etfTabCode\":6,\"itemname\":\"KBSTAR KIS국고채30년Enhanced\",\"nowVal\":79955,\"risefall\":\"2\",\"changeVal\":25,\"changeRate\":0.03,\"nav\":79775.0,\"threeMonthEarnRate\":1.2541,\"quant\":33056,\"amonut\":2655,\"marketSum\":1239},{\"itemcode\":\"328370\",\"etfTabCode\":1,\"itemname\":\"ARIRANG 코스피TR\",\"nowVal\":12075,\"risefall\":\"2\",\"changeVal\":45,\"changeRate\":0.37,\"nav\":12072.0,\"threeMonthEarnRate\":-13.8253,\"quant\":7939,\"amonut\":94,\"marketSum\":1238},{\"itemcode\":\"228810\",\"etfTabCode\":2,\"itemname\":\"TIGER 미디어컨텐츠\",\"nowVal\":6820,\"risefall\":\"5\",\"changeVal\":-100,\"changeRate\":-1.45,\"nav\":6840.0,\"threeMonthEarnRate\":-25.8148,\"quant\":149168,\"amonut\":1025,\"marketSum\":1199},{\"itemcode\":\"415340\",\"etfTabCode\":4,\"itemname\":\"KODEX 차이나과창판STAR50(합성)\",\"nowVal\":8460,\"risefall\":\"2\",\"changeVal\":35,\"changeRate\":0.42,\"nav\":8709.0,\"threeMonthEarnRate\":10.5643,\"quant\":8321,\"amonut\":70,\"marketSum\":1184},{\"itemcode\":\"309230\",\"etfTabCode\":4,\"itemname\":\"KINDEX 미국WideMoat가치주\",\"nowVal\":17120,\"risefall\":\"2\",\"changeVal\":185,\"changeRate\":1.09,\"nav\":17078.0,\"threeMonthEarnRate\":-7.4843,\"quant\":33756,\"amonut\":577,\"marketSum\":1181},{\"itemcode\":\"091230\",\"etfTabCode\":2,\"itemname\":\"TIGER 반도체\",\"nowVal\":27685,\"risefall\":\"2\",\"changeVal\":425,\"changeRate\":1.56,\"nav\":27764.0,\"threeMonthEarnRate\":-25.356,\"quant\":49185,\"amonut\":1358,\"marketSum\":1174},{\"itemcode\":\"273140\",\"etfTabCode\":6,\"itemname\":\"KODEX 단기변동금리부채권액티브\",\"nowVal\":103665,\"risefall\":\"2\",\"changeVal\":15,\"changeRate\":0.01,\"nav\":103670.0,\"threeMonthEarnRate\":0.3096,\"quant\":118,\"amonut\":12,\"marketSum\":1149},{\"itemcode\":\"114260\",\"etfTabCode\":6,\"itemname\":\"KODEX 국고채3년\",\"nowVal\":56500,\"risefall\":\"2\",\"changeVal\":170,\"changeRate\":0.3,\"nav\":56483.0,\"threeMonthEarnRate\":-0.2126,\"quant\":5004,\"amonut\":282,\"marketSum\":1146},{\"itemcode\":\"411420\",\"etfTabCode\":4,\"itemname\":\"KODEX 미국메타버스나스닥액티브\",\"nowVal\":6610,\"risefall\":\"2\",\"changeVal\":100,\"changeRate\":1.54,\"nav\":6614.0,\"threeMonthEarnRate\":-18.8786,\"quant\":25910,\"amonut\":170,\"marketSum\":1137},{\"itemcode\":\"332930\",\"etfTabCode\":1,\"itemname\":\"HANARO 200TR\",\"nowVal\":37450,\"risefall\":\"2\",\"changeVal\":235,\"changeRate\":0.63,\"nav\":37523.0,\"threeMonthEarnRate\":-14.0035,\"quant\":20080,\"amonut\":749,\"marketSum\":1124},{\"itemcode\":\"270810\",\"etfTabCode\":1,\"itemname\":\"KBSTAR 코스닥150\",\"nowVal\":10815,\"risefall\":\"3\",\"changeVal\":0,\"changeRate\":0.0,\"nav\":10939.0,\"threeMonthEarnRate\":-14.8962,\"quant\":2548,\"amonut\":27,\"marketSum\":1118},{\"itemcode\":\"363510\",\"etfTabCode\":6,\"itemname\":\"SOL KIS단기통안채\",\"nowVal\":101055,\"risefall\":\"3\",\"changeVal\":0,\"changeRate\":0.0,\"nav\":101060.0,\"threeMonthEarnRate\":0.243,\"quant\":0,\"amonut\":0,\"marketSum\":1116},{\"itemcode\":\"150460\",\"etfTabCode\":2,\"itemname\":\"TIGER 중국소비테마\",\"nowVal\":6675,\"risefall\":\"5\",\"changeVal\":-70,\"changeRate\":-1.04,\"nav\":6696.0,\"threeMonthEarnRate\":-14.2294,\"quant\":26771,\"amonut\":179,\"marketSum\":1097},{\"itemcode\":\"365780\",\"etfTabCode\":6,\"itemname\":\"KINDEX 국고채10년\",\"nowVal\":88675,\"risefall\":\"2\",\"changeVal\":375,\"changeRate\":0.42,\"nav\":88716.0,\"threeMonthEarnRate\":-0.068,\"quant\":5892,\"amonut\":522,\"marketSum\":1045},{\"itemcode\":\"419430\",\"etfTabCode\":4,\"itemname\":\"KODEX 차이나2차전지MSCI(합성)\",\"nowVal\":12025,\"risefall\":\"2\",\"changeVal\":165,\"changeRate\":1.39,\"nav\":12202.0,\"threeMonthEarnRate\":31.4855,\"quant\":134304,\"amonut\":1624,\"marketSum\":1022},{\"itemcode\":\"277630\",\"etfTabCode\":1,\"itemname\":\"TIGER 코스피\",\"nowVal\":23945,\"risefall\":\"2\",\"changeVal\":5,\"changeRate\":0.02,\"nav\":24033.0,\"threeMonthEarnRate\":-14.1105,\"quant\":38929,\"amonut\":933,\"marketSum\":1006},{\"itemcode\":\"395170\",\"etfTabCode\":2,\"itemname\":\"KODEX Fn Top10동일가중\",\"nowVal\":7175,\"risefall\":\"2\",\"changeVal\":10,\"changeRate\":0.14,\"nav\":7191.0,\"threeMonthEarnRate\":-9.3383,\"quant\":476,\"amonut\":3,\"marketSum\":997},{\"itemcode\":\"283580\",\"etfTabCode\":4,\"itemname\":\"KODEX 차이나CSI300\",\"nowVal\":13595,\"risefall\":\"5\",\"changeVal\":-15,\"changeRate\":-0.11,\"nav\":13483.0,\"threeMonthEarnRate\":5.0559,\"quant\":12505,\"amonut\":170,\"marketSum\":979},{\"itemcode\":\"245360\",\"etfTabCode\":4,\"itemname\":\"TIGER 차이나HSCEI\",\"nowVal\":9845,\"risefall\":\"5\",\"changeVal\":-35,\"changeRate\":-0.35,\"nav\":9858.0,\"threeMonthEarnRate\":4.6056,\"quant\":4729,\"amonut\":46,\"marketSum\":975},{\"itemcode\":\"305080\",\"etfTabCode\":6,\"itemname\":\"TIGER 미국채10년선물\",\"nowVal\":12250,\"risefall\":\"2\",\"changeVal\":120,\"changeRate\":0.99,\"nav\":12277.0,\"threeMonthEarnRate\":5.3866,\"quant\":64660,\"amonut\":790,\"marketSum\":968},{\"itemcode\":\"261240\",\"etfTabCode\":7,\"itemname\":\"KODEX 미국달러선물\",\"nowVal\":11725,\"risefall\":\"2\",\"changeVal\":130,\"changeRate\":1.12,\"nav\":11761.0,\"threeMonthEarnRate\":7.2122,\"quant\":112392,\"amonut\":1315,\"marketSum\":938},{\"itemcode\":\"204480\",\"etfTabCode\":4,\"itemname\":\"TIGER 차이나CSI300레버리지(합성)\",\"nowVal\":26270,\"risefall\":\"5\",\"changeVal\":-70,\"changeRate\":-0.27,\"nav\":26262.0,\"threeMonthEarnRate\":5.5923,\"quant\":34518,\"amonut\":920,\"marketSum\":925},{\"itemcode\":\"278240\",\"etfTabCode\":3,\"itemname\":\"KBSTAR 코스닥150선물레버리지\",\"nowVal\":8915,\"risefall\":\"5\",\"changeVal\":-40,\"changeRate\":-0.45,\"nav\":8903.0,\"threeMonthEarnRate\":-28.7873,\"quant\":14281,\"amonut\":127,\"marketSum\":911},{\"itemcode\":\"245340\",\"etfTabCode\":4,\"itemname\":\"TIGER 미국다우존스30\",\"nowVal\":20410,\"risefall\":\"2\",\"changeVal\":185,\"changeRate\":0.91,\"nav\":20410.0,\"threeMonthEarnRate\":-4.7563,\"quant\":5043,\"amonut\":102,\"marketSum\":906},{\"itemcode\":\"304940\",\"etfTabCode\":4,\"itemname\":\"KODEX 미국나스닥100선물(H)\",\"nowVal\":14875,\"risefall\":\"2\",\"changeVal\":140,\"changeRate\":0.95,\"nav\":14838.0,\"threeMonthEarnRate\":-18.6137,\"quant\":71035,\"amonut\":1057,\"marketSum\":900},{\"itemcode\":\"417630\",\"etfTabCode\":2,\"itemname\":\"TIGER KEDI혁신기업ESG30\",\"nowVal\":8800,\"risefall\":\"5\",\"changeVal\":-25,\"changeRate\":-0.28,\"nav\":8806.0,\"threeMonthEarnRate\":-14.4865,\"quant\":150025,\"amonut\":1312,\"marketSum\":898},{\"itemcode\":\"261220\",\"etfTabCode\":5,\"itemname\":\"KODEX WTI원유선물(H)\",\"nowVal\":16400,\"risefall\":\"2\",\"changeVal\":5,\"changeRate\":0.03,\"nav\":16418.0,\"threeMonthEarnRate\":-3.4168,\"quant\":278001,\"amonut\":4554,\"marketSum\":886},{\"itemcode\":\"367760\",\"etfTabCode\":2,\"itemname\":\"KBSTAR Fn5G테크\",\"nowVal\":7830,\"risefall\":\"2\",\"changeVal\":125,\"changeRate\":1.62,\"nav\":7828.0,\"threeMonthEarnRate\":-21.5537,\"quant\":13416,\"amonut\":103,\"marketSum\":877},{\"itemcode\":\"123310\",\"etfTabCode\":3,\"itemname\":\"TIGER 인버스\",\"nowVal\":5580,\"risefall\":\"5\",\"changeVal\":-40,\"changeRate\":-0.71,\"nav\":5587.0,\"threeMonthEarnRate\":15.6378,\"quant\":1959896,\"amonut\":11004,\"marketSum\":865},{\"itemcode\":\"414270\",\"etfTabCode\":4,\"itemname\":\"KINDEX G2전기차&자율주행액티브\",\"nowVal\":9945,\"risefall\":\"2\",\"changeVal\":70,\"changeRate\":0.71,\"nav\":9978.0,\"threeMonthEarnRate\":4.6634,\"quant\":166405,\"amonut\":1657,\"marketSum\":855},{\"itemcode\":\"364970\",\"etfTabCode\":2,\"itemname\":\"TIGER KRX바이오K-뉴딜\",\"nowVal\":7135,\"risefall\":\"5\",\"changeVal\":-215,\"changeRate\":-2.93,\"nav\":7135.0,\"threeMonthEarnRate\":5.8315,\"quant\":754016,\"amonut\":5395,\"marketSum\":842},{\"itemcode\":\"272560\",\"etfTabCode\":6,\"itemname\":\"KBSTAR 단기국공채액티브\",\"nowVal\":102370,\"risefall\":\"2\",\"changeVal\":15,\"changeRate\":0.01,\"nav\":102377.0,\"threeMonthEarnRate\":0.039,\"quant\":5529,\"amonut\":565,\"marketSum\":795},{\"itemcode\":\"267770\",\"etfTabCode\":3,\"itemname\":\"TIGER 200선물레버리지\",\"nowVal\":10840,\"risefall\":\"2\",\"changeVal\":130,\"changeRate\":1.21,\"nav\":10825.0,\"threeMonthEarnRate\":-27.1429,\"quant\":1310680,\"amonut\":13982,\"marketSum\":791},{\"itemcode\":\"400570\",\"etfTabCode\":4,\"itemname\":\"KODEX 유럽탄소배출권선물ICE(H)\",\"nowVal\":13200,\"risefall\":\"5\",\"changeVal\":-75,\"changeRate\":-0.56,\"nav\":13250.0,\"threeMonthEarnRate\":7.1428,\"quant\":22345,\"amonut\":294,\"marketSum\":772},{\"itemcode\":\"395750\",\"etfTabCode\":2,\"itemname\":\"ARIRANG ESG가치주액티브\",\"nowVal\":7385,\"risefall\":\"2\",\"changeVal\":10,\"changeRate\":0.14,\"nav\":7379.0,\"threeMonthEarnRate\":-15.5309,\"quant\":168,\"amonut\":1,\"marketSum\":768},{\"itemcode\":\"139280\",\"etfTabCode\":2,\"itemname\":\"TIGER 경기방어\",\"nowVal\":9640,\"risefall\":\"5\",\"changeVal\":-80,\"changeRate\":-0.82,\"nav\":9643.0,\"threeMonthEarnRate\":-3.1391,\"quant\":4614,\"amonut\":44,\"marketSum\":767},{\"itemcode\":\"139220\",\"etfTabCode\":2,\"itemname\":\"TIGER 200 건설\",\"nowVal\":2285,\"risefall\":\"5\",\"changeVal\":-35,\"changeRate\":-1.51,\"nav\":2282.0,\"threeMonthEarnRate\":-21.7274,\"quant\":184215,\"amonut\":418,\"marketSum\":767},{\"itemcode\":\"337160\",\"etfTabCode\":2,\"itemname\":\"KODEX 200ESG\",\"nowVal\":11405,\"risefall\":\"2\",\"changeVal\":125,\"changeRate\":1.11,\"nav\":11407.0,\"threeMonthEarnRate\":-14.1945,\"quant\":678,\"amonut\":7,\"marketSum\":753},{\"itemcode\":\"390950\",\"etfTabCode\":6,\"itemname\":\"HANARO 단기채권액티브\",\"nowVal\":100715,\"risefall\":\"5\",\"changeVal\":-10,\"changeRate\":-0.01,\"nav\":100729.0,\"threeMonthEarnRate\":0.1391,\"quant\":1567249,\"amonut\":157868,\"marketSum\":745},{\"itemcode\":\"174360\",\"etfTabCode\":4,\"itemname\":\"KBSTAR 중국본토대형주CSI100\",\"nowVal\":20350,\"risefall\":\"5\",\"changeVal\":-5,\"changeRate\":-0.02,\"nav\":20191.0,\"threeMonthEarnRate\":4.0644,\"quant\":15209,\"amonut\":311,\"marketSum\":733},{\"itemcode\":\"144600\",\"etfTabCode\":5,\"itemname\":\"KODEX 은선물(H)\",\"nowVal\":3690,\"risefall\":\"5\",\"changeVal\":-135,\"changeRate\":-3.53,\"nav\":3658.0,\"threeMonthEarnRate\":-27.6938,\"quant\":702043,\"amonut\":2595,\"marketSum\":727},{\"itemcode\":\"325010\",\"etfTabCode\":2,\"itemname\":\"KODEX Fn성장\",\"nowVal\":13060,\"risefall\":\"2\",\"changeVal\":45,\"changeRate\":0.35,\"nav\":13057.0,\"threeMonthEarnRate\":-15.018,\"quant\":101,\"amonut\":1,\"marketSum\":718},{\"itemcode\":\"322400\",\"etfTabCode\":2,\"itemname\":\"HANARO e커머스\",\"nowVal\":12770,\"risefall\":\"5\",\"changeVal\":-180,\"changeRate\":-1.39,\"nav\":12775.0,\"threeMonthEarnRate\":-19.4903,\"quant\":1200,\"amonut\":15,\"marketSum\":715},{\"itemcode\":\"363580\",\"etfTabCode\":2,\"itemname\":\"KODEX 200IT TR\",\"nowVal\":10595,\"risefall\":\"2\",\"changeVal\":250,\"changeRate\":2.42,\"nav\":10606.0,\"threeMonthEarnRate\":-17.2731,\"quant\":1515,\"amonut\":15,\"marketSum\":710},{\"itemcode\":\"371470\",\"etfTabCode\":4,\"itemname\":\"TIGER 차이나바이오테크SOLACTIVE\",\"nowVal\":8615,\"risefall\":\"5\",\"changeVal\":-110,\"changeRate\":-1.26,\"nav\":8600.0,\"threeMonthEarnRate\":11.3592,\"quant\":77574,\"amonut\":679,\"marketSum\":700},{\"itemcode\":\"114820\",\"etfTabCode\":6,\"itemname\":\"TIGER 국채3년\",\"nowVal\":106365,\"risefall\":\"2\",\"changeVal\":145,\"changeRate\":0.14,\"nav\":106426.0,\"threeMonthEarnRate\":-0.0029,\"quant\":301,\"amonut\":32,\"marketSum\":670},{\"itemcode\":\"396510\",\"etfTabCode\":4,\"itemname\":\"TIGER 차이나클린에너지SOLACTIVE\",\"nowVal\":11040,\"risefall\":\"5\",\"changeVal\":-10,\"changeRate\":-0.09,\"nav\":11083.0,\"threeMonthEarnRate\":21.696,\"quant\":105665,\"amonut\":1172,\"marketSum\":662},{\"itemcode\":\"195980\",\"etfTabCode\":4,\"itemname\":\"ARIRANG 신흥국MSCI(합성 H)\",\"nowVal\":9110,\"risefall\":\"5\",\"changeVal\":-75,\"changeRate\":-0.82,\"nav\":9096.0,\"threeMonthEarnRate\":-13.4716,\"quant\":16470,\"amonut\":150,\"marketSum\":654},{\"itemcode\":\"298770\",\"etfTabCode\":4,\"itemname\":\"KODEX 한국대만IT프리미어\",\"nowVal\":16690,\"risefall\":\"2\",\"changeVal\":445,\"changeRate\":2.74,\"nav\":16668.0,\"threeMonthEarnRate\":-13.1516,\"quant\":4875,\"amonut\":80,\"marketSum\":651},{\"itemcode\":\"152870\",\"etfTabCode\":1,\"itemname\":\"파워 200\",\"nowVal\":31280,\"risefall\":\"2\",\"changeVal\":155,\"changeRate\":0.5,\"nav\":31359.0,\"threeMonthEarnRate\":-14.0313,\"quant\":48,\"amonut\":1,\"marketSum\":641},{\"itemcode\":\"157490\",\"etfTabCode\":2,\"itemname\":\"TIGER 소프트웨어\",\"nowVal\":9960,\"risefall\":\"5\",\"changeVal\":-110,\"changeRate\":-1.09,\"nav\":9957.0,\"threeMonthEarnRate\":-24.6709,\"quant\":29060,\"amonut\":289,\"marketSum\":639},{\"itemcode\":\"390390\",\"etfTabCode\":4,\"itemname\":\"KODEX 미국반도체MV\",\"nowVal\":9500,\"risefall\":\"2\",\"changeVal\":385,\"changeRate\":4.22,\"nav\":9479.0,\"threeMonthEarnRate\":-12.0599,\"quant\":22486,\"amonut\":212,\"marketSum\":637},{\"itemcode\":\"228790\",\"etfTabCode\":2,\"itemname\":\"TIGER 화장품\",\"nowVal\":2235,\"risefall\":\"5\",\"changeVal\":-30,\"changeRate\":-1.32,\"nav\":2234.0,\"threeMonthEarnRate\":-24.2475,\"quant\":369167,\"amonut\":823,\"marketSum\":630},{\"itemcode\":\"422420\",\"etfTabCode\":2,\"itemname\":\"KBSTAR 2차전지액티브\",\"nowVal\":8575,\"risefall\":\"5\",\"changeVal\":-75,\"changeRate\":-0.87,\"nav\":8589.0,\"threeMonthEarnRate\":-16.3848,\"quant\":106284,\"amonut\":913,\"marketSum\":617},{\"itemcode\":\"385510\",\"etfTabCode\":2,\"itemname\":\"KODEX K-신재생에너지액티브\",\"nowVal\":9280,\"risefall\":\"5\",\"changeVal\":-160,\"changeRate\":-1.69,\"nav\":9280.0,\"threeMonthEarnRate\":-14.0099,\"quant\":22069,\"amonut\":205,\"marketSum\":612},{\"itemcode\":\"200250\",\"etfTabCode\":4,\"itemname\":\"KOSEF 인도Nifty50(합성)\",\"nowVal\":17490,\"risefall\":\"2\",\"changeVal\":75,\"changeRate\":0.43,\"nav\":17666.0,\"threeMonthEarnRate\":-7.8816,\"quant\":3621,\"amonut\":63,\"marketSum\":612},{\"itemcode\":\"302190\",\"etfTabCode\":6,\"itemname\":\"TIGER 중장기국채\",\"nowVal\":48975,\"risefall\":\"2\",\"changeVal\":155,\"changeRate\":0.32,\"nav\":49030.0,\"threeMonthEarnRate\":0.0,\"quant\":8010,\"amonut\":392,\"marketSum\":607},{\"itemcode\":\"225040\",\"etfTabCode\":4,\"itemname\":\"TIGER 미국S&P500레버리지(합성 H)\",\"nowVal\":22900,\"risefall\":\"2\",\"changeVal\":80,\"changeRate\":0.35,\"nav\":22875.0,\"threeMonthEarnRate\":-29.7198,\"quant\":14816,\"amonut\":339,\"marketSum\":605},{\"itemcode\":\"266160\",\"etfTabCode\":2,\"itemname\":\"KBSTAR 고배당\",\"nowVal\":10515,\"risefall\":\"5\",\"changeVal\":-5,\"changeRate\":-0.05,\"nav\":10542.0,\"threeMonthEarnRate\":-15.8939,\"quant\":16364,\"amonut\":171,\"marketSum\":599},{\"itemcode\":\"385520\",\"etfTabCode\":2,\"itemname\":\"KODEX K-미래차액티브\",\"nowVal\":9250,\"risefall\":\"2\",\"changeVal\":90,\"changeRate\":0.98,\"nav\":9254.0,\"threeMonthEarnRate\":-12.1849,\"quant\":4799,\"amonut\":44,\"marketSum\":597},{\"itemcode\":\"195930\",\"etfTabCode\":4,\"itemname\":\"TIGER 유로스탁스50(합성 H)\",\"nowVal\":11785,\"risefall\":\"5\",\"changeVal\":-50,\"changeRate\":-0.42,\"nav\":11798.0,\"threeMonthEarnRate\":-9.5184,\"quant\":15284,\"amonut\":180,\"marketSum\":589},{\"itemcode\":\"139230\",\"etfTabCode\":2,\"itemname\":\"TIGER 200 중공업\",\"nowVal\":2715,\"risefall\":\"5\",\"changeVal\":-30,\"changeRate\":-1.09,\"nav\":2709.0,\"threeMonthEarnRate\":-15.0155,\"quant\":650427,\"amonut\":1749,\"marketSum\":587},{\"itemcode\":\"391600\",\"etfTabCode\":4,\"itemname\":\"KINDEX 미국친환경그린테마INDXX\",\"nowVal\":9760,\"risefall\":\"2\",\"changeVal\":165,\"changeRate\":1.72,\"nav\":9795.0,\"threeMonthEarnRate\":-6.0696,\"quant\":3789,\"amonut\":36,\"marketSum\":586},{\"itemcode\":\"117700\",\"etfTabCode\":2,\"itemname\":\"KODEX 건설\",\"nowVal\":2525,\"risefall\":\"5\",\"changeVal\":-40,\"changeRate\":-1.56,\"nav\":2528.0,\"threeMonthEarnRate\":-22.3904,\"quant\":517138,\"amonut\":1303,\"marketSum\":576},{\"itemcode\":\"396500\",\"etfTabCode\":2,\"itemname\":\"TIGER Fn반도체TOP10\",\"nowVal\":7220,\"risefall\":\"2\",\"changeVal\":200,\"changeRate\":2.85,\"nav\":7226.0,\"threeMonthEarnRate\":-22.3108,\"quant\":341387,\"amonut\":2442,\"marketSum\":574},{\"itemcode\":\"388280\",\"etfTabCode\":2,\"itemname\":\"KBSTAR Fn컨택트대표\",\"nowVal\":7605,\"risefall\":\"5\",\"changeVal\":-55,\"changeRate\":-0.72,\"nav\":7601.0,\"threeMonthEarnRate\":-20.225,\"quant\":4621,\"amonut\":35,\"marketSum\":566},{\"itemcode\":\"423920\",\"etfTabCode\":4,\"itemname\":\"TIGER 미국필라델피아반도체레버리지(합성)\",\"nowVal\":8300,\"risefall\":\"2\",\"changeVal\":570,\"changeRate\":7.37,\"nav\":8247.0,\"threeMonthEarnRate\":null,\"quant\":178031,\"amonut\":1464,\"marketSum\":565},{\"itemcode\":\"402970\",\"etfTabCode\":4,\"itemname\":\"KINDEX 미국고배당S&P\",\"nowVal\":10360,\"risefall\":\"2\",\"changeVal\":100,\"changeRate\":0.97,\"nav\":10323.0,\"threeMonthEarnRate\":-4.0225,\"quant\":14516,\"amonut\":149,\"marketSum\":549},{\"itemcode\":\"354350\",\"etfTabCode\":4,\"itemname\":\"HANARO 글로벌럭셔리S&P(합성)\",\"nowVal\":15010,\"risefall\":\"2\",\"changeVal\":60,\"changeRate\":0.4,\"nav\":14977.0,\"threeMonthEarnRate\":-12.9296,\"quant\":23252,\"amonut\":347,\"marketSum\":542},{\"itemcode\":\"387270\",\"etfTabCode\":4,\"itemname\":\"TIGER 글로벌BBIG액티브\",\"nowVal\":9930,\"risefall\":\"2\",\"changeVal\":155,\"changeRate\":1.59,\"nav\":9943.0,\"threeMonthEarnRate\":-8.6449,\"quant\":7494,\"amonut\":74,\"marketSum\":540},{\"itemcode\":\"256750\",\"etfTabCode\":4,\"itemname\":\"KODEX 차이나심천ChiNext(합성)\",\"nowVal\":13150,\"risefall\":\"5\",\"changeVal\":-40,\"changeRate\":-0.3,\"nav\":13156.0,\"threeMonthEarnRate\":14.8454,\"quant\":8235,\"amonut\":108,\"marketSum\":539},{\"itemcode\":\"310960\",\"etfTabCode\":1,\"itemname\":\"TIGER 200TR\",\"nowVal\":16730,\"risefall\":\"2\",\"changeVal\":65,\"changeRate\":0.39,\"nav\":16795.0,\"threeMonthEarnRate\":-14.098,\"quant\":263,\"amonut\":4,\"marketSum\":519},{\"itemcode\":\"099140\",\"etfTabCode\":4,\"itemname\":\"KODEX 차이나H\",\"nowVal\":16995,\"risefall\":\"2\",\"changeVal\":60,\"changeRate\":0.35,\"nav\":16987.0,\"threeMonthEarnRate\":4.1192,\"quant\":18022,\"amonut\":307,\"marketSum\":510},{\"itemcode\":\"397420\",\"etfTabCode\":6,\"itemname\":\"KBSTAR 국채선물5년추종\",\"nowVal\":47725,\"risefall\":\"2\",\"changeVal\":105,\"changeRate\":0.22,\"nav\":47782.0,\"threeMonthEarnRate\":0.2631,\"quant\":4,\"amonut\":0,\"marketSum\":507},{\"itemcode\":\"233160\",\"etfTabCode\":3,\"itemname\":\"TIGER 코스닥150 레버리지\",\"nowVal\":9020,\"risefall\":\"5\",\"changeVal\":-10,\"changeRate\":-0.11,\"nav\":9008.0,\"threeMonthEarnRate\":-29.2874,\"quant\":137305,\"amonut\":1229,\"marketSum\":501},{\"itemcode\":\"419890\",\"etfTabCode\":6,\"itemname\":\"히어로즈 단기채권ESG액티브\",\"nowVal\":99595,\"risefall\":\"3\",\"changeVal\":0,\"changeRate\":0.0,\"nav\":99596.0,\"threeMonthEarnRate\":-0.1004,\"quant\":0,\"amonut\":0,\"marketSum\":498},{\"itemcode\":\"122260\",\"etfTabCode\":6,\"itemname\":\"KOSEF 통안채1년\",\"nowVal\":100835,\"risefall\":\"5\",\"changeVal\":-15,\"changeRate\":-0.01,\"nav\":100846.0,\"threeMonthEarnRate\":-0.0397,\"quant\":684,\"amonut\":68,\"marketSum\":494},{\"itemcode\":\"387280\",\"etfTabCode\":2,\"itemname\":\"TIGER 퓨처모빌리티액티브\",\"nowVal\":8600,\"risefall\":\"5\",\"changeVal\":-15,\"changeRate\":-0.17,\"nav\":8599.0,\"threeMonthEarnRate\":-18.38,\"quant\":10406,\"amonut\":89,\"marketSum\":480},{\"itemcode\":\"261260\",\"etfTabCode\":7,\"itemname\":\"KODEX 미국달러선물인버스2X\",\"nowVal\":6990,\"risefall\":\"5\",\"changeVal\":-150,\"changeRate\":-2.1,\"nav\":6958.0,\"threeMonthEarnRate\":-13.4546,\"quant\":1104843,\"amonut\":7753,\"marketSum\":478},{\"itemcode\":\"411540\",\"etfTabCode\":1,\"itemname\":\"SOL 200 Top10\",\"nowVal\":8010,\"risefall\":\"2\",\"changeVal\":15,\"changeRate\":0.19,\"nav\":8012.0,\"threeMonthEarnRate\":-7.2506,\"quant\":199,\"amonut\":1,\"marketSum\":473},{\"itemcode\":\"269540\",\"etfTabCode\":4,\"itemname\":\"ARIRANG 미국S&P500(H)\",\"nowVal\":16095,\"risefall\":\"2\",\"changeVal\":15,\"changeRate\":0.09,\"nav\":16088.0,\"threeMonthEarnRate\":-14.0567,\"quant\":24910,\"amonut\":401,\"marketSum\":467},{\"itemcode\":\"400590\",\"etfTabCode\":4,\"itemname\":\"SOL 글로벌탄소배출권선물IHS(합성)\",\"nowVal\":12200,\"risefall\":\"5\",\"changeVal\":-25,\"changeRate\":-0.2,\"nav\":12268.0,\"threeMonthEarnRate\":3.5578,\"quant\":11565,\"amonut\":140,\"marketSum\":464},{\"itemcode\":\"315960\",\"etfTabCode\":2,\"itemname\":\"KBSTAR 대형고배당10TR\",\"nowVal\":13385,\"risefall\":\"2\",\"changeVal\":195,\"changeRate\":1.48,\"nav\":13386.0,\"threeMonthEarnRate\":-10.6672,\"quant\":26169,\"amonut\":348,\"marketSum\":462},{\"itemcode\":\"276970\",\"etfTabCode\":4,\"itemname\":\"KODEX 미국S&P고배당커버드콜(합성 H)\",\"nowVal\":9205,\"risefall\":\"2\",\"changeVal\":10,\"changeRate\":0.11,\"nav\":9123.0,\"threeMonthEarnRate\":-10.1525,\"quant\":10497,\"amonut\":96,\"marketSum\":460},{\"itemcode\":\"256440\",\"etfTabCode\":4,\"itemname\":\"KINDEX 인도네시아MSCI(합성)\",\"nowVal\":9665,\"risefall\":\"2\",\"changeVal\":55,\"changeRate\":0.57,\"nav\":9795.0,\"threeMonthEarnRate\":-7.9943,\"quant\":6859,\"amonut\":66,\"marketSum\":454},{\"itemcode\":\"244580\",\"etfTabCode\":2,\"itemname\":\"KODEX 바이오\",\"nowVal\":9450,\"risefall\":\"2\",\"changeVal\":70,\"changeRate\":0.75,\"nav\":9574.0,\"threeMonthEarnRate\":-1.2632,\"quant\":82150,\"amonut\":771,\"marketSum\":454},{\"itemcode\":\"204450\",\"etfTabCode\":4,\"itemname\":\"KODEX 차이나H레버리지(H)\",\"nowVal\":2655,\"risefall\":\"5\",\"changeVal\":-85,\"changeRate\":-3.1,\"nav\":2644.0,\"threeMonthEarnRate\":-8.2078,\"quant\":417529,\"amonut\":1125,\"marketSum\":449},{\"itemcode\":\"371450\",\"etfTabCode\":4,\"itemname\":\"TIGER 글로벌클라우드컴퓨팅INDXX\",\"nowVal\":7640,\"risefall\":\"5\",\"changeVal\":-75,\"changeRate\":-0.97,\"nav\":7587.0,\"threeMonthEarnRate\":-19.8858,\"quant\":24445,\"amonut\":186,\"marketSum\":440},{\"itemcode\":\"225800\",\"etfTabCode\":7,\"itemname\":\"KOSEF 미국달러선물레버리지\",\"nowVal\":11955,\"risefall\":\"2\",\"changeVal\":255,\"changeRate\":2.18,\"nav\":11998.0,\"threeMonthEarnRate\":14.7621,\"quant\":12633,\"amonut\":150,\"marketSum\":435},{\"itemcode\":\"368190\",\"etfTabCode\":2,\"itemname\":\"HANARO Fn K-뉴딜디지털플러스\",\"nowVal\":8465,\"risefall\":\"5\",\"changeVal\":-115,\"changeRate\":-1.34,\"nav\":8461.0,\"threeMonthEarnRate\":-9.8172,\"quant\":2048,\"amonut\":17,\"marketSum\":427},{\"itemcode\":\"203780\",\"etfTabCode\":4,\"itemname\":\"TIGER 미국나스닥바이오\",\"nowVal\":19045,\"risefall\":\"5\",\"changeVal\":-5,\"changeRate\":-0.03,\"nav\":19002.0,\"threeMonthEarnRate\":-1.4995,\"quant\":18828,\"amonut\":358,\"marketSum\":423},{\"itemcode\":\"123320\",\"etfTabCode\":3,\"itemname\":\"TIGER 레버리지\",\"nowVal\":13725,\"risefall\":\"2\",\"changeVal\":195,\"changeRate\":1.44,\"nav\":13700.0,\"threeMonthEarnRate\":-27.1406,\"quant\":136118,\"amonut\":1835,\"marketSum\":412},{\"itemcode\":\"136340\",\"etfTabCode\":6,\"itemname\":\"KBSTAR 중기우량회사채\",\"nowVal\":101905,\"risefall\":\"2\",\"changeVal\":70,\"changeRate\":0.07,\"nav\":101944.0,\"threeMonthEarnRate\":-0.6779,\"quant\":37,\"amonut\":3,\"marketSum\":407},{\"itemcode\":\"361580\",\"etfTabCode\":1,\"itemname\":\"KBSTAR 200TR\",\"nowVal\":16230,\"risefall\":\"2\",\"changeVal\":120,\"changeRate\":0.74,\"nav\":16234.0,\"threeMonthEarnRate\":-13.9883,\"quant\":17053,\"amonut\":275,\"marketSum\":406},{\"itemcode\":\"418660\",\"etfTabCode\":4,\"itemname\":\"TIGER 미국나스닥100레버리지(합성)\",\"nowVal\":8410,\"risefall\":\"2\",\"changeVal\":325,\"changeRate\":4.02,\"nav\":8389.0,\"threeMonthEarnRate\":-25.5182,\"quant\":1479189,\"amonut\":12427,\"marketSum\":404},{\"itemcode\":\"356540\",\"etfTabCode\":6,\"itemname\":\"KINDEX 종합채권(AA-이상)KIS액티브\",\"nowVal\":93480,\"risefall\":\"2\",\"changeVal\":120,\"changeRate\":0.13,\"nav\":93530.0,\"threeMonthEarnRate\":-0.2937,\"quant\":11,\"amonut\":1,\"marketSum\":403},{\"itemcode\":\"385720\",\"etfTabCode\":1,\"itemname\":\"TIMEFOLIO Kstock액티브\",\"nowVal\":7825,\"risefall\":\"5\",\"changeVal\":-10,\"changeRate\":-0.13,\"nav\":7839.0,\"threeMonthEarnRate\":-16.5158,\"quant\":835,\"amonut\":6,\"marketSum\":399},{\"itemcode\":\"359210\",\"etfTabCode\":1,\"itemname\":\"KODEX 코스피TR\",\"nowVal\":11030,\"risefall\":\"2\",\"changeVal\":20,\"changeRate\":0.18,\"nav\":11037.0,\"threeMonthEarnRate\":-13.8498,\"quant\":149,\"amonut\":1,\"marketSum\":397},{\"itemcode\":\"138230\",\"etfTabCode\":7,\"itemname\":\"KOSEF 미국달러선물\",\"nowVal\":13920,\"risefall\":\"2\",\"changeVal\":150,\"changeRate\":1.09,\"nav\":13951.0,\"threeMonthEarnRate\":7.2847,\"quant\":11037,\"amonut\":153,\"marketSum\":387},{\"itemcode\":\"252420\",\"etfTabCode\":3,\"itemname\":\"KBSTAR 200선물인버스2X\",\"nowVal\":3295,\"risefall\":\"5\",\"changeVal\":-30,\"changeRate\":-0.9,\"nav\":3300.0,\"threeMonthEarnRate\":31.4229,\"quant\":715670,\"amonut\":2396,\"marketSum\":379},{\"itemcode\":\"411060\",\"etfTabCode\":5,\"itemname\":\"KINDEX KRX금현물\",\"nowVal\":10505,\"risefall\":\"5\",\"changeVal\":-25,\"changeRate\":-0.24,\"nav\":10504.0,\"threeMonthEarnRate\":-6.3584,\"quant\":32933,\"amonut\":344,\"marketSum\":378},{\"itemcode\":\"341850\",\"etfTabCode\":7,\"itemname\":\"TIGER 리츠부동산인프라채권TR KIS\",\"nowVal\":5180,\"risefall\":\"5\",\"changeVal\":-70,\"changeRate\":-1.33,\"nav\":5213.0,\"threeMonthEarnRate\":-10.3484,\"quant\":9241,\"amonut\":47,\"marketSum\":376},{\"itemcode\":\"114460\",\"etfTabCode\":6,\"itemname\":\"KINDEX 국고채3년\",\"nowVal\":102575,\"risefall\":\"2\",\"changeVal\":180,\"changeRate\":0.18,\"nav\":102590.0,\"threeMonthEarnRate\":-0.0215,\"quant\":203,\"amonut\":20,\"marketSum\":369},{\"itemcode\":\"300640\",\"etfTabCode\":2,\"itemname\":\"KBSTAR 게임테마\",\"nowVal\":11535,\"risefall\":\"5\",\"changeVal\":-215,\"changeRate\":-1.83,\"nav\":11531.0,\"threeMonthEarnRate\":-27.0595,\"quant\":19519,\"amonut\":225,\"marketSum\":369},{\"itemcode\":\"365000\",\"etfTabCode\":2,\"itemname\":\"TIGER KRX인터넷K-뉴딜\",\"nowVal\":5595,\"risefall\":\"5\",\"changeVal\":-95,\"changeRate\":-1.67,\"nav\":5588.0,\"threeMonthEarnRate\":-33.5203,\"quant\":86102,\"amonut\":481,\"marketSum\":366},{\"itemcode\":\"261270\",\"etfTabCode\":7,\"itemname\":\"KODEX 미국달러선물인버스\",\"nowVal\":8630,\"risefall\":\"5\",\"changeVal\":-100,\"changeRate\":-1.15,\"nav\":8611.0,\"threeMonthEarnRate\":-6.7308,\"quant\":157430,\"amonut\":1361,\"marketSum\":365},{\"itemcode\":\"102970\",\"etfTabCode\":2,\"itemname\":\"KODEX 증권\",\"nowVal\":5515,\"risefall\":\"5\",\"changeVal\":-45,\"changeRate\":-0.81,\"nav\":5514.0,\"threeMonthEarnRate\":-25.4492,\"quant\":124183,\"amonut\":677,\"marketSum\":364},{\"itemcode\":\"117680\",\"etfTabCode\":2,\"itemname\":\"KODEX 철강\",\"nowVal\":6885,\"risefall\":\"5\",\"changeVal\":-60,\"changeRate\":-0.86,\"nav\":6889.0,\"threeMonthEarnRate\":-25.833,\"quant\":87499,\"amonut\":601,\"marketSum\":361},{\"itemcode\":\"407830\",\"etfTabCode\":4,\"itemname\":\"에셋플러스 글로벌플랫폼액티브\",\"nowVal\":5825,\"risefall\":\"2\",\"changeVal\":50,\"changeRate\":0.87,\"nav\":5807.0,\"threeMonthEarnRate\":-23.51,\"quant\":13672,\"amonut\":79,\"marketSum\":361},{\"itemcode\":\"114470\",\"etfTabCode\":6,\"itemname\":\"KOSEF 국고채3년\",\"nowVal\":108120,\"risefall\":\"2\",\"changeVal\":195,\"changeRate\":0.18,\"nav\":108061.0,\"threeMonthEarnRate\":0.1085,\"quant\":850,\"amonut\":91,\"marketSum\":357},{\"itemcode\":\"279530\",\"etfTabCode\":2,\"itemname\":\"KODEX 고배당\",\"nowVal\":8800,\"risefall\":\"5\",\"changeVal\":-80,\"changeRate\":-0.9,\"nav\":8824.0,\"threeMonthEarnRate\":-13.0691,\"quant\":27308,\"amonut\":239,\"marketSum\":352},{\"itemcode\":\"394350\",\"etfTabCode\":4,\"itemname\":\"KOSEF 릭소글로벌퓨처모빌리티MSCI\",\"nowVal\":9500,\"risefall\":\"2\",\"changeVal\":70,\"changeRate\":0.74,\"nav\":9451.0,\"threeMonthEarnRate\":-7.9102,\"quant\":17129,\"amonut\":161,\"marketSum\":352},{\"itemcode\":\"284430\",\"etfTabCode\":6,\"itemname\":\"KODEX 200미국채혼합\",\"nowVal\":12180,\"risefall\":\"2\",\"changeVal\":115,\"changeRate\":0.95,\"nav\":12157.0,\"threeMonthEarnRate\":-2.7409,\"quant\":11113,\"amonut\":134,\"marketSum\":351},{\"itemcode\":\"227540\",\"etfTabCode\":2,\"itemname\":\"TIGER 200 헬스케어\",\"nowVal\":19180,\"risefall\":\"5\",\"changeVal\":-245,\"changeRate\":-1.26,\"nav\":19247.0,\"threeMonthEarnRate\":-0.2568,\"quant\":6868,\"amonut\":132,\"marketSum\":349},{\"itemcode\":\"292190\",\"etfTabCode\":1,\"itemname\":\"KODEX KRX300\",\"nowVal\":14325,\"risefall\":\"2\",\"changeVal\":90,\"changeRate\":0.63,\"nav\":14343.0,\"threeMonthEarnRate\":-13.8422,\"quant\":5227,\"amonut\":74,\"marketSum\":344},{\"itemcode\":\"137610\",\"etfTabCode\":5,\"itemname\":\"TIGER 농산물선물Enhanced(H)\",\"nowVal\":7355,\"risefall\":\"5\",\"changeVal\":-75,\"changeRate\":-1.01,\"nav\":7392.0,\"threeMonthEarnRate\":-15.6162,\"quant\":53546,\"amonut\":394,\"marketSum\":331},{\"itemcode\":\"108450\",\"etfTabCode\":2,\"itemname\":\"KINDEX 삼성그룹섹터가중\",\"nowVal\":13725,\"risefall\":\"2\",\"changeVal\":180,\"changeRate\":1.33,\"nav\":13728.0,\"threeMonthEarnRate\":-11.9483,\"quant\":209,\"amonut\":2,\"marketSum\":329},{\"itemcode\":\"376410\",\"etfTabCode\":2,\"itemname\":\"TIGER 탄소효율그린뉴딜\",\"nowVal\":7625,\"risefall\":\"2\",\"changeVal\":70,\"changeRate\":0.93,\"nav\":7627.0,\"threeMonthEarnRate\":-13.9326,\"quant\":1795,\"amonut\":13,\"marketSum\":328},{\"itemcode\":\"152380\",\"etfTabCode\":6,\"itemname\":\"KODEX 국채선물10년\",\"nowVal\":64190,\"risefall\":\"2\",\"changeVal\":225,\"changeRate\":0.35,\"nav\":64306.0,\"threeMonthEarnRate\":0.133,\"quant\":6061,\"amonut\":388,\"marketSum\":327},{\"itemcode\":\"336160\",\"etfTabCode\":6,\"itemname\":\"KBSTAR 금융채액티브\",\"nowVal\":99790,\"risefall\":\"2\",\"changeVal\":90,\"changeRate\":0.09,\"nav\":99828.0,\"threeMonthEarnRate\":-0.7072,\"quant\":8,\"amonut\":0,\"marketSum\":319},{\"itemcode\":\"404260\",\"etfTabCode\":2,\"itemname\":\"KODEX KRX기후변화솔루션\",\"nowVal\":8320,\"risefall\":\"5\",\"changeVal\":-5,\"changeRate\":-0.06,\"nav\":8359.0,\"threeMonthEarnRate\":-7.1493,\"quant\":14,\"amonut\":0,\"marketSum\":316},{\"itemcode\":\"266360\",\"etfTabCode\":2,\"itemname\":\"KODEX 미디어&엔터테인먼트\",\"nowVal\":14335,\"risefall\":\"5\",\"changeVal\":-295,\"changeRate\":-2.02,\"nav\":14326.0,\"threeMonthEarnRate\":-25.2962,\"quant\":4093,\"amonut\":58,\"marketSum\":315},{\"itemcode\":\"130680\",\"etfTabCode\":5,\"itemname\":\"TIGER 원유선물Enhanced(H)\",\"nowVal\":4985,\"risefall\":\"5\",\"changeVal\":-20,\"changeRate\":-0.4,\"nav\":4934.0,\"threeMonthEarnRate\":-2.2461,\"quant\":340923,\"amonut\":1697,\"marketSum\":309},{\"itemcode\":\"332500\",\"etfTabCode\":1,\"itemname\":\"KINDEX 200TR\",\"nowVal\":19225,\"risefall\":\"2\",\"changeVal\":120,\"changeRate\":0.63,\"nav\":19252.0,\"threeMonthEarnRate\":-14.0963,\"quant\":570,\"amonut\":10,\"marketSum\":308},{\"itemcode\":\"266370\",\"etfTabCode\":2,\"itemname\":\"KODEX IT\",\"nowVal\":16020,\"risefall\":\"2\",\"changeVal\":350,\"changeRate\":2.23,\"nav\":16022.0,\"threeMonthEarnRate\":-18.1296,\"quant\":9004,\"amonut\":143,\"marketSum\":304},{\"itemcode\":\"225030\",\"etfTabCode\":4,\"itemname\":\"TIGER 미국S&P500선물인버스(H)\",\"nowVal\":4260,\"risefall\":\"5\",\"changeVal\":-5,\"changeRate\":-0.12,\"nav\":4263.0,\"threeMonthEarnRate\":16.371,\"quant\":629112,\"amonut\":2674,\"marketSum\":302},{\"itemcode\":\"326230\",\"etfTabCode\":2,\"itemname\":\"KBSTAR 내수주플러스\",\"nowVal\":8075,\"risefall\":\"5\",\"changeVal\":-75,\"changeRate\":-0.92,\"nav\":8093.0,\"threeMonthEarnRate\":-12.0915,\"quant\":13,\"amonut\":0,\"marketSum\":296},{\"itemcode\":\"381560\",\"etfTabCode\":2,\"itemname\":\"HANARO Fn전기&수소차\",\"nowVal\":7455,\"risefall\":\"5\",\"changeVal\":-55,\"changeRate\":-0.73,\"nav\":7452.0,\"threeMonthEarnRate\":-11.2294,\"quant\":9386,\"amonut\":69,\"marketSum\":294},{\"itemcode\":\"304780\",\"etfTabCode\":3,\"itemname\":\"HANARO 200선물레버리지\",\"nowVal\":15685,\"risefall\":\"2\",\"changeVal\":35,\"changeRate\":0.22,\"nav\":15665.0,\"threeMonthEarnRate\":-26.4568,\"quant\":20622,\"amonut\":316,\"marketSum\":290},{\"itemcode\":\"404540\",\"etfTabCode\":2,\"itemname\":\"TIGER KRX기후변화솔루션\",\"nowVal\":8395,\"risefall\":\"2\",\"changeVal\":40,\"changeRate\":0.48,\"nav\":8402.0,\"threeMonthEarnRate\":-7.0324,\"quant\":299,\"amonut\":2,\"marketSum\":290},{\"itemcode\":\"248270\",\"etfTabCode\":4,\"itemname\":\"TIGER S&P글로벌헬스케어(합성)\",\"nowVal\":19290,\"risefall\":\"2\",\"changeVal\":185,\"changeRate\":0.97,\"nav\":19266.0,\"threeMonthEarnRate\":-3.1678,\"quant\":1930,\"amonut\":37,\"marketSum\":289},{\"itemcode\":\"304660\",\"etfTabCode\":6,\"itemname\":\"KODEX 미국채울트라30년선물(H)\",\"nowVal\":9910,\"risefall\":\"2\",\"changeVal\":5,\"changeRate\":0.05,\"nav\":9951.0,\"threeMonthEarnRate\":-5.9355,\"quant\":27520,\"amonut\":272,\"marketSum\":287},{\"itemcode\":\"169950\",\"etfTabCode\":4,\"itemname\":\"KODEX 차이나A50\",\"nowVal\":21615,\"risefall\":\"5\",\"changeVal\":-20,\"changeRate\":-0.09,\"nav\":21505.0,\"threeMonthEarnRate\":4.2399,\"quant\":6593,\"amonut\":142,\"marketSum\":281},{\"itemcode\":\"266420\",\"etfTabCode\":2,\"itemname\":\"KODEX 헬스케어\",\"nowVal\":13295,\"risefall\":\"5\",\"changeVal\":-75,\"changeRate\":-0.56,\"nav\":13383.0,\"threeMonthEarnRate\":0.413,\"quant\":11774,\"amonut\":156,\"marketSum\":279},{\"itemcode\":\"306520\",\"etfTabCode\":3,\"itemname\":\"HANARO 200선물인버스\",\"nowVal\":11555,\"risefall\":\"5\",\"changeVal\":-60,\"changeRate\":-0.52,\"nav\":11567.0,\"threeMonthEarnRate\":15.2853,\"quant\":176985,\"amonut\":2046,\"marketSum\":277},{\"itemcode\":\"332620\",\"etfTabCode\":6,\"itemname\":\"ARIRANG 미국장기우량회사채\",\"nowVal\":92235,\"risefall\":\"2\",\"changeVal\":1035,\"changeRate\":1.13,\"nav\":92121.0,\"threeMonthEarnRate\":-0.5399,\"quant\":547,\"amonut\":50,\"marketSum\":277},{\"itemcode\":\"399110\",\"etfTabCode\":4,\"itemname\":\"SOL 미국S&P500ESG\",\"nowVal\":9840,\"risefall\":\"2\",\"changeVal\":125,\"changeRate\":1.29,\"nav\":9825.0,\"threeMonthEarnRate\":-8.5561,\"quant\":17484,\"amonut\":171,\"marketSum\":276},{\"itemcode\":\"304770\",\"etfTabCode\":1,\"itemname\":\"HANARO 코스닥150\",\"nowVal\":10865,\"risefall\":\"5\",\"changeVal\":-15,\"changeRate\":-0.14,\"nav\":10997.0,\"threeMonthEarnRate\":-14.6198,\"quant\":23,\"amonut\":0,\"marketSum\":272},{\"itemcode\":\"337140\",\"etfTabCode\":2,\"itemname\":\"KODEX 코스피대형주\",\"nowVal\":11295,\"risefall\":\"2\",\"changeVal\":30,\"changeRate\":0.27,\"nav\":11329.0,\"threeMonthEarnRate\":-13.3795,\"quant\":139,\"amonut\":1,\"marketSum\":271},{\"itemcode\":\"236350\",\"etfTabCode\":4,\"itemname\":\"TIGER 인도니프티50레버리지(합성)\",\"nowVal\":22095,\"risefall\":\"2\",\"changeVal\":435,\"changeRate\":2.01,\"nav\":22295.0,\"threeMonthEarnRate\":-14.5563,\"quant\":1866,\"amonut\":41,\"marketSum\":270},{\"itemcode\":\"287180\",\"etfTabCode\":4,\"itemname\":\"ARIRANG 미국나스닥테크\",\"nowVal\":19775,\"risefall\":\"2\",\"changeVal\":295,\"changeRate\":1.51,\"nav\":19730.0,\"threeMonthEarnRate\":-13.9956,\"quant\":2144,\"amonut\":42,\"marketSum\":267},{\"itemcode\":\"243880\",\"etfTabCode\":2,\"itemname\":\"TIGER 200IT레버리지\",\"nowVal\":33090,\"risefall\":\"2\",\"changeVal\":1270,\"changeRate\":3.99,\"nav\":33304.0,\"threeMonthEarnRate\":-33.2425,\"quant\":14176,\"amonut\":464,\"marketSum\":265},{\"itemcode\":\"434960\",\"etfTabCode\":1,\"itemname\":\"대신343 K200\",\"nowVal\":30865,\"risefall\":\"2\",\"changeVal\":195,\"changeRate\":0.64,\"nav\":30902.0,\"threeMonthEarnRate\":null,\"quant\":62421,\"amonut\":1898,\"marketSum\":262},{\"itemcode\":\"239660\",\"etfTabCode\":6,\"itemname\":\"ARIRANG 우량회사채50 1년\",\"nowVal\":108640,\"risefall\":\"2\",\"changeVal\":40,\"changeRate\":0.04,\"nav\":108644.0,\"threeMonthEarnRate\":0.106,\"quant\":153,\"amonut\":16,\"marketSum\":261},{\"itemcode\":\"219390\",\"etfTabCode\":4,\"itemname\":\"KBSTAR 미국S&P원유생산기업(합성 H)\",\"nowVal\":5230,\"risefall\":\"5\",\"changeVal\":-105,\"changeRate\":-1.97,\"nav\":5172.0,\"threeMonthEarnRate\":-17.5426,\"quant\":49444,\"amonut\":257,\"marketSum\":259},{\"itemcode\":\"396520\",\"etfTabCode\":4,\"itemname\":\"TIGER 차이나반도체FACTSET\",\"nowVal\":7545,\"risefall\":\"2\",\"changeVal\":45,\"changeRate\":0.6,\"nav\":7503.0,\"threeMonthEarnRate\":5.8574,\"quant\":11614,\"amonut\":87,\"marketSum\":257},{\"itemcode\":\"267450\",\"etfTabCode\":6,\"itemname\":\"KBSTAR 미국장기국채선물인버스(H)\",\"nowVal\":9050,\"risefall\":\"2\",\"changeVal\":5,\"changeRate\":0.06,\"nav\":9029.0,\"threeMonthEarnRate\":1.8581,\"quant\":3112,\"amonut\":28,\"marketSum\":253},{\"itemcode\":\"210780\",\"etfTabCode\":2,\"itemname\":\"TIGER 코스피고배당\",\"nowVal\":12595,\"risefall\":\"5\",\"changeVal\":-160,\"changeRate\":-1.25,\"nav\":12590.0,\"threeMonthEarnRate\":-18.2739,\"quant\":19554,\"amonut\":245,\"marketSum\":253},{\"itemcode\":\"332610\",\"etfTabCode\":6,\"itemname\":\"ARIRANG 미국단기우량회사채\",\"nowVal\":109000,\"risefall\":\"2\",\"changeVal\":1200,\"changeRate\":1.11,\"nav\":108774.0,\"threeMonthEarnRate\":6.849,\"quant\":189,\"amonut\":20,\"marketSum\":251},{\"itemcode\":\"217780\",\"etfTabCode\":4,\"itemname\":\"TIGER 차이나CSI300인버스(합성)\",\"nowVal\":7625,\"risefall\":\"2\",\"changeVal\":5,\"changeRate\":0.07,\"nav\":7637.0,\"threeMonthEarnRate\":-5.7514,\"quant\":5885,\"amonut\":44,\"marketSum\":244},{\"itemcode\":\"375770\",\"etfTabCode\":2,\"itemname\":\"KODEX 탄소효율그린뉴딜\",\"nowVal\":7615,\"risefall\":\"2\",\"changeVal\":55,\"changeRate\":0.73,\"nav\":7628.0,\"threeMonthEarnRate\":-13.7184,\"quant\":719,\"amonut\":5,\"marketSum\":244},{\"itemcode\":\"269420\",\"etfTabCode\":4,\"itemname\":\"KODEX S&P글로벌인프라(합성)\",\"nowVal\":13730,\"risefall\":\"2\",\"changeVal\":25,\"changeRate\":0.18,\"nav\":13781.0,\"threeMonthEarnRate\":-3.7233,\"quant\":1802,\"amonut\":24,\"marketSum\":242},{\"itemcode\":\"250780\",\"etfTabCode\":3,\"itemname\":\"TIGER 코스닥150선물인버스\",\"nowVal\":5240,\"risefall\":\"3\",\"changeVal\":0,\"changeRate\":0.0,\"nav\":5248.0,\"threeMonthEarnRate\":13.1749,\"quant\":885447,\"amonut\":4647,\"marketSum\":241},{\"itemcode\":\"388420\",\"etfTabCode\":2,\"itemname\":\"KBSTAR 비메모리반도체액티브\",\"nowVal\":7550,\"risefall\":\"2\",\"changeVal\":120,\"changeRate\":1.62,\"nav\":7548.0,\"threeMonthEarnRate\":-27.2568,\"quant\":32729,\"amonut\":246,\"marketSum\":237},{\"itemcode\":\"428560\",\"etfTabCode\":4,\"itemname\":\"KODEX 미국ETF산업Top10 Indxx\",\"nowVal\":10250,\"risefall\":\"2\",\"changeVal\":120,\"changeRate\":1.18,\"nav\":10302.0,\"threeMonthEarnRate\":null,\"quant\":2648,\"amonut\":27,\"marketSum\":236},{\"itemcode\":\"181480\",\"etfTabCode\":7,\"itemname\":\"KINDEX 미국다우존스리츠(합성 H)\",\"nowVal\":83265,\"risefall\":\"2\",\"changeVal\":185,\"changeRate\":0.22,\"nav\":82850.0,\"threeMonthEarnRate\":-16.4984,\"quant\":20,\"amonut\":1,\"marketSum\":233},{\"itemcode\":\"319640\",\"etfTabCode\":4,\"itemname\":\"TIGER 골드선물(H)\",\"nowVal\":12225,\"risefall\":\"5\",\"changeVal\":-145,\"changeRate\":-1.17,\"nav\":12218.0,\"threeMonthEarnRate\":-13.1321,\"quant\":37443,\"amonut\":459,\"marketSum\":232},{\"itemcode\":\"138520\",\"etfTabCode\":2,\"itemname\":\"TIGER 삼성그룹펀더멘털\",\"nowVal\":9975,\"risefall\":\"2\",\"changeVal\":120,\"changeRate\":1.22,\"nav\":9982.0,\"threeMonthEarnRate\":-10.1232,\"quant\":1971,\"amonut\":19,\"marketSum\":231},{\"itemcode\":\"395760\",\"etfTabCode\":2,\"itemname\":\"ARIRANG ESG성장주액티브\",\"nowVal\":7345,\"risefall\":\"2\",\"changeVal\":30,\"changeRate\":0.41,\"nav\":7344.0,\"threeMonthEarnRate\":-15.3063,\"quant\":208,\"amonut\":1,\"marketSum\":231},{\"itemcode\":\"114100\",\"etfTabCode\":6,\"itemname\":\"KBSTAR 국고채3년\",\"nowVal\":108645,\"risefall\":\"2\",\"changeVal\":105,\"changeRate\":0.1,\"nav\":108670.0,\"threeMonthEarnRate\":0.1125,\"quant\":31,\"amonut\":3,\"marketSum\":228},{\"itemcode\":\"385590\",\"etfTabCode\":2,\"itemname\":\"KINDEX ESG액티브\",\"nowVal\":6865,\"risefall\":\"2\",\"changeVal\":15,\"changeRate\":0.22,\"nav\":6896.0,\"threeMonthEarnRate\":-18.5591,\"quant\":50,\"amonut\":0,\"marketSum\":227},{\"itemcode\":\"365040\",\"etfTabCode\":1,\"itemname\":\"TIGER AI코리아그로스액티브\",\"nowVal\":10600,\"risefall\":\"3\",\"changeVal\":0,\"changeRate\":0.0,\"nav\":10645.0,\"threeMonthEarnRate\":-14.1701,\"quant\":349,\"amonut\":3,\"marketSum\":223},{\"itemcode\":\"385600\",\"etfTabCode\":2,\"itemname\":\"KINDEX 친환경자동차밸류체인액티브\",\"nowVal\":8745,\"risefall\":\"5\",\"changeVal\":-45,\"changeRate\":-0.51,\"nav\":8781.0,\"threeMonthEarnRate\":-15.3913,\"quant\":3172,\"amonut\":27,\"marketSum\":219},{\"itemcode\":\"280930\",\"etfTabCode\":4,\"itemname\":\"KODEX 미국러셀2000(H)\",\"nowVal\":11075,\"risefall\":\"5\",\"changeVal\":-50,\"changeRate\":-0.45,\"nav\":11037.0,\"threeMonthEarnRate\":-15.6878,\"quant\":262,\"amonut\":2,\"marketSum\":216},{\"itemcode\":\"377990\",\"etfTabCode\":2,\"itemname\":\"TIGER Fn신재생에너지\",\"nowVal\":7945,\"risefall\":\"5\",\"changeVal\":-155,\"changeRate\":-1.91,\"nav\":7945.0,\"threeMonthEarnRate\":-11.4174,\"quant\":19143,\"amonut\":151,\"marketSum\":215},{\"itemcode\":\"139270\",\"etfTabCode\":2,\"itemname\":\"TIGER 200 금융\",\"nowVal\":5500,\"risefall\":\"5\",\"changeVal\":-130,\"changeRate\":-2.31,\"nav\":5505.0,\"threeMonthEarnRate\":-21.5441,\"quant\":21519,\"amonut\":118,\"marketSum\":213},{\"itemcode\":\"276650\",\"etfTabCode\":4,\"itemname\":\"KBSTAR 글로벌4차산업IT(합성 H)\",\"nowVal\":17660,\"risefall\":\"2\",\"changeVal\":225,\"changeRate\":1.29,\"nav\":17574.0,\"threeMonthEarnRate\":-17.5651,\"quant\":574,\"amonut\":10,\"marketSum\":212},{\"itemcode\":\"329660\",\"etfTabCode\":7,\"itemname\":\"KODEX TRF5050\",\"nowVal\":11725,\"risefall\":\"2\",\"changeVal\":30,\"changeRate\":0.26,\"nav\":11674.0,\"threeMonthEarnRate\":-4.2571,\"quant\":1449,\"amonut\":16,\"marketSum\":211},{\"itemcode\":\"364990\",\"etfTabCode\":2,\"itemname\":\"TIGER KRX게임K-뉴딜\",\"nowVal\":6670,\"risefall\":\"5\",\"changeVal\":-160,\"changeRate\":-2.34,\"nav\":6687.0,\"threeMonthEarnRate\":-23.422,\"quant\":107594,\"amonut\":723,\"marketSum\":210},{\"itemcode\":\"277540\",\"etfTabCode\":4,\"itemname\":\"KINDEX 아시아TOP50S&P\",\"nowVal\":12555,\"risefall\":\"2\",\"changeVal\":65,\"changeRate\":0.52,\"nav\":12492.0,\"threeMonthEarnRate\":-1.731,\"quant\":188,\"amonut\":2,\"marketSum\":207},{\"itemcode\":\"252000\",\"etfTabCode\":1,\"itemname\":\"TIGER 200동일가중\",\"nowVal\":10305,\"risefall\":\"5\",\"changeVal\":-100,\"changeRate\":-0.96,\"nav\":10296.0,\"threeMonthEarnRate\":-15.1997,\"quant\":20,\"amonut\":0,\"marketSum\":206},{\"itemcode\":\"261250\",\"etfTabCode\":7,\"itemname\":\"KODEX 미국달러선물레버리지\",\"nowVal\":12525,\"risefall\":\"2\",\"changeVal\":265,\"changeRate\":2.16,\"nav\":12583.0,\"threeMonthEarnRate\":14.5794,\"quant\":178686,\"amonut\":2229,\"marketSum\":204},{\"itemcode\":\"237370\",\"etfTabCode\":7,\"itemname\":\"KODEX 배당성장채권혼합\",\"nowVal\":11300,\"risefall\":\"3\",\"changeVal\":0,\"changeRate\":0.0,\"nav\":11286.0,\"threeMonthEarnRate\":-5.3205,\"quant\":2275,\"amonut\":25,\"marketSum\":203},{\"itemcode\":\"160580\",\"etfTabCode\":5,\"itemname\":\"TIGER 구리실물\",\"nowVal\":8590,\"risefall\":\"2\",\"changeVal\":75,\"changeRate\":0.88,\"nav\":8730.0,\"threeMonthEarnRate\":-26.0209,\"quant\":2828,\"amonut\":24,\"marketSum\":202},{\"itemcode\":\"329670\",\"etfTabCode\":7,\"itemname\":\"KODEX TRF7030\",\"nowVal\":12595,\"risefall\":\"2\",\"changeVal\":15,\"changeRate\":0.12,\"nav\":12541.0,\"threeMonthEarnRate\":-6.0493,\"quant\":1953,\"amonut\":24,\"marketSum\":202},{\"itemcode\":\"218420\",\"etfTabCode\":4,\"itemname\":\"KODEX 미국S&P에너지(합성)\",\"nowVal\":10295,\"risefall\":\"5\",\"changeVal\":-205,\"changeRate\":-1.95,\"nav\":10501.0,\"threeMonthEarnRate\":-8.2168,\"quant\":7526,\"amonut\":77,\"marketSum\":200},{\"itemcode\":\"395290\",\"etfTabCode\":2,\"itemname\":\"HANARO Fn K-POP&미디어\",\"nowVal\":7695,\"risefall\":\"5\",\"changeVal\":-105,\"changeRate\":-1.35,\"nav\":7695.0,\"threeMonthEarnRate\":-23.5445,\"quant\":4782,\"amonut\":37,\"marketSum\":200},{\"itemcode\":\"230480\",\"etfTabCode\":7,\"itemname\":\"KOSEF 미국달러선물인버스2X\",\"nowVal\":6140,\"risefall\":\"5\",\"changeVal\":-140,\"changeRate\":-2.23,\"nav\":6109.0,\"threeMonthEarnRate\":-13.4391,\"quant\":43208,\"amonut\":266,\"marketSum\":198},{\"itemcode\":\"117460\",\"etfTabCode\":2,\"itemname\":\"KODEX 에너지화학\",\"nowVal\":14000,\"risefall\":\"5\",\"changeVal\":-215,\"changeRate\":-1.51,\"nav\":13998.0,\"threeMonthEarnRate\":-13.6969,\"quant\":9952,\"amonut\":139,\"marketSum\":196},{\"itemcode\":\"385710\",\"etfTabCode\":2,\"itemname\":\"TIMEFOLIO 이노베이션액티브\",\"nowVal\":7790,\"risefall\":\"5\",\"changeVal\":-90,\"changeRate\":-1.14,\"nav\":7790.0,\"threeMonthEarnRate\":-15.0405,\"quant\":273,\"amonut\":2,\"marketSum\":195},{\"itemcode\":\"426150\",\"etfTabCode\":6,\"itemname\":\"WOORI 대한민국국고채액티브\",\"nowVal\":50925,\"risefall\":\"2\",\"changeVal\":125,\"changeRate\":0.25,\"nav\":51077.0,\"threeMonthEarnRate\":null,\"quant\":62,\"amonut\":3,\"marketSum\":194},{\"itemcode\":\"174350\",\"etfTabCode\":2,\"itemname\":\"TIGER 로우볼\",\"nowVal\":10760,\"risefall\":\"5\",\"changeVal\":-80,\"changeRate\":-0.74,\"nav\":10753.0,\"threeMonthEarnRate\":-12.0416,\"quant\":57,\"amonut\":0,\"marketSum\":189},{\"itemcode\":\"140710\",\"etfTabCode\":2,\"itemname\":\"KODEX 운송\",\"nowVal\":5210,\"risefall\":\"5\",\"changeVal\":-100,\"changeRate\":-1.88,\"nav\":5206.0,\"threeMonthEarnRate\":-14.1333,\"quant\":95656,\"amonut\":498,\"marketSum\":188},{\"itemcode\":\"265690\",\"etfTabCode\":4,\"itemname\":\"KINDEX 러시아MSCI(합성)\",\"nowVal\":10070,\"risefall\":\"3\",\"changeVal\":0,\"changeRate\":0.0,\"nav\":511.0,\"threeMonthEarnRate\":0.0,\"quant\":0,\"amonut\":0,\"marketSum\":186},{\"itemcode\":\"292160\",\"etfTabCode\":1,\"itemname\":\"TIGER KRX300\",\"nowVal\":14250,\"risefall\":\"3\",\"changeVal\":0,\"changeRate\":0.0,\"nav\":14354.0,\"threeMonthEarnRate\":-13.8401,\"quant\":21,\"amonut\":0,\"marketSum\":185},{\"itemcode\":\"409810\",\"etfTabCode\":4,\"itemname\":\"KODEX 미국나스닥100선물인버스(H)\",\"nowVal\":13035,\"risefall\":\"5\",\"changeVal\":-110,\"changeRate\":-0.84,\"nav\":13076.0,\"threeMonthEarnRate\":19.2831,\"quant\":116938,\"amonut\":1523,\"marketSum\":182},{\"itemcode\":\"168300\",\"etfTabCode\":1,\"itemname\":\"KTOP 코스피50\",\"nowVal\":21515,\"risefall\":\"2\",\"changeVal\":170,\"changeRate\":0.8,\"nav\":21621.0,\"threeMonthEarnRate\":-13.6844,\"quant\":109,\"amonut\":2,\"marketSum\":181},{\"itemcode\":\"308620\",\"etfTabCode\":6,\"itemname\":\"KODEX 미국채10년선물\",\"nowVal\":12025,\"risefall\":\"2\",\"changeVal\":115,\"changeRate\":0.97,\"nav\":12074.0,\"threeMonthEarnRate\":5.4915,\"quant\":31614,\"amonut\":378,\"marketSum\":180},{\"itemcode\":\"401590\",\"etfTabCode\":4,\"itemname\":\"HANARO 글로벌탄소배출권선물ICE(합성)\",\"nowVal\":12025,\"risefall\":\"5\",\"changeVal\":-175,\"changeRate\":-1.43,\"nav\":12097.0,\"threeMonthEarnRate\":4.318,\"quant\":4159,\"amonut\":49,\"marketSum\":180},{\"itemcode\":\"300950\",\"etfTabCode\":2,\"itemname\":\"KODEX 게임산업\",\"nowVal\":8720,\"risefall\":\"5\",\"changeVal\":-190,\"changeRate\":-2.13,\"nav\":8718.0,\"threeMonthEarnRate\":-25.0631,\"quant\":31509,\"amonut\":275,\"marketSum\":174},{\"itemcode\":\"252400\",\"etfTabCode\":3,\"itemname\":\"KBSTAR 200선물레버리지\",\"nowVal\":13055,\"risefall\":\"2\",\"changeVal\":155,\"changeRate\":1.2,\"nav\":13027.0,\"threeMonthEarnRate\":-27.201,\"quant\":5103,\"amonut\":65,\"marketSum\":170},{\"itemcode\":\"395280\",\"etfTabCode\":2,\"itemname\":\"HANARO Fn K-게임\",\"nowVal\":5365,\"risefall\":\"5\",\"changeVal\":-120,\"changeRate\":-2.19,\"nav\":5358.0,\"threeMonthEarnRate\":-24.6773,\"quant\":973,\"amonut\":5,\"marketSum\":169},{\"itemcode\":\"237350\",\"etfTabCode\":1,\"itemname\":\"KODEX 코스피100\",\"nowVal\":23795,\"risefall\":\"2\",\"changeVal\":115,\"changeRate\":0.49,\"nav\":23894.0,\"threeMonthEarnRate\":-13.4946,\"quant\":2843,\"amonut\":67,\"marketSum\":167},{\"itemcode\":\"140700\",\"etfTabCode\":2,\"itemname\":\"KODEX 보험\",\"nowVal\":6145,\"risefall\":\"5\",\"changeVal\":-80,\"changeRate\":-1.29,\"nav\":6135.0,\"threeMonthEarnRate\":-15.9693,\"quant\":120109,\"amonut\":736,\"marketSum\":166},{\"itemcode\":\"395160\",\"etfTabCode\":2,\"itemname\":\"KODEX Fn시스템반도체\",\"nowVal\":7210,\"risefall\":\"2\",\"changeVal\":135,\"changeRate\":1.91,\"nav\":7216.0,\"threeMonthEarnRate\":-22.3722,\"quant\":11769,\"amonut\":84,\"marketSum\":166},{\"itemcode\":\"360140\",\"etfTabCode\":2,\"itemname\":\"KODEX 200롱코스닥150숏선물\",\"nowVal\":10310,\"risefall\":\"2\",\"changeVal\":25,\"changeRate\":0.24,\"nav\":10354.0,\"threeMonthEarnRate\":-0.724,\"quant\":188187,\"amonut\":1938,\"marketSum\":165},{\"itemcode\":\"352560\",\"etfTabCode\":7,\"itemname\":\"KODEX 다우존스미국리츠(H)\",\"nowVal\":12630,\"risefall\":\"5\",\"changeVal\":-110,\"changeRate\":-0.86,\"nav\":12653.0,\"threeMonthEarnRate\":-15.7965,\"quant\":2881,\"amonut\":36,\"marketSum\":164},{\"itemcode\":\"271060\",\"etfTabCode\":5,\"itemname\":\"KODEX 3대농산물선물(H)\",\"nowVal\":12140,\"risefall\":\"5\",\"changeVal\":-50,\"changeRate\":-0.41,\"nav\":12102.0,\"threeMonthEarnRate\":-18.7875,\"quant\":14284,\"amonut\":173,\"marketSum\":164},{\"itemcode\":\"400580\",\"etfTabCode\":4,\"itemname\":\"SOL 유럽탄소배출권선물S&P(H)\",\"nowVal\":13305,\"risefall\":\"2\",\"changeVal\":300,\"changeRate\":2.31,\"nav\":13416.0,\"threeMonthEarnRate\":5.1333,\"quant\":8507,\"amonut\":113,\"marketSum\":160},{\"itemcode\":\"213630\",\"etfTabCode\":4,\"itemname\":\"ARIRANG 미국다우존스고배당주(합성 H)\",\"nowVal\":15280,\"risefall\":\"5\",\"changeVal\":-180,\"changeRate\":-1.16,\"nav\":15335.0,\"threeMonthEarnRate\":-9.5907,\"quant\":3692,\"amonut\":56,\"marketSum\":157},{\"itemcode\":\"354500\",\"etfTabCode\":1,\"itemname\":\"KINDEX 코스닥150\",\"nowVal\":10965,\"risefall\":\"5\",\"changeVal\":-45,\"changeRate\":-0.41,\"nav\":11031.0,\"threeMonthEarnRate\":-15.6193,\"quant\":267,\"amonut\":2,\"marketSum\":154},{\"itemcode\":\"102960\",\"etfTabCode\":2,\"itemname\":\"KODEX 기계장비\",\"nowVal\":4865,\"risefall\":\"5\",\"changeVal\":-60,\"changeRate\":-1.22,\"nav\":4880.0,\"threeMonthEarnRate\":-11.8805,\"quant\":3438,\"amonut\":16,\"marketSum\":153},{\"itemcode\":\"211900\",\"etfTabCode\":2,\"itemname\":\"KODEX 배당성장\",\"nowVal\":12215,\"risefall\":\"5\",\"changeVal\":-80,\"changeRate\":-0.65,\"nav\":12216.0,\"threeMonthEarnRate\":-17.2612,\"quant\":841,\"amonut\":10,\"marketSum\":153},{\"itemcode\":\"289260\",\"etfTabCode\":2,\"itemname\":\"TIGER MSCI KOREA ESG리더스\",\"nowVal\":8320,\"risefall\":\"5\",\"changeVal\":-65,\"changeRate\":-0.78,\"nav\":8352.0,\"threeMonthEarnRate\":-15.6354,\"quant\":296,\"amonut\":2,\"marketSum\":152},{\"itemcode\":\"276990\",\"etfTabCode\":4,\"itemname\":\"KODEX 글로벌4차산업로보틱스(합성)\",\"nowVal\":13940,\"risefall\":\"2\",\"changeVal\":95,\"changeRate\":0.69,\"nav\":13876.0,\"threeMonthEarnRate\":-12.2068,\"quant\":1094,\"amonut\":15,\"marketSum\":152},{\"itemcode\":\"251590\",\"etfTabCode\":2,\"itemname\":\"ARIRANG 고배당저변동50\",\"nowVal\":10395,\"risefall\":\"5\",\"changeVal\":-75,\"changeRate\":-0.72,\"nav\":10398.0,\"threeMonthEarnRate\":-10.2136,\"quant\":1253,\"amonut\":12,\"marketSum\":151},{\"itemcode\":\"139250\",\"etfTabCode\":2,\"itemname\":\"TIGER 200 에너지화학\",\"nowVal\":14415,\"risefall\":\"5\",\"changeVal\":-265,\"changeRate\":-1.81,\"nav\":14444.0,\"threeMonthEarnRate\":-12.8267,\"quant\":29181,\"amonut\":421,\"marketSum\":150},{\"itemcode\":\"373790\",\"etfTabCode\":4,\"itemname\":\"KOSEF 미국방어배당성장나스닥\",\"nowVal\":13475,\"risefall\":\"2\",\"changeVal\":55,\"changeRate\":0.41,\"nav\":13528.0,\"threeMonthEarnRate\":-3.2166,\"quant\":692,\"amonut\":9,\"marketSum\":148},{\"itemcode\":\"300610\",\"etfTabCode\":2,\"itemname\":\"TIGER K게임\",\"nowVal\":9870,\"risefall\":\"5\",\"changeVal\":-230,\"changeRate\":-2.28,\"nav\":9896.0,\"threeMonthEarnRate\":-26.854,\"quant\":17016,\"amonut\":169,\"marketSum\":148},{\"itemcode\":\"289040\",\"etfTabCode\":2,\"itemname\":\"KODEX MSCI KOREA ESG유니버설\",\"nowVal\":9145,\"risefall\":\"3\",\"changeVal\":0,\"changeRate\":0.0,\"nav\":9198.0,\"threeMonthEarnRate\":-14.6126,\"quant\":0,\"amonut\":0,\"marketSum\":146},{\"itemcode\":\"253250\",\"etfTabCode\":3,\"itemname\":\"KOSEF 200선물레버리지\",\"nowVal\":12870,\"risefall\":\"2\",\"changeVal\":145,\"changeRate\":1.14,\"nav\":12868.0,\"threeMonthEarnRate\":-27.0983,\"quant\":10223,\"amonut\":129,\"marketSum\":145},{\"itemcode\":\"245350\",\"etfTabCode\":4,\"itemname\":\"TIGER 유로스탁스배당30\",\"nowVal\":10320,\"risefall\":\"5\",\"changeVal\":-30,\"changeRate\":-0.29,\"nav\":10241.0,\"threeMonthEarnRate\":-12.2063,\"quant\":1818,\"amonut\":18,\"marketSum\":144},{\"itemcode\":\"292730\",\"etfTabCode\":1,\"itemname\":\"FOCUS KRX300\",\"nowVal\":14375,\"risefall\":\"2\",\"changeVal\":35,\"changeRate\":0.24,\"nav\":14434.0,\"threeMonthEarnRate\":-13.9824,\"quant\":3,\"amonut\":0,\"marketSum\":144},{\"itemcode\":\"266410\",\"etfTabCode\":2,\"itemname\":\"KODEX 필수소비재\",\"nowVal\":7155,\"risefall\":\"5\",\"changeVal\":-55,\"changeRate\":-0.76,\"nav\":7174.0,\"threeMonthEarnRate\":-9.9313,\"quant\":1751,\"amonut\":12,\"marketSum\":143},{\"itemcode\":\"253160\",\"etfTabCode\":3,\"itemname\":\"ARIRANG 200선물인버스2X\",\"nowVal\":6650,\"risefall\":\"5\",\"changeVal\":-80,\"changeRate\":-1.19,\"nav\":6667.0,\"threeMonthEarnRate\":31.9607,\"quant\":269656,\"amonut\":1835,\"marketSum\":140},{\"itemcode\":\"153270\",\"etfTabCode\":1,\"itemname\":\"KOSEF 코스피100\",\"nowVal\":23265,\"risefall\":\"2\",\"changeVal\":120,\"changeRate\":0.52,\"nav\":23331.0,\"threeMonthEarnRate\":-13.8214,\"quant\":473,\"amonut\":11,\"marketSum\":140},{\"itemcode\":\"411720\",\"etfTabCode\":4,\"itemname\":\"KBSTAR 글로벌메타버스Moorgate\",\"nowVal\":7685,\"risefall\":\"2\",\"changeVal\":120,\"changeRate\":1.59,\"nav\":7742.0,\"threeMonthEarnRate\":-13.096,\"quant\":532,\"amonut\":4,\"marketSum\":138},{\"itemcode\":\"183700\",\"etfTabCode\":7,\"itemname\":\"KBSTAR 채권혼합\",\"nowVal\":57325,\"risefall\":\"2\",\"changeVal\":280,\"changeRate\":0.49,\"nav\":57331.0,\"threeMonthEarnRate\":-4.6565,\"quant\":5,\"amonut\":0,\"marketSum\":138},{\"itemcode\":\"182490\",\"etfTabCode\":6,\"itemname\":\"TIGER 단기선진하이일드(합성 H)\",\"nowVal\":11435,\"risefall\":\"5\",\"changeVal\":-90,\"changeRate\":-0.78,\"nav\":11503.0,\"threeMonthEarnRate\":-5.261,\"quant\":44,\"amonut\":0,\"marketSum\":137},{\"itemcode\":\"411050\",\"etfTabCode\":4,\"itemname\":\"KINDEX 글로벌메타버스테크액티브\",\"nowVal\":6850,\"risefall\":\"2\",\"changeVal\":260,\"changeRate\":3.95,\"nav\":6758.0,\"threeMonthEarnRate\":-18.7924,\"quant\":569,\"amonut\":3,\"marketSum\":137},{\"itemcode\":\"122090\",\"etfTabCode\":1,\"itemname\":\"ARIRANG 코스피50\",\"nowVal\":21405,\"risefall\":\"2\",\"changeVal\":225,\"changeRate\":1.06,\"nav\":21402.0,\"threeMonthEarnRate\":-13.864,\"quant\":718,\"amonut\":15,\"marketSum\":135},{\"itemcode\":\"253290\",\"etfTabCode\":7,\"itemname\":\"KBSTAR 헬스케어채권혼합\",\"nowVal\":11170,\"risefall\":\"5\",\"changeVal\":-40,\"changeRate\":-0.36,\"nav\":11196.0,\"threeMonthEarnRate\":-0.1337,\"quant\":4292,\"amonut\":47,\"marketSum\":134},{\"itemcode\":\"227830\",\"etfTabCode\":1,\"itemname\":\"ARIRANG 코스피\",\"nowVal\":24240,\"risefall\":\"2\",\"changeVal\":100,\"changeRate\":0.41,\"nav\":24236.0,\"threeMonthEarnRate\":-14.47,\"quant\":2008,\"amonut\":48,\"marketSum\":133},{\"itemcode\":\"295020\",\"etfTabCode\":6,\"itemname\":\"KBSTAR 국채선물10년인버스\",\"nowVal\":51950,\"risefall\":\"5\",\"changeVal\":-230,\"changeRate\":-0.44,\"nav\":51886.0,\"threeMonthEarnRate\":0.0383,\"quant\":55,\"amonut\":2,\"marketSum\":132},{\"itemcode\":\"433970\",\"etfTabCode\":7,\"itemname\":\"KODEX TDF2030액티브\",\"nowVal\":10130,\"risefall\":\"2\",\"changeVal\":45,\"changeRate\":0.45,\"nav\":10194.0,\"threeMonthEarnRate\":null,\"quant\":17267,\"amonut\":174,\"marketSum\":132},{\"itemcode\":\"360150\",\"etfTabCode\":2,\"itemname\":\"KODEX 코스닥150롱코스피200숏선물\",\"nowVal\":8745,\"risefall\":\"5\",\"changeVal\":-55,\"changeRate\":-0.62,\"nav\":8775.0,\"threeMonthEarnRate\":0.1707,\"quant\":590,\"amonut\":5,\"marketSum\":131},{\"itemcode\":\"241390\",\"etfTabCode\":7,\"itemname\":\"KBSTAR V&S셀렉트밸류채권혼합\",\"nowVal\":10930,\"risefall\":\"5\",\"changeVal\":-20,\"changeRate\":-0.18,\"nav\":10953.0,\"threeMonthEarnRate\":-6.753,\"quant\":2969,\"amonut\":32,\"marketSum\":131},{\"itemcode\":\"225130\",\"etfTabCode\":4,\"itemname\":\"KINDEX 골드선물 레버리지(합성 H)\",\"nowVal\":14565,\"risefall\":\"5\",\"changeVal\":-345,\"changeRate\":-2.31,\"nav\":14541.0,\"threeMonthEarnRate\":-24.334,\"quant\":9869,\"amonut\":144,\"marketSum\":131},{\"itemcode\":\"413220\",\"etfTabCode\":4,\"itemname\":\"SOL 차이나태양광CSI(합성)\",\"nowVal\":10900,\"risefall\":\"2\",\"changeVal\":20,\"changeRate\":0.18,\"nav\":10880.0,\"threeMonthEarnRate\":41.1154,\"quant\":49176,\"amonut\":538,\"marketSum\":131},{\"itemcode\":\"331910\",\"etfTabCode\":2,\"itemname\":\"KOSEF Fn중소형\",\"nowVal\":19465,\"risefall\":\"5\",\"changeVal\":-80,\"changeRate\":-0.41,\"nav\":19451.0,\"threeMonthEarnRate\":-18.549,\"quant\":50,\"amonut\":0,\"marketSum\":128},{\"itemcode\":\"419420\",\"etfTabCode\":4,\"itemname\":\"KODEX 미국클린에너지나스닥\",\"nowVal\":9165,\"risefall\":\"2\",\"changeVal\":245,\"changeRate\":2.75,\"nav\":9245.0,\"threeMonthEarnRate\":-9.5794,\"quant\":4972,\"amonut\":45,\"marketSum\":128},{\"itemcode\":\"422260\",\"etfTabCode\":2,\"itemname\":\"VITA MZ소비액티브\",\"nowVal\":7535,\"risefall\":\"5\",\"changeVal\":-35,\"changeRate\":-0.46,\"nav\":7604.0,\"threeMonthEarnRate\":-25.8571,\"quant\":102608,\"amonut\":773,\"marketSum\":128},{\"itemcode\":\"433330\",\"etfTabCode\":4,\"itemname\":\"SOL 미국S&P500\",\"nowVal\":10555,\"risefall\":\"2\",\"changeVal\":120,\"changeRate\":1.15,\"nav\":10539.0,\"threeMonthEarnRate\":null,\"quant\":28889,\"amonut\":304,\"marketSum\":127},{\"itemcode\":\"276000\",\"etfTabCode\":4,\"itemname\":\"TIGER 글로벌자원생산기업(합성 H)\",\"nowVal\":13320,\"risefall\":\"5\",\"changeVal\":-410,\"changeRate\":-2.99,\"nav\":13323.0,\"threeMonthEarnRate\":-21.3181,\"quant\":8357,\"amonut\":111,\"marketSum\":127},{\"itemcode\":\"429760\",\"etfTabCode\":4,\"itemname\":\"ARIRANG 미국S&P500\",\"nowVal\":9665,\"risefall\":\"2\",\"changeVal\":140,\"changeRate\":1.47,\"nav\":9637.0,\"threeMonthEarnRate\":null,\"quant\":697043,\"amonut\":6727,\"marketSum\":126},{\"itemcode\":\"285690\",\"etfTabCode\":2,\"itemname\":\"FOCUS ESG리더스\",\"nowVal\":9280,\"risefall\":\"5\",\"changeVal\":-65,\"changeRate\":-0.7,\"nav\":9271.0,\"threeMonthEarnRate\":-13.879,\"quant\":107,\"amonut\":0,\"marketSum\":125},{\"itemcode\":\"278620\",\"etfTabCode\":6,\"itemname\":\"ARIRANG 단기채권액티브\",\"nowVal\":105950,\"risefall\":\"5\",\"changeVal\":-15,\"changeRate\":-0.01,\"nav\":105950.0,\"threeMonthEarnRate\":0.0472,\"quant\":116,\"amonut\":12,\"marketSum\":125},{\"itemcode\":\"227570\",\"etfTabCode\":2,\"itemname\":\"TIGER 우량가치\",\"nowVal\":9655,\"risefall\":\"5\",\"changeVal\":-125,\"changeRate\":-1.28,\"nav\":9656.0,\"threeMonthEarnRate\":-16.1811,\"quant\":667,\"amonut\":6,\"marketSum\":125},{\"itemcode\":\"289670\",\"etfTabCode\":6,\"itemname\":\"ARIRANG 국채선물10년\",\"nowVal\":51805,\"risefall\":\"2\",\"changeVal\":85,\"changeRate\":0.16,\"nav\":52011.0,\"threeMonthEarnRate\":0.5932,\"quant\":168,\"amonut\":8,\"marketSum\":124},{\"itemcode\":\"223190\",\"etfTabCode\":2,\"itemname\":\"KODEX 200가치저변동\",\"nowVal\":8875,\"risefall\":\"2\",\"changeVal\":40,\"changeRate\":0.45,\"nav\":8873.0,\"threeMonthEarnRate\":-14.6295,\"quant\":731,\"amonut\":6,\"marketSum\":124},{\"itemcode\":\"238720\",\"etfTabCode\":4,\"itemname\":\"KINDEX 일본Nikkei225(H)\",\"nowVal\":17650,\"risefall\":\"2\",\"changeVal\":105,\"changeRate\":0.6,\"nav\":17684.0,\"threeMonthEarnRate\":-2.2291,\"quant\":2550,\"amonut\":45,\"marketSum\":124},{\"itemcode\":\"292560\",\"etfTabCode\":7,\"itemname\":\"TIGER 일본엔선물\",\"nowVal\":9320,\"risefall\":\"3\",\"changeVal\":0,\"changeRate\":0.0,\"nav\":9360.0,\"threeMonthEarnRate\":-2.6632,\"quant\":31041,\"amonut\":289,\"marketSum\":121},{\"itemcode\":\"412570\",\"etfTabCode\":2,\"itemname\":\"TIGER KRX2차전지K-뉴딜레버리지\",\"nowVal\":5490,\"risefall\":\"5\",\"changeVal\":-50,\"changeRate\":-0.9,\"nav\":5476.0,\"threeMonthEarnRate\":-23.4278,\"quant\":32473,\"amonut\":176,\"marketSum\":121},{\"itemcode\":\"428510\",\"etfTabCode\":4,\"itemname\":\"KODEX 차이나메타버스액티브\",\"nowVal\":10910,\"risefall\":\"2\",\"changeVal\":5,\"changeRate\":0.05,\"nav\":10928.0,\"threeMonthEarnRate\":null,\"quant\":4410,\"amonut\":48,\"marketSum\":120},{\"itemcode\":\"211560\",\"etfTabCode\":2,\"itemname\":\"TIGER 배당성장\",\"nowVal\":15205,\"risefall\":\"5\",\"changeVal\":-105,\"changeRate\":-0.69,\"nav\":15203.0,\"threeMonthEarnRate\":-17.1851,\"quant\":8026,\"amonut\":120,\"marketSum\":119},{\"itemcode\":\"196030\",\"etfTabCode\":4,\"itemname\":\"KINDEX 일본TOPIX레버리지(H)\",\"nowVal\":19715,\"risefall\":\"5\",\"changeVal\":-10,\"changeRate\":-0.05,\"nav\":19692.0,\"threeMonthEarnRate\":-2.424,\"quant\":5,\"amonut\":0,\"marketSum\":118},{\"itemcode\":\"404120\",\"etfTabCode\":2,\"itemname\":\"TIMEFOLIO 탄소중립액티브\",\"nowVal\":7880,\"risefall\":\"5\",\"changeVal\":-5,\"changeRate\":-0.06,\"nav\":7891.0,\"threeMonthEarnRate\":-10.7022,\"quant\":21,\"amonut\":0,\"marketSum\":118},{\"itemcode\":\"426030\",\"etfTabCode\":4,\"itemname\":\"TIMEFOLIO 미국나스닥100액티브\",\"nowVal\":9785,\"risefall\":\"2\",\"changeVal\":185,\"changeRate\":1.93,\"nav\":9820.0,\"threeMonthEarnRate\":null,\"quant\":26,\"amonut\":0,\"marketSum\":117},{\"itemcode\":\"322410\",\"etfTabCode\":2,\"itemname\":\"HANARO 고배당\",\"nowVal\":9775,\"risefall\":\"5\",\"changeVal\":-105,\"changeRate\":-1.06,\"nav\":9774.0,\"threeMonthEarnRate\":-13.3638,\"quant\":1508,\"amonut\":14,\"marketSum\":117},{\"itemcode\":\"426020\",\"etfTabCode\":4,\"itemname\":\"TIMEFOLIO 미국S&P500액티브\",\"nowVal\":9705,\"risefall\":\"2\",\"changeVal\":90,\"changeRate\":0.94,\"nav\":9726.0,\"threeMonthEarnRate\":null,\"quant\":54,\"amonut\":0,\"marketSum\":116},{\"itemcode\":\"316670\",\"etfTabCode\":1,\"itemname\":\"KOSEF 코스닥150\",\"nowVal\":5435,\"risefall\":\"5\",\"changeVal\":-30,\"changeRate\":-0.55,\"nav\":5501.0,\"threeMonthEarnRate\":-14.5427,\"quant\":135,\"amonut\":0,\"marketSum\":115},{\"itemcode\":\"248260\",\"etfTabCode\":4,\"itemname\":\"TIGER 일본TOPIX헬스케어(합성)\",\"nowVal\":11470,\"risefall\":\"2\",\"changeVal\":105,\"changeRate\":0.92,\"nav\":11586.0,\"threeMonthEarnRate\":3.5535,\"quant\":93,\"amonut\":1,\"marketSum\":115},{\"itemcode\":\"415760\",\"etfTabCode\":4,\"itemname\":\"SOL 차이나육성산업액티브(합성)\",\"nowVal\":8780,\"risefall\":\"2\",\"changeVal\":280,\"changeRate\":3.29,\"nav\":8904.0,\"threeMonthEarnRate\":9.2544,\"quant\":15058,\"amonut\":131,\"marketSum\":114},{\"itemcode\":\"337150\",\"etfTabCode\":2,\"itemname\":\"KODEX 200exTOP\",\"nowVal\":10360,\"risefall\":\"5\",\"changeVal\":-160,\"changeRate\":-1.52,\"nav\":10492.0,\"threeMonthEarnRate\":-14.2205,\"quant\":3,\"amonut\":0,\"marketSum\":114},{\"itemcode\":\"200030\",\"etfTabCode\":4,\"itemname\":\"KODEX 미국S&P산업재(합성)\",\"nowVal\":19820,\"risefall\":\"2\",\"changeVal\":125,\"changeRate\":0.63,\"nav\":19842.0,\"threeMonthEarnRate\":-7.7302,\"quant\":175,\"amonut\":3,\"marketSum\":114},{\"itemcode\":\"251600\",\"etfTabCode\":7,\"itemname\":\"ARIRANG 고배당주채권혼합\",\"nowVal\":10320,\"risefall\":\"5\",\"changeVal\":-70,\"changeRate\":-0.67,\"nav\":10344.0,\"threeMonthEarnRate\":-5.8792,\"quant\":7164,\"amonut\":74,\"marketSum\":114},{\"itemcode\":\"219900\",\"etfTabCode\":4,\"itemname\":\"KINDEX 중국본토CSI300레버리지(합성)\",\"nowVal\":4680,\"risefall\":\"5\",\"changeVal\":-5,\"changeRate\":-0.11,\"nav\":4686.0,\"threeMonthEarnRate\":4.9272,\"quant\":2250,\"amonut\":10,\"marketSum\":112},{\"itemcode\":\"399580\",\"etfTabCode\":4,\"itemname\":\"KBSTAR 글로벌클린에너지S&P\",\"nowVal\":9345,\"risefall\":\"2\",\"changeVal\":80,\"changeRate\":0.86,\"nav\":9298.0,\"threeMonthEarnRate\":-1.0679,\"quant\":5016,\"amonut\":46,\"marketSum\":112},{\"itemcode\":\"429000\",\"etfTabCode\":4,\"itemname\":\"TIGER 미국S&P500배당귀족\",\"nowVal\":9695,\"risefall\":\"2\",\"changeVal\":65,\"changeRate\":0.67,\"nav\":9707.0,\"threeMonthEarnRate\":null,\"quant\":11287,\"amonut\":109,\"marketSum\":111},{\"itemcode\":\"138530\",\"etfTabCode\":2,\"itemname\":\"TIGER LG그룹+펀더멘털\",\"nowVal\":8295,\"risefall\":\"5\",\"changeVal\":-55,\"changeRate\":-0.66,\"nav\":8291.0,\"threeMonthEarnRate\":-14.6305,\"quant\":2267,\"amonut\":18,\"marketSum\":111},{\"itemcode\":\"306950\",\"etfTabCode\":3,\"itemname\":\"KODEX KRX300레버리지\",\"nowVal\":11100,\"risefall\":\"5\",\"changeVal\":-10,\"changeRate\":-0.09,\"nav\":11179.0,\"threeMonthEarnRate\":-26.932,\"quant\":276,\"amonut\":3,\"marketSum\":111},{\"itemcode\":\"413930\",\"etfTabCode\":2,\"itemname\":\"WOORI AI ESG액티브\",\"nowVal\":7905,\"risefall\":\"2\",\"changeVal\":20,\"changeRate\":0.25,\"nav\":7903.0,\"threeMonthEarnRate\":-11.8502,\"quant\":2972,\"amonut\":23,\"marketSum\":111},{\"itemcode\":\"435040\",\"etfTabCode\":4,\"itemname\":\"KINDEX 글로벌브랜드TOP10블룸버그\",\"nowVal\":10005,\"risefall\":\"2\",\"changeVal\":115,\"changeRate\":1.16,\"nav\":10044.0,\"threeMonthEarnRate\":null,\"quant\":4311,\"amonut\":43,\"marketSum\":110},{\"itemcode\":\"289250\",\"etfTabCode\":2,\"itemname\":\"TIGER MSCI KOREA ESG유니버설\",\"nowVal\":9150,\"risefall\":\"5\",\"changeVal\":-20,\"changeRate\":-0.22,\"nav\":9188.0,\"threeMonthEarnRate\":-14.0582,\"quant\":1,\"amonut\":0,\"marketSum\":110},{\"itemcode\":\"272910\",\"etfTabCode\":6,\"itemname\":\"KINDEX 중장기국공채액티브\",\"nowVal\":96025,\"risefall\":\"2\",\"changeVal\":135,\"changeRate\":0.14,\"nav\":96005.0,\"threeMonthEarnRate\":-0.6888,\"quant\":4,\"amonut\":0,\"marketSum\":109},{\"itemcode\":\"390400\",\"etfTabCode\":4,\"itemname\":\"KODEX 미국스마트모빌리티S&P\",\"nowVal\":6765,\"risefall\":\"2\",\"changeVal\":130,\"changeRate\":1.96,\"nav\":6773.0,\"threeMonthEarnRate\":-12.8694,\"quant\":503,\"amonut\":3,\"marketSum\":108},{\"itemcode\":\"421320\",\"etfTabCode\":2,\"itemname\":\"ARIRANG iSelect우주항공&UAM\",\"nowVal\":8635,\"risefall\":\"5\",\"changeVal\":-35,\"changeRate\":-0.4,\"nav\":8644.0,\"threeMonthEarnRate\":-12.4685,\"quant\":17243,\"amonut\":148,\"marketSum\":108},{\"itemcode\":\"244670\",\"etfTabCode\":2,\"itemname\":\"KODEX 밸류Plus\",\"nowVal\":7700,\"risefall\":\"5\",\"changeVal\":-95,\"changeRate\":-1.22,\"nav\":7701.0,\"threeMonthEarnRate\":-16.9508,\"quant\":100,\"amonut\":0,\"marketSum\":108},{\"itemcode\":\"433220\",\"etfTabCode\":4,\"itemname\":\"에셋플러스 글로벌대장장이액티브\",\"nowVal\":9785,\"risefall\":\"2\",\"changeVal\":210,\"changeRate\":2.19,\"nav\":9806.0,\"threeMonthEarnRate\":null,\"quant\":47309,\"amonut\":462,\"marketSum\":108},{\"itemcode\":\"104530\",\"etfTabCode\":2,\"itemname\":\"KOSEF 고배당\",\"nowVal\":7695,\"risefall\":\"5\",\"changeVal\":-110,\"changeRate\":-1.41,\"nav\":7696.0,\"threeMonthEarnRate\":-20.2433,\"quant\":11971,\"amonut\":91,\"marketSum\":104},{\"itemcode\":\"407820\",\"etfTabCode\":2,\"itemname\":\"에셋플러스 코리아플랫폼액티브\",\"nowVal\":6490,\"risefall\":\"5\",\"changeVal\":-60,\"changeRate\":-0.92,\"nav\":6494.0,\"threeMonthEarnRate\":-28.5325,\"quant\":7198,\"amonut\":46,\"marketSum\":104},{\"itemcode\":\"140950\",\"etfTabCode\":1,\"itemname\":\"파워 코스피100\",\"nowVal\":23460,\"risefall\":\"2\",\"changeVal\":85,\"changeRate\":0.36,\"nav\":23572.0,\"threeMonthEarnRate\":-13.4164,\"quant\":49,\"amonut\":1,\"marketSum\":103},{\"itemcode\":\"418670\",\"etfTabCode\":4,\"itemname\":\"TIGER 글로벌사이버보안INDXX\",\"nowVal\":9925,\"risefall\":\"2\",\"changeVal\":80,\"changeRate\":0.81,\"nav\":9979.0,\"threeMonthEarnRate\":-16.8848,\"quant\":2898,\"amonut\":28,\"marketSum\":103},{\"itemcode\":\"285000\",\"etfTabCode\":2,\"itemname\":\"KBSTAR 200IT\",\"nowVal\":12460,\"risefall\":\"2\",\"changeVal\":305,\"changeRate\":2.51,\"nav\":12458.0,\"threeMonthEarnRate\":-17.386,\"quant\":22,\"amonut\":0,\"marketSum\":102},{\"itemcode\":\"435420\",\"etfTabCode\":7,\"itemname\":\"TIGER 미국나스닥100TR채권혼합Fn\",\"nowVal\":10210,\"risefall\":\"2\",\"changeVal\":60,\"changeRate\":0.59,\"nav\":10210.0,\"threeMonthEarnRate\":null,\"quant\":123632,\"amonut\":1256,\"marketSum\":102},{\"itemcode\":\"368680\",\"etfTabCode\":2,\"itemname\":\"KODEX Fn K-뉴딜디지털플러스\",\"nowVal\":8485,\"risefall\":\"5\",\"changeVal\":-75,\"changeRate\":-0.88,\"nav\":8481.0,\"threeMonthEarnRate\":-10.1596,\"quant\":17228,\"amonut\":145,\"marketSum\":102},{\"itemcode\":\"430500\",\"etfTabCode\":7,\"itemname\":\"KOSEF 물가채KIS\",\"nowVal\":101135,\"risefall\":\"2\",\"changeVal\":65,\"changeRate\":0.06,\"nav\":101230.0,\"threeMonthEarnRate\":null,\"quant\":286,\"amonut\":28,\"marketSum\":101},{\"itemcode\":\"091220\",\"etfTabCode\":2,\"itemname\":\"TIGER 은행\",\"nowVal\":5990,\"risefall\":\"5\",\"changeVal\":-165,\"changeRate\":-2.68,\"nav\":5996.0,\"threeMonthEarnRate\":-23.3309,\"quant\":57447,\"amonut\":343,\"marketSum\":101},{\"itemcode\":\"292500\",\"etfTabCode\":1,\"itemname\":\"SOL KRX300\",\"nowVal\":14375,\"risefall\":\"2\",\"changeVal\":125,\"changeRate\":0.88,\"nav\":14406.0,\"threeMonthEarnRate\":-14.6094,\"quant\":34,\"amonut\":0,\"marketSum\":101},{\"itemcode\":\"279540\",\"etfTabCode\":2,\"itemname\":\"KODEX 최소변동성\",\"nowVal\":10015,\"risefall\":\"3\",\"changeVal\":0,\"changeRate\":0.0,\"nav\":10023.0,\"threeMonthEarnRate\":-14.3871,\"quant\":0,\"amonut\":0,\"marketSum\":100},{\"itemcode\":\"195920\",\"etfTabCode\":4,\"itemname\":\"TIGER 일본TOPIX(합성 H)\",\"nowVal\":15635,\"risefall\":\"5\",\"changeVal\":-135,\"changeRate\":-0.86,\"nav\":15691.0,\"threeMonthEarnRate\":-0.1899,\"quant\":695,\"amonut\":10,\"marketSum\":100},{\"itemcode\":\"433500\",\"etfTabCode\":2,\"itemname\":\"KINDEX 원자력테마딥서치\",\"nowVal\":11095,\"risefall\":\"5\",\"changeVal\":-130,\"changeRate\":-1.16,\"nav\":11091.0,\"threeMonthEarnRate\":null,\"quant\":53599,\"amonut\":593,\"marketSum\":100},{\"itemcode\":\"354240\",\"etfTabCode\":7,\"itemname\":\"KBSTAR 미국고정배당우선증권ICE TR\",\"nowVal\":10495,\"risefall\":\"2\",\"changeVal\":225,\"changeRate\":2.19,\"nav\":10439.0,\"threeMonthEarnRate\":3.3199,\"quant\":3649,\"amonut\":38,\"marketSum\":100},{\"itemcode\":\"250730\",\"etfTabCode\":4,\"itemname\":\"KBSTAR 차이나HSCEI(H)\",\"nowVal\":8280,\"risefall\":\"5\",\"changeVal\":-145,\"changeRate\":-1.72,\"nav\":8273.0,\"threeMonthEarnRate\":-0.8824,\"quant\":29539,\"amonut\":248,\"marketSum\":99},{\"itemcode\":\"138910\",\"etfTabCode\":5,\"itemname\":\"KODEX 구리선물(H)\",\"nowVal\":5740,\"risefall\":\"5\",\"changeVal\":-170,\"changeRate\":-2.88,\"nav\":5659.0,\"threeMonthEarnRate\":-32.03,\"quant\":38188,\"amonut\":220,\"marketSum\":98},{\"itemcode\":\"310080\",\"etfTabCode\":4,\"itemname\":\"KBSTAR 중국MSCI China(H)\",\"nowVal\":9280,\"risefall\":\"2\",\"changeVal\":55,\"changeRate\":0.6,\"nav\":9076.0,\"threeMonthEarnRate\":-1.4424,\"quant\":1151,\"amonut\":10,\"marketSum\":97},{\"itemcode\":\"229720\",\"etfTabCode\":1,\"itemname\":\"KODEX KTOP30\",\"nowVal\":16180,\"risefall\":\"2\",\"changeVal\":145,\"changeRate\":0.9,\"nav\":16167.0,\"threeMonthEarnRate\":-13.2353,\"quant\":24,\"amonut\":0,\"marketSum\":97},{\"itemcode\":\"423170\",\"etfTabCode\":4,\"itemname\":\"SOL 한국형글로벌반도체액티브\",\"nowVal\":8790,\"risefall\":\"2\",\"changeVal\":290,\"changeRate\":3.41,\"nav\":8876.0,\"threeMonthEarnRate\":-14.2281,\"quant\":9489,\"amonut\":82,\"marketSum\":97},{\"itemcode\":\"104520\",\"etfTabCode\":2,\"itemname\":\"KOSEF 블루칩\",\"nowVal\":8045,\"risefall\":\"5\",\"changeVal\":-50,\"changeRate\":-0.62,\"nav\":8040.0,\"threeMonthEarnRate\":-11.278,\"quant\":87,\"amonut\":0,\"marketSum\":97},{\"itemcode\":\"185680\",\"etfTabCode\":4,\"itemname\":\"KODEX 미국S&P바이오(합성)\",\"nowVal\":23620,\"risefall\":\"5\",\"changeVal\":-230,\"changeRate\":-0.96,\"nav\":23493.0,\"threeMonthEarnRate\":-1.7711,\"quant\":2077,\"amonut\":48,\"marketSum\":96},{\"itemcode\":\"139660\",\"etfTabCode\":7,\"itemname\":\"KOSEF 미국달러선물인버스\",\"nowVal\":8990,\"risefall\":\"5\",\"changeVal\":-100,\"changeRate\":-1.1,\"nav\":8967.0,\"threeMonthEarnRate\":-6.8648,\"quant\":6328,\"amonut\":56,\"marketSum\":94},{\"itemcode\":\"292050\",\"etfTabCode\":1,\"itemname\":\"KBSTAR KRX300\",\"nowVal\":14500,\"risefall\":\"2\",\"changeVal\":15,\"changeRate\":0.1,\"nav\":14567.0,\"threeMonthEarnRate\":-13.5173,\"quant\":12,\"amonut\":0,\"marketSum\":94},{\"itemcode\":\"429010\",\"etfTabCode\":4,\"itemname\":\"TIGER 미국나스닥넥스트100\",\"nowVal\":9880,\"risefall\":\"2\",\"changeVal\":145,\"changeRate\":1.49,\"nav\":9935.0,\"threeMonthEarnRate\":null,\"quant\":920,\"amonut\":9,\"marketSum\":94},{\"itemcode\":\"272570\",\"etfTabCode\":6,\"itemname\":\"KBSTAR 중장기국공채액티브\",\"nowVal\":99255,\"risefall\":\"2\",\"changeVal\":285,\"changeRate\":0.29,\"nav\":99285.0,\"threeMonthEarnRate\":-0.1917,\"quant\":30,\"amonut\":2,\"marketSum\":93},{\"itemcode\":\"138920\",\"etfTabCode\":5,\"itemname\":\"KODEX 콩선물(H)\",\"nowVal\":13075,\"risefall\":\"5\",\"changeVal\":-215,\"changeRate\":-1.62,\"nav\":13059.0,\"threeMonthEarnRate\":-9.7454,\"quant\":6552,\"amonut\":85,\"marketSum\":92},{\"itemcode\":\"139240\",\"etfTabCode\":2,\"itemname\":\"TIGER 200 철강소재\",\"nowVal\":7140,\"risefall\":\"5\",\"changeVal\":-50,\"changeRate\":-0.7,\"nav\":7138.0,\"threeMonthEarnRate\":-25.4382,\"quant\":14888,\"amonut\":106,\"marketSum\":91},{\"itemcode\":\"253150\",\"etfTabCode\":3,\"itemname\":\"ARIRANG 200선물레버리지\",\"nowVal\":26055,\"risefall\":\"2\",\"changeVal\":325,\"changeRate\":1.26,\"nav\":26010.0,\"threeMonthEarnRate\":-27.0485,\"quant\":32426,\"amonut\":823,\"marketSum\":91},{\"itemcode\":\"429980\",\"etfTabCode\":7,\"itemname\":\"SOL 한국형글로벌전기차&2차전지액티브\",\"nowVal\":10120,\"risefall\":\"2\",\"changeVal\":160,\"changeRate\":1.61,\"nav\":10176.0,\"threeMonthEarnRate\":null,\"quant\":12284,\"amonut\":123,\"marketSum\":91},{\"itemcode\":\"375760\",\"etfTabCode\":2,\"itemname\":\"HANARO 탄소효율그린뉴딜\",\"nowVal\":7555,\"risefall\":\"2\",\"changeVal\":55,\"changeRate\":0.73,\"nav\":7561.0,\"threeMonthEarnRate\":-13.7138,\"quant\":198,\"amonut\":1,\"marketSum\":91},{\"itemcode\":\"225060\",\"etfTabCode\":4,\"itemname\":\"TIGER 이머징마켓MSCI레버리지(합성 H)\",\"nowVal\":7310,\"risefall\":\"5\",\"changeVal\":-250,\"changeRate\":-3.31,\"nav\":7300.0,\"threeMonthEarnRate\":-26.1359,\"quant\":356,\"amonut\":2,\"marketSum\":91},{\"itemcode\":\"101280\",\"etfTabCode\":4,\"itemname\":\"KODEX 일본TOPIX100\",\"nowVal\":15075,\"risefall\":\"2\",\"changeVal\":25,\"changeRate\":0.17,\"nav\":15217.0,\"threeMonthEarnRate\":-4.0179,\"quant\":200,\"amonut\":3,\"marketSum\":90},{\"itemcode\":\"261070\",\"etfTabCode\":2,\"itemname\":\"TIGER 코스닥150바이오테크\",\"nowVal\":8220,\"risefall\":\"5\",\"changeVal\":-40,\"changeRate\":-0.48,\"nav\":8368.0,\"threeMonthEarnRate\":-0.7808,\"quant\":13610,\"amonut\":111,\"marketSum\":90},{\"itemcode\":\"433250\",\"etfTabCode\":1,\"itemname\":\"UNICORN R&D 액티브\",\"nowVal\":10030,\"risefall\":\"2\",\"changeVal\":35,\"changeRate\":0.35,\"nav\":10075.0,\"threeMonthEarnRate\":null,\"quant\":3657,\"amonut\":36,\"marketSum\":90},{\"itemcode\":\"176950\",\"etfTabCode\":6,\"itemname\":\"KODEX 국채선물10년인버스\",\"nowVal\":51355,\"risefall\":\"5\",\"changeVal\":-190,\"changeRate\":-0.37,\"nav\":51242.0,\"threeMonthEarnRate\":0.1846,\"quant\":377,\"amonut\":19,\"marketSum\":89},{\"itemcode\":\"225050\",\"etfTabCode\":4,\"itemname\":\"TIGER 유로스탁스레버리지(합성 H)\",\"nowVal\":6355,\"risefall\":\"5\",\"changeVal\":-100,\"changeRate\":-1.55,\"nav\":6293.0,\"threeMonthEarnRate\":-22.3226,\"quant\":1768,\"amonut\":11,\"marketSum\":89},{\"itemcode\":\"261110\",\"etfTabCode\":7,\"itemname\":\"TIGER 미국달러선물레버리지\",\"nowVal\":12635,\"risefall\":\"2\",\"changeVal\":290,\"changeRate\":2.35,\"nav\":12682.0,\"threeMonthEarnRate\":14.7838,\"quant\":17402,\"amonut\":218,\"marketSum\":88},{\"itemcode\":\"316300\",\"etfTabCode\":7,\"itemname\":\"KINDEX 싱가포르리츠\",\"nowVal\":12630,\"risefall\":\"5\",\"changeVal\":-20,\"changeRate\":-0.16,\"nav\":12705.0,\"threeMonthEarnRate\":-1.3261,\"quant\":1162,\"amonut\":14,\"marketSum\":88},{\"itemcode\":\"403790\",\"etfTabCode\":1,\"itemname\":\"마이다스 KoreaStock액티브\",\"nowVal\":16835,\"risefall\":\"5\",\"changeVal\":-25,\"changeRate\":-0.15,\"nav\":16914.0,\"threeMonthEarnRate\":-13.383,\"quant\":59,\"amonut\":0,\"marketSum\":88},{\"itemcode\":\"253230\",\"etfTabCode\":3,\"itemname\":\"KOSEF 200선물인버스2X\",\"nowVal\":3290,\"risefall\":\"5\",\"changeVal\":-45,\"changeRate\":-1.35,\"nav\":3305.0,\"threeMonthEarnRate\":32.0792,\"quant\":77502,\"amonut\":259,\"marketSum\":88},{\"itemcode\":\"280320\",\"etfTabCode\":4,\"itemname\":\"KINDEX 미국IT인터넷S&P(합성 H)\",\"nowVal\":10990,\"risefall\":\"5\",\"changeVal\":-25,\"changeRate\":-0.23,\"nav\":10744.0,\"threeMonthEarnRate\":-29.4137,\"quant\":4508,\"amonut\":49,\"marketSum\":88},{\"itemcode\":\"352540\",\"etfTabCode\":7,\"itemname\":\"KODEX TSE일본리츠(H)\",\"nowVal\":12540,\"risefall\":\"2\",\"changeVal\":35,\"changeRate\":0.28,\"nav\":12544.0,\"threeMonthEarnRate\":-1.3023,\"quant\":142,\"amonut\":1,\"marketSum\":88},{\"itemcode\":\"100910\",\"etfTabCode\":1,\"itemname\":\"KOSEF KRX100\",\"nowVal\":4845,\"risefall\":\"2\",\"changeVal\":20,\"changeRate\":0.41,\"nav\":4855.0,\"threeMonthEarnRate\":-13.6389,\"quant\":154,\"amonut\":0,\"marketSum\":87},{\"itemcode\":\"436180\",\"etfTabCode\":2,\"itemname\":\"ARIRANG K-유니콘투자기업액티브\",\"nowVal\":9690,\"risefall\":\"5\",\"changeVal\":-140,\"changeRate\":-1.42,\"nav\":9666.0,\"threeMonthEarnRate\":null,\"quant\":552,\"amonut\":5,\"marketSum\":87},{\"itemcode\":\"143460\",\"etfTabCode\":2,\"itemname\":\"KINDEX 밸류대형\",\"nowVal\":7915,\"risefall\":\"2\",\"changeVal\":45,\"changeRate\":0.57,\"nav\":7915.0,\"threeMonthEarnRate\":-13.469,\"quant\":33,\"amonut\":0,\"marketSum\":87},{\"itemcode\":\"295000\",\"etfTabCode\":6,\"itemname\":\"KBSTAR 국채선물10년\",\"nowVal\":51170,\"risefall\":\"2\",\"changeVal\":190,\"changeRate\":0.37,\"nav\":51277.0,\"threeMonthEarnRate\":0.2753,\"quant\":139,\"amonut\":7,\"marketSum\":87},{\"itemcode\":\"270800\",\"etfTabCode\":2,\"itemname\":\"KBSTAR KQ고배당\",\"nowVal\":12370,\"risefall\":\"5\",\"changeVal\":-90,\"changeRate\":-0.72,\"nav\":12402.0,\"threeMonthEarnRate\":-19.1435,\"quant\":513,\"amonut\":6,\"marketSum\":87},{\"itemcode\":\"429990\",\"etfTabCode\":7,\"itemname\":\"SOL 한국형글로벌플랫폼&메타버스액티브\",\"nowVal\":9565,\"risefall\":\"5\",\"changeVal\":-40,\"changeRate\":-0.42,\"nav\":9636.0,\"threeMonthEarnRate\":null,\"quant\":345,\"amonut\":3,\"marketSum\":86},{\"itemcode\":\"364690\",\"etfTabCode\":1,\"itemname\":\"KODEX 혁신기술테마액티브\",\"nowVal\":10715,\"risefall\":\"2\",\"changeVal\":25,\"changeRate\":0.23,\"nav\":10716.0,\"threeMonthEarnRate\":-11.3379,\"quant\":473,\"amonut\":5,\"marketSum\":86},{\"itemcode\":\"292750\",\"etfTabCode\":1,\"itemname\":\"ARIRANG KRX300\",\"nowVal\":14255,\"risefall\":\"2\",\"changeVal\":115,\"changeRate\":0.81,\"nav\":14250.0,\"threeMonthEarnRate\":-14.2251,\"quant\":28,\"amonut\":0,\"marketSum\":86},{\"itemcode\":\"261140\",\"etfTabCode\":2,\"itemname\":\"TIGER 우선주\",\"nowVal\":10415,\"risefall\":\"2\",\"changeVal\":30,\"changeRate\":0.29,\"nav\":10451.0,\"threeMonthEarnRate\":-12.5548,\"quant\":1296,\"amonut\":13,\"marketSum\":85},{\"itemcode\":\"269370\",\"etfTabCode\":4,\"itemname\":\"TIGER S&P글로벌인프라(합성)\",\"nowVal\":12095,\"risefall\":\"2\",\"changeVal\":50,\"changeRate\":0.42,\"nav\":12146.0,\"threeMonthEarnRate\":-3.6786,\"quant\":169,\"amonut\":2,\"marketSum\":85},{\"itemcode\":\"395270\",\"etfTabCode\":2,\"itemname\":\"HANARO Fn K-반도체\",\"nowVal\":8060,\"risefall\":\"2\",\"changeVal\":245,\"changeRate\":3.13,\"nav\":8069.0,\"threeMonthEarnRate\":-17.1526,\"quant\":3002,\"amonut\":23,\"marketSum\":85},{\"itemcode\":\"291130\",\"etfTabCode\":4,\"itemname\":\"KINDEX 멕시코MSCI(합성)\",\"nowVal\":10505,\"risefall\":\"5\",\"changeVal\":-85,\"changeRate\":-0.8,\"nav\":10590.0,\"threeMonthEarnRate\":-9.371,\"quant\":241,\"amonut\":2,\"marketSum\":84},{\"itemcode\":\"395150\",\"etfTabCode\":2,\"itemname\":\"KODEX Fn웹툰&드라마\",\"nowVal\":6000,\"risefall\":\"5\",\"changeVal\":-100,\"changeRate\":-1.64,\"nav\":6015.0,\"threeMonthEarnRate\":-26.4085,\"quant\":1823,\"amonut\":10,\"marketSum\":84},{\"itemcode\":\"145850\",\"etfTabCode\":2,\"itemname\":\"TREX 펀더멘탈 200\",\"nowVal\":33295,\"risefall\":\"2\",\"changeVal\":230,\"changeRate\":0.7,\"nav\":33246.0,\"threeMonthEarnRate\":-13.6346,\"quant\":1,\"amonut\":0,\"marketSum\":83},{\"itemcode\":\"373530\",\"etfTabCode\":4,\"itemname\":\"ARIRANG 신흥국MSCI인버스(합성 H)\",\"nowVal\":11545,\"risefall\":\"2\",\"changeVal\":165,\"changeRate\":1.45,\"nav\":11510.0,\"threeMonthEarnRate\":13.3466,\"quant\":3608,\"amonut\":41,\"marketSum\":83},{\"itemcode\":\"416090\",\"etfTabCode\":4,\"itemname\":\"KINDEX 중국과창판STAR50\",\"nowVal\":8280,\"risefall\":\"5\",\"changeVal\":-60,\"changeRate\":-0.72,\"nav\":8604.0,\"threeMonthEarnRate\":8.6644,\"quant\":1200,\"amonut\":9,\"marketSum\":83},{\"itemcode\":\"415920\",\"etfTabCode\":5,\"itemname\":\"ARIRANG 글로벌희토류전략자원기업MV\",\"nowVal\":7780,\"risefall\":\"5\",\"changeVal\":-5,\"changeRate\":-0.06,\"nav\":7763.0,\"threeMonthEarnRate\":-22.1111,\"quant\":9977,\"amonut\":77,\"marketSum\":82},{\"itemcode\":\"434730\",\"etfTabCode\":2,\"itemname\":\"HANARO 원자력iSelect\",\"nowVal\":10185,\"risefall\":\"5\",\"changeVal\":-165,\"changeRate\":-1.59,\"nav\":10206.0,\"threeMonthEarnRate\":null,\"quant\":25707,\"amonut\":261,\"marketSum\":81},{\"itemcode\":\"244620\",\"etfTabCode\":2,\"itemname\":\"KODEX 모멘텀Plus\",\"nowVal\":9985,\"risefall\":\"5\",\"changeVal\":-30,\"changeRate\":-0.3,\"nav\":10023.0,\"threeMonthEarnRate\":-20.8176,\"quant\":925,\"amonut\":9,\"marketSum\":80},{\"itemcode\":\"391590\",\"etfTabCode\":4,\"itemname\":\"KINDEX 미국스팩&IPO INDXX\",\"nowVal\":6635,\"risefall\":\"2\",\"changeVal\":160,\"changeRate\":2.47,\"nav\":6584.0,\"threeMonthEarnRate\":-17.9341,\"quant\":118,\"amonut\":0,\"marketSum\":80},{\"itemcode\":\"410870\",\"etfTabCode\":2,\"itemname\":\"TIMEFOLIO K컬처액티브\",\"nowVal\":6635,\"risefall\":\"5\",\"changeVal\":-75,\"changeRate\":-1.12,\"nav\":6633.0,\"threeMonthEarnRate\":-20.2615,\"quant\":58,\"amonut\":0,\"marketSum\":80},{\"itemcode\":\"417450\",\"etfTabCode\":2,\"itemname\":\"KBSTAR 글로벌수소경제Indxx\",\"nowVal\":9350,\"risefall\":\"5\",\"changeVal\":-55,\"changeRate\":-0.58,\"nav\":9156.0,\"threeMonthEarnRate\":-19.5122,\"quant\":507,\"amonut\":4,\"marketSum\":79},{\"itemcode\":\"108590\",\"etfTabCode\":1,\"itemname\":\"TREX 200\",\"nowVal\":31765,\"risefall\":\"2\",\"changeVal\":195,\"changeRate\":0.62,\"nav\":31804.0,\"threeMonthEarnRate\":-13.8985,\"quant\":78,\"amonut\":2,\"marketSum\":79},{\"itemcode\":\"367740\",\"etfTabCode\":2,\"itemname\":\"HANARO Fn5G산업\",\"nowVal\":11305,\"risefall\":\"2\",\"changeVal\":65,\"changeRate\":0.58,\"nav\":11313.0,\"threeMonthEarnRate\":-15.2274,\"quant\":92,\"amonut\":1,\"marketSum\":79},{\"itemcode\":\"252650\",\"etfTabCode\":1,\"itemname\":\"KODEX 200동일가중\",\"nowVal\":9850,\"risefall\":\"5\",\"changeVal\":-100,\"changeRate\":-1.01,\"nav\":9837.0,\"threeMonthEarnRate\":-15.3912,\"quant\":90,\"amonut\":0,\"marketSum\":79},{\"itemcode\":\"432850\",\"etfTabCode\":4,\"itemname\":\"HANARO 글로벌백신치료제MSCI\",\"nowVal\":10480,\"risefall\":\"5\",\"changeVal\":-40,\"changeRate\":-0.38,\"nav\":10553.0,\"threeMonthEarnRate\":null,\"quant\":374,\"amonut\":3,\"marketSum\":79},{\"itemcode\":\"307010\",\"etfTabCode\":3,\"itemname\":\"KBSTAR KRX300레버리지\",\"nowVal\":11160,\"risefall\":\"2\",\"changeVal\":85,\"changeRate\":0.77,\"nav\":11194.0,\"threeMonthEarnRate\":-26.8253,\"quant\":544,\"amonut\":5,\"marketSum\":78},{\"itemcode\":\"402460\",\"etfTabCode\":2,\"itemname\":\"HANARO Fn K-메타버스MZ\",\"nowVal\":7435,\"risefall\":\"5\",\"changeVal\":-15,\"changeRate\":-0.2,\"nav\":7431.0,\"threeMonthEarnRate\":-27.9428,\"quant\":1163,\"amonut\":8,\"marketSum\":78},{\"itemcode\":\"167860\",\"etfTabCode\":6,\"itemname\":\"KOSEF 국고채10년레버리지\",\"nowVal\":109145,\"risefall\":\"2\",\"changeVal\":980,\"changeRate\":0.91,\"nav\":109124.0,\"threeMonthEarnRate\":-0.5105,\"quant\":1050,\"amonut\":114,\"marketSum\":76},{\"itemcode\":\"432840\",\"etfTabCode\":4,\"itemname\":\"HANARO 미국S&P500\",\"nowVal\":9550,\"risefall\":\"2\",\"changeVal\":150,\"changeRate\":1.6,\"nav\":9572.0,\"threeMonthEarnRate\":null,\"quant\":42,\"amonut\":0,\"marketSum\":76},{\"itemcode\":\"256450\",\"etfTabCode\":4,\"itemname\":\"ARIRANG 심천차이넥스트(합성)\",\"nowVal\":12725,\"risefall\":\"5\",\"changeVal\":-55,\"changeRate\":-0.43,\"nav\":12910.0,\"threeMonthEarnRate\":12.1544,\"quant\":611,\"amonut\":7,\"marketSum\":76},{\"itemcode\":\"433850\",\"etfTabCode\":7,\"itemname\":\"ARIRANG TDF2030액티브\",\"nowVal\":10175,\"risefall\":\"2\",\"changeVal\":55,\"changeRate\":0.54,\"nav\":10202.0,\"threeMonthEarnRate\":null,\"quant\":348,\"amonut\":3,\"marketSum\":76},{\"itemcode\":\"433860\",\"etfTabCode\":7,\"itemname\":\"ARIRANG TDF2040액티브\",\"nowVal\":10145,\"risefall\":\"2\",\"changeVal\":60,\"changeRate\":0.59,\"nav\":10166.0,\"threeMonthEarnRate\":null,\"quant\":9,\"amonut\":0,\"marketSum\":76},{\"itemcode\":\"205720\",\"etfTabCode\":4,\"itemname\":\"KINDEX 일본TOPIX인버스(합성 H)\",\"nowVal\":4200,\"risefall\":\"2\",\"changeVal\":25,\"changeRate\":0.6,\"nav\":4218.0,\"threeMonthEarnRate\":-0.7135,\"quant\":5055,\"amonut\":21,\"marketSum\":76},{\"itemcode\":\"433980\",\"etfTabCode\":7,\"itemname\":\"KODEX TDF2040액티브\",\"nowVal\":10070,\"risefall\":\"5\",\"changeVal\":-5,\"changeRate\":-0.05,\"nav\":10159.0,\"threeMonthEarnRate\":null,\"quant\":208396,\"amonut\":2102,\"marketSum\":76},{\"itemcode\":\"434060\",\"etfTabCode\":7,\"itemname\":\"KODEX TDF2050액티브\",\"nowVal\":10055,\"risefall\":\"2\",\"changeVal\":20,\"changeRate\":0.2,\"nav\":10133.0,\"threeMonthEarnRate\":null,\"quant\":13041,\"amonut\":130,\"marketSum\":75},{\"itemcode\":\"435540\",\"etfTabCode\":7,\"itemname\":\"히어로즈 TDF2040액티브\",\"nowVal\":10030,\"risefall\":\"2\",\"changeVal\":70,\"changeRate\":0.7,\"nav\":10026.0,\"threeMonthEarnRate\":null,\"quant\":52,\"amonut\":0,\"marketSum\":75},{\"itemcode\":\"433870\",\"etfTabCode\":7,\"itemname\":\"ARIRANG TDF2050액티브\",\"nowVal\":10020,\"risefall\":\"2\",\"changeVal\":5,\"changeRate\":0.05,\"nav\":10066.0,\"threeMonthEarnRate\":null,\"quant\":672,\"amonut\":6,\"marketSum\":75},{\"itemcode\":\"435550\",\"etfTabCode\":7,\"itemname\":\"히어로즈 TDF2050액티브\",\"nowVal\":10005,\"risefall\":\"2\",\"changeVal\":80,\"changeRate\":0.81,\"nav\":10012.0,\"threeMonthEarnRate\":null,\"quant\":459,\"amonut\":4,\"marketSum\":75},{\"itemcode\":\"435530\",\"etfTabCode\":7,\"itemname\":\"히어로즈 TDF2030액티브\",\"nowVal\":9980,\"risefall\":\"2\",\"changeVal\":80,\"changeRate\":0.81,\"nav\":10035.0,\"threeMonthEarnRate\":null,\"quant\":1,\"amonut\":0,\"marketSum\":75},{\"itemcode\":\"433880\",\"etfTabCode\":7,\"itemname\":\"ARIRANG TDF2060액티브\",\"nowVal\":9965,\"risefall\":\"2\",\"changeVal\":60,\"changeRate\":0.61,\"nav\":10006.0,\"threeMonthEarnRate\":null,\"quant\":154,\"amonut\":1,\"marketSum\":75},{\"itemcode\":\"407160\",\"etfTabCode\":2,\"itemname\":\"MASTER 테크미디어텔레콤액티브\",\"nowVal\":7830,\"risefall\":\"2\",\"changeVal\":30,\"changeRate\":0.38,\"nav\":7841.0,\"threeMonthEarnRate\":-17.4604,\"quant\":597,\"amonut\":4,\"marketSum\":74},{\"itemcode\":\"375270\",\"etfTabCode\":7,\"itemname\":\"KBSTAR 글로벌데이터센터리츠나스닥(합성)\",\"nowVal\":11435,\"risefall\":\"2\",\"changeVal\":45,\"changeRate\":0.4,\"nav\":11456.0,\"threeMonthEarnRate\":-8.2931,\"quant\":582,\"amonut\":6,\"marketSum\":74},{\"itemcode\":\"152500\",\"etfTabCode\":3,\"itemname\":\"KINDEX 레버리지\",\"nowVal\":5675,\"risefall\":\"2\",\"changeVal\":50,\"changeRate\":0.89,\"nav\":5689.0,\"threeMonthEarnRate\":-27.0901,\"quant\":23908,\"amonut\":133,\"marketSum\":74},{\"itemcode\":\"333970\",\"etfTabCode\":2,\"itemname\":\"ARIRANG KS밸류가중TR\",\"nowVal\":13360,\"risefall\":\"2\",\"changeVal\":45,\"changeRate\":0.34,\"nav\":13355.0,\"threeMonthEarnRate\":-15.4335,\"quant\":21,\"amonut\":0,\"marketSum\":73},{\"itemcode\":\"137930\",\"etfTabCode\":3,\"itemname\":\"마이다스 200커버드콜5%OTM\",\"nowVal\":12155,\"risefall\":\"2\",\"changeVal\":45,\"changeRate\":0.37,\"nav\":12203.0,\"threeMonthEarnRate\":-12.1191,\"quant\":4,\"amonut\":0,\"marketSum\":73},{\"itemcode\":\"237440\",\"etfTabCode\":7,\"itemname\":\"TIGER 경기방어채권혼합\",\"nowVal\":9110,\"risefall\":\"3\",\"changeVal\":0,\"changeRate\":0.0,\"nav\":9100.0,\"threeMonthEarnRate\":-0.9675,\"quant\":903,\"amonut\":8,\"marketSum\":73},{\"itemcode\":\"131890\",\"etfTabCode\":2,\"itemname\":\"KINDEX 삼성그룹동일가중\",\"nowVal\":14565,\"risefall\":\"3\",\"changeVal\":0,\"changeRate\":0.0,\"nav\":14558.0,\"threeMonthEarnRate\":-11.5719,\"quant\":171,\"amonut\":2,\"marketSum\":73},{\"itemcode\":\"156080\",\"etfTabCode\":1,\"itemname\":\"KODEX MSCI Korea\",\"nowVal\":14540,\"risefall\":\"2\",\"changeVal\":75,\"changeRate\":0.52,\"nav\":14614.0,\"threeMonthEarnRate\":-13.0866,\"quant\":33,\"amonut\":0,\"marketSum\":73},{\"itemcode\":\"189400\",\"etfTabCode\":4,\"itemname\":\"ARIRANG 글로벌MSCI(합성 H)\",\"nowVal\":14125,\"risefall\":\"2\",\"changeVal\":15,\"changeRate\":0.11,\"nav\":14056.0,\"threeMonthEarnRate\":-16.4595,\"quant\":557,\"amonut\":7,\"marketSum\":72},{\"itemcode\":\"424460\",\"etfTabCode\":4,\"itemname\":\"HANARO 글로벌워터MSCI(합성)\",\"nowVal\":9000,\"risefall\":\"2\",\"changeVal\":40,\"changeRate\":0.45,\"nav\":9075.0,\"threeMonthEarnRate\":null,\"quant\":260,\"amonut\":2,\"marketSum\":72},{\"itemcode\":\"183710\",\"etfTabCode\":7,\"itemname\":\"KBSTAR 주식혼합\",\"nowVal\":35685,\"risefall\":\"2\",\"changeVal\":235,\"changeRate\":0.66,\"nav\":35701.0,\"threeMonthEarnRate\":-10.4165,\"quant\":6,\"amonut\":0,\"marketSum\":71},{\"itemcode\":\"275290\",\"etfTabCode\":2,\"itemname\":\"KODEX MSCI밸류\",\"nowVal\":10185,\"risefall\":\"3\",\"changeVal\":0,\"changeRate\":0.0,\"nav\":10268.0,\"threeMonthEarnRate\":-14.8625,\"quant\":0,\"amonut\":0,\"marketSum\":71},{\"itemcode\":\"371150\",\"etfTabCode\":4,\"itemname\":\"KBSTAR 차이나항셍테크\",\"nowVal\":6420,\"risefall\":\"5\",\"changeVal\":-90,\"changeRate\":-1.38,\"nav\":6424.0,\"threeMonthEarnRate\":12.5324,\"quant\":4179,\"amonut\":27,\"marketSum\":71},{\"itemcode\":\"139320\",\"etfTabCode\":5,\"itemname\":\"TIGER 금은선물(H)\",\"nowVal\":8825,\"risefall\":\"5\",\"changeVal\":-95,\"changeRate\":-1.07,\"nav\":8771.0,\"threeMonthEarnRate\":-13.6914,\"quant\":846,\"amonut\":7,\"marketSum\":71},{\"itemcode\":\"272230\",\"etfTabCode\":2,\"itemname\":\"KINDEX 스마트밸류\",\"nowVal\":11640,\"risefall\":\"2\",\"changeVal\":40,\"changeRate\":0.34,\"nav\":11641.0,\"threeMonthEarnRate\":-15.3594,\"quant\":20,\"amonut\":0,\"marketSum\":70},{\"itemcode\":\"277640\",\"etfTabCode\":2,\"itemname\":\"TIGER 코스피대형주\",\"nowVal\":11575,\"risefall\":\"2\",\"changeVal\":15,\"changeRate\":0.13,\"nav\":11594.0,\"threeMonthEarnRate\":-12.9453,\"quant\":93,\"amonut\":1,\"marketSum\":69},{\"itemcode\":\"426330\",\"etfTabCode\":4,\"itemname\":\"KOSEF 미국ETF산업STOXX\",\"nowVal\":9250,\"risefall\":\"2\",\"changeVal\":150,\"changeRate\":1.65,\"nav\":9335.0,\"threeMonthEarnRate\":null,\"quant\":325,\"amonut\":3,\"marketSum\":69},{\"itemcode\":\"228820\",\"etfTabCode\":1,\"itemname\":\"TIGER KTOP30\",\"nowVal\":8100,\"risefall\":\"2\",\"changeVal\":10,\"changeRate\":0.12,\"nav\":8124.0,\"threeMonthEarnRate\":-13.2905,\"quant\":2021,\"amonut\":16,\"marketSum\":69},{\"itemcode\":\"319870\",\"etfTabCode\":7,\"itemname\":\"KBSTAR KRX300미국달러선물혼합\",\"nowVal\":13670,\"risefall\":\"2\",\"changeVal\":195,\"changeRate\":1.45,\"nav\":13717.0,\"threeMonthEarnRate\":-7.9263,\"quant\":15,\"amonut\":0,\"marketSum\":68},{\"itemcode\":\"368200\",\"etfTabCode\":2,\"itemname\":\"KBSTAR Fn K-뉴딜디지털플러스\",\"nowVal\":8490,\"risefall\":\"5\",\"changeVal\":-100,\"changeRate\":-1.16,\"nav\":8487.0,\"threeMonthEarnRate\":-9.8447,\"quant\":123,\"amonut\":1,\"marketSum\":68},{\"itemcode\":\"322150\",\"etfTabCode\":2,\"itemname\":\"KINDEX 스마트하이베타\",\"nowVal\":11310,\"risefall\":\"2\",\"changeVal\":65,\"changeRate\":0.58,\"nav\":11309.0,\"threeMonthEarnRate\":-14.6879,\"quant\":20,\"amonut\":0,\"marketSum\":68},{\"itemcode\":\"404650\",\"etfTabCode\":2,\"itemname\":\"SOL KRX기후변화솔루션\",\"nowVal\":8450,\"risefall\":\"2\",\"changeVal\":50,\"changeRate\":0.6,\"nav\":8422.0,\"threeMonthEarnRate\":-7.1824,\"quant\":2,\"amonut\":0,\"marketSum\":68},{\"itemcode\":\"269530\",\"etfTabCode\":4,\"itemname\":\"ARIRANG S&P글로벌인프라\",\"nowVal\":13505,\"risefall\":\"2\",\"changeVal\":20,\"changeRate\":0.15,\"nav\":13524.0,\"threeMonthEarnRate\":-2.6706,\"quant\":180,\"amonut\":2,\"marketSum\":68},{\"itemcode\":\"419170\",\"etfTabCode\":4,\"itemname\":\"HANARO 미국메타버스iSelect\",\"nowVal\":8900,\"risefall\":\"2\",\"changeVal\":145,\"changeRate\":1.66,\"nav\":8963.0,\"threeMonthEarnRate\":-10.4348,\"quant\":129,\"amonut\":1,\"marketSum\":67},{\"itemcode\":\"403990\",\"etfTabCode\":2,\"itemname\":\"KBSTAR KRX기후변화솔루션\",\"nowVal\":8310,\"risefall\":\"5\",\"changeVal\":-10,\"changeRate\":-0.12,\"nav\":8347.0,\"threeMonthEarnRate\":-7.4734,\"quant\":5,\"amonut\":0,\"marketSum\":66},{\"itemcode\":\"322130\",\"etfTabCode\":2,\"itemname\":\"KINDEX 스마트로우볼\",\"nowVal\":13285,\"risefall\":\"2\",\"changeVal\":65,\"changeRate\":0.49,\"nav\":13290.0,\"threeMonthEarnRate\":-12.9691,\"quant\":20,\"amonut\":0,\"marketSum\":66},{\"itemcode\":\"337120\",\"etfTabCode\":2,\"itemname\":\"KODEX Fn멀티팩터\",\"nowVal\":11060,\"risefall\":\"3\",\"changeVal\":0,\"changeRate\":0.0,\"nav\":11105.0,\"threeMonthEarnRate\":-15.1255,\"quant\":0,\"amonut\":0,\"marketSum\":66},{\"itemcode\":\"195970\",\"etfTabCode\":4,\"itemname\":\"ARIRANG 선진국MSCI(합성 H)\",\"nowVal\":9440,\"risefall\":\"5\",\"changeVal\":-50,\"changeRate\":-0.53,\"nav\":9398.0,\"threeMonthEarnRate\":-15.7942,\"quant\":2688,\"amonut\":25,\"marketSum\":66},{\"itemcode\":\"402520\",\"etfTabCode\":1,\"itemname\":\"FOCUS 혁신기업액티브\",\"nowVal\":7285,\"risefall\":\"2\",\"changeVal\":10,\"changeRate\":0.14,\"nav\":7311.0,\"threeMonthEarnRate\":-15.662,\"quant\":10,\"amonut\":0,\"marketSum\":66},{\"itemcode\":\"407170\",\"etfTabCode\":2,\"itemname\":\"MASTER 스마트커머스액티브\",\"nowVal\":7710,\"risefall\":\"5\",\"changeVal\":-80,\"changeRate\":-1.03,\"nav\":7708.0,\"threeMonthEarnRate\":-17.5662,\"quant\":974,\"amonut\":7,\"marketSum\":66},{\"itemcode\":\"266390\",\"etfTabCode\":2,\"itemname\":\"KODEX 경기소비재\",\"nowVal\":9350,\"risefall\":\"5\",\"changeVal\":-15,\"changeRate\":-0.16,\"nav\":9363.0,\"threeMonthEarnRate\":-16.6148,\"quant\":23,\"amonut\":0,\"marketSum\":65},{\"itemcode\":\"251890\",\"etfTabCode\":1,\"itemname\":\"KINDEX 코스닥(합성)\",\"nowVal\":10905,\"risefall\":\"5\",\"changeVal\":-75,\"changeRate\":-0.68,\"nav\":10890.0,\"threeMonthEarnRate\":-17.1008,\"quant\":117,\"amonut\":1,\"marketSum\":65},{\"itemcode\":\"159800\",\"etfTabCode\":1,\"itemname\":\"마이티 코스피100\",\"nowVal\":23325,\"risefall\":\"3\",\"changeVal\":0,\"changeRate\":0.0,\"nav\":23603.0,\"threeMonthEarnRate\":-14.1896,\"quant\":0,\"amonut\":0,\"marketSum\":65},{\"itemcode\":\"371130\",\"etfTabCode\":4,\"itemname\":\"KINDEX 베트남VN30선물블룸버그레버리지(H)\",\"nowVal\":12885,\"risefall\":\"2\",\"changeVal\":60,\"changeRate\":0.47,\"nav\":12827.0,\"threeMonthEarnRate\":-40.0841,\"quant\":1142,\"amonut\":14,\"marketSum\":64},{\"itemcode\":\"429870\",\"etfTabCode\":7,\"itemname\":\"히어로즈 리츠이지스액티브\",\"nowVal\":8555,\"risefall\":\"5\",\"changeVal\":-20,\"changeRate\":-0.23,\"nav\":8556.0,\"threeMonthEarnRate\":null,\"quant\":114,\"amonut\":0,\"marketSum\":64},{\"itemcode\":\"315270\",\"etfTabCode\":2,\"itemname\":\"TIGER 200커뮤니케이션서비스\",\"nowVal\":20035,\"risefall\":\"5\",\"changeVal\":-420,\"changeRate\":-2.05,\"nav\":20061.0,\"threeMonthEarnRate\":-20.1164,\"quant\":60,\"amonut\":1,\"marketSum\":64},{\"itemcode\":\"429740\",\"etfTabCode\":7,\"itemname\":\"ARIRANG Fn K리츠\",\"nowVal\":8540,\"risefall\":\"5\",\"changeVal\":-45,\"changeRate\":-0.52,\"nav\":8572.0,\"threeMonthEarnRate\":null,\"quant\":478,\"amonut\":4,\"marketSum\":64},{\"itemcode\":\"117690\",\"etfTabCode\":4,\"itemname\":\"TIGER 차이나항셍25\",\"nowVal\":14110,\"risefall\":\"2\",\"changeVal\":55,\"changeRate\":0.39,\"nav\":14174.0,\"threeMonthEarnRate\":2.7036,\"quant\":303,\"amonut\":4,\"marketSum\":63},{\"itemcode\":\"304760\",\"etfTabCode\":1,\"itemname\":\"HANARO KRX300\",\"nowVal\":14105,\"risefall\":\"2\",\"changeVal\":170,\"changeRate\":1.22,\"nav\":14125.0,\"threeMonthEarnRate\":-14.8124,\"quant\":6,\"amonut\":0,\"marketSum\":63},{\"itemcode\":\"307510\",\"etfTabCode\":2,\"itemname\":\"TIGER 의료기기\",\"nowVal\":15855,\"risefall\":\"5\",\"changeVal\":-40,\"changeRate\":-0.25,\"nav\":15917.0,\"threeMonthEarnRate\":-6.1135,\"quant\":368,\"amonut\":5,\"marketSum\":63},{\"itemcode\":\"304670\",\"etfTabCode\":6,\"itemname\":\"KODEX 미국채울트라30년선물인버스(H)\",\"nowVal\":9005,\"risefall\":\"5\",\"changeVal\":-25,\"changeRate\":-0.28,\"nav\":8962.0,\"threeMonthEarnRate\":5.8616,\"quant\":8293,\"amonut\":74,\"marketSum\":63},{\"itemcode\":\"381570\",\"etfTabCode\":2,\"itemname\":\"HANARO Fn친환경에너지\",\"nowVal\":7875,\"risefall\":\"5\",\"changeVal\":-75,\"changeRate\":-0.94,\"nav\":7871.0,\"threeMonthEarnRate\":-17.9736,\"quant\":876,\"amonut\":6,\"marketSum\":63},{\"itemcode\":\"291680\",\"etfTabCode\":4,\"itemname\":\"KBSTAR 차이나H선물인버스(H)\",\"nowVal\":12575,\"risefall\":\"2\",\"changeVal\":215,\"changeRate\":1.74,\"nav\":12572.0,\"threeMonthEarnRate\":-0.6431,\"quant\":601,\"amonut\":7,\"marketSum\":63},{\"itemcode\":\"379790\",\"etfTabCode\":4,\"itemname\":\"KBSTAR 유로스탁스50(H)\",\"nowVal\":8970,\"risefall\":\"5\",\"changeVal\":-50,\"changeRate\":-0.55,\"nav\":8954.0,\"threeMonthEarnRate\":-9.3923,\"quant\":70,\"amonut\":0,\"marketSum\":63},{\"itemcode\":\"419650\",\"etfTabCode\":2,\"itemname\":\"ARIRANG 글로벌수소&차세대연료전지MV\",\"nowVal\":8365,\"risefall\":\"5\",\"changeVal\":-60,\"changeRate\":-0.71,\"nav\":8300.0,\"threeMonthEarnRate\":-29.821,\"quant\":4540,\"amonut\":37,\"marketSum\":63},{\"itemcode\":\"192720\",\"etfTabCode\":2,\"itemname\":\"파워 고배당저변동성\",\"nowVal\":26110,\"risefall\":\"5\",\"changeVal\":-205,\"changeRate\":-0.78,\"nav\":26179.0,\"threeMonthEarnRate\":-14.9428,\"quant\":60,\"amonut\":1,\"marketSum\":63},{\"itemcode\":\"238670\",\"etfTabCode\":7,\"itemname\":\"ARIRANG 스마트베타Quality채권혼합\",\"nowVal\":10330,\"risefall\":\"3\",\"changeVal\":0,\"changeRate\":0.0,\"nav\":10319.0,\"threeMonthEarnRate\":-3.458,\"quant\":30,\"amonut\":0,\"marketSum\":62},{\"itemcode\":\"333950\",\"etfTabCode\":2,\"itemname\":\"ARIRANG KS로우사이즈가중TR\",\"nowVal\":13650,\"risefall\":\"2\",\"changeVal\":75,\"changeRate\":0.55,\"nav\":13646.0,\"threeMonthEarnRate\":-17.2509,\"quant\":20,\"amonut\":0,\"marketSum\":61},{\"itemcode\":\"261060\",\"etfTabCode\":2,\"itemname\":\"TIGER 코스닥150IT\",\"nowVal\":12785,\"risefall\":\"2\",\"changeVal\":70,\"changeRate\":0.55,\"nav\":12789.0,\"threeMonthEarnRate\":-24.4818,\"quant\":5129,\"amonut\":65,\"marketSum\":61},{\"itemcode\":\"432600\",\"etfTabCode\":6,\"itemname\":\"KBSTAR 국채선물3년\",\"nowVal\":50790,\"risefall\":\"2\",\"changeVal\":60,\"changeRate\":0.12,\"nav\":50824.0,\"threeMonthEarnRate\":null,\"quant\":4,\"amonut\":0,\"marketSum\":61},{\"itemcode\":\"098560\",\"etfTabCode\":2,\"itemname\":\"TIGER 방송통신\",\"nowVal\":8685,\"risefall\":\"5\",\"changeVal\":-35,\"changeRate\":-0.4,\"nav\":8693.0,\"threeMonthEarnRate\":-11.1836,\"quant\":35065,\"amonut\":303,\"marketSum\":61},{\"itemcode\":\"226380\",\"etfTabCode\":2,\"itemname\":\"KINDEX Fn성장소비주도주\",\"nowVal\":6030,\"risefall\":\"5\",\"changeVal\":-70,\"changeRate\":-1.15,\"nav\":6018.0,\"threeMonthEarnRate\":-19.5145,\"quant\":120,\"amonut\":0,\"marketSum\":60},{\"itemcode\":\"314700\",\"etfTabCode\":2,\"itemname\":\"HANARO 농업융복합산업\",\"nowVal\":10965,\"risefall\":\"5\",\"changeVal\":-205,\"changeRate\":-1.84,\"nav\":10955.0,\"threeMonthEarnRate\":-7.9219,\"quant\":1065,\"amonut\":11,\"marketSum\":60},{\"itemcode\":\"105780\",\"etfTabCode\":2,\"itemname\":\"KBSTAR 5대그룹주\",\"nowVal\":6025,\"risefall\":\"2\",\"changeVal\":25,\"changeRate\":0.42,\"nav\":6022.0,\"threeMonthEarnRate\":-11.5827,\"quant\":53537,\"amonut\":322,\"marketSum\":60},{\"itemcode\":\"411860\",\"etfTabCode\":4,\"itemname\":\"KOSEF 독일DAX\",\"nowVal\":7960,\"risefall\":\"3\",\"changeVal\":0,\"changeRate\":0.0,\"nav\":7921.0,\"threeMonthEarnRate\":-11.8982,\"quant\":475,\"amonut\":3,\"marketSum\":60},{\"itemcode\":\"253280\",\"etfTabCode\":2,\"itemname\":\"KBSTAR 헬스케어\",\"nowVal\":11935,\"risefall\":\"5\",\"changeVal\":-65,\"changeRate\":-0.54,\"nav\":11968.0,\"threeMonthEarnRate\":-0.9002,\"quant\":270,\"amonut\":3,\"marketSum\":60},{\"itemcode\":\"234310\",\"etfTabCode\":2,\"itemname\":\"KBSTAR V&S셀렉트밸류\",\"nowVal\":11880,\"risefall\":\"5\",\"changeVal\":-30,\"changeRate\":-0.25,\"nav\":11942.0,\"threeMonthEarnRate\":-16.69,\"quant\":5,\"amonut\":0,\"marketSum\":59},{\"itemcode\":\"305050\",\"etfTabCode\":1,\"itemname\":\"KINDEX 코스피\",\"nowVal\":23755,\"risefall\":\"2\",\"changeVal\":45,\"changeRate\":0.19,\"nav\":23761.0,\"threeMonthEarnRate\":-13.9852,\"quant\":126,\"amonut\":2,\"marketSum\":59},{\"itemcode\":\"166400\",\"etfTabCode\":3,\"itemname\":\"TIGER 200커버드콜5%OTM\",\"nowVal\":11855,\"risefall\":\"2\",\"changeVal\":60,\"changeRate\":0.51,\"nav\":11875.0,\"threeMonthEarnRate\":-12.8942,\"quant\":4,\"amonut\":0,\"marketSum\":59},{\"itemcode\":\"427110\",\"etfTabCode\":2,\"itemname\":\"KBSTAR Fn창업투자회사\",\"nowVal\":7775,\"risefall\":\"5\",\"changeVal\":-25,\"changeRate\":-0.32,\"nav\":7771.0,\"threeMonthEarnRate\":null,\"quant\":11,\"amonut\":0,\"marketSum\":59},{\"itemcode\":\"298340\",\"etfTabCode\":6,\"itemname\":\"ARIRANG 국채선물3년\",\"nowVal\":52105,\"risefall\":\"2\",\"changeVal\":85,\"changeRate\":0.16,\"nav\":52129.0,\"threeMonthEarnRate\":-0.0577,\"quant\":291,\"amonut\":15,\"marketSum\":58},{\"itemcode\":\"291620\",\"etfTabCode\":3,\"itemname\":\"KOSEF 코스닥150선물인버스\",\"nowVal\":9295,\"risefall\":\"3\",\"changeVal\":0,\"changeRate\":0.0,\"nav\":9310.0,\"threeMonthEarnRate\":13.2845,\"quant\":21852,\"amonut\":203,\"marketSum\":58},{\"itemcode\":\"371870\",\"etfTabCode\":4,\"itemname\":\"KINDEX 차이나항셍테크\",\"nowVal\":6400,\"risefall\":\"5\",\"changeVal\":-80,\"changeRate\":-1.23,\"nav\":6411.0,\"threeMonthEarnRate\":12.5977,\"quant\":4880,\"amonut\":31,\"marketSum\":58},{\"itemcode\":\"394340\",\"etfTabCode\":4,\"itemname\":\"KOSEF 릭소글로벌디지털경제MSCI\",\"nowVal\":7190,\"risefall\":\"5\",\"changeVal\":-75,\"changeRate\":-1.03,\"nav\":7218.0,\"threeMonthEarnRate\":-13.7174,\"quant\":14,\"amonut\":0,\"marketSum\":58},{\"itemcode\":\"275280\",\"etfTabCode\":2,\"itemname\":\"KODEX MSCI모멘텀\",\"nowVal\":9560,\"risefall\":\"3\",\"changeVal\":0,\"changeRate\":0.0,\"nav\":9523.0,\"threeMonthEarnRate\":-17.4582,\"quant\":0,\"amonut\":0,\"marketSum\":57},{\"itemcode\":\"342140\",\"etfTabCode\":7,\"itemname\":\"KINDEX 싱가포르리츠채권혼합모닝스타\",\"nowVal\":9510,\"risefall\":\"5\",\"changeVal\":-50,\"changeRate\":-0.52,\"nav\":9595.0,\"threeMonthEarnRate\":-0.8299,\"quant\":10,\"amonut\":0,\"marketSum\":57},{\"itemcode\":\"147970\",\"etfTabCode\":2,\"itemname\":\"TIGER 모멘텀\",\"nowVal\":20260,\"risefall\":\"5\",\"changeVal\":-295,\"changeRate\":-1.44,\"nav\":20219.0,\"threeMonthEarnRate\":-17.9605,\"quant\":6303,\"amonut\":127,\"marketSum\":57},{\"itemcode\":\"289480\",\"etfTabCode\":3,\"itemname\":\"TIGER 200커버드콜ATM\",\"nowVal\":9315,\"risefall\":\"2\",\"changeVal\":15,\"changeRate\":0.16,\"nav\":9346.0,\"threeMonthEarnRate\":-11.2257,\"quant\":2,\"amonut\":0,\"marketSum\":56},{\"itemcode\":\"261120\",\"etfTabCode\":7,\"itemname\":\"TIGER 미국달러선물인버스2X\",\"nowVal\":6965,\"risefall\":\"5\",\"changeVal\":-150,\"changeRate\":-2.11,\"nav\":6930.0,\"threeMonthEarnRate\":-13.4429,\"quant\":21294,\"amonut\":148,\"marketSum\":56},{\"itemcode\":\"145670\",\"etfTabCode\":3,\"itemname\":\"KINDEX 인버스\",\"nowVal\":6175,\"risefall\":\"5\",\"changeVal\":-15,\"changeRate\":-0.24,\"nav\":6172.0,\"threeMonthEarnRate\":15.485,\"quant\":30151,\"amonut\":188,\"marketSum\":56},{\"itemcode\":\"322120\",\"etfTabCode\":2,\"itemname\":\"KINDEX 스마트퀄리티\",\"nowVal\":13825,\"risefall\":\"2\",\"changeVal\":80,\"changeRate\":0.58,\"nav\":13829.0,\"threeMonthEarnRate\":-12.8354,\"quant\":20,\"amonut\":0,\"marketSum\":55},{\"itemcode\":\"427120\",\"etfTabCode\":2,\"itemname\":\"KBSTAR Fn플랫폼테마\",\"nowVal\":8100,\"risefall\":\"5\",\"changeVal\":-105,\"changeRate\":-1.28,\"nav\":8141.0,\"threeMonthEarnRate\":null,\"quant\":155,\"amonut\":1,\"marketSum\":55},{\"itemcode\":\"426410\",\"etfTabCode\":4,\"itemname\":\"ARIRANG 미국대체투자Top10MV\",\"nowVal\":9935,\"risefall\":\"2\",\"changeVal\":10,\"changeRate\":0.1,\"nav\":9932.0,\"threeMonthEarnRate\":null,\"quant\":697,\"amonut\":6,\"marketSum\":55},{\"itemcode\":\"334690\",\"etfTabCode\":5,\"itemname\":\"KBSTAR 팔라듐선물(H)\",\"nowVal\":10840,\"risefall\":\"5\",\"changeVal\":-310,\"changeRate\":-2.78,\"nav\":10790.0,\"threeMonthEarnRate\":-17.3769,\"quant\":6681,\"amonut\":71,\"marketSum\":54},{\"itemcode\":\"253240\",\"etfTabCode\":3,\"itemname\":\"KOSEF 200선물인버스\",\"nowVal\":6495,\"risefall\":\"5\",\"changeVal\":-45,\"changeRate\":-0.69,\"nav\":6501.0,\"threeMonthEarnRate\":15.6498,\"quant\":3773,\"amonut\":24,\"marketSum\":54},{\"itemcode\":\"290080\",\"etfTabCode\":3,\"itemname\":\"KBSTAR 200고배당커버드콜ATM\",\"nowVal\":7685,\"risefall\":\"5\",\"changeVal\":-95,\"changeRate\":-1.22,\"nav\":7694.0,\"threeMonthEarnRate\":-11.3896,\"quant\":243,\"amonut\":1,\"marketSum\":54},{\"itemcode\":\"277650\",\"etfTabCode\":2,\"itemname\":\"TIGER 코스피중형주\",\"nowVal\":13380,\"risefall\":\"5\",\"changeVal\":-110,\"changeRate\":-0.82,\"nav\":13413.0,\"threeMonthEarnRate\":-17.0918,\"quant\":9572,\"amonut\":128,\"marketSum\":54},{\"itemcode\":\"226980\",\"etfTabCode\":1,\"itemname\":\"KODEX 200 중소형\",\"nowVal\":10655,\"risefall\":\"5\",\"changeVal\":-95,\"changeRate\":-0.88,\"nav\":10655.0,\"threeMonthEarnRate\":-19.4153,\"quant\":18,\"amonut\":0,\"marketSum\":53},{\"itemcode\":\"391670\",\"etfTabCode\":1,\"itemname\":\"HK 베스트일레븐액티브\",\"nowVal\":7585,\"risefall\":\"2\",\"changeVal\":35,\"changeRate\":0.46,\"nav\":7614.0,\"threeMonthEarnRate\":-12.056,\"quant\":2,\"amonut\":0,\"marketSum\":53},{\"itemcode\":\"292770\",\"etfTabCode\":6,\"itemname\":\"KODEX 국채선물3년인버스\",\"nowVal\":51560,\"risefall\":\"5\",\"changeVal\":-135,\"changeRate\":-0.26,\"nav\":51514.0,\"threeMonthEarnRate\":0.0483,\"quant\":1632,\"amonut\":84,\"marketSum\":53},{\"itemcode\":\"407300\",\"etfTabCode\":2,\"itemname\":\"HANARO Fn골프테마\",\"nowVal\":7010,\"risefall\":\"5\",\"changeVal\":-45,\"changeRate\":-0.64,\"nav\":7009.0,\"threeMonthEarnRate\":-19.0384,\"quant\":206,\"amonut\":1,\"marketSum\":53},{\"itemcode\":\"301410\",\"etfTabCode\":3,\"itemname\":\"ARIRANG 코스닥150선물인버스\",\"nowVal\":8080,\"risefall\":\"5\",\"changeVal\":-5,\"changeRate\":-0.06,\"nav\":8080.0,\"threeMonthEarnRate\":13.2352,\"quant\":12803,\"amonut\":103,\"marketSum\":53},{\"itemcode\":\"299070\",\"etfTabCode\":6,\"itemname\":\"KINDEX 국채선물10년인버스\",\"nowVal\":104905,\"risefall\":\"5\",\"changeVal\":-95,\"changeRate\":-0.09,\"nav\":104421.0,\"threeMonthEarnRate\":0.3056,\"quant\":14,\"amonut\":1,\"marketSum\":52},{\"itemcode\":\"227550\",\"etfTabCode\":2,\"itemname\":\"TIGER 200 산업재\",\"nowVal\":5825,\"risefall\":\"5\",\"changeVal\":-60,\"changeRate\":-1.02,\"nav\":5824.0,\"threeMonthEarnRate\":-8.9714,\"quant\":16,\"amonut\":0,\"marketSum\":52},{\"itemcode\":\"291630\",\"etfTabCode\":3,\"itemname\":\"KOSEF 코스닥150선물레버리지\",\"nowVal\":3845,\"risefall\":\"5\",\"changeVal\":-5,\"changeRate\":-0.13,\"nav\":3842.0,\"threeMonthEarnRate\":-28.9013,\"quant\":5380,\"amonut\":20,\"marketSum\":52},{\"itemcode\":\"307520\",\"etfTabCode\":2,\"itemname\":\"TIGER 지주회사\",\"nowVal\":9470,\"risefall\":\"5\",\"changeVal\":-80,\"changeRate\":-0.84,\"nav\":9464.0,\"threeMonthEarnRate\":-8.9349,\"quant\":194,\"amonut\":1,\"marketSum\":52},{\"itemcode\":\"272220\",\"etfTabCode\":2,\"itemname\":\"KINDEX 스마트모멘텀\",\"nowVal\":12960,\"risefall\":\"2\",\"changeVal\":50,\"changeRate\":0.39,\"nav\":12955.0,\"threeMonthEarnRate\":-15.3776,\"quant\":22,\"amonut\":0,\"marketSum\":52},{\"itemcode\":\"299080\",\"etfTabCode\":6,\"itemname\":\"KINDEX 국채선물3년인버스\",\"nowVal\":103555,\"risefall\":\"3\",\"changeVal\":0,\"changeRate\":0.0,\"nav\":103243.0,\"threeMonthEarnRate\":0.0338,\"quant\":0,\"amonut\":0,\"marketSum\":52},{\"itemcode\":\"252410\",\"etfTabCode\":3,\"itemname\":\"KBSTAR 200선물인버스\",\"nowVal\":6455,\"risefall\":\"3\",\"changeVal\":0,\"changeRate\":0.0,\"nav\":6465.0,\"threeMonthEarnRate\":14.5519,\"quant\":8631,\"amonut\":56,\"marketSum\":52},{\"itemcode\":\"333940\",\"etfTabCode\":2,\"itemname\":\"ARIRANG KS로우볼가중TR\",\"nowVal\":11470,\"risefall\":\"2\",\"changeVal\":75,\"changeRate\":0.66,\"nav\":11466.0,\"threeMonthEarnRate\":-12.9821,\"quant\":23,\"amonut\":0,\"marketSum\":52},{\"itemcode\":\"243890\",\"etfTabCode\":2,\"itemname\":\"TIGER 200에너지화학레버리지\",\"nowVal\":10305,\"risefall\":\"5\",\"changeVal\":-365,\"changeRate\":-3.42,\"nav\":10280.0,\"threeMonthEarnRate\":-25.8513,\"quant\":7462,\"amonut\":75,\"marketSum\":52},{\"itemcode\":\"346000\",\"etfTabCode\":6,\"itemname\":\"HANARO KAP초장기국고채\",\"nowVal\":39820,\"risefall\":\"2\",\"changeVal\":530,\"changeRate\":1.35,\"nav\":39611.0,\"threeMonthEarnRate\":-0.5392,\"quant\":4151,\"amonut\":164,\"marketSum\":51},{\"itemcode\":\"261920\",\"etfTabCode\":4,\"itemname\":\"KINDEX 필리핀MSCI(합성)\",\"nowVal\":12695,\"risefall\":\"2\",\"changeVal\":85,\"changeRate\":0.67,\"nav\":12738.0,\"threeMonthEarnRate\":-12.461,\"quant\":958,\"amonut\":12,\"marketSum\":51},{\"itemcode\":\"105010\",\"etfTabCode\":4,\"itemname\":\"TIGER 라틴35\",\"nowVal\":3385,\"risefall\":\"5\",\"changeVal\":-40,\"changeRate\":-1.17,\"nav\":3402.0,\"threeMonthEarnRate\":-17.9641,\"quant\":2345,\"amonut\":7,\"marketSum\":51},{\"itemcode\":\"215620\",\"etfTabCode\":2,\"itemname\":\"HK S&P코리아로우볼\",\"nowVal\":11280,\"risefall\":\"3\",\"changeVal\":0,\"changeRate\":0.0,\"nav\":11182.0,\"threeMonthEarnRate\":-9.1203,\"quant\":0,\"amonut\":0,\"marketSum\":51},{\"itemcode\":\"267440\",\"etfTabCode\":6,\"itemname\":\"KBSTAR 미국장기국채선물(H)\",\"nowVal\":10050,\"risefall\":\"5\",\"changeVal\":-25,\"changeRate\":-0.25,\"nav\":10093.0,\"threeMonthEarnRate\":-2.1845,\"quant\":6183,\"amonut\":62,\"marketSum\":50},{\"itemcode\":\"295820\",\"etfTabCode\":1,\"itemname\":\"ARIRANG 200동일가중\",\"nowVal\":9010,\"risefall\":\"5\",\"changeVal\":-80,\"changeRate\":-0.88,\"nav\":9006.0,\"threeMonthEarnRate\":-15.6068,\"quant\":30,\"amonut\":0,\"marketSum\":50},{\"itemcode\":\"376250\",\"etfTabCode\":2,\"itemname\":\"ARIRANG 탄소효율그린뉴딜\",\"nowVal\":7575,\"risefall\":\"2\",\"changeVal\":60,\"changeRate\":0.8,\"nav\":7574.0,\"threeMonthEarnRate\":-13.8781,\"quant\":145,\"amonut\":1,\"marketSum\":49},{\"itemcode\":\"380340\",\"etfTabCode\":2,\"itemname\":\"KINDEX Fn5G플러스\",\"nowVal\":7000,\"risefall\":\"2\",\"changeVal\":100,\"changeRate\":1.45,\"nav\":7000.0,\"threeMonthEarnRate\":-18.8618,\"quant\":442,\"amonut\":3,\"marketSum\":49},{\"itemcode\":\"140580\",\"etfTabCode\":2,\"itemname\":\"KBSTAR 우량업종\",\"nowVal\":9730,\"risefall\":\"5\",\"changeVal\":-125,\"changeRate\":-1.27,\"nav\":9759.0,\"threeMonthEarnRate\":-16.1563,\"quant\":8,\"amonut\":0,\"marketSum\":49},{\"itemcode\":\"220130\",\"etfTabCode\":4,\"itemname\":\"SOL 중국본토 중소형 CSI500(합성 H)\",\"nowVal\":5190,\"risefall\":\"5\",\"changeVal\":-10,\"changeRate\":-0.19,\"nav\":5169.0,\"threeMonthEarnRate\":-2.8945,\"quant\":1704,\"amonut\":8,\"marketSum\":47},{\"itemcode\":\"275300\",\"etfTabCode\":2,\"itemname\":\"KODEX MSCI퀄리티\",\"nowVal\":7785,\"risefall\":\"2\",\"changeVal\":15,\"changeRate\":0.19,\"nav\":7841.0,\"threeMonthEarnRate\":-13.4455,\"quant\":15,\"amonut\":0,\"marketSum\":47},{\"itemcode\":\"291890\",\"etfTabCode\":4,\"itemname\":\"KODEX MSCI EM선물(H)\",\"nowVal\":7765,\"risefall\":\"5\",\"changeVal\":-50,\"changeRate\":-0.64,\"nav\":7731.0,\"threeMonthEarnRate\":-12.535,\"quant\":13,\"amonut\":0,\"marketSum\":47},{\"itemcode\":\"321410\",\"etfTabCode\":7,\"itemname\":\"KODEX 멀티에셋하이인컴(H)\",\"nowVal\":9260,\"risefall\":\"3\",\"changeVal\":0,\"changeRate\":0.0,\"nav\":9173.0,\"threeMonthEarnRate\":-8.1805,\"quant\":0,\"amonut\":0,\"marketSum\":46},{\"itemcode\":\"404470\",\"etfTabCode\":2,\"itemname\":\"HANARO KRX기후변화솔루션\",\"nowVal\":8325,\"risefall\":\"2\",\"changeVal\":10,\"changeRate\":0.12,\"nav\":8349.0,\"threeMonthEarnRate\":-6.9182,\"quant\":51,\"amonut\":0,\"marketSum\":46},{\"itemcode\":\"373490\",\"etfTabCode\":2,\"itemname\":\"KODEX K-이노베이션액티브\",\"nowVal\":9080,\"risefall\":\"2\",\"changeVal\":45,\"changeRate\":0.5,\"nav\":9086.0,\"threeMonthEarnRate\":-14.1731,\"quant\":112,\"amonut\":1,\"marketSum\":45},{\"itemcode\":\"280940\",\"etfTabCode\":5,\"itemname\":\"KODEX 골드선물인버스(H)\",\"nowVal\":7500,\"risefall\":\"2\",\"changeVal\":120,\"changeRate\":1.63,\"nav\":7594.0,\"threeMonthEarnRate\":13.1901,\"quant\":3353,\"amonut\":25,\"marketSum\":45},{\"itemcode\":\"139290\",\"etfTabCode\":2,\"itemname\":\"TIGER 200 경기소비재\",\"nowVal\":14990,\"risefall\":\"2\",\"changeVal\":70,\"changeRate\":0.47,\"nav\":14971.0,\"threeMonthEarnRate\":-4.4509,\"quant\":12,\"amonut\":0,\"marketSum\":45},{\"itemcode\":\"292340\",\"etfTabCode\":3,\"itemname\":\"마이티 200커버드콜ATM레버리지\",\"nowVal\":7285,\"risefall\":\"5\",\"changeVal\":-25,\"changeRate\":-0.34,\"nav\":7403.0,\"threeMonthEarnRate\":-22.6456,\"quant\":1,\"amonut\":0,\"marketSum\":44},{\"itemcode\":\"391680\",\"etfTabCode\":1,\"itemname\":\"HK 하이볼액티브\",\"nowVal\":7235,\"risefall\":\"3\",\"changeVal\":0,\"changeRate\":0.0,\"nav\":7274.0,\"threeMonthEarnRate\":-13.0931,\"quant\":0,\"amonut\":0,\"marketSum\":43},{\"itemcode\":\"227560\",\"etfTabCode\":2,\"itemname\":\"TIGER 200 생활소비재\",\"nowVal\":8635,\"risefall\":\"5\",\"changeVal\":-65,\"changeRate\":-0.75,\"nav\":8650.0,\"threeMonthEarnRate\":-8.5559,\"quant\":843,\"amonut\":7,\"marketSum\":41},{\"itemcode\":\"412560\",\"etfTabCode\":2,\"itemname\":\"TIGER KRX BBIG K-뉴딜레버리지\",\"nowVal\":3895,\"risefall\":\"5\",\"changeVal\":-90,\"changeRate\":-2.26,\"nav\":3874.0,\"threeMonthEarnRate\":-28.8393,\"quant\":3232,\"amonut\":12,\"marketSum\":41},{\"itemcode\":\"244660\",\"etfTabCode\":2,\"itemname\":\"KODEX 퀄리티Plus\",\"nowVal\":8155,\"risefall\":\"5\",\"changeVal\":-65,\"changeRate\":-0.79,\"nav\":8179.0,\"threeMonthEarnRate\":-17.3039,\"quant\":27,\"amonut\":0,\"marketSum\":41},{\"itemcode\":\"281990\",\"etfTabCode\":2,\"itemname\":\"KBSTAR 중소형고배당\",\"nowVal\":10035,\"risefall\":\"5\",\"changeVal\":-175,\"changeRate\":-1.71,\"nav\":10059.0,\"threeMonthEarnRate\":-17.7807,\"quant\":77,\"amonut\":0,\"marketSum\":40},{\"itemcode\":\"306530\",\"etfTabCode\":3,\"itemname\":\"HANARO 코스닥150선물레버리지\",\"nowVal\":7710,\"risefall\":\"5\",\"changeVal\":-30,\"changeRate\":-0.39,\"nav\":7696.0,\"threeMonthEarnRate\":-28.4659,\"quant\":11349,\"amonut\":86,\"marketSum\":40},{\"itemcode\":\"139310\",\"etfTabCode\":5,\"itemname\":\"TIGER 금속선물(H)\",\"nowVal\":5650,\"risefall\":\"5\",\"changeVal\":-125,\"changeRate\":-2.16,\"nav\":5720.0,\"threeMonthEarnRate\":-31.4541,\"quant\":6775,\"amonut\":38,\"marketSum\":40},{\"itemcode\":\"140570\",\"etfTabCode\":2,\"itemname\":\"KBSTAR 수출주\",\"nowVal\":9875,\"risefall\":\"5\",\"changeVal\":-75,\"changeRate\":-0.75,\"nav\":9906.0,\"threeMonthEarnRate\":-15.1314,\"quant\":48,\"amonut\":0,\"marketSum\":40},{\"itemcode\":\"301440\",\"etfTabCode\":2,\"itemname\":\"ARIRANG 코스피중형주\",\"nowVal\":9800,\"risefall\":\"5\",\"changeVal\":-75,\"changeRate\":-0.76,\"nav\":9800.0,\"threeMonthEarnRate\":-16.73,\"quant\":33,\"amonut\":0,\"marketSum\":39},{\"itemcode\":\"285010\",\"etfTabCode\":2,\"itemname\":\"KBSTAR 200중공업\",\"nowVal\":8355,\"risefall\":\"5\",\"changeVal\":-80,\"changeRate\":-0.95,\"nav\":8368.0,\"threeMonthEarnRate\":-15.175,\"quant\":4050,\"amonut\":33,\"marketSum\":38},{\"itemcode\":\"275750\",\"etfTabCode\":3,\"itemname\":\"KBSTAR 코스닥150선물인버스\",\"nowVal\":5365,\"risefall\":\"2\",\"changeVal\":5,\"changeRate\":0.09,\"nav\":5380.0,\"threeMonthEarnRate\":13.1995,\"quant\":22754,\"amonut\":122,\"marketSum\":38},{\"itemcode\":\"267500\",\"etfTabCode\":6,\"itemname\":\"KBSTAR 미국장기국채선물인버스2X(합성 H)\",\"nowVal\":7445,\"risefall\":\"5\",\"changeVal\":-120,\"changeRate\":-1.59,\"nav\":7492.0,\"threeMonthEarnRate\":1.9541,\"quant\":11633,\"amonut\":86,\"marketSum\":37},{\"itemcode\":\"217790\",\"etfTabCode\":2,\"itemname\":\"TIGER 가격조정\",\"nowVal\":18555,\"risefall\":\"5\",\"changeVal\":-170,\"changeRate\":-0.91,\"nav\":18521.0,\"threeMonthEarnRate\":-20.0197,\"quant\":212,\"amonut\":3,\"marketSum\":37},{\"itemcode\":\"333960\",\"etfTabCode\":2,\"itemname\":\"ARIRANG KS모멘텀가중TR\",\"nowVal\":12350,\"risefall\":\"2\",\"changeVal\":25,\"changeRate\":0.2,\"nav\":12346.0,\"threeMonthEarnRate\":-17.115,\"quant\":27,\"amonut\":0,\"marketSum\":37},{\"itemcode\":\"284980\",\"etfTabCode\":2,\"itemname\":\"KBSTAR 200금융\",\"nowVal\":7035,\"risefall\":\"5\",\"changeVal\":-185,\"changeRate\":-2.56,\"nav\":7051.0,\"threeMonthEarnRate\":-21.8953,\"quant\":46894,\"amonut\":329,\"marketSum\":34},{\"itemcode\":\"157500\",\"etfTabCode\":2,\"itemname\":\"TIGER 증권\",\"nowVal\":3230,\"risefall\":\"5\",\"changeVal\":-50,\"changeRate\":-1.52,\"nav\":3237.0,\"threeMonthEarnRate\":-26.5398,\"quant\":5433,\"amonut\":17,\"marketSum\":33},{\"itemcode\":\"278420\",\"etfTabCode\":2,\"itemname\":\"ARIRANG ESG우수기업\",\"nowVal\":7925,\"risefall\":\"5\",\"changeVal\":-80,\"changeRate\":-1.0,\"nav\":7921.0,\"threeMonthEarnRate\":-11.5079,\"quant\":197,\"amonut\":1,\"marketSum\":32},{\"itemcode\":\"333980\",\"etfTabCode\":2,\"itemname\":\"ARIRANG KS퀄리티가중TR\",\"nowVal\":12535,\"risefall\":\"2\",\"changeVal\":45,\"changeRate\":0.36,\"nav\":12531.0,\"threeMonthEarnRate\":-14.0104,\"quant\":56,\"amonut\":0,\"marketSum\":31},{\"itemcode\":\"368470\",\"etfTabCode\":2,\"itemname\":\"KINDEX Fn K-뉴딜디지털플러스\",\"nowVal\":10150,\"risefall\":\"5\",\"changeVal\":-130,\"changeRate\":-1.26,\"nav\":10146.0,\"threeMonthEarnRate\":-9.6979,\"quant\":20,\"amonut\":0,\"marketSum\":30},{\"itemcode\":\"266550\",\"etfTabCode\":2,\"itemname\":\"ARIRANG 중형주저변동50\",\"nowVal\":9690,\"risefall\":\"5\",\"changeVal\":-125,\"changeRate\":-1.27,\"nav\":9685.0,\"threeMonthEarnRate\":-13.6156,\"quant\":1607,\"amonut\":15,\"marketSum\":29},{\"itemcode\":\"176710\",\"etfTabCode\":6,\"itemname\":\"파워 중기국고채\",\"nowVal\":96680,\"risefall\":\"3\",\"changeVal\":0,\"changeRate\":0.0,\"nav\":96845.0,\"threeMonthEarnRate\":-0.1292,\"quant\":0,\"amonut\":0,\"marketSum\":29},{\"itemcode\":\"267490\",\"etfTabCode\":6,\"itemname\":\"KBSTAR 미국장기국채선물레버리지(합성 H)\",\"nowVal\":9520,\"risefall\":\"3\",\"changeVal\":0,\"changeRate\":0.0,\"nav\":9574.0,\"threeMonthEarnRate\":-4.5615,\"quant\":134,\"amonut\":1,\"marketSum\":29},{\"itemcode\":\"309210\",\"etfTabCode\":2,\"itemname\":\"ARIRANG KRX300헬스케어\",\"nowVal\":9420,\"risefall\":\"5\",\"changeVal\":-60,\"changeRate\":-0.63,\"nav\":9498.0,\"threeMonthEarnRate\":3.5499,\"quant\":869,\"amonut\":8,\"marketSum\":28},{\"itemcode\":\"334700\",\"etfTabCode\":5,\"itemname\":\"KBSTAR 팔라듐선물인버스(H)\",\"nowVal\":4675,\"risefall\":\"2\",\"changeVal\":145,\"changeRate\":3.2,\"nav\":4740.0,\"threeMonthEarnRate\":11.4391,\"quant\":1410,\"amonut\":6,\"marketSum\":28},{\"itemcode\":\"280920\",\"etfTabCode\":2,\"itemname\":\"ARIRANG 주도업종\",\"nowVal\":7410,\"risefall\":\"5\",\"changeVal\":-90,\"changeRate\":-1.2,\"nav\":7409.0,\"threeMonthEarnRate\":-20.7524,\"quant\":24,\"amonut\":0,\"marketSum\":26},{\"itemcode\":\"252730\",\"etfTabCode\":2,\"itemname\":\"KBSTAR 모멘텀로우볼\",\"nowVal\":12780,\"risefall\":\"5\",\"changeVal\":-65,\"changeRate\":-0.51,\"nav\":12842.0,\"threeMonthEarnRate\":-16.0513,\"quant\":4514,\"amonut\":57,\"marketSum\":26},{\"itemcode\":\"287300\",\"etfTabCode\":2,\"itemname\":\"KBSTAR 200건설\",\"nowVal\":9250,\"risefall\":\"5\",\"changeVal\":-175,\"changeRate\":-1.86,\"nav\":9275.0,\"threeMonthEarnRate\":-21.347,\"quant\":3930,\"amonut\":36,\"marketSum\":24},{\"itemcode\":\"301400\",\"etfTabCode\":1,\"itemname\":\"ARIRANG 코스닥150\",\"nowVal\":10890,\"risefall\":\"5\",\"changeVal\":-70,\"changeRate\":-0.64,\"nav\":11075.0,\"threeMonthEarnRate\":-14.9597,\"quant\":147,\"amonut\":1,\"marketSum\":22},{\"itemcode\":\"315480\",\"etfTabCode\":2,\"itemname\":\"KBSTAR 200커뮤니케이션서비스\",\"nowVal\":12465,\"risefall\":\"5\",\"changeVal\":-295,\"changeRate\":-2.31,\"nav\":12492.0,\"threeMonthEarnRate\":-19.804,\"quant\":14,\"amonut\":0,\"marketSum\":17},{\"itemcode\":\"285020\",\"etfTabCode\":2,\"itemname\":\"KBSTAR 200철강소재\",\"nowVal\":6905,\"risefall\":\"5\",\"changeVal\":-70,\"changeRate\":-1.0,\"nav\":6916.0,\"threeMonthEarnRate\":-25.2652,\"quant\":2604,\"amonut\":18,\"marketSum\":17},{\"itemcode\":\"252720\",\"etfTabCode\":2,\"itemname\":\"KBSTAR 모멘텀밸류\",\"nowVal\":11570,\"risefall\":\"5\",\"changeVal\":-80,\"changeRate\":-0.69,\"nav\":11626.0,\"threeMonthEarnRate\":-16.7798,\"quant\":23,\"amonut\":0,\"marketSum\":12},{\"itemcode\":\"284990\",\"etfTabCode\":2,\"itemname\":\"KBSTAR 200에너지화학\",\"nowVal\":9620,\"risefall\":\"5\",\"changeVal\":-195,\"changeRate\":-1.99,\"nav\":9644.0,\"threeMonthEarnRate\":-12.5067,\"quant\":70,\"amonut\":0,\"marketSum\":10},{\"itemcode\":\"287330\",\"etfTabCode\":2,\"itemname\":\"KBSTAR 200생활소비재\",\"nowVal\":6540,\"risefall\":\"5\",\"changeVal\":-60,\"changeRate\":-0.91,\"nav\":6553.0,\"threeMonthEarnRate\":-8.3843,\"quant\":59,\"amonut\":0,\"marketSum\":9},{\"itemcode\":\"287320\",\"etfTabCode\":2,\"itemname\":\"KBSTAR 200산업재\",\"nowVal\":10555,\"risefall\":\"5\",\"changeVal\":-155,\"changeRate\":-1.45,\"nav\":10586.0,\"threeMonthEarnRate\":-9.0832,\"quant\":5,\"amonut\":0,\"marketSum\":8},{\"itemcode\":\"287310\",\"etfTabCode\":2,\"itemname\":\"KBSTAR 200경기소비재\",\"nowVal\":9345,\"risefall\":\"2\",\"changeVal\":5,\"changeRate\":0.05,\"nav\":9366.0,\"threeMonthEarnRate\":-4.3425,\"quant\":6,\"amonut\":0,\"marketSum\":7}]}}'"
            ],
            "application/vnd.google.colaboratory.intrinsic+json": {
              "type": "string"
            }
          },
          "metadata": {},
          "execution_count": 18
        }
      ],
      "source": [
        "response.text"
      ]
    },
    {
      "cell_type": "markdown",
      "metadata": {
        "id": "CnXPSlPFYcNB"
      },
      "source": [
        "### JSON 타입으로 데이터 받기"
      ]
    },
    {
      "cell_type": "code",
      "execution_count": null,
      "metadata": {
        "id": "BhFy-du10jYn",
        "scrolled": false
      },
      "outputs": [],
      "source": [
        "# requests 의 응답을 json 타입으로 받습니다.\n",
        "# etf_json\n",
        "etf_json = response.json()"
      ]
    },
    {
      "cell_type": "markdown",
      "metadata": {
        "id": "A5Q3ZSRmYcNB"
      },
      "source": [
        "### JSON 에서 원하는 데이터 찾기"
      ]
    },
    {
      "cell_type": "code",
      "execution_count": null,
      "metadata": {
        "id": "5KX_Txxm0jYn",
        "colab": {
          "base_uri": "https://localhost:8080/"
        },
        "outputId": "c722f326-344f-415a-8f63-fd703057ed3e"
      },
      "outputs": [
        {
          "output_type": "execute_result",
          "data": {
            "text/plain": [
              "{'amonut': 142798,\n",
              " 'changeRate': 0.6,\n",
              " 'changeVal': 185,\n",
              " 'etfTabCode': 1,\n",
              " 'itemcode': '069500',\n",
              " 'itemname': 'KODEX 200',\n",
              " 'marketSum': 51780,\n",
              " 'nav': 30958.0,\n",
              " 'nowVal': 30895,\n",
              " 'quant': 4656347,\n",
              " 'risefall': '2',\n",
              " 'threeMonthEarnRate': -14.0234}"
            ]
          },
          "metadata": {},
          "execution_count": 23
        }
      ],
      "source": [
        "# result > etfItemList 의 하위 구조로 목록을 찾고자 하는 데이터를 가져옵니다.\n",
        "# etfItemList\n",
        "etfItemList = etf_json['result']['etfItemList']\n",
        "etfItemList[0]"
      ]
    },
    {
      "cell_type": "markdown",
      "metadata": {
        "id": "N-7ezbkpYcNC"
      },
      "source": [
        "## 데이터프레임 변환\n",
        "### JSON 데이터를 pandas 의 데이터프레임 형태로 만들기"
      ]
    },
    {
      "cell_type": "code",
      "execution_count": null,
      "metadata": {
        "id": "JCGehw-a0jYn",
        "colab": {
          "base_uri": "https://localhost:8080/",
          "height": 502
        },
        "outputId": "962cf504-31f1-4675-9d2d-42b8ba04a052"
      },
      "outputs": [
        {
          "output_type": "execute_result",
          "data": {
            "text/plain": [
              "    itemcode  etfTabCode               itemname  nowVal risefall  changeVal  \\\n",
              "0     069500           1              KODEX 200   30895        2        185   \n",
              "1     371460           4  TIGER 차이나전기차SOLACTIVE   17485        2        130   \n",
              "2     122630           3             KODEX 레버리지   14295        2        190   \n",
              "3     133690           4         TIGER 미국나스닥100   70025        2       1385   \n",
              "4     252670           3       KODEX 200선물인버스2X    3305        5        -40   \n",
              "..       ...         ...                    ...     ...      ...        ...   \n",
              "588   252720           2           KBSTAR 모멘텀밸류   11570        5        -80   \n",
              "589   284990           2        KBSTAR 200에너지화학    9620        5       -195   \n",
              "590   287330           2        KBSTAR 200생활소비재    6540        5        -60   \n",
              "591   287320           2          KBSTAR 200산업재   10555        5       -155   \n",
              "592   287310           2        KBSTAR 200경기소비재    9345        2          5   \n",
              "\n",
              "     changeRate      nav  threeMonthEarnRate      quant   amonut  marketSum  \n",
              "0          0.60  30958.0            -14.0234    4656347   142798      51780  \n",
              "1          0.75  17426.0             30.0487    9177362   162330      39222  \n",
              "2          1.35  14335.0            -27.4621   47812806   673712      23537  \n",
              "3          2.02  69884.0            -12.2363     132532     9273      20713  \n",
              "4         -1.20   3315.0             31.6929  298231327  1000885      20653  \n",
              "..          ...      ...                 ...        ...      ...        ...  \n",
              "588       -0.69  11626.0            -16.7798         23        0         12  \n",
              "589       -1.99   9644.0            -12.5067         70        0         10  \n",
              "590       -0.91   6553.0             -8.3843         59        0          9  \n",
              "591       -1.45  10586.0             -9.0832          5        0          8  \n",
              "592        0.05   9366.0             -4.3425          6        0          7  \n",
              "\n",
              "[593 rows x 12 columns]"
            ],
            "text/html": [
              "\n",
              "  <div id=\"df-2516b1e6-4bd6-4e24-b27b-e61838f7dd35\">\n",
              "    <div class=\"colab-df-container\">\n",
              "      <div>\n",
              "<style scoped>\n",
              "    .dataframe tbody tr th:only-of-type {\n",
              "        vertical-align: middle;\n",
              "    }\n",
              "\n",
              "    .dataframe tbody tr th {\n",
              "        vertical-align: top;\n",
              "    }\n",
              "\n",
              "    .dataframe thead th {\n",
              "        text-align: right;\n",
              "    }\n",
              "</style>\n",
              "<table border=\"1\" class=\"dataframe\">\n",
              "  <thead>\n",
              "    <tr style=\"text-align: right;\">\n",
              "      <th></th>\n",
              "      <th>itemcode</th>\n",
              "      <th>etfTabCode</th>\n",
              "      <th>itemname</th>\n",
              "      <th>nowVal</th>\n",
              "      <th>risefall</th>\n",
              "      <th>changeVal</th>\n",
              "      <th>changeRate</th>\n",
              "      <th>nav</th>\n",
              "      <th>threeMonthEarnRate</th>\n",
              "      <th>quant</th>\n",
              "      <th>amonut</th>\n",
              "      <th>marketSum</th>\n",
              "    </tr>\n",
              "  </thead>\n",
              "  <tbody>\n",
              "    <tr>\n",
              "      <th>0</th>\n",
              "      <td>069500</td>\n",
              "      <td>1</td>\n",
              "      <td>KODEX 200</td>\n",
              "      <td>30895</td>\n",
              "      <td>2</td>\n",
              "      <td>185</td>\n",
              "      <td>0.60</td>\n",
              "      <td>30958.0</td>\n",
              "      <td>-14.0234</td>\n",
              "      <td>4656347</td>\n",
              "      <td>142798</td>\n",
              "      <td>51780</td>\n",
              "    </tr>\n",
              "    <tr>\n",
              "      <th>1</th>\n",
              "      <td>371460</td>\n",
              "      <td>4</td>\n",
              "      <td>TIGER 차이나전기차SOLACTIVE</td>\n",
              "      <td>17485</td>\n",
              "      <td>2</td>\n",
              "      <td>130</td>\n",
              "      <td>0.75</td>\n",
              "      <td>17426.0</td>\n",
              "      <td>30.0487</td>\n",
              "      <td>9177362</td>\n",
              "      <td>162330</td>\n",
              "      <td>39222</td>\n",
              "    </tr>\n",
              "    <tr>\n",
              "      <th>2</th>\n",
              "      <td>122630</td>\n",
              "      <td>3</td>\n",
              "      <td>KODEX 레버리지</td>\n",
              "      <td>14295</td>\n",
              "      <td>2</td>\n",
              "      <td>190</td>\n",
              "      <td>1.35</td>\n",
              "      <td>14335.0</td>\n",
              "      <td>-27.4621</td>\n",
              "      <td>47812806</td>\n",
              "      <td>673712</td>\n",
              "      <td>23537</td>\n",
              "    </tr>\n",
              "    <tr>\n",
              "      <th>3</th>\n",
              "      <td>133690</td>\n",
              "      <td>4</td>\n",
              "      <td>TIGER 미국나스닥100</td>\n",
              "      <td>70025</td>\n",
              "      <td>2</td>\n",
              "      <td>1385</td>\n",
              "      <td>2.02</td>\n",
              "      <td>69884.0</td>\n",
              "      <td>-12.2363</td>\n",
              "      <td>132532</td>\n",
              "      <td>9273</td>\n",
              "      <td>20713</td>\n",
              "    </tr>\n",
              "    <tr>\n",
              "      <th>4</th>\n",
              "      <td>252670</td>\n",
              "      <td>3</td>\n",
              "      <td>KODEX 200선물인버스2X</td>\n",
              "      <td>3305</td>\n",
              "      <td>5</td>\n",
              "      <td>-40</td>\n",
              "      <td>-1.20</td>\n",
              "      <td>3315.0</td>\n",
              "      <td>31.6929</td>\n",
              "      <td>298231327</td>\n",
              "      <td>1000885</td>\n",
              "      <td>20653</td>\n",
              "    </tr>\n",
              "    <tr>\n",
              "      <th>...</th>\n",
              "      <td>...</td>\n",
              "      <td>...</td>\n",
              "      <td>...</td>\n",
              "      <td>...</td>\n",
              "      <td>...</td>\n",
              "      <td>...</td>\n",
              "      <td>...</td>\n",
              "      <td>...</td>\n",
              "      <td>...</td>\n",
              "      <td>...</td>\n",
              "      <td>...</td>\n",
              "      <td>...</td>\n",
              "    </tr>\n",
              "    <tr>\n",
              "      <th>588</th>\n",
              "      <td>252720</td>\n",
              "      <td>2</td>\n",
              "      <td>KBSTAR 모멘텀밸류</td>\n",
              "      <td>11570</td>\n",
              "      <td>5</td>\n",
              "      <td>-80</td>\n",
              "      <td>-0.69</td>\n",
              "      <td>11626.0</td>\n",
              "      <td>-16.7798</td>\n",
              "      <td>23</td>\n",
              "      <td>0</td>\n",
              "      <td>12</td>\n",
              "    </tr>\n",
              "    <tr>\n",
              "      <th>589</th>\n",
              "      <td>284990</td>\n",
              "      <td>2</td>\n",
              "      <td>KBSTAR 200에너지화학</td>\n",
              "      <td>9620</td>\n",
              "      <td>5</td>\n",
              "      <td>-195</td>\n",
              "      <td>-1.99</td>\n",
              "      <td>9644.0</td>\n",
              "      <td>-12.5067</td>\n",
              "      <td>70</td>\n",
              "      <td>0</td>\n",
              "      <td>10</td>\n",
              "    </tr>\n",
              "    <tr>\n",
              "      <th>590</th>\n",
              "      <td>287330</td>\n",
              "      <td>2</td>\n",
              "      <td>KBSTAR 200생활소비재</td>\n",
              "      <td>6540</td>\n",
              "      <td>5</td>\n",
              "      <td>-60</td>\n",
              "      <td>-0.91</td>\n",
              "      <td>6553.0</td>\n",
              "      <td>-8.3843</td>\n",
              "      <td>59</td>\n",
              "      <td>0</td>\n",
              "      <td>9</td>\n",
              "    </tr>\n",
              "    <tr>\n",
              "      <th>591</th>\n",
              "      <td>287320</td>\n",
              "      <td>2</td>\n",
              "      <td>KBSTAR 200산업재</td>\n",
              "      <td>10555</td>\n",
              "      <td>5</td>\n",
              "      <td>-155</td>\n",
              "      <td>-1.45</td>\n",
              "      <td>10586.0</td>\n",
              "      <td>-9.0832</td>\n",
              "      <td>5</td>\n",
              "      <td>0</td>\n",
              "      <td>8</td>\n",
              "    </tr>\n",
              "    <tr>\n",
              "      <th>592</th>\n",
              "      <td>287310</td>\n",
              "      <td>2</td>\n",
              "      <td>KBSTAR 200경기소비재</td>\n",
              "      <td>9345</td>\n",
              "      <td>2</td>\n",
              "      <td>5</td>\n",
              "      <td>0.05</td>\n",
              "      <td>9366.0</td>\n",
              "      <td>-4.3425</td>\n",
              "      <td>6</td>\n",
              "      <td>0</td>\n",
              "      <td>7</td>\n",
              "    </tr>\n",
              "  </tbody>\n",
              "</table>\n",
              "<p>593 rows × 12 columns</p>\n",
              "</div>\n",
              "      <button class=\"colab-df-convert\" onclick=\"convertToInteractive('df-2516b1e6-4bd6-4e24-b27b-e61838f7dd35')\"\n",
              "              title=\"Convert this dataframe to an interactive table.\"\n",
              "              style=\"display:none;\">\n",
              "        \n",
              "  <svg xmlns=\"http://www.w3.org/2000/svg\" height=\"24px\"viewBox=\"0 0 24 24\"\n",
              "       width=\"24px\">\n",
              "    <path d=\"M0 0h24v24H0V0z\" fill=\"none\"/>\n",
              "    <path d=\"M18.56 5.44l.94 2.06.94-2.06 2.06-.94-2.06-.94-.94-2.06-.94 2.06-2.06.94zm-11 1L8.5 8.5l.94-2.06 2.06-.94-2.06-.94L8.5 2.5l-.94 2.06-2.06.94zm10 10l.94 2.06.94-2.06 2.06-.94-2.06-.94-.94-2.06-.94 2.06-2.06.94z\"/><path d=\"M17.41 7.96l-1.37-1.37c-.4-.4-.92-.59-1.43-.59-.52 0-1.04.2-1.43.59L10.3 9.45l-7.72 7.72c-.78.78-.78 2.05 0 2.83L4 21.41c.39.39.9.59 1.41.59.51 0 1.02-.2 1.41-.59l7.78-7.78 2.81-2.81c.8-.78.8-2.07 0-2.86zM5.41 20L4 18.59l7.72-7.72 1.47 1.35L5.41 20z\"/>\n",
              "  </svg>\n",
              "      </button>\n",
              "      \n",
              "  <style>\n",
              "    .colab-df-container {\n",
              "      display:flex;\n",
              "      flex-wrap:wrap;\n",
              "      gap: 12px;\n",
              "    }\n",
              "\n",
              "    .colab-df-convert {\n",
              "      background-color: #E8F0FE;\n",
              "      border: none;\n",
              "      border-radius: 50%;\n",
              "      cursor: pointer;\n",
              "      display: none;\n",
              "      fill: #1967D2;\n",
              "      height: 32px;\n",
              "      padding: 0 0 0 0;\n",
              "      width: 32px;\n",
              "    }\n",
              "\n",
              "    .colab-df-convert:hover {\n",
              "      background-color: #E2EBFA;\n",
              "      box-shadow: 0px 1px 2px rgba(60, 64, 67, 0.3), 0px 1px 3px 1px rgba(60, 64, 67, 0.15);\n",
              "      fill: #174EA6;\n",
              "    }\n",
              "\n",
              "    [theme=dark] .colab-df-convert {\n",
              "      background-color: #3B4455;\n",
              "      fill: #D2E3FC;\n",
              "    }\n",
              "\n",
              "    [theme=dark] .colab-df-convert:hover {\n",
              "      background-color: #434B5C;\n",
              "      box-shadow: 0px 1px 3px 1px rgba(0, 0, 0, 0.15);\n",
              "      filter: drop-shadow(0px 1px 2px rgba(0, 0, 0, 0.3));\n",
              "      fill: #FFFFFF;\n",
              "    }\n",
              "  </style>\n",
              "\n",
              "      <script>\n",
              "        const buttonEl =\n",
              "          document.querySelector('#df-2516b1e6-4bd6-4e24-b27b-e61838f7dd35 button.colab-df-convert');\n",
              "        buttonEl.style.display =\n",
              "          google.colab.kernel.accessAllowed ? 'block' : 'none';\n",
              "\n",
              "        async function convertToInteractive(key) {\n",
              "          const element = document.querySelector('#df-2516b1e6-4bd6-4e24-b27b-e61838f7dd35');\n",
              "          const dataTable =\n",
              "            await google.colab.kernel.invokeFunction('convertToInteractive',\n",
              "                                                     [key], {});\n",
              "          if (!dataTable) return;\n",
              "\n",
              "          const docLinkHtml = 'Like what you see? Visit the ' +\n",
              "            '<a target=\"_blank\" href=https://colab.research.google.com/notebooks/data_table.ipynb>data table notebook</a>'\n",
              "            + ' to learn more about interactive tables.';\n",
              "          element.innerHTML = '';\n",
              "          dataTable['output_type'] = 'display_data';\n",
              "          await google.colab.output.renderOutput(dataTable, element);\n",
              "          const docLink = document.createElement('div');\n",
              "          docLink.innerHTML = docLinkHtml;\n",
              "          element.appendChild(docLink);\n",
              "        }\n",
              "      </script>\n",
              "    </div>\n",
              "  </div>\n",
              "  "
            ]
          },
          "metadata": {},
          "execution_count": 29
        }
      ],
      "source": [
        "# 키-값 형태의 데이터를 데이터프레임으로 만듭니다.\n",
        "# df\n",
        "df = pd.DataFrame(etfItemList)\n",
        "df"
      ]
    },
    {
      "cell_type": "markdown",
      "metadata": {
        "id": "xrwVQQ1vYcND"
      },
      "source": [
        "### 데이터 확인"
      ]
    },
    {
      "cell_type": "code",
      "execution_count": null,
      "metadata": {
        "id": "H3t5Uj8-0jYn",
        "colab": {
          "base_uri": "https://localhost:8080/",
          "height": 268
        },
        "outputId": "46861700-b5f6-41d7-93a6-0b9575f67ba7"
      },
      "outputs": [
        {
          "output_type": "execute_result",
          "data": {
            "text/plain": [
              "  itemcode  etfTabCode               itemname  nowVal risefall  changeVal  \\\n",
              "0   069500           1              KODEX 200   30895        2        185   \n",
              "1   371460           4  TIGER 차이나전기차SOLACTIVE   17485        2        130   \n",
              "2   122630           3             KODEX 레버리지   14295        2        190   \n",
              "3   133690           4         TIGER 미국나스닥100   70025        2       1385   \n",
              "4   252670           3       KODEX 200선물인버스2X    3305        5        -40   \n",
              "\n",
              "   changeRate      nav  threeMonthEarnRate      quant   amonut  marketSum  \n",
              "0        0.60  30958.0            -14.0234    4656347   142798      51780  \n",
              "1        0.75  17426.0             30.0487    9177362   162330      39222  \n",
              "2        1.35  14335.0            -27.4621   47812806   673712      23537  \n",
              "3        2.02  69884.0            -12.2363     132532     9273      20713  \n",
              "4       -1.20   3315.0             31.6929  298231327  1000885      20653  "
            ],
            "text/html": [
              "\n",
              "  <div id=\"df-9eafd2c6-b6e6-43ae-acd8-d90371e41fa5\">\n",
              "    <div class=\"colab-df-container\">\n",
              "      <div>\n",
              "<style scoped>\n",
              "    .dataframe tbody tr th:only-of-type {\n",
              "        vertical-align: middle;\n",
              "    }\n",
              "\n",
              "    .dataframe tbody tr th {\n",
              "        vertical-align: top;\n",
              "    }\n",
              "\n",
              "    .dataframe thead th {\n",
              "        text-align: right;\n",
              "    }\n",
              "</style>\n",
              "<table border=\"1\" class=\"dataframe\">\n",
              "  <thead>\n",
              "    <tr style=\"text-align: right;\">\n",
              "      <th></th>\n",
              "      <th>itemcode</th>\n",
              "      <th>etfTabCode</th>\n",
              "      <th>itemname</th>\n",
              "      <th>nowVal</th>\n",
              "      <th>risefall</th>\n",
              "      <th>changeVal</th>\n",
              "      <th>changeRate</th>\n",
              "      <th>nav</th>\n",
              "      <th>threeMonthEarnRate</th>\n",
              "      <th>quant</th>\n",
              "      <th>amonut</th>\n",
              "      <th>marketSum</th>\n",
              "    </tr>\n",
              "  </thead>\n",
              "  <tbody>\n",
              "    <tr>\n",
              "      <th>0</th>\n",
              "      <td>069500</td>\n",
              "      <td>1</td>\n",
              "      <td>KODEX 200</td>\n",
              "      <td>30895</td>\n",
              "      <td>2</td>\n",
              "      <td>185</td>\n",
              "      <td>0.60</td>\n",
              "      <td>30958.0</td>\n",
              "      <td>-14.0234</td>\n",
              "      <td>4656347</td>\n",
              "      <td>142798</td>\n",
              "      <td>51780</td>\n",
              "    </tr>\n",
              "    <tr>\n",
              "      <th>1</th>\n",
              "      <td>371460</td>\n",
              "      <td>4</td>\n",
              "      <td>TIGER 차이나전기차SOLACTIVE</td>\n",
              "      <td>17485</td>\n",
              "      <td>2</td>\n",
              "      <td>130</td>\n",
              "      <td>0.75</td>\n",
              "      <td>17426.0</td>\n",
              "      <td>30.0487</td>\n",
              "      <td>9177362</td>\n",
              "      <td>162330</td>\n",
              "      <td>39222</td>\n",
              "    </tr>\n",
              "    <tr>\n",
              "      <th>2</th>\n",
              "      <td>122630</td>\n",
              "      <td>3</td>\n",
              "      <td>KODEX 레버리지</td>\n",
              "      <td>14295</td>\n",
              "      <td>2</td>\n",
              "      <td>190</td>\n",
              "      <td>1.35</td>\n",
              "      <td>14335.0</td>\n",
              "      <td>-27.4621</td>\n",
              "      <td>47812806</td>\n",
              "      <td>673712</td>\n",
              "      <td>23537</td>\n",
              "    </tr>\n",
              "    <tr>\n",
              "      <th>3</th>\n",
              "      <td>133690</td>\n",
              "      <td>4</td>\n",
              "      <td>TIGER 미국나스닥100</td>\n",
              "      <td>70025</td>\n",
              "      <td>2</td>\n",
              "      <td>1385</td>\n",
              "      <td>2.02</td>\n",
              "      <td>69884.0</td>\n",
              "      <td>-12.2363</td>\n",
              "      <td>132532</td>\n",
              "      <td>9273</td>\n",
              "      <td>20713</td>\n",
              "    </tr>\n",
              "    <tr>\n",
              "      <th>4</th>\n",
              "      <td>252670</td>\n",
              "      <td>3</td>\n",
              "      <td>KODEX 200선물인버스2X</td>\n",
              "      <td>3305</td>\n",
              "      <td>5</td>\n",
              "      <td>-40</td>\n",
              "      <td>-1.20</td>\n",
              "      <td>3315.0</td>\n",
              "      <td>31.6929</td>\n",
              "      <td>298231327</td>\n",
              "      <td>1000885</td>\n",
              "      <td>20653</td>\n",
              "    </tr>\n",
              "  </tbody>\n",
              "</table>\n",
              "</div>\n",
              "      <button class=\"colab-df-convert\" onclick=\"convertToInteractive('df-9eafd2c6-b6e6-43ae-acd8-d90371e41fa5')\"\n",
              "              title=\"Convert this dataframe to an interactive table.\"\n",
              "              style=\"display:none;\">\n",
              "        \n",
              "  <svg xmlns=\"http://www.w3.org/2000/svg\" height=\"24px\"viewBox=\"0 0 24 24\"\n",
              "       width=\"24px\">\n",
              "    <path d=\"M0 0h24v24H0V0z\" fill=\"none\"/>\n",
              "    <path d=\"M18.56 5.44l.94 2.06.94-2.06 2.06-.94-2.06-.94-.94-2.06-.94 2.06-2.06.94zm-11 1L8.5 8.5l.94-2.06 2.06-.94-2.06-.94L8.5 2.5l-.94 2.06-2.06.94zm10 10l.94 2.06.94-2.06 2.06-.94-2.06-.94-.94-2.06-.94 2.06-2.06.94z\"/><path d=\"M17.41 7.96l-1.37-1.37c-.4-.4-.92-.59-1.43-.59-.52 0-1.04.2-1.43.59L10.3 9.45l-7.72 7.72c-.78.78-.78 2.05 0 2.83L4 21.41c.39.39.9.59 1.41.59.51 0 1.02-.2 1.41-.59l7.78-7.78 2.81-2.81c.8-.78.8-2.07 0-2.86zM5.41 20L4 18.59l7.72-7.72 1.47 1.35L5.41 20z\"/>\n",
              "  </svg>\n",
              "      </button>\n",
              "      \n",
              "  <style>\n",
              "    .colab-df-container {\n",
              "      display:flex;\n",
              "      flex-wrap:wrap;\n",
              "      gap: 12px;\n",
              "    }\n",
              "\n",
              "    .colab-df-convert {\n",
              "      background-color: #E8F0FE;\n",
              "      border: none;\n",
              "      border-radius: 50%;\n",
              "      cursor: pointer;\n",
              "      display: none;\n",
              "      fill: #1967D2;\n",
              "      height: 32px;\n",
              "      padding: 0 0 0 0;\n",
              "      width: 32px;\n",
              "    }\n",
              "\n",
              "    .colab-df-convert:hover {\n",
              "      background-color: #E2EBFA;\n",
              "      box-shadow: 0px 1px 2px rgba(60, 64, 67, 0.3), 0px 1px 3px 1px rgba(60, 64, 67, 0.15);\n",
              "      fill: #174EA6;\n",
              "    }\n",
              "\n",
              "    [theme=dark] .colab-df-convert {\n",
              "      background-color: #3B4455;\n",
              "      fill: #D2E3FC;\n",
              "    }\n",
              "\n",
              "    [theme=dark] .colab-df-convert:hover {\n",
              "      background-color: #434B5C;\n",
              "      box-shadow: 0px 1px 3px 1px rgba(0, 0, 0, 0.15);\n",
              "      filter: drop-shadow(0px 1px 2px rgba(0, 0, 0, 0.3));\n",
              "      fill: #FFFFFF;\n",
              "    }\n",
              "  </style>\n",
              "\n",
              "      <script>\n",
              "        const buttonEl =\n",
              "          document.querySelector('#df-9eafd2c6-b6e6-43ae-acd8-d90371e41fa5 button.colab-df-convert');\n",
              "        buttonEl.style.display =\n",
              "          google.colab.kernel.accessAllowed ? 'block' : 'none';\n",
              "\n",
              "        async function convertToInteractive(key) {\n",
              "          const element = document.querySelector('#df-9eafd2c6-b6e6-43ae-acd8-d90371e41fa5');\n",
              "          const dataTable =\n",
              "            await google.colab.kernel.invokeFunction('convertToInteractive',\n",
              "                                                     [key], {});\n",
              "          if (!dataTable) return;\n",
              "\n",
              "          const docLinkHtml = 'Like what you see? Visit the ' +\n",
              "            '<a target=\"_blank\" href=https://colab.research.google.com/notebooks/data_table.ipynb>data table notebook</a>'\n",
              "            + ' to learn more about interactive tables.';\n",
              "          element.innerHTML = '';\n",
              "          dataTable['output_type'] = 'display_data';\n",
              "          await google.colab.output.renderOutput(dataTable, element);\n",
              "          const docLink = document.createElement('div');\n",
              "          docLink.innerHTML = docLinkHtml;\n",
              "          element.appendChild(docLink);\n",
              "        }\n",
              "      </script>\n",
              "    </div>\n",
              "  </div>\n",
              "  "
            ]
          },
          "metadata": {},
          "execution_count": 32
        }
      ],
      "source": [
        "# 데이터 프레임으로 잘 만들어 졌는지 상단 데이터의 일부만 미리보기 합니다.\n",
        "df.head()"
      ]
    },
    {
      "cell_type": "code",
      "execution_count": null,
      "metadata": {
        "id": "CrEXrnVy0jYn",
        "colab": {
          "base_uri": "https://localhost:8080/",
          "height": 250
        },
        "outputId": "6587fe84-943d-49b6-b10f-f86e5ad0ca55"
      },
      "outputs": [
        {
          "output_type": "execute_result",
          "data": {
            "text/plain": [
              "    itemcode  etfTabCode         itemname  nowVal risefall  changeVal  \\\n",
              "588   252720           2     KBSTAR 모멘텀밸류   11570        5        -80   \n",
              "589   284990           2  KBSTAR 200에너지화학    9620        5       -195   \n",
              "590   287330           2  KBSTAR 200생활소비재    6540        5        -60   \n",
              "591   287320           2    KBSTAR 200산업재   10555        5       -155   \n",
              "592   287310           2  KBSTAR 200경기소비재    9345        2          5   \n",
              "\n",
              "     changeRate      nav  threeMonthEarnRate  quant  amonut  marketSum  \n",
              "588       -0.69  11626.0            -16.7798     23       0         12  \n",
              "589       -1.99   9644.0            -12.5067     70       0         10  \n",
              "590       -0.91   6553.0             -8.3843     59       0          9  \n",
              "591       -1.45  10586.0             -9.0832      5       0          8  \n",
              "592        0.05   9366.0             -4.3425      6       0          7  "
            ],
            "text/html": [
              "\n",
              "  <div id=\"df-e1b6cf64-07c6-4c4c-a27a-af857412a0f8\">\n",
              "    <div class=\"colab-df-container\">\n",
              "      <div>\n",
              "<style scoped>\n",
              "    .dataframe tbody tr th:only-of-type {\n",
              "        vertical-align: middle;\n",
              "    }\n",
              "\n",
              "    .dataframe tbody tr th {\n",
              "        vertical-align: top;\n",
              "    }\n",
              "\n",
              "    .dataframe thead th {\n",
              "        text-align: right;\n",
              "    }\n",
              "</style>\n",
              "<table border=\"1\" class=\"dataframe\">\n",
              "  <thead>\n",
              "    <tr style=\"text-align: right;\">\n",
              "      <th></th>\n",
              "      <th>itemcode</th>\n",
              "      <th>etfTabCode</th>\n",
              "      <th>itemname</th>\n",
              "      <th>nowVal</th>\n",
              "      <th>risefall</th>\n",
              "      <th>changeVal</th>\n",
              "      <th>changeRate</th>\n",
              "      <th>nav</th>\n",
              "      <th>threeMonthEarnRate</th>\n",
              "      <th>quant</th>\n",
              "      <th>amonut</th>\n",
              "      <th>marketSum</th>\n",
              "    </tr>\n",
              "  </thead>\n",
              "  <tbody>\n",
              "    <tr>\n",
              "      <th>588</th>\n",
              "      <td>252720</td>\n",
              "      <td>2</td>\n",
              "      <td>KBSTAR 모멘텀밸류</td>\n",
              "      <td>11570</td>\n",
              "      <td>5</td>\n",
              "      <td>-80</td>\n",
              "      <td>-0.69</td>\n",
              "      <td>11626.0</td>\n",
              "      <td>-16.7798</td>\n",
              "      <td>23</td>\n",
              "      <td>0</td>\n",
              "      <td>12</td>\n",
              "    </tr>\n",
              "    <tr>\n",
              "      <th>589</th>\n",
              "      <td>284990</td>\n",
              "      <td>2</td>\n",
              "      <td>KBSTAR 200에너지화학</td>\n",
              "      <td>9620</td>\n",
              "      <td>5</td>\n",
              "      <td>-195</td>\n",
              "      <td>-1.99</td>\n",
              "      <td>9644.0</td>\n",
              "      <td>-12.5067</td>\n",
              "      <td>70</td>\n",
              "      <td>0</td>\n",
              "      <td>10</td>\n",
              "    </tr>\n",
              "    <tr>\n",
              "      <th>590</th>\n",
              "      <td>287330</td>\n",
              "      <td>2</td>\n",
              "      <td>KBSTAR 200생활소비재</td>\n",
              "      <td>6540</td>\n",
              "      <td>5</td>\n",
              "      <td>-60</td>\n",
              "      <td>-0.91</td>\n",
              "      <td>6553.0</td>\n",
              "      <td>-8.3843</td>\n",
              "      <td>59</td>\n",
              "      <td>0</td>\n",
              "      <td>9</td>\n",
              "    </tr>\n",
              "    <tr>\n",
              "      <th>591</th>\n",
              "      <td>287320</td>\n",
              "      <td>2</td>\n",
              "      <td>KBSTAR 200산업재</td>\n",
              "      <td>10555</td>\n",
              "      <td>5</td>\n",
              "      <td>-155</td>\n",
              "      <td>-1.45</td>\n",
              "      <td>10586.0</td>\n",
              "      <td>-9.0832</td>\n",
              "      <td>5</td>\n",
              "      <td>0</td>\n",
              "      <td>8</td>\n",
              "    </tr>\n",
              "    <tr>\n",
              "      <th>592</th>\n",
              "      <td>287310</td>\n",
              "      <td>2</td>\n",
              "      <td>KBSTAR 200경기소비재</td>\n",
              "      <td>9345</td>\n",
              "      <td>2</td>\n",
              "      <td>5</td>\n",
              "      <td>0.05</td>\n",
              "      <td>9366.0</td>\n",
              "      <td>-4.3425</td>\n",
              "      <td>6</td>\n",
              "      <td>0</td>\n",
              "      <td>7</td>\n",
              "    </tr>\n",
              "  </tbody>\n",
              "</table>\n",
              "</div>\n",
              "      <button class=\"colab-df-convert\" onclick=\"convertToInteractive('df-e1b6cf64-07c6-4c4c-a27a-af857412a0f8')\"\n",
              "              title=\"Convert this dataframe to an interactive table.\"\n",
              "              style=\"display:none;\">\n",
              "        \n",
              "  <svg xmlns=\"http://www.w3.org/2000/svg\" height=\"24px\"viewBox=\"0 0 24 24\"\n",
              "       width=\"24px\">\n",
              "    <path d=\"M0 0h24v24H0V0z\" fill=\"none\"/>\n",
              "    <path d=\"M18.56 5.44l.94 2.06.94-2.06 2.06-.94-2.06-.94-.94-2.06-.94 2.06-2.06.94zm-11 1L8.5 8.5l.94-2.06 2.06-.94-2.06-.94L8.5 2.5l-.94 2.06-2.06.94zm10 10l.94 2.06.94-2.06 2.06-.94-2.06-.94-.94-2.06-.94 2.06-2.06.94z\"/><path d=\"M17.41 7.96l-1.37-1.37c-.4-.4-.92-.59-1.43-.59-.52 0-1.04.2-1.43.59L10.3 9.45l-7.72 7.72c-.78.78-.78 2.05 0 2.83L4 21.41c.39.39.9.59 1.41.59.51 0 1.02-.2 1.41-.59l7.78-7.78 2.81-2.81c.8-.78.8-2.07 0-2.86zM5.41 20L4 18.59l7.72-7.72 1.47 1.35L5.41 20z\"/>\n",
              "  </svg>\n",
              "      </button>\n",
              "      \n",
              "  <style>\n",
              "    .colab-df-container {\n",
              "      display:flex;\n",
              "      flex-wrap:wrap;\n",
              "      gap: 12px;\n",
              "    }\n",
              "\n",
              "    .colab-df-convert {\n",
              "      background-color: #E8F0FE;\n",
              "      border: none;\n",
              "      border-radius: 50%;\n",
              "      cursor: pointer;\n",
              "      display: none;\n",
              "      fill: #1967D2;\n",
              "      height: 32px;\n",
              "      padding: 0 0 0 0;\n",
              "      width: 32px;\n",
              "    }\n",
              "\n",
              "    .colab-df-convert:hover {\n",
              "      background-color: #E2EBFA;\n",
              "      box-shadow: 0px 1px 2px rgba(60, 64, 67, 0.3), 0px 1px 3px 1px rgba(60, 64, 67, 0.15);\n",
              "      fill: #174EA6;\n",
              "    }\n",
              "\n",
              "    [theme=dark] .colab-df-convert {\n",
              "      background-color: #3B4455;\n",
              "      fill: #D2E3FC;\n",
              "    }\n",
              "\n",
              "    [theme=dark] .colab-df-convert:hover {\n",
              "      background-color: #434B5C;\n",
              "      box-shadow: 0px 1px 3px 1px rgba(0, 0, 0, 0.15);\n",
              "      filter: drop-shadow(0px 1px 2px rgba(0, 0, 0, 0.3));\n",
              "      fill: #FFFFFF;\n",
              "    }\n",
              "  </style>\n",
              "\n",
              "      <script>\n",
              "        const buttonEl =\n",
              "          document.querySelector('#df-e1b6cf64-07c6-4c4c-a27a-af857412a0f8 button.colab-df-convert');\n",
              "        buttonEl.style.display =\n",
              "          google.colab.kernel.accessAllowed ? 'block' : 'none';\n",
              "\n",
              "        async function convertToInteractive(key) {\n",
              "          const element = document.querySelector('#df-e1b6cf64-07c6-4c4c-a27a-af857412a0f8');\n",
              "          const dataTable =\n",
              "            await google.colab.kernel.invokeFunction('convertToInteractive',\n",
              "                                                     [key], {});\n",
              "          if (!dataTable) return;\n",
              "\n",
              "          const docLinkHtml = 'Like what you see? Visit the ' +\n",
              "            '<a target=\"_blank\" href=https://colab.research.google.com/notebooks/data_table.ipynb>data table notebook</a>'\n",
              "            + ' to learn more about interactive tables.';\n",
              "          element.innerHTML = '';\n",
              "          dataTable['output_type'] = 'display_data';\n",
              "          await google.colab.output.renderOutput(dataTable, element);\n",
              "          const docLink = document.createElement('div');\n",
              "          docLink.innerHTML = docLinkHtml;\n",
              "          element.appendChild(docLink);\n",
              "        }\n",
              "      </script>\n",
              "    </div>\n",
              "  </div>\n",
              "  "
            ]
          },
          "metadata": {},
          "execution_count": 31
        }
      ],
      "source": [
        "# 데이터 프레임으로 잘 만들어 졌는지 하단 데이터의 일부만 미리보기 합니다.\n",
        "df.tail()"
      ]
    },
    {
      "cell_type": "code",
      "source": [
        "#기술통계\n",
        "df.describe().round(2) #소수점 둘째 자리수"
      ],
      "metadata": {
        "colab": {
          "base_uri": "https://localhost:8080/",
          "height": 300
        },
        "id": "z7v53NwU_SrD",
        "outputId": "b4d75bae-4d48-419b-928a-6a11180fbc3f"
      },
      "execution_count": null,
      "outputs": [
        {
          "output_type": "execute_result",
          "data": {
            "text/plain": [
              "       etfTabCode     nowVal  changeVal  changeRate        nav  \\\n",
              "count      593.00     593.00     593.00      593.00     593.00   \n",
              "mean         3.39   18727.28      28.58        0.01   18722.34   \n",
              "std          1.83   23935.37     173.66        1.20   23934.81   \n",
              "min          1.00    2235.00    -420.00       -3.53     511.00   \n",
              "25%          2.00    8220.00     -65.00       -0.73    8210.00   \n",
              "50%          3.00   10395.00       0.00        0.00   10439.00   \n",
              "75%          4.00   14415.00      95.00        0.62   14444.00   \n",
              "max          7.00  111675.00    1385.00        7.37  111609.00   \n",
              "\n",
              "       threeMonthEarnRate         quant      amonut  marketSum  \n",
              "count              551.00  5.930000e+02      593.00     593.00  \n",
              "mean                -9.74  9.371346e+05     6390.73    1243.27  \n",
              "std                 11.70  1.280723e+07    54498.25    3882.49  \n",
              "min                -40.08  0.000000e+00        0.00       7.00  \n",
              "25%                -16.10  1.550000e+02        2.00      75.00  \n",
              "50%                -12.93  3.232000e+03       37.00     157.00  \n",
              "75%                 -1.31  2.752000e+04      311.00     637.00  \n",
              "max                 41.12  2.982313e+08  1000885.00   51780.00  "
            ],
            "text/html": [
              "\n",
              "  <div id=\"df-1ce61f22-77e3-443a-b445-9c2a90005185\">\n",
              "    <div class=\"colab-df-container\">\n",
              "      <div>\n",
              "<style scoped>\n",
              "    .dataframe tbody tr th:only-of-type {\n",
              "        vertical-align: middle;\n",
              "    }\n",
              "\n",
              "    .dataframe tbody tr th {\n",
              "        vertical-align: top;\n",
              "    }\n",
              "\n",
              "    .dataframe thead th {\n",
              "        text-align: right;\n",
              "    }\n",
              "</style>\n",
              "<table border=\"1\" class=\"dataframe\">\n",
              "  <thead>\n",
              "    <tr style=\"text-align: right;\">\n",
              "      <th></th>\n",
              "      <th>etfTabCode</th>\n",
              "      <th>nowVal</th>\n",
              "      <th>changeVal</th>\n",
              "      <th>changeRate</th>\n",
              "      <th>nav</th>\n",
              "      <th>threeMonthEarnRate</th>\n",
              "      <th>quant</th>\n",
              "      <th>amonut</th>\n",
              "      <th>marketSum</th>\n",
              "    </tr>\n",
              "  </thead>\n",
              "  <tbody>\n",
              "    <tr>\n",
              "      <th>count</th>\n",
              "      <td>593.00</td>\n",
              "      <td>593.00</td>\n",
              "      <td>593.00</td>\n",
              "      <td>593.00</td>\n",
              "      <td>593.00</td>\n",
              "      <td>551.00</td>\n",
              "      <td>5.930000e+02</td>\n",
              "      <td>593.00</td>\n",
              "      <td>593.00</td>\n",
              "    </tr>\n",
              "    <tr>\n",
              "      <th>mean</th>\n",
              "      <td>3.39</td>\n",
              "      <td>18727.28</td>\n",
              "      <td>28.58</td>\n",
              "      <td>0.01</td>\n",
              "      <td>18722.34</td>\n",
              "      <td>-9.74</td>\n",
              "      <td>9.371346e+05</td>\n",
              "      <td>6390.73</td>\n",
              "      <td>1243.27</td>\n",
              "    </tr>\n",
              "    <tr>\n",
              "      <th>std</th>\n",
              "      <td>1.83</td>\n",
              "      <td>23935.37</td>\n",
              "      <td>173.66</td>\n",
              "      <td>1.20</td>\n",
              "      <td>23934.81</td>\n",
              "      <td>11.70</td>\n",
              "      <td>1.280723e+07</td>\n",
              "      <td>54498.25</td>\n",
              "      <td>3882.49</td>\n",
              "    </tr>\n",
              "    <tr>\n",
              "      <th>min</th>\n",
              "      <td>1.00</td>\n",
              "      <td>2235.00</td>\n",
              "      <td>-420.00</td>\n",
              "      <td>-3.53</td>\n",
              "      <td>511.00</td>\n",
              "      <td>-40.08</td>\n",
              "      <td>0.000000e+00</td>\n",
              "      <td>0.00</td>\n",
              "      <td>7.00</td>\n",
              "    </tr>\n",
              "    <tr>\n",
              "      <th>25%</th>\n",
              "      <td>2.00</td>\n",
              "      <td>8220.00</td>\n",
              "      <td>-65.00</td>\n",
              "      <td>-0.73</td>\n",
              "      <td>8210.00</td>\n",
              "      <td>-16.10</td>\n",
              "      <td>1.550000e+02</td>\n",
              "      <td>2.00</td>\n",
              "      <td>75.00</td>\n",
              "    </tr>\n",
              "    <tr>\n",
              "      <th>50%</th>\n",
              "      <td>3.00</td>\n",
              "      <td>10395.00</td>\n",
              "      <td>0.00</td>\n",
              "      <td>0.00</td>\n",
              "      <td>10439.00</td>\n",
              "      <td>-12.93</td>\n",
              "      <td>3.232000e+03</td>\n",
              "      <td>37.00</td>\n",
              "      <td>157.00</td>\n",
              "    </tr>\n",
              "    <tr>\n",
              "      <th>75%</th>\n",
              "      <td>4.00</td>\n",
              "      <td>14415.00</td>\n",
              "      <td>95.00</td>\n",
              "      <td>0.62</td>\n",
              "      <td>14444.00</td>\n",
              "      <td>-1.31</td>\n",
              "      <td>2.752000e+04</td>\n",
              "      <td>311.00</td>\n",
              "      <td>637.00</td>\n",
              "    </tr>\n",
              "    <tr>\n",
              "      <th>max</th>\n",
              "      <td>7.00</td>\n",
              "      <td>111675.00</td>\n",
              "      <td>1385.00</td>\n",
              "      <td>7.37</td>\n",
              "      <td>111609.00</td>\n",
              "      <td>41.12</td>\n",
              "      <td>2.982313e+08</td>\n",
              "      <td>1000885.00</td>\n",
              "      <td>51780.00</td>\n",
              "    </tr>\n",
              "  </tbody>\n",
              "</table>\n",
              "</div>\n",
              "      <button class=\"colab-df-convert\" onclick=\"convertToInteractive('df-1ce61f22-77e3-443a-b445-9c2a90005185')\"\n",
              "              title=\"Convert this dataframe to an interactive table.\"\n",
              "              style=\"display:none;\">\n",
              "        \n",
              "  <svg xmlns=\"http://www.w3.org/2000/svg\" height=\"24px\"viewBox=\"0 0 24 24\"\n",
              "       width=\"24px\">\n",
              "    <path d=\"M0 0h24v24H0V0z\" fill=\"none\"/>\n",
              "    <path d=\"M18.56 5.44l.94 2.06.94-2.06 2.06-.94-2.06-.94-.94-2.06-.94 2.06-2.06.94zm-11 1L8.5 8.5l.94-2.06 2.06-.94-2.06-.94L8.5 2.5l-.94 2.06-2.06.94zm10 10l.94 2.06.94-2.06 2.06-.94-2.06-.94-.94-2.06-.94 2.06-2.06.94z\"/><path d=\"M17.41 7.96l-1.37-1.37c-.4-.4-.92-.59-1.43-.59-.52 0-1.04.2-1.43.59L10.3 9.45l-7.72 7.72c-.78.78-.78 2.05 0 2.83L4 21.41c.39.39.9.59 1.41.59.51 0 1.02-.2 1.41-.59l7.78-7.78 2.81-2.81c.8-.78.8-2.07 0-2.86zM5.41 20L4 18.59l7.72-7.72 1.47 1.35L5.41 20z\"/>\n",
              "  </svg>\n",
              "      </button>\n",
              "      \n",
              "  <style>\n",
              "    .colab-df-container {\n",
              "      display:flex;\n",
              "      flex-wrap:wrap;\n",
              "      gap: 12px;\n",
              "    }\n",
              "\n",
              "    .colab-df-convert {\n",
              "      background-color: #E8F0FE;\n",
              "      border: none;\n",
              "      border-radius: 50%;\n",
              "      cursor: pointer;\n",
              "      display: none;\n",
              "      fill: #1967D2;\n",
              "      height: 32px;\n",
              "      padding: 0 0 0 0;\n",
              "      width: 32px;\n",
              "    }\n",
              "\n",
              "    .colab-df-convert:hover {\n",
              "      background-color: #E2EBFA;\n",
              "      box-shadow: 0px 1px 2px rgba(60, 64, 67, 0.3), 0px 1px 3px 1px rgba(60, 64, 67, 0.15);\n",
              "      fill: #174EA6;\n",
              "    }\n",
              "\n",
              "    [theme=dark] .colab-df-convert {\n",
              "      background-color: #3B4455;\n",
              "      fill: #D2E3FC;\n",
              "    }\n",
              "\n",
              "    [theme=dark] .colab-df-convert:hover {\n",
              "      background-color: #434B5C;\n",
              "      box-shadow: 0px 1px 3px 1px rgba(0, 0, 0, 0.15);\n",
              "      filter: drop-shadow(0px 1px 2px rgba(0, 0, 0, 0.3));\n",
              "      fill: #FFFFFF;\n",
              "    }\n",
              "  </style>\n",
              "\n",
              "      <script>\n",
              "        const buttonEl =\n",
              "          document.querySelector('#df-1ce61f22-77e3-443a-b445-9c2a90005185 button.colab-df-convert');\n",
              "        buttonEl.style.display =\n",
              "          google.colab.kernel.accessAllowed ? 'block' : 'none';\n",
              "\n",
              "        async function convertToInteractive(key) {\n",
              "          const element = document.querySelector('#df-1ce61f22-77e3-443a-b445-9c2a90005185');\n",
              "          const dataTable =\n",
              "            await google.colab.kernel.invokeFunction('convertToInteractive',\n",
              "                                                     [key], {});\n",
              "          if (!dataTable) return;\n",
              "\n",
              "          const docLinkHtml = 'Like what you see? Visit the ' +\n",
              "            '<a target=\"_blank\" href=https://colab.research.google.com/notebooks/data_table.ipynb>data table notebook</a>'\n",
              "            + ' to learn more about interactive tables.';\n",
              "          element.innerHTML = '';\n",
              "          dataTable['output_type'] = 'display_data';\n",
              "          await google.colab.output.renderOutput(dataTable, element);\n",
              "          const docLink = document.createElement('div');\n",
              "          docLink.innerHTML = docLinkHtml;\n",
              "          element.appendChild(docLink);\n",
              "        }\n",
              "      </script>\n",
              "    </div>\n",
              "  </div>\n",
              "  "
            ]
          },
          "metadata": {},
          "execution_count": 33
        }
      ]
    },
    {
      "cell_type": "code",
      "source": [
        ""
      ],
      "metadata": {
        "id": "OWo9T2q_ApOn"
      },
      "execution_count": null,
      "outputs": []
    },
    {
      "cell_type": "code",
      "source": [
        "_=df.hist(figsize=(12,8), bins = 50)"
      ],
      "metadata": {
        "colab": {
          "base_uri": "https://localhost:8080/",
          "height": 512
        },
        "id": "RO4iAhCrApGQ",
        "outputId": "0e8e8146-6355-4fbc-de2a-7b7803a6f3be"
      },
      "execution_count": null,
      "outputs": [
        {
          "output_type": "display_data",
          "data": {
            "text/plain": [
              "<Figure size 864x576 with 9 Axes>"
            ],
            "image/png": "[encoded data removed]"
          },
          "metadata": {
            "needs_background": "light"
          }
        }
      ]
    },
    {
      "cell_type": "code",
      "source": [
        "df.columns"
      ],
      "metadata": {
        "colab": {
          "base_uri": "https://localhost:8080/"
        },
        "id": "79T-MHfEA2OK",
        "outputId": "00a577b6-d4c1-49e8-f52b-e3fad21d457a"
      },
      "execution_count": null,
      "outputs": [
        {
          "output_type": "execute_result",
          "data": {
            "text/plain": [
              "Index(['itemcode', 'etfTabCode', 'itemname', 'nowVal', 'risefall', 'changeVal',\n",
              "       'changeRate', 'nav', 'threeMonthEarnRate', 'quant', 'amonut',\n",
              "       'marketSum'],\n",
              "      dtype='object')"
            ]
          },
          "metadata": {},
          "execution_count": 36
        }
      ]
    },
    {
      "cell_type": "code",
      "source": [
        "df.describe(include=\"object\")"
      ],
      "metadata": {
        "colab": {
          "base_uri": "https://localhost:8080/",
          "height": 175
        },
        "id": "sc-VTxNqCUr-",
        "outputId": "8cf0734b-d1ae-4869-e562-9cb2e98fc6b7"
      },
      "execution_count": null,
      "outputs": [
        {
          "output_type": "execute_result",
          "data": {
            "text/plain": [
              "       itemcode   itemname risefall  \\\n",
              "count       593        593      593   \n",
              "unique      593        593        3   \n",
              "top      069500  KODEX 200        2   \n",
              "freq          1          1      291   \n",
              "\n",
              "                                               etFTabName  \n",
              "count                                                 593  \n",
              "unique                                                  1  \n",
              "top     [\\n전체\\n국내 시장지수\\n국내 업종/테마\\n국내 파생\\n해외 주식\\n원자재\\n채...  \n",
              "freq                                                  593  "
            ],
            "text/html": [
              "\n",
              "  <div id=\"df-0a20fc41-d6a2-4a04-ad2b-15bd082a48d5\">\n",
              "    <div class=\"colab-df-container\">\n",
              "      <div>\n",
              "<style scoped>\n",
              "    .dataframe tbody tr th:only-of-type {\n",
              "        vertical-align: middle;\n",
              "    }\n",
              "\n",
              "    .dataframe tbody tr th {\n",
              "        vertical-align: top;\n",
              "    }\n",
              "\n",
              "    .dataframe thead th {\n",
              "        text-align: right;\n",
              "    }\n",
              "</style>\n",
              "<table border=\"1\" class=\"dataframe\">\n",
              "  <thead>\n",
              "    <tr style=\"text-align: right;\">\n",
              "      <th></th>\n",
              "      <th>itemcode</th>\n",
              "      <th>itemname</th>\n",
              "      <th>risefall</th>\n",
              "      <th>etFTabName</th>\n",
              "    </tr>\n",
              "  </thead>\n",
              "  <tbody>\n",
              "    <tr>\n",
              "      <th>count</th>\n",
              "      <td>593</td>\n",
              "      <td>593</td>\n",
              "      <td>593</td>\n",
              "      <td>593</td>\n",
              "    </tr>\n",
              "    <tr>\n",
              "      <th>unique</th>\n",
              "      <td>593</td>\n",
              "      <td>593</td>\n",
              "      <td>3</td>\n",
              "      <td>1</td>\n",
              "    </tr>\n",
              "    <tr>\n",
              "      <th>top</th>\n",
              "      <td>069500</td>\n",
              "      <td>KODEX 200</td>\n",
              "      <td>2</td>\n",
              "      <td>[\\n전체\\n국내 시장지수\\n국내 업종/테마\\n국내 파생\\n해외 주식\\n원자재\\n채...</td>\n",
              "    </tr>\n",
              "    <tr>\n",
              "      <th>freq</th>\n",
              "      <td>1</td>\n",
              "      <td>1</td>\n",
              "      <td>291</td>\n",
              "      <td>593</td>\n",
              "    </tr>\n",
              "  </tbody>\n",
              "</table>\n",
              "</div>\n",
              "      <button class=\"colab-df-convert\" onclick=\"convertToInteractive('df-0a20fc41-d6a2-4a04-ad2b-15bd082a48d5')\"\n",
              "              title=\"Convert this dataframe to an interactive table.\"\n",
              "              style=\"display:none;\">\n",
              "        \n",
              "  <svg xmlns=\"http://www.w3.org/2000/svg\" height=\"24px\"viewBox=\"0 0 24 24\"\n",
              "       width=\"24px\">\n",
              "    <path d=\"M0 0h24v24H0V0z\" fill=\"none\"/>\n",
              "    <path d=\"M18.56 5.44l.94 2.06.94-2.06 2.06-.94-2.06-.94-.94-2.06-.94 2.06-2.06.94zm-11 1L8.5 8.5l.94-2.06 2.06-.94-2.06-.94L8.5 2.5l-.94 2.06-2.06.94zm10 10l.94 2.06.94-2.06 2.06-.94-2.06-.94-.94-2.06-.94 2.06-2.06.94z\"/><path d=\"M17.41 7.96l-1.37-1.37c-.4-.4-.92-.59-1.43-.59-.52 0-1.04.2-1.43.59L10.3 9.45l-7.72 7.72c-.78.78-.78 2.05 0 2.83L4 21.41c.39.39.9.59 1.41.59.51 0 1.02-.2 1.41-.59l7.78-7.78 2.81-2.81c.8-.78.8-2.07 0-2.86zM5.41 20L4 18.59l7.72-7.72 1.47 1.35L5.41 20z\"/>\n",
              "  </svg>\n",
              "      </button>\n",
              "      \n",
              "  <style>\n",
              "    .colab-df-container {\n",
              "      display:flex;\n",
              "      flex-wrap:wrap;\n",
              "      gap: 12px;\n",
              "    }\n",
              "\n",
              "    .colab-df-convert {\n",
              "      background-color: #E8F0FE;\n",
              "      border: none;\n",
              "      border-radius: 50%;\n",
              "      cursor: pointer;\n",
              "      display: none;\n",
              "      fill: #1967D2;\n",
              "      height: 32px;\n",
              "      padding: 0 0 0 0;\n",
              "      width: 32px;\n",
              "    }\n",
              "\n",
              "    .colab-df-convert:hover {\n",
              "      background-color: #E2EBFA;\n",
              "      box-shadow: 0px 1px 2px rgba(60, 64, 67, 0.3), 0px 1px 3px 1px rgba(60, 64, 67, 0.15);\n",
              "      fill: #174EA6;\n",
              "    }\n",
              "\n",
              "    [theme=dark] .colab-df-convert {\n",
              "      background-color: #3B4455;\n",
              "      fill: #D2E3FC;\n",
              "    }\n",
              "\n",
              "    [theme=dark] .colab-df-convert:hover {\n",
              "      background-color: #434B5C;\n",
              "      box-shadow: 0px 1px 3px 1px rgba(0, 0, 0, 0.15);\n",
              "      filter: drop-shadow(0px 1px 2px rgba(0, 0, 0, 0.3));\n",
              "      fill: #FFFFFF;\n",
              "    }\n",
              "  </style>\n",
              "\n",
              "      <script>\n",
              "        const buttonEl =\n",
              "          document.querySelector('#df-0a20fc41-d6a2-4a04-ad2b-15bd082a48d5 button.colab-df-convert');\n",
              "        buttonEl.style.display =\n",
              "          google.colab.kernel.accessAllowed ? 'block' : 'none';\n",
              "\n",
              "        async function convertToInteractive(key) {\n",
              "          const element = document.querySelector('#df-0a20fc41-d6a2-4a04-ad2b-15bd082a48d5');\n",
              "          const dataTable =\n",
              "            await google.colab.kernel.invokeFunction('convertToInteractive',\n",
              "                                                     [key], {});\n",
              "          if (!dataTable) return;\n",
              "\n",
              "          const docLinkHtml = 'Like what you see? Visit the ' +\n",
              "            '<a target=\"_blank\" href=https://colab.research.google.com/notebooks/data_table.ipynb>data table notebook</a>'\n",
              "            + ' to learn more about interactive tables.';\n",
              "          element.innerHTML = '';\n",
              "          dataTable['output_type'] = 'display_data';\n",
              "          await google.colab.output.renderOutput(dataTable, element);\n",
              "          const docLink = document.createElement('div');\n",
              "          docLink.innerHTML = docLinkHtml;\n",
              "          element.appendChild(docLink);\n",
              "        }\n",
              "      </script>\n",
              "    </div>\n",
              "  </div>\n",
              "  "
            ]
          },
          "metadata": {},
          "execution_count": 44
        }
      ]
    },
    {
      "cell_type": "code",
      "source": [
        "tab_name = \"\"\"\n",
        "전체\n",
        "국내 시장지수\n",
        "국내 업종/테마\n",
        "국내 파생\n",
        "해외 주식\n",
        "원자재\n",
        "채권\n",
        "기타\n",
        "\"\"\"\n",
        "tab_name_list = tab_name.split(\"\\n\")\n",
        "tab_name_list"
      ],
      "metadata": {
        "colab": {
          "base_uri": "https://localhost:8080/"
        },
        "id": "0fWcl_KFBbRO",
        "outputId": "906b1612-f55e-45c4-c7f7-f315a3128d42"
      },
      "execution_count": null,
      "outputs": [
        {
          "output_type": "execute_result",
          "data": {
            "text/plain": [
              "['', '전체', '국내 시장지수', '국내 업종/테마', '국내 파생', '해외 주식', '원자재', '채권', '기타', '']"
            ]
          },
          "metadata": {},
          "execution_count": 41
        }
      ]
    },
    {
      "cell_type": "code",
      "source": [
        "def find_tab_name(tab_code):\n",
        "    return tab_name_list\n",
        "\n",
        "find_tab_name(1)"
      ],
      "metadata": {
        "colab": {
          "base_uri": "https://localhost:8080/"
        },
        "id": "xBWqC2nQBlVT",
        "outputId": "2eae014e-2c26-463f-9747-9f40c89040b7"
      },
      "execution_count": null,
      "outputs": [
        {
          "output_type": "execute_result",
          "data": {
            "text/plain": [
              "['', '전체', '국내 시장지수', '국내 업종/테마', '국내 파생', '해외 주식', '원자재', '채권', '기타', '']"
            ]
          },
          "metadata": {},
          "execution_count": 42
        }
      ]
    },
    {
      "cell_type": "code",
      "source": [
        "df[\"etFTabName\"] = df[\"etfTabCode\"].map(find_tab_name)"
      ],
      "metadata": {
        "id": "WLqvEflVBzet"
      },
      "execution_count": null,
      "outputs": []
    },
    {
      "cell_type": "code",
      "source": [
        "df[\"etfTabCode\"].value_counts()"
      ],
      "metadata": {
        "colab": {
          "base_uri": "https://localhost:8080/"
        },
        "id": "pyH1NYJSA5DN",
        "outputId": "da1296db-ea2b-4194-b447-376b89ee3929"
      },
      "execution_count": null,
      "outputs": [
        {
          "output_type": "execute_result",
          "data": {
            "text/plain": [
              "2    210\n",
              "4    149\n",
              "1     66\n",
              "6     62\n",
              "7     51\n",
              "3     37\n",
              "5     18\n",
              "Name: etfTabCode, dtype: int64"
            ]
          },
          "metadata": {},
          "execution_count": 37
        }
      ]
    },
    {
      "cell_type": "markdown",
      "metadata": {
        "id": "bKvN5BQWYcND"
      },
      "source": [
        "## 파일 저장\n",
        "### 파일명 만들기"
      ]
    },
    {
      "cell_type": "code",
      "execution_count": null,
      "metadata": {
        "id": "WZTFTe620jYn",
        "colab": {
          "base_uri": "https://localhost:8080/",
          "height": 35
        },
        "outputId": "619b391e-c515-44ab-af15-fba3e9cd2aa4"
      },
      "outputs": [
        {
          "output_type": "execute_result",
          "data": {
            "text/plain": [
              "'2022-07-15'"
            ],
            "application/vnd.google.colaboratory.intrinsic+json": {
              "type": "string"
            }
          },
          "metadata": {},
          "execution_count": 46
        }
      ],
      "source": [
        "# 파이썬 표준라이브러리인 datetime을 불러옵니다.\n",
        "# 날짜를 만들어 저장하기 위해 오늘 날짜를 구합니다.\n",
        "import datetime\n",
        "\n",
        "today = datetime.datetime.today().strftime(\"%Y-%m-%d\")\n",
        "today"
      ]
    },
    {
      "cell_type": "code",
      "execution_count": null,
      "metadata": {
        "id": "dWw88foz0jYn",
        "scrolled": true,
        "colab": {
          "base_uri": "https://localhost:8080/",
          "height": 35
        },
        "outputId": "f5733eb3-d912-418b-ad3d-4b4eab3ddf68"
      },
      "outputs": [
        {
          "output_type": "execute_result",
          "data": {
            "text/plain": [
              "'eft_2022-07-15_raw.csv'"
            ],
            "application/vnd.google.colaboratory.intrinsic+json": {
              "type": "string"
            }
          },
          "metadata": {},
          "execution_count": 47
        }
      ],
      "source": [
        "# f-string 방식으로 파일명을 만들어 줍니다.\n",
        "# eft_날짜_raw.csv 형태로 만듭니다.\n",
        "file_name = f\"eft_{today}_raw.csv\"\n",
        "file_name"
      ]
    },
    {
      "cell_type": "markdown",
      "metadata": {
        "id": "QJAFPTIxYcNE"
      },
      "source": [
        "### 파일로 저장하고 불러오기"
      ]
    },
    {
      "cell_type": "code",
      "execution_count": null,
      "metadata": {
        "id": "L8WaFl6d0jYn"
      },
      "outputs": [],
      "source": [
        "# csv 형태로 저장합니다. index 가 저장되지 않도록 합니다.\n",
        "df.to_csv(file_name, index=False)"
      ]
    },
    {
      "cell_type": "code",
      "execution_count": null,
      "metadata": {
        "id": "2Vi0tnZL0jYn",
        "colab": {
          "base_uri": "https://localhost:8080/",
          "height": 1000
        },
        "outputId": "6b54b42e-a440-40bf-a21c-731bb8ad86ea"
      },
      "outputs": [
        {
          "output_type": "execute_result",
          "data": {
            "text/plain": [
              "     itemcode  etfTabCode               itemname  nowVal  risefall  changeVal  \\\n",
              "0       69500           1              KODEX 200   30895         2        185   \n",
              "1      371460           4  TIGER 차이나전기차SOLACTIVE   17485         2        130   \n",
              "2      122630           3             KODEX 레버리지   14295         2        190   \n",
              "3      133690           4         TIGER 미국나스닥100   70025         2       1385   \n",
              "4      252670           3       KODEX 200선물인버스2X    3305         5        -40   \n",
              "..        ...         ...                    ...     ...       ...        ...   \n",
              "588    252720           2           KBSTAR 모멘텀밸류   11570         5        -80   \n",
              "589    284990           2        KBSTAR 200에너지화학    9620         5       -195   \n",
              "590    287330           2        KBSTAR 200생활소비재    6540         5        -60   \n",
              "591    287320           2          KBSTAR 200산업재   10555         5       -155   \n",
              "592    287310           2        KBSTAR 200경기소비재    9345         2          5   \n",
              "\n",
              "     changeRate      nav  threeMonthEarnRate      quant   amonut  marketSum  \\\n",
              "0          0.60  30958.0            -14.0234    4656347   142798      51780   \n",
              "1          0.75  17426.0             30.0487    9177362   162330      39222   \n",
              "2          1.35  14335.0            -27.4621   47812806   673712      23537   \n",
              "3          2.02  69884.0            -12.2363     132532     9273      20713   \n",
              "4         -1.20   3315.0             31.6929  298231327  1000885      20653   \n",
              "..          ...      ...                 ...        ...      ...        ...   \n",
              "588       -0.69  11626.0            -16.7798         23        0         12   \n",
              "589       -1.99   9644.0            -12.5067         70        0         10   \n",
              "590       -0.91   6553.0             -8.3843         59        0          9   \n",
              "591       -1.45  10586.0             -9.0832          5        0          8   \n",
              "592        0.05   9366.0             -4.3425          6        0          7   \n",
              "\n",
              "                                            etFTabName  \n",
              "0    ['\\n전체\\n국내 시장지수\\n국내 업종/테마\\n국내 파생\\n해외 주식\\n원자재\\n...  \n",
              "1    ['\\n전체\\n국내 시장지수\\n국내 업종/테마\\n국내 파생\\n해외 주식\\n원자재\\n...  \n",
              "2    ['\\n전체\\n국내 시장지수\\n국내 업종/테마\\n국내 파생\\n해외 주식\\n원자재\\n...  \n",
              "3    ['\\n전체\\n국내 시장지수\\n국내 업종/테마\\n국내 파생\\n해외 주식\\n원자재\\n...  \n",
              "4    ['\\n전체\\n국내 시장지수\\n국내 업종/테마\\n국내 파생\\n해외 주식\\n원자재\\n...  \n",
              "..                                                 ...  \n",
              "588  ['\\n전체\\n국내 시장지수\\n국내 업종/테마\\n국내 파생\\n해외 주식\\n원자재\\n...  \n",
              "589  ['\\n전체\\n국내 시장지수\\n국내 업종/테마\\n국내 파생\\n해외 주식\\n원자재\\n...  \n",
              "590  ['\\n전체\\n국내 시장지수\\n국내 업종/테마\\n국내 파생\\n해외 주식\\n원자재\\n...  \n",
              "591  ['\\n전체\\n국내 시장지수\\n국내 업종/테마\\n국내 파생\\n해외 주식\\n원자재\\n...  \n",
              "592  ['\\n전체\\n국내 시장지수\\n국내 업종/테마\\n국내 파생\\n해외 주식\\n원자재\\n...  \n",
              "\n",
              "[593 rows x 13 columns]"
            ],
            "text/html": [
              "\n",
              "  <div id=\"df-1bdb9769-8e0e-45d9-bdcd-106335a1ce0f\">\n",
              "    <div class=\"colab-df-container\">\n",
              "      <div>\n",
              "<style scoped>\n",
              "    .dataframe tbody tr th:only-of-type {\n",
              "        vertical-align: middle;\n",
              "    }\n",
              "\n",
              "    .dataframe tbody tr th {\n",
              "        vertical-align: top;\n",
              "    }\n",
              "\n",
              "    .dataframe thead th {\n",
              "        text-align: right;\n",
              "    }\n",
              "</style>\n",
              "<table border=\"1\" class=\"dataframe\">\n",
              "  <thead>\n",
              "    <tr style=\"text-align: right;\">\n",
              "      <th></th>\n",
              "      <th>itemcode</th>\n",
              "      <th>etfTabCode</th>\n",
              "      <th>itemname</th>\n",
              "      <th>nowVal</th>\n",
              "      <th>risefall</th>\n",
              "      <th>changeVal</th>\n",
              "      <th>changeRate</th>\n",
              "      <th>nav</th>\n",
              "      <th>threeMonthEarnRate</th>\n",
              "      <th>quant</th>\n",
              "      <th>amonut</th>\n",
              "      <th>marketSum</th>\n",
              "      <th>etFTabName</th>\n",
              "    </tr>\n",
              "  </thead>\n",
              "  <tbody>\n",
              "    <tr>\n",
              "      <th>0</th>\n",
              "      <td>69500</td>\n",
              "      <td>1</td>\n",
              "      <td>KODEX 200</td>\n",
              "      <td>30895</td>\n",
              "      <td>2</td>\n",
              "      <td>185</td>\n",
              "      <td>0.60</td>\n",
              "      <td>30958.0</td>\n",
              "      <td>-14.0234</td>\n",
              "      <td>4656347</td>\n",
              "      <td>142798</td>\n",
              "      <td>51780</td>\n",
              "      <td>['\\n전체\\n국내 시장지수\\n국내 업종/테마\\n국내 파생\\n해외 주식\\n원자재\\n...</td>\n",
              "    </tr>\n",
              "    <tr>\n",
              "      <th>1</th>\n",
              "      <td>371460</td>\n",
              "      <td>4</td>\n",
              "      <td>TIGER 차이나전기차SOLACTIVE</td>\n",
              "      <td>17485</td>\n",
              "      <td>2</td>\n",
              "      <td>130</td>\n",
              "      <td>0.75</td>\n",
              "      <td>17426.0</td>\n",
              "      <td>30.0487</td>\n",
              "      <td>9177362</td>\n",
              "      <td>162330</td>\n",
              "      <td>39222</td>\n",
              "      <td>['\\n전체\\n국내 시장지수\\n국내 업종/테마\\n국내 파생\\n해외 주식\\n원자재\\n...</td>\n",
              "    </tr>\n",
              "    <tr>\n",
              "      <th>2</th>\n",
              "      <td>122630</td>\n",
              "      <td>3</td>\n",
              "      <td>KODEX 레버리지</td>\n",
              "      <td>14295</td>\n",
              "      <td>2</td>\n",
              "      <td>190</td>\n",
              "      <td>1.35</td>\n",
              "      <td>14335.0</td>\n",
              "      <td>-27.4621</td>\n",
              "      <td>47812806</td>\n",
              "      <td>673712</td>\n",
              "      <td>23537</td>\n",
              "      <td>['\\n전체\\n국내 시장지수\\n국내 업종/테마\\n국내 파생\\n해외 주식\\n원자재\\n...</td>\n",
              "    </tr>\n",
              "    <tr>\n",
              "      <th>3</th>\n",
              "      <td>133690</td>\n",
              "      <td>4</td>\n",
              "      <td>TIGER 미국나스닥100</td>\n",
              "      <td>70025</td>\n",
              "      <td>2</td>\n",
              "      <td>1385</td>\n",
              "      <td>2.02</td>\n",
              "      <td>69884.0</td>\n",
              "      <td>-12.2363</td>\n",
              "      <td>132532</td>\n",
              "      <td>9273</td>\n",
              "      <td>20713</td>\n",
              "      <td>['\\n전체\\n국내 시장지수\\n국내 업종/테마\\n국내 파생\\n해외 주식\\n원자재\\n...</td>\n",
              "    </tr>\n",
              "    <tr>\n",
              "      <th>4</th>\n",
              "      <td>252670</td>\n",
              "      <td>3</td>\n",
              "      <td>KODEX 200선물인버스2X</td>\n",
              "      <td>3305</td>\n",
              "      <td>5</td>\n",
              "      <td>-40</td>\n",
              "      <td>-1.20</td>\n",
              "      <td>3315.0</td>\n",
              "      <td>31.6929</td>\n",
              "      <td>298231327</td>\n",
              "      <td>1000885</td>\n",
              "      <td>20653</td>\n",
              "      <td>['\\n전체\\n국내 시장지수\\n국내 업종/테마\\n국내 파생\\n해외 주식\\n원자재\\n...</td>\n",
              "    </tr>\n",
              "    <tr>\n",
              "      <th>...</th>\n",
              "      <td>...</td>\n",
              "      <td>...</td>\n",
              "      <td>...</td>\n",
              "      <td>...</td>\n",
              "      <td>...</td>\n",
              "      <td>...</td>\n",
              "      <td>...</td>\n",
              "      <td>...</td>\n",
              "      <td>...</td>\n",
              "      <td>...</td>\n",
              "      <td>...</td>\n",
              "      <td>...</td>\n",
              "      <td>...</td>\n",
              "    </tr>\n",
              "    <tr>\n",
              "      <th>588</th>\n",
              "      <td>252720</td>\n",
              "      <td>2</td>\n",
              "      <td>KBSTAR 모멘텀밸류</td>\n",
              "      <td>11570</td>\n",
              "      <td>5</td>\n",
              "      <td>-80</td>\n",
              "      <td>-0.69</td>\n",
              "      <td>11626.0</td>\n",
              "      <td>-16.7798</td>\n",
              "      <td>23</td>\n",
              "      <td>0</td>\n",
              "      <td>12</td>\n",
              "      <td>['\\n전체\\n국내 시장지수\\n국내 업종/테마\\n국내 파생\\n해외 주식\\n원자재\\n...</td>\n",
              "    </tr>\n",
              "    <tr>\n",
              "      <th>589</th>\n",
              "      <td>284990</td>\n",
              "      <td>2</td>\n",
              "      <td>KBSTAR 200에너지화학</td>\n",
              "      <td>9620</td>\n",
              "      <td>5</td>\n",
              "      <td>-195</td>\n",
              "      <td>-1.99</td>\n",
              "      <td>9644.0</td>\n",
              "      <td>-12.5067</td>\n",
              "      <td>70</td>\n",
              "      <td>0</td>\n",
              "      <td>10</td>\n",
              "      <td>['\\n전체\\n국내 시장지수\\n국내 업종/테마\\n국내 파생\\n해외 주식\\n원자재\\n...</td>\n",
              "    </tr>\n",
              "    <tr>\n",
              "      <th>590</th>\n",
              "      <td>287330</td>\n",
              "      <td>2</td>\n",
              "      <td>KBSTAR 200생활소비재</td>\n",
              "      <td>6540</td>\n",
              "      <td>5</td>\n",
              "      <td>-60</td>\n",
              "      <td>-0.91</td>\n",
              "      <td>6553.0</td>\n",
              "      <td>-8.3843</td>\n",
              "      <td>59</td>\n",
              "      <td>0</td>\n",
              "      <td>9</td>\n",
              "      <td>['\\n전체\\n국내 시장지수\\n국내 업종/테마\\n국내 파생\\n해외 주식\\n원자재\\n...</td>\n",
              "    </tr>\n",
              "    <tr>\n",
              "      <th>591</th>\n",
              "      <td>287320</td>\n",
              "      <td>2</td>\n",
              "      <td>KBSTAR 200산업재</td>\n",
              "      <td>10555</td>\n",
              "      <td>5</td>\n",
              "      <td>-155</td>\n",
              "      <td>-1.45</td>\n",
              "      <td>10586.0</td>\n",
              "      <td>-9.0832</td>\n",
              "      <td>5</td>\n",
              "      <td>0</td>\n",
              "      <td>8</td>\n",
              "      <td>['\\n전체\\n국내 시장지수\\n국내 업종/테마\\n국내 파생\\n해외 주식\\n원자재\\n...</td>\n",
              "    </tr>\n",
              "    <tr>\n",
              "      <th>592</th>\n",
              "      <td>287310</td>\n",
              "      <td>2</td>\n",
              "      <td>KBSTAR 200경기소비재</td>\n",
              "      <td>9345</td>\n",
              "      <td>2</td>\n",
              "      <td>5</td>\n",
              "      <td>0.05</td>\n",
              "      <td>9366.0</td>\n",
              "      <td>-4.3425</td>\n",
              "      <td>6</td>\n",
              "      <td>0</td>\n",
              "      <td>7</td>\n",
              "      <td>['\\n전체\\n국내 시장지수\\n국내 업종/테마\\n국내 파생\\n해외 주식\\n원자재\\n...</td>\n",
              "    </tr>\n",
              "  </tbody>\n",
              "</table>\n",
              "<p>593 rows × 13 columns</p>\n",
              "</div>\n",
              "      <button class=\"colab-df-convert\" onclick=\"convertToInteractive('df-1bdb9769-8e0e-45d9-bdcd-106335a1ce0f')\"\n",
              "              title=\"Convert this dataframe to an interactive table.\"\n",
              "              style=\"display:none;\">\n",
              "        \n",
              "  <svg xmlns=\"http://www.w3.org/2000/svg\" height=\"24px\"viewBox=\"0 0 24 24\"\n",
              "       width=\"24px\">\n",
              "    <path d=\"M0 0h24v24H0V0z\" fill=\"none\"/>\n",
              "    <path d=\"M18.56 5.44l.94 2.06.94-2.06 2.06-.94-2.06-.94-.94-2.06-.94 2.06-2.06.94zm-11 1L8.5 8.5l.94-2.06 2.06-.94-2.06-.94L8.5 2.5l-.94 2.06-2.06.94zm10 10l.94 2.06.94-2.06 2.06-.94-2.06-.94-.94-2.06-.94 2.06-2.06.94z\"/><path d=\"M17.41 7.96l-1.37-1.37c-.4-.4-.92-.59-1.43-.59-.52 0-1.04.2-1.43.59L10.3 9.45l-7.72 7.72c-.78.78-.78 2.05 0 2.83L4 21.41c.39.39.9.59 1.41.59.51 0 1.02-.2 1.41-.59l7.78-7.78 2.81-2.81c.8-.78.8-2.07 0-2.86zM5.41 20L4 18.59l7.72-7.72 1.47 1.35L5.41 20z\"/>\n",
              "  </svg>\n",
              "      </button>\n",
              "      \n",
              "  <style>\n",
              "    .colab-df-container {\n",
              "      display:flex;\n",
              "      flex-wrap:wrap;\n",
              "      gap: 12px;\n",
              "    }\n",
              "\n",
              "    .colab-df-convert {\n",
              "      background-color: #E8F0FE;\n",
              "      border: none;\n",
              "      border-radius: 50%;\n",
              "      cursor: pointer;\n",
              "      display: none;\n",
              "      fill: #1967D2;\n",
              "      height: 32px;\n",
              "      padding: 0 0 0 0;\n",
              "      width: 32px;\n",
              "    }\n",
              "\n",
              "    .colab-df-convert:hover {\n",
              "      background-color: #E2EBFA;\n",
              "      box-shadow: 0px 1px 2px rgba(60, 64, 67, 0.3), 0px 1px 3px 1px rgba(60, 64, 67, 0.15);\n",
              "      fill: #174EA6;\n",
              "    }\n",
              "\n",
              "    [theme=dark] .colab-df-convert {\n",
              "      background-color: #3B4455;\n",
              "      fill: #D2E3FC;\n",
              "    }\n",
              "\n",
              "    [theme=dark] .colab-df-convert:hover {\n",
              "      background-color: #434B5C;\n",
              "      box-shadow: 0px 1px 3px 1px rgba(0, 0, 0, 0.15);\n",
              "      filter: drop-shadow(0px 1px 2px rgba(0, 0, 0, 0.3));\n",
              "      fill: #FFFFFF;\n",
              "    }\n",
              "  </style>\n",
              "\n",
              "      <script>\n",
              "        const buttonEl =\n",
              "          document.querySelector('#df-1bdb9769-8e0e-45d9-bdcd-106335a1ce0f button.colab-df-convert');\n",
              "        buttonEl.style.display =\n",
              "          google.colab.kernel.accessAllowed ? 'block' : 'none';\n",
              "\n",
              "        async function convertToInteractive(key) {\n",
              "          const element = document.querySelector('#df-1bdb9769-8e0e-45d9-bdcd-106335a1ce0f');\n",
              "          const dataTable =\n",
              "            await google.colab.kernel.invokeFunction('convertToInteractive',\n",
              "                                                     [key], {});\n",
              "          if (!dataTable) return;\n",
              "\n",
              "          const docLinkHtml = 'Like what you see? Visit the ' +\n",
              "            '<a target=\"_blank\" href=https://colab.research.google.com/notebooks/data_table.ipynb>data table notebook</a>'\n",
              "            + ' to learn more about interactive tables.';\n",
              "          element.innerHTML = '';\n",
              "          dataTable['output_type'] = 'display_data';\n",
              "          await google.colab.output.renderOutput(dataTable, element);\n",
              "          const docLink = document.createElement('div');\n",
              "          docLink.innerHTML = docLinkHtml;\n",
              "          element.appendChild(docLink);\n",
              "        }\n",
              "      </script>\n",
              "    </div>\n",
              "  </div>\n",
              "  "
            ]
          },
          "metadata": {},
          "execution_count": 50
        }
      ],
      "source": [
        "# 저장된 csv 파일을 읽어옵니다.\n",
        "# itemcode 숫자 앞의 0 이 지워진다면 dtype={\"itemcode\": np.object} 로 타입을 지정해 주면 문자형태로 읽어옵니다.\n",
        "pd.read_csv(file_name)"
      ]
    },
    {
      "cell_type": "code",
      "execution_count": null,
      "metadata": {
        "id": "0VX-NE4e0jYn"
      },
      "outputs": [],
      "source": [
        ""
      ]
    },
    {
      "cell_type": "code",
      "execution_count": null,
      "metadata": {
        "id": "vIPGN4EHYcNF"
      },
      "outputs": [],
      "source": [
        "df_up "
      ]
    },
    {
      "cell_type": "code",
      "source": [
        "df_all_up[\"종목명\"] = df_all_up[\"종목명\"].str.replace(*,\"\").str.strip()"
      ],
      "metadata": {
        "id": "4EWMIlxgFlCb"
      },
      "execution_count": null,
      "outputs": []
    },
    {
      "cell_type": "code",
      "source": [
        "import FinanceDataReader as fdr\n",
        "\n",
        "df_krx = fdr.StockListing(\"KRX\")\n",
        "df_krx.head"
      ],
      "metadata": {
        "id": "zmKi_hQ3F71S"
      },
      "execution_count": null,
      "outputs": []
    }
  ],
  "metadata": {
    "colab": {
      "collapsed_sections": [],
      "name": "3.1 ETF 목록 수집-input.ipynb의 사본의 사본",
      "provenance": [],
      "include_colab_link": true
    },
    "kernelspec": {
      "display_name": "Python 3 (ipykernel)",
      "language": "python",
      "name": "python3"
    },
    "language_info": {
      "codemirror_mode": {
        "name": "ipython",
        "version": 3
      },
      "file_extension": ".py",
      "mimetype": "text/x-python",
      "name": "python",
      "nbconvert_exporter": "python",
      "pygments_lexer": "ipython3",
      "version": "3.7.13"
    },
    "toc": {
      "base_numbering": 1,
      "nav_menu": {},
      "number_sections": true,
      "sideBar": true,
      "skip_h1_title": false,
      "title_cell": "Table of Contents",
      "title_sidebar": "Contents",
      "toc_cell": false,
      "toc_position": {
        "height": "calc(100% - 180px)",
        "left": "10px",
        "top": "150px",
        "width": "204.8px"
      },
      "toc_section_display": true,
      "toc_window_display": true
    },
    "varInspector": {
      "cols": {
        "lenName": 16,
        "lenType": 16,
        "lenVar": 40
      },
      "kernels_config": {
        "python": {
          "delete_cmd_postfix": "",
          "delete_cmd_prefix": "del ",
          "library": "var_list.py",
          "varRefreshCmd": "print(var_dic_list())"
        },
        "r": {
          "delete_cmd_postfix": ") ",
          "delete_cmd_prefix": "rm(",
          "library": "var_list.r",
          "varRefreshCmd": "cat(var_dic_list()) "
        }
      },
      "types_to_exclude": [
        "module",
        "function",
        "builtin_function_or_method",
        "instance",
        "_Feature"
      ],
      "window_display": false
    }
  },
  "nbformat": 4,
  "nbformat_minor": 0
}