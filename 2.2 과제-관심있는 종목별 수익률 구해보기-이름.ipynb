{
 "cells": [
  {
   "cell_type": "markdown",
   "metadata": {},
   "source": [
    "* 관심있는 종목의 일별 시세를 수집해서 수업에서 했던 내용을 응용해 보세요.\n",
    "* 아래의 종목은 예시로 원하는 종목으로 변경해서 분석해도 됩니다.\n",
    "\n",
    "\n",
    "* <font color=\"blue\">주피터 노트북 파일명에 본인의 이름을 적어주세요.</font>\n",
    "\n",
    "* GAFAM, FAAMG, Tech Giants 또는 Big Five라고도 알려진 Big Tech는 미국 정보 기술 산업에서 가장 크고 가장 지배적인 5개 회사(Google, Apple, Facebook, Amazon 및 Microsoft)에 주어진 이름 입니다.\n",
    "* 아래는 미국의 대표적인 기술주인 FAANG주의 ticker 를 모아두었습니다. 관심있는 종목코드 혹은 ticker를 찾아서 분석해 보세요!"
   ]
  },
  {
   "cell_type": "code",
   "execution_count": null,
   "metadata": {},
   "outputs": [],
   "source": [
    "import FinanceDataReader as fdr\n",
    "import pandas as pd"
   ]
  },
  {
   "cell_type": "code",
   "execution_count": null,
   "metadata": {},
   "outputs": [],
   "source": [
    "# 미국 주요 기술주\n",
    "# 아래 종목은 어떤 종목을 분석해야 할지 떠오르지 않을 때 사용할 수 있게 예시로 적어두었습니다.\n",
    "# 관심있는 다른 종목을 분석해도 좋습니다.\n",
    "faang = {\"FB\":\"Facebook\", \"AMZN\":\"Amazon\", \"AAPL\":\"Apple\", \"NFLX\":\"Netflix\", \"GOOGL\":\"Google\"}\n",
    "faang"
   ]
  },
  {
   "cell_type": "code",
   "execution_count": null,
   "metadata": {},
   "outputs": [],
   "source": [
    "# faang 변수에 담긴 key 값만 가져옵니다. \n",
    "faang.keys()"
   ]
  },
  {
   "cell_type": "code",
   "execution_count": null,
   "metadata": {},
   "outputs": [],
   "source": [
    "# faang 변수에 담긴 values 값만 가져옵니다. \n",
    "faang.values()"
   ]
  },
  {
   "cell_type": "code",
   "execution_count": null,
   "metadata": {},
   "outputs": [],
   "source": [
    "# 상장일이 다르면 시작 날짜가 다를 수 있으니 특정 연도 이후를 수집해서 분석해 보세요.\n",
    "# 아래의 예시는 애플의 2020년 이후 일별 시세를 수집하는 코드입니다.\n",
    "fdr.DataReader(\"AAPL\", \"2020\")"
   ]
  },
  {
   "cell_type": "code",
   "execution_count": null,
   "metadata": {},
   "outputs": [],
   "source": []
  }
 ],
 "metadata": {
  "kernelspec": {
   "display_name": "Python 3 (ipykernel)",
   "language": "python",
   "name": "python3"
  },
  "language_info": {
   "codemirror_mode": {
    "name": "ipython",
    "version": 3
   },
   "file_extension": ".py",
   "mimetype": "text/x-python",
   "name": "python",
   "nbconvert_exporter": "python",
   "pygments_lexer": "ipython3",
   "version": "3.7.13"
  },
  "varInspector": {
   "cols": {
    "lenName": 16,
    "lenType": 16,
    "lenVar": 40
   },
   "kernels_config": {
    "python": {
     "delete_cmd_postfix": "",
     "delete_cmd_prefix": "del ",
     "library": "var_list.py",
     "varRefreshCmd": "print(var_dic_list())"
    },
    "r": {
     "delete_cmd_postfix": ") ",
     "delete_cmd_prefix": "rm(",
     "library": "var_list.r",
     "varRefreshCmd": "cat(var_dic_list()) "
    }
   },
   "types_to_exclude": [
    "module",
    "function",
    "builtin_function_or_method",
    "instance",
    "_Feature"
   ],
   "window_display": false
  }
 },
 "nbformat": 4,
 "nbformat_minor": 4
}
