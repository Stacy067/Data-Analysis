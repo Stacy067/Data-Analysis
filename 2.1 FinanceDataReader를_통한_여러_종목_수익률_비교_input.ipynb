{
 "cells": [
  {
   "cell_type": "markdown",
   "metadata": {
    "id": "JooJ7cGP5HMS"
   },
   "source": [
    "* **이번 노트북의 실습은 FinanceDataReader의 여러 종목 가격을 한번에** 자료를 참고하여 만들어 졌습니다.\n",
    "* 참고 링크 :  [FinanceDataReader 여러 종목 가격을 한번에](https://nbviewer.jupyter.org/github/FinanceData/FinanceDataReader/blob/master/tutorial/FinanceDataReader%20Tutorial%20-%20%EC%97%AC%EB%9F%AC%20%EC%A2%85%EB%AA%A9%EC%9D%98%20%EA%B0%80%EA%B2%A9%EC%9D%84%20%ED%95%9C%EB%B2%88%EC%97%90.ipynb)\n",
    "\n",
    "\n",
    "## 라이브러리 불러오기"
   ]
  },
  {
   "cell_type": "code",
   "execution_count": null,
   "metadata": {
    "id": "0HuA8Gtr5HMT"
   },
   "outputs": [],
   "source": [
    "# 데이터 분석을 위해 pandas 불러오기\n"
   ]
  },
  {
   "cell_type": "markdown",
   "metadata": {
    "id": "yx1gbnsI5HMQ"
   },
   "source": [
    "* [FinanceData/FinanceDataReader: Financial data reader](https://github.com/FinanceData/FinanceDataReader)\n",
    "* [FinanceDataReader 사용자 안내서 | FinanceData](https://financedata.github.io/posts/finance-data-reader-users-guide.html)"
   ]
  },
  {
   "cell_type": "code",
   "execution_count": null,
   "metadata": {
    "id": "Szu-zewh5HMR"
   },
   "outputs": [],
   "source": [
    "# colab 을 사용한다면 런타임이 초기화 될때마다 다시 설치해 주어야 합니다.\n",
    "# 로컬 컴퓨터에 설치했다면 이전에 설치된 라이브러리를 사용해 주시면 됩니다.\n",
    "# !pip install -U finance-datareader"
   ]
  },
  {
   "cell_type": "code",
   "execution_count": null,
   "metadata": {
    "id": "RmRqR4HT5HMT"
   },
   "outputs": [],
   "source": [
    "# FinanceDataReader 를 fdr 별칭으로 불러오기\n"
   ]
  },
  {
   "cell_type": "markdown",
   "metadata": {
    "id": "h7T4gW_W-FmZ"
   },
   "source": [
    "## 상장종목 목록 가져오기\n",
    "\n",
    "* 다음의 형태가 되도록 만들어 주세요.\n",
    "\n",
    "|    | 종목별           |\n",
    "|---:|:-----------------|\n",
    "|  1 | 삼성전자         |\n",
    "|  2 | LG에너지솔루션   |\n",
    "|  3 | SK하이닉스       |\n",
    "|  4 | 삼성바이오로직스 |\n",
    "|  5 | NAVER            |\n",
    "|  6 | 삼성SDI          |\n",
    "|  7 | 현대차           |\n",
    "|  8 | LG화학           |\n",
    "|  9 | 카카오           |\n",
    "| 10 | 기아             |"
   ]
  },
  {
   "cell_type": "code",
   "execution_count": null,
   "metadata": {
    "id": "gWgVQdSx5HMT"
   },
   "outputs": [],
   "source": [
    "url = \"https://finance.naver.com/sise/entryJongmok.naver?&page=1\"\n",
    "\n"
   ]
  },
  {
   "cell_type": "code",
   "execution_count": null,
   "metadata": {
    "id": "QFmuydCjqqrt"
   },
   "outputs": [],
   "source": []
  },
  {
   "cell_type": "markdown",
   "metadata": {
    "id": "h1A_qtBGqqrt"
   },
   "source": [
    "## 전체 상장종목에서 종목코드와 종목명만 가져오기\n",
    "\n",
    "* 아래의 형태가 되게 해주세요.\n",
    "\n",
    "| Name             |   Symbol |\n",
    "|:-----------------|---------:|\n",
    "| 삼성전자         |   005930 |\n",
    "| LG에너지솔루션   |   373220 |\n",
    "| SK하이닉스       |   000660 |\n",
    "| 삼성바이오로직스 |   207940 |\n",
    "| NAVER            |   035420 |"
   ]
  },
  {
   "cell_type": "code",
   "execution_count": null,
   "metadata": {
    "id": "yPNYylZXqqru"
   },
   "outputs": [],
   "source": [
    "# df_krx = fdr.StockListing(\"KRX\")"
   ]
  },
  {
   "cell_type": "code",
   "execution_count": null,
   "metadata": {
    "id": "k6i4j4taqqru"
   },
   "outputs": [],
   "source": []
  },
  {
   "cell_type": "markdown",
   "metadata": {
    "id": "dluav-STqqrv"
   },
   "source": [
    "## merge 를 통한 시가총액 상위 10개 종목 만들기\n",
    "\n",
    "### merge\n",
    "<img src=\"https://pandas.pydata.org/docs/_images/08_merge_left.svg\">\n",
    "\n",
    "<img src=\"https://i.imgur.com/nD1Hwdl.png\" width=500>\n",
    "\n",
    "\n",
    "\n",
    "* 아래의 형태가 되게 만들며, Name을 인덱스로 지정합니다.\n",
    "\n",
    "| Name             |   Symbol |\n",
    "|:-----------------|---------:|\n",
    "| 삼성전자         |   005930 |\n",
    "| LG에너지솔루션   |   373220 |\n",
    "| SK하이닉스       |   000660 |\n",
    "| 삼성바이오로직스 |   207940 |\n",
    "| NAVER            |   035420 |\n",
    "| 삼성SDI          |   006400 |\n",
    "| 현대차           |   005380 |\n",
    "| LG화학           |   051910 |\n",
    "| 카카오           |   035720 |\n",
    "| 기아             |   000270 |"
   ]
  },
  {
   "cell_type": "code",
   "execution_count": null,
   "metadata": {
    "id": "P5TGiFmHqqrv"
   },
   "outputs": [],
   "source": []
  },
  {
   "cell_type": "code",
   "execution_count": null,
   "metadata": {
    "id": "KXTDGis3qqrv"
   },
   "outputs": [],
   "source": []
  },
  {
   "cell_type": "code",
   "execution_count": null,
   "metadata": {
    "id": "0s5Ljg7Eqqrw"
   },
   "outputs": [],
   "source": []
  },
  {
   "cell_type": "markdown",
   "metadata": {
    "id": "VNyU_0nM7gDr"
   },
   "source": [
    "## 여러 종목의 종가 수집\n",
    "* 종목코드로 수집이 가능합니다.\n",
    "* 종목명을 찾아서 일별 시세를 수집해 주는 함수를 만들어 볼 예정입니다."
   ]
  },
  {
   "cell_type": "code",
   "execution_count": null,
   "metadata": {
    "id": "WZZOfmKvqqrw"
   },
   "outputs": [],
   "source": [
    "# 반복문을 사용하여 여러 종목의 종가를 수집합니다.\n",
    "# item_list = []\n"
   ]
  },
  {
   "cell_type": "code",
   "execution_count": null,
   "metadata": {
    "id": "BNNzjltMqqrw"
   },
   "outputs": [],
   "source": []
  },
  {
   "cell_type": "markdown",
   "metadata": {
    "id": "xmeHoFFfqqrw"
   },
   "source": [
    "### 하나의 데이터프레임으로 합치기\n",
    "\n",
    "\n",
    "* axis = 0\n",
    "\n",
    "<img src=\"https://pandas.pydata.org/docs/_images/merging_concat_basic.png\">\n",
    "\n",
    "* axis = 1 \n",
    "<img src=\"https://pandas.pydata.org/docs/_images/merging_concat_axis1.png\">\n",
    "\n",
    "* 결측치를 제외하기 join=\"inner\"\n",
    "<img src=\"https://pandas.pydata.org/docs/_images/merging_concat_axis1_inner.png\">\n",
    "\n",
    "\n",
    "* [Merge, join, concatenate and compare documentation](https://pandas.pydata.org/docs/user_guide/merging.html#merge-join-concatenate-and-compare)"
   ]
  },
  {
   "cell_type": "code",
   "execution_count": null,
   "metadata": {
    "id": "NQsDV3iyqqrx"
   },
   "outputs": [],
   "source": [
    "# 수집한 리스트를 axis=1(컬럼)을 기준으로 병합(concat) 합니다.\n",
    "\n"
   ]
  },
  {
   "cell_type": "markdown",
   "metadata": {
    "id": "V142HpwWqqrx"
   },
   "source": [
    "### 시각화를 위한 폰트 설정"
   ]
  },
  {
   "cell_type": "code",
   "execution_count": null,
   "metadata": {
    "id": "7yD_sR6Cqqrx"
   },
   "outputs": [],
   "source": [
    "# !pip install koreanize-matplotlib"
   ]
  },
  {
   "cell_type": "code",
   "execution_count": null,
   "metadata": {
    "id": "7yD_sR6Cqqrx"
   },
   "outputs": [],
   "source": [
    "import koreanize_matplotlib\n",
    "\n",
    "# 그래프에 retina display 적용\n",
    "%config InlineBackend.figure_format = 'retina'\n",
    "\n",
    "# pd.Series([1, 3, 5, -7, 9]).plot(title=\"한글\")"
   ]
  },
  {
   "cell_type": "markdown",
   "metadata": {
    "id": "cQl2dUkYqqrx"
   },
   "source": [
    "* 그래프의 다양한 style 설정 : [Customizing Matplotlib with style sheets and rcParams — Matplotlib documentation](https://matplotlib.org/3.3.3/tutorials/introductory/customizing.html)"
   ]
  },
  {
   "cell_type": "code",
   "execution_count": null,
   "metadata": {
    "id": "8C1GiTVoqqry"
   },
   "outputs": [],
   "source": []
  },
  {
   "cell_type": "code",
   "execution_count": null,
   "metadata": {
    "id": "vOGhsqtqqqry"
   },
   "outputs": [],
   "source": [
    "# 시각화를 위한 폰트설정\n",
    "\n",
    "# 위에서 만든 함수를 통해 시스템 폰트를 불러와서 font_family 라는 변수에 할당\n",
    "\n",
    "# 폰트설정\n",
    "\n",
    "# 마이너스폰트 설정\n",
    "\n",
    "# 그래프 스타일 설정\n"
   ]
  },
  {
   "cell_type": "code",
   "execution_count": null,
   "metadata": {
    "id": "ITcClXWaqqry"
   },
   "outputs": [],
   "source": [
    "# 한글폰트 확인\n"
   ]
  },
  {
   "cell_type": "markdown",
   "metadata": {
    "id": "RL3OwRKeqqry"
   },
   "source": [
    "## 여러 종목 한번에 시각화 하기"
   ]
  },
  {
   "cell_type": "code",
   "execution_count": null,
   "metadata": {
    "id": "RakU9sc_5HMU"
   },
   "outputs": [],
   "source": [
    "# 판다스의 plot을 통한 전체 데이터 프레임 시각화\n"
   ]
  },
  {
   "cell_type": "code",
   "execution_count": null,
   "metadata": {
    "id": "W4cgzFyW5HMU"
   },
   "outputs": [],
   "source": [
    "# 2개의 종목 비교하기 : \"삼성전자\", \"LG화학\" 을 plot으로 시각화 합니다.\n"
   ]
  },
  {
   "cell_type": "markdown",
   "metadata": {
    "id": "BUG2ccdVqqrz"
   },
   "source": [
    "## 2축 그래프 사용하기"
   ]
  },
  {
   "cell_type": "code",
   "execution_count": null,
   "metadata": {
    "id": "8HutZ7qL5HMU"
   },
   "outputs": [],
   "source": [
    "# secondary_y를 사용해 2축 그래프 그리기\n"
   ]
  },
  {
   "cell_type": "markdown",
   "metadata": {
    "id": "otWHWXuzqqrz"
   },
   "source": [
    "## 기간 수익률 비교하기\n",
    "* 가격마다 스케일이 다르기 때문에 데이터프레임 기준 첫날을 0으로 맞추고 상대적으로 상승했는지 하락했는지에 대한 값을 구합니다.\n",
    "* 다른 스케일 값의 상승/하락 비율을 비교해 볼 수 있도록 합니다.\n",
    "* 다른 스케일의 값을 조정할 때 표준화 혹은 정규화 방법을 사용하기도 합니다.\n",
    "    * 표준화(standardization) : \n",
    "        * 데이터가 평균으로 부터 얼마나 떨어져 있는지 나타내는 값으로 변환\n",
    "        * (Z-score 표준화) : (측정값 - 평균) / 표준편차\n",
    "    * 정규화(normalization) : \n",
    "        * 데이터의 상대적 크기에 대한 영향을 줄이기 위해 0~1로 변환\n",
    "        * (측정값 - 최소값) / (최대값 - 최소값)"
   ]
  },
  {
   "cell_type": "code",
   "execution_count": null,
   "metadata": {
    "id": "ZhJe9uDn5HMU"
   },
   "outputs": [],
   "source": [
    "# df2 변수에 'LG화학', '삼성전자' 만 따로 가져옵니다.\n",
    "# 첫번째 날 가격으로 나머지 가격을 나눠주고 -1을 해주면 수익률을 구할 수 있습니다.\n",
    "# df_plot 에 수익률을 담아줍니다.\n"
   ]
  },
  {
   "cell_type": "code",
   "execution_count": null,
   "metadata": {
    "id": "W4Y2OuRFqqrz"
   },
   "outputs": [],
   "source": [
    "# 수익률 시각화 하기\n"
   ]
  },
  {
   "cell_type": "markdown",
   "metadata": {
    "id": "QiKGgAM2qqr0"
   },
   "source": [
    "## pyplot의 subplots 로 서브플롯 그리기"
   ]
  },
  {
   "cell_type": "code",
   "execution_count": null,
   "metadata": {
    "id": "cXvqSIf7qqr0"
   },
   "outputs": [],
   "source": [
    "# pyplot의 subplots로 2개의 서브플롯을 만들고 2축그래프와 수익률 그래프를 비교해 봅니다.\n",
    "\n"
   ]
  },
  {
   "cell_type": "code",
   "execution_count": null,
   "metadata": {
    "id": "IoByD-2Fqqr0"
   },
   "outputs": [],
   "source": [
    "# df_plot 데이터프레임을 통해 수익률의 분포를 histogram으로 시각화 합니다.\n"
   ]
  },
  {
   "cell_type": "markdown",
   "metadata": {
    "id": "WKt2Tqeaqqr0"
   },
   "source": [
    "## 전체 데이터프레임 값에 대한 수익률 계산하기"
   ]
  },
  {
   "cell_type": "code",
   "execution_count": null,
   "metadata": {
    "id": "UoKP-u-gqqr0"
   },
   "outputs": [],
   "source": [
    "# 첫번째 날 가격으로 나머지 가격을 나눠주고 -1을 해주면 수익률을 구할 수 있습니다.\n"
   ]
  },
  {
   "cell_type": "markdown",
   "metadata": {
    "id": "qynRGXa_qqr0"
   },
   "source": [
    "### 전체 종목의 수익률 시각화"
   ]
  },
  {
   "cell_type": "code",
   "execution_count": null,
   "metadata": {
    "id": "Zhf4x0bnqqr0"
   },
   "outputs": [],
   "source": [
    "# df_norm 변수에 담긴 전체 종목에 대한 수익률을 시각화 합니다.\n"
   ]
  },
  {
   "cell_type": "code",
   "execution_count": null,
   "metadata": {
    "id": "DmwV3Twjqqr0"
   },
   "outputs": [],
   "source": [
    "# 계산된 수익률에 대한 기술통계값 구하기\n"
   ]
  },
  {
   "cell_type": "code",
   "execution_count": null,
   "metadata": {
    "id": "go177E_xqqr1"
   },
   "outputs": [],
   "source": [
    "# 수익률에 대한 히스토그램 그리기\n"
   ]
  },
  {
   "cell_type": "code",
   "execution_count": null,
   "metadata": {
    "id": "0y32AucSqqr1"
   },
   "outputs": [],
   "source": []
  }
 ],
 "metadata": {
  "colab": {
   "collapsed_sections": [],
   "name": "0301-FinanceDataReader를 통한 여러 종목 수익률 비교-input.ipynb",
   "provenance": []
  },
  "kernelspec": {
   "display_name": "Python 3 (ipykernel)",
   "language": "python",
   "name": "python3"
  },
  "language_info": {
   "codemirror_mode": {
    "name": "ipython",
    "version": 3
   },
   "file_extension": ".py",
   "mimetype": "text/x-python",
   "name": "python",
   "nbconvert_exporter": "python",
   "pygments_lexer": "ipython3",
   "version": "3.7.13"
  },
  "toc": {
   "base_numbering": 1,
   "nav_menu": {},
   "number_sections": true,
   "sideBar": true,
   "skip_h1_title": false,
   "title_cell": "Table of Contents",
   "title_sidebar": "Contents",
   "toc_cell": false,
   "toc_position": {
    "height": "calc(100% - 180px)",
    "left": "10px",
    "top": "150px",
    "width": "256px"
   },
   "toc_section_display": true,
   "toc_window_display": true
  },
  "varInspector": {
   "cols": {
    "lenName": 16,
    "lenType": 16,
    "lenVar": 40
   },
   "kernels_config": {
    "python": {
     "delete_cmd_postfix": "",
     "delete_cmd_prefix": "del ",
     "library": "var_list.py",
     "varRefreshCmd": "print(var_dic_list())"
    },
    "r": {
     "delete_cmd_postfix": ") ",
     "delete_cmd_prefix": "rm(",
     "library": "var_list.r",
     "varRefreshCmd": "cat(var_dic_list()) "
    }
   },
   "types_to_exclude": [
    "module",
    "function",
    "builtin_function_or_method",
    "instance",
    "_Feature"
   ],
   "window_display": false
  }
 },
 "nbformat": 4,
 "nbformat_minor": 1
}
