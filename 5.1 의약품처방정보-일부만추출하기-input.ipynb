{
 "cells": [
  {
   "cell_type": "markdown",
   "metadata": {
    "id": "92qFsVay0Kmz"
   },
   "source": [
    "## 의약품 처방정보\n",
    "* https://www.data.go.kr/data/15007117/fileData.do\n",
    "\n",
    "* 의약품처방정보는 국민건강보험 가입자 중 의약품처방이력이 있는 각 연도별 수진자 100만 명에 대한 기본정보(성, 연령대, 시도코드 등)와 의약품처방전별 개별 의약품에 대한 처방내역(요양개시일자, 1회투약량, 1일투약량, 총투여일수 등)으로 구성된 개방데이터입니다.\n",
    "\n",
    "* <img src=\"https://i.imgur.com/hsrpJp4.png\">\n",
    "\n",
    "* 약품일반성분명코드\n",
    "* http://www.hira.or.kr/rf/medicine/getHistoryList.do?pgmid=HIRAA030035020000\n",
    "\n",
    "* 주성분코드부여방법\n",
    "* https://www.health.kr/drug_info/basedrug/main_ingredient.html\n",
    "\n",
    "\n",
    "## 데이터 샘플링\n",
    "* 원본 데이터는 매우 큽니다.\n",
    "* 컴퓨터 개인 사양에 따라 데이터 불러오기가 되지 않을 수 있습니다. \n",
    "* 보통 메모리 8기가 정도를 사용하고 있다면 다른 프로그램에서 4G를 사용하고 있다고 가정할 때 2~3G의 데이터를 불러와서 분석할 수 있습니다."
   ]
  },
  {
   "cell_type": "code",
   "execution_count": null,
   "metadata": {
    "id": "7WxoT1ygFzhD"
   },
   "outputs": [],
   "source": [
    "import numpy as np\n",
    "import pandas as pd"
   ]
  },
  {
   "cell_type": "code",
   "execution_count": null,
   "metadata": {
    "colab": {
     "base_uri": "https://localhost:8080/",
     "height": 424
    },
    "executionInfo": {
     "elapsed": 25782,
     "status": "ok",
     "timestamp": 1640766065315,
     "user": {
      "displayName": "김진연",
      "photoUrl": "https://lh3.googleusercontent.com/a/default-user=s64",
      "userId": "15053695256072630202"
     },
     "user_tz": -540
    },
    "id": "1HNcNlFmQNad",
    "outputId": "818be111-7d08-465c-92d4-1b140f589bee"
   },
   "outputs": [],
   "source": [
    "# raw"
   ]
  },
  {
   "cell_type": "code",
   "execution_count": null,
   "metadata": {
    "colab": {
     "base_uri": "https://localhost:8080/"
    },
    "executionInfo": {
     "elapsed": 254,
     "status": "ok",
     "timestamp": 1640766094553,
     "user": {
      "displayName": "김진연",
      "photoUrl": "https://lh3.googleusercontent.com/a/default-user=s64",
      "userId": "15053695256072630202"
     },
     "user_tz": -540
    },
    "id": "Sgt_BcQ3RrVD",
    "outputId": "ea8c756d-67e6-4365-c990-68a43877067c"
   },
   "outputs": [],
   "source": [
    "# 가입자 일련번호 의 unique 값 구하기\n",
    "\n",
    "user_list = raw['가입자 일련번호'].unique()\n",
    "user_list"
   ]
  },
  {
   "cell_type": "code",
   "execution_count": null,
   "metadata": {},
   "outputs": [],
   "source": [
    "# raw['가입자 일련번호'].nunique()"
   ]
  },
  {
   "cell_type": "code",
   "execution_count": null,
   "metadata": {},
   "outputs": [],
   "source": [
    "# 판다스로 샘플링 하는 방법\n",
    "# user_sample"
   ]
  },
  {
   "cell_type": "code",
   "execution_count": null,
   "metadata": {
    "colab": {
     "base_uri": "https://localhost:8080/",
     "height": 424
    },
    "executionInfo": {
     "elapsed": 1575,
     "status": "ok",
     "timestamp": 1640766276970,
     "user": {
      "displayName": "김진연",
      "photoUrl": "https://lh3.googleusercontent.com/a/default-user=s64",
      "userId": "15053695256072630202"
     },
     "user_tz": -540
    },
    "id": "64AT0sFdSdOH",
    "outputId": "7636cce3-8751-4959-a159-8d368c1b0c33"
   },
   "outputs": [],
   "source": [
    "# isin으로 샘플링한 가입자 일련번호 데이터만 추출하기\n",
    "# df_temp"
   ]
  },
  {
   "cell_type": "markdown",
   "metadata": {},
   "source": [
    "## 샘플링한 데이터 저장"
   ]
  },
  {
   "cell_type": "code",
   "execution_count": null,
   "metadata": {},
   "outputs": [],
   "source": [
    "# df_temp.to_csv(\"data/nhis_drug_sample_2020_3.csv\", index=False)"
   ]
  },
  {
   "cell_type": "code",
   "execution_count": null,
   "metadata": {},
   "outputs": [],
   "source": [
    "# pd.read_csv(\"data/nhis_drug_sample_2020_3.csv\")"
   ]
  },
  {
   "cell_type": "code",
   "execution_count": null,
   "metadata": {},
   "outputs": [],
   "source": []
  }
 ],
 "metadata": {
  "colab": {
   "authorship_tag": "ABX9TyNF8QnQzgAlrHDKA+kUfSzR",
   "collapsed_sections": [],
   "name": "의약품처방정보_데이터샘플링.ipynb",
   "provenance": []
  },
  "kernelspec": {
   "display_name": "Python 3 (ipykernel)",
   "language": "python",
   "name": "python3"
  },
  "language_info": {
   "codemirror_mode": {
    "name": "ipython",
    "version": 3
   },
   "file_extension": ".py",
   "mimetype": "text/x-python",
   "name": "python",
   "nbconvert_exporter": "python",
   "pygments_lexer": "ipython3",
   "version": "3.7.13"
  },
  "toc": {
   "base_numbering": 1,
   "nav_menu": {},
   "number_sections": true,
   "sideBar": true,
   "skip_h1_title": false,
   "title_cell": "Table of Contents",
   "title_sidebar": "Contents",
   "toc_cell": false,
   "toc_position": {},
   "toc_section_display": true,
   "toc_window_display": false
  },
  "varInspector": {
   "cols": {
    "lenName": 16,
    "lenType": 16,
    "lenVar": 40
   },
   "kernels_config": {
    "python": {
     "delete_cmd_postfix": "",
     "delete_cmd_prefix": "del ",
     "library": "var_list.py",
     "varRefreshCmd": "print(var_dic_list())"
    },
    "r": {
     "delete_cmd_postfix": ") ",
     "delete_cmd_prefix": "rm(",
     "library": "var_list.r",
     "varRefreshCmd": "cat(var_dic_list()) "
    }
   },
   "types_to_exclude": [
    "module",
    "function",
    "builtin_function_or_method",
    "instance",
    "_Feature"
   ],
   "window_display": false
  }
 },
 "nbformat": 4,
 "nbformat_minor": 1
}
