{
  "cells": [
    {
      "cell_type": "markdown",
      "metadata": {
        "id": "view-in-github",
        "colab_type": "text"
      },
      "source": [
        "<a href=\"https://colab.research.google.com/github/Stacy067/Data-Analysis-for-Python/blob/main/5_1_%EC%9D%98%EC%95%BD%ED%92%88%EC%B2%98%EB%B0%A9%EC%A0%95%EB%B3%B4_%EC%9D%BC%EB%B6%80%EB%A7%8C%EC%B6%94%EC%B6%9C%ED%95%98%EA%B8%B0_input_ipynb%EC%9D%98_%EC%82%AC%EB%B3%B8.ipynb\" target=\"_parent\"><img src=\"https://colab.research.google.com/assets/colab-badge.svg\" alt=\"Open In Colab\"/></a>"
      ]
    },
    {
      "cell_type": "markdown",
      "metadata": {
        "id": "92qFsVay0Kmz"
      },
      "source": [
        "## 의약품 처방정보\n",
        "* https://www.data.go.kr/data/15007117/fileData.do\n",
        "\n",
        "* 의약품처방정보는 국민건강보험 가입자 중 의약품처방이력이 있는 각 연도별 수진자 100만 명에 대한 기본정보(성, 연령대, 시도코드 등)와 의약품처방전별 개별 의약품에 대한 처방내역(요양개시일자, 1회투약량, 1일투약량, 총투여일수 등)으로 구성된 개방데이터입니다.\n",
        "\n",
        "* <img src=\"https://i.imgur.com/hsrpJp4.png\">\n",
        "\n",
        "* 약품일반성분명코드\n",
        "* http://www.hira.or.kr/rf/medicine/getHistoryList.do?pgmid=HIRAA030035020000\n",
        "\n",
        "* 주성분코드부여방법\n",
        "* https://www.health.kr/drug_info/basedrug/main_ingredient.html\n",
        "\n",
        "\n",
        "## 데이터 샘플링\n",
        "* 원본 데이터는 매우 큽니다.\n",
        "* 컴퓨터 개인 사양에 따라 데이터 불러오기가 되지 않을 수 있습니다. \n",
        "* 보통 메모리 8기가 정도를 사용하고 있다면 다른 프로그램에서 4G를 사용하고 있다고 가정할 때 2~3G의 데이터를 불러와서 분석할 수 있습니다."
      ]
    },
    {
      "cell_type": "code",
      "execution_count": null,
      "metadata": {
        "id": "7WxoT1ygFzhD"
      },
      "outputs": [],
      "source": [
        "import numpy as np\n",
        "import pandas as pd"
      ]
    },
    {
      "cell_type": "code",
      "source": [
        "import os\n",
        "\n",
        "print(\"현재 작업 경로:\", os.getcwd())\n",
        "os.listdir()"
      ],
      "metadata": {
        "id": "tN4G6Q86HZst",
        "colab": {
          "base_uri": "https://localhost:8080/"
        },
        "outputId": "aa89cc6d-363a-421b-ec30-463dfb55da87"
      },
      "execution_count": null,
      "outputs": [
        {
          "output_type": "stream",
          "name": "stdout",
          "text": [
            "현재 작업 경로: /content\n"
          ]
        },
        {
          "output_type": "execute_result",
          "data": {
            "text/plain": [
              "['.config', 'HP_T60_2020_3.CSV', 'sample_data']"
            ]
          },
          "metadata": {},
          "execution_count": 2
        }
      ]
    },
    {
      "cell_type": "code",
      "source": [
        "# raw\n",
        "drug_sample = raw['약품일반성분명코드'].unique()[:10]"
      ],
      "metadata": {
        "colab": {
          "base_uri": "https://localhost:8080/",
          "height": 194
        },
        "id": "hBihmMqfNBHE",
        "outputId": "4e383960-ef79-4893-f968-c762a6947545"
      },
      "execution_count": null,
      "outputs": [
        {
          "output_type": "error",
          "ename": "NameError",
          "evalue": "ignored",
          "traceback": [
            "\u001b[0;31m---------------------------------------------------------------------------\u001b[0m",
            "\u001b[0;31mNameError\u001b[0m                                 Traceback (most recent call last)",
            "\u001b[0;32m<ipython-input-8-a3a1c37e47b4>\u001b[0m in \u001b[0;36m<module>\u001b[0;34m()\u001b[0m\n\u001b[1;32m      1\u001b[0m \u001b[0;31m# raw\u001b[0m\u001b[0;34m\u001b[0m\u001b[0;34m\u001b[0m\u001b[0;34m\u001b[0m\u001b[0m\n\u001b[0;32m----> 2\u001b[0;31m \u001b[0mdrug_sample\u001b[0m \u001b[0;34m=\u001b[0m \u001b[0mraw\u001b[0m\u001b[0;34m[\u001b[0m\u001b[0;34m'약품일반성분명코드'\u001b[0m\u001b[0;34m]\u001b[0m\u001b[0;34m.\u001b[0m\u001b[0munique\u001b[0m\u001b[0;34m(\u001b[0m\u001b[0;34m)\u001b[0m\u001b[0;34m[\u001b[0m\u001b[0;34m:\u001b[0m\u001b[0;36m10\u001b[0m\u001b[0;34m]\u001b[0m\u001b[0;34m\u001b[0m\u001b[0;34m\u001b[0m\u001b[0m\n\u001b[0m",
            "\u001b[0;31mNameError\u001b[0m: name 'raw' is not defined"
          ]
        }
      ]
    },
    {
      "cell_type": "code",
      "execution_count": null,
      "metadata": {
        "id": "Sgt_BcQ3RrVD",
        "colab": {
          "base_uri": "https://localhost:8080/",
          "height": 232
        },
        "outputId": "41f270a9-fdcb-4d0a-f38b-39b5efdb9150"
      },
      "outputs": [
        {
          "output_type": "error",
          "ename": "NameError",
          "evalue": "ignored",
          "traceback": [
            "\u001b[0;31m---------------------------------------------------------------------------\u001b[0m",
            "\u001b[0;31mNameError\u001b[0m                                 Traceback (most recent call last)",
            "\u001b[0;32m<ipython-input-9-1168ee384826>\u001b[0m in \u001b[0;36m<module>\u001b[0;34m()\u001b[0m\n\u001b[1;32m      1\u001b[0m \u001b[0;31m# 가입자 일련번호 의 unique 값 구하기\u001b[0m\u001b[0;34m\u001b[0m\u001b[0;34m\u001b[0m\u001b[0;34m\u001b[0m\u001b[0m\n\u001b[1;32m      2\u001b[0m \u001b[0;34m\u001b[0m\u001b[0m\n\u001b[0;32m----> 3\u001b[0;31m \u001b[0muser_list\u001b[0m \u001b[0;34m=\u001b[0m \u001b[0mraw\u001b[0m\u001b[0;34m[\u001b[0m\u001b[0;34m'가입자 일련번호'\u001b[0m\u001b[0;34m]\u001b[0m\u001b[0;34m.\u001b[0m\u001b[0munique\u001b[0m\u001b[0;34m(\u001b[0m\u001b[0;34m)\u001b[0m\u001b[0;34m\u001b[0m\u001b[0;34m\u001b[0m\u001b[0m\n\u001b[0m\u001b[1;32m      4\u001b[0m \u001b[0muser_list\u001b[0m\u001b[0;34m\u001b[0m\u001b[0;34m\u001b[0m\u001b[0m\n",
            "\u001b[0;31mNameError\u001b[0m: name 'raw' is not defined"
          ]
        }
      ],
      "source": [
        "# 가입자 일련번호 의 unique 값 구하기\n",
        "\n",
        "user_list = raw['가입자 일련번호'].unique()\n",
        "user_list"
      ]
    },
    {
      "cell_type": "code",
      "execution_count": null,
      "metadata": {
        "id": "qhbxAJd4FnGV"
      },
      "outputs": [],
      "source": [
        "raw['가입자 일련번호'].nunique()"
      ]
    },
    {
      "cell_type": "code",
      "execution_count": null,
      "metadata": {
        "id": "X73dSJ_ZFnGW"
      },
      "outputs": [],
      "source": [
        "# 판다스로 샘플링 하는 방법\n",
        "user_sample = raw['가입자 일련번호'].sample(1000,random_state=42).tolist()\n",
        "user_sample[:5]"
      ]
    },
    {
      "cell_type": "code",
      "execution_count": null,
      "metadata": {
        "id": "64AT0sFdSdOH"
      },
      "outputs": [],
      "source": [
        "# isin으로 샘플링한 가입자 일련번호 데이터만 추출하기\n",
        "df_temp = raw[raw[\"가입자 일련번호\"].isin(user_sample)]"
      ]
    },
    {
      "cell_type": "markdown",
      "metadata": {
        "id": "GGIvfEYrFnGf"
      },
      "source": [
        "## 샘플링한 데이터 저장"
      ]
    },
    {
      "cell_type": "code",
      "execution_count": null,
      "metadata": {
        "id": "f2GBnp8YFnGk"
      },
      "outputs": [],
      "source": [
        "df_temp.to_csv(\"nhis_drug_sample_2020_3.csv\", index=False)"
      ]
    },
    {
      "cell_type": "code",
      "execution_count": null,
      "metadata": {
        "id": "npt46aVGFnGm"
      },
      "outputs": [],
      "source": [
        "pd.read_csv(\"nhis_drug_sample_2020_3.csv\")"
      ]
    },
    {
      "cell_type": "code",
      "execution_count": null,
      "metadata": {
        "id": "Sa2zkgi6FnGn",
        "colab": {
          "base_uri": "https://localhost:8080/"
        },
        "outputId": "9c4e00aa-697c-4794-8129-e350a1f49c37"
      },
      "outputs": [
        {
          "output_type": "stream",
          "name": "stdout",
          "text": [
            "현재 작업 경로: /content\n"
          ]
        },
        {
          "output_type": "execute_result",
          "data": {
            "text/plain": [
              "['.config', '.ipynb_checkpoints', 'nhis_drug_sample_2020_3.csv', 'sample_data']"
            ]
          },
          "metadata": {},
          "execution_count": 10
        }
      ],
      "source": [
        "import os\n",
        "\n",
        "print(\"현재 작업 경로:\", os.getcwd())\n",
        "os.listdir()"
      ]
    }
  ],
  "metadata": {
    "colab": {
      "collapsed_sections": [],
      "name": "5.1 의약품처방정보-일부만추출하기-input.ipynb의 사본",
      "provenance": [],
      "include_colab_link": true
    },
    "kernelspec": {
      "display_name": "Python 3 (ipykernel)",
      "language": "python",
      "name": "python3"
    },
    "language_info": {
      "codemirror_mode": {
        "name": "ipython",
        "version": 3
      },
      "file_extension": ".py",
      "mimetype": "text/x-python",
      "name": "python",
      "nbconvert_exporter": "python",
      "pygments_lexer": "ipython3",
      "version": "3.7.13"
    },
    "toc": {
      "base_numbering": 1,
      "nav_menu": {},
      "number_sections": true,
      "sideBar": true,
      "skip_h1_title": false,
      "title_cell": "Table of Contents",
      "title_sidebar": "Contents",
      "toc_cell": false,
      "toc_position": {},
      "toc_section_display": true,
      "toc_window_display": false
    },
    "varInspector": {
      "cols": {
        "lenName": 16,
        "lenType": 16,
        "lenVar": 40
      },
      "kernels_config": {
        "python": {
          "delete_cmd_postfix": "",
          "delete_cmd_prefix": "del ",
          "library": "var_list.py",
          "varRefreshCmd": "print(var_dic_list())"
        },
        "r": {
          "delete_cmd_postfix": ") ",
          "delete_cmd_prefix": "rm(",
          "library": "var_list.r",
          "varRefreshCmd": "cat(var_dic_list()) "
        }
      },
      "types_to_exclude": [
        "module",
        "function",
        "builtin_function_or_method",
        "instance",
        "_Feature"
      ],
      "window_display": false
    }
  },
  "nbformat": 4,
  "nbformat_minor": 0
}