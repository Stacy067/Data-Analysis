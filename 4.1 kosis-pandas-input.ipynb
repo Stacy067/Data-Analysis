{
 "cells": [
  {
   "cell_type": "markdown",
   "id": "c93e301e",
   "metadata": {
    "id": "8e39d0ac"
   },
   "source": [
    "KOSIS에서는 국내, 국제, 북한등의 주요 통계를 한 곳에 모아 이용자가 원하는 통계를 한번에 찾을 수 있도록 통계청이 제공하는 서비스입니다.  \n",
    "경제, 사회, 환경 등 30개분야의 데이터를 제공해줍니다.\n",
    "* https://kosis.kr/index/index.do\n",
    "\n",
    "사용하는 데이터는 KOSIS에서 제공해주는 연령, 성별 암검진 대상 및 수검현황에 관한 데이터 입니다.  \n",
    "데이터에는 연령과 성별별로 검진시 발병되는 암에 관한 데이터가 정리되어 있습니다.\n",
    "\n",
    "아래의 URL에서 건강검진 통계 -> 암검진 -> 연령별 성별 암검진 대상 및 수검인원 현황에 들어가면 데이터를 받을 수 있습니다.\n",
    "* https://kosis.kr/statHtml/statHtml.do?orgId=350&tblId=DT_35007_N010&conn_path=I2"
   ]
  },
  {
   "cell_type": "markdown",
   "id": "6d90ad72",
   "metadata": {
    "id": "45a211ab"
   },
   "source": [
    "## pandas\n",
    "\n",
    "### DataFrame\n",
    "<img src=\"https://pandas.pydata.org/docs/_images/01_table_dataframe.svg\" width=\"400\">\n",
    "\n",
    "### Series\n",
    "<img src=\"https://pandas.pydata.org/docs/_images/01_table_series.svg\">"
   ]
  },
  {
   "cell_type": "code",
   "execution_count": null,
   "id": "3b6ac7b5",
   "metadata": {
    "id": "f19e2bd6"
   },
   "outputs": [],
   "source": [
    "# pandas, numpy 를 불러옵니다.\n"
   ]
  },
  {
   "cell_type": "markdown",
   "id": "6a5b9e70",
   "metadata": {
    "id": "e20b6fa0"
   },
   "source": [
    "## pandas로 파일 불러오고 확인해보기\n",
    "\n",
    "<img src = 'https://pandas.pydata.org/docs/_images/02_io_readwrite.svg'>"
   ]
  },
  {
   "cell_type": "code",
   "execution_count": null,
   "id": "e9349fc9",
   "metadata": {
    "id": "fa065ada",
    "outputId": "372d3657-90ff-4e97-cf4e-dc183de84849"
   },
   "outputs": [],
   "source": [
    "# pandas에서는 read_csv파일로 csv파일을 불러올 수 있습니다.\n",
    "# csv파일은 ,(쉼표)로 구분하여 저장한 데이터파일입니다.\n",
    "# read_csv()로 csv파일을 불러올 때 한글 인코딩 문제로 에러가 발생될 수 있습니다.\n",
    "# 에러가 발생할때는 encoding 속성값을 'euc-kr', 'cp949', 'ms949'로 변경해서 실행합니다.\n",
    "# DataFrame을 변수에 지정할때는 보통 약자인 df나 가공전에는 row를 사용합니다.\n",
    "# kosis-cancer-raw.csv\n"
   ]
  },
  {
   "cell_type": "code",
   "execution_count": null,
   "id": "2f035c91",
   "metadata": {
    "id": "92f6e6b4",
    "outputId": "10b02bd6-c663-4f0e-911f-98f4727962d5"
   },
   "outputs": [],
   "source": [
    "# shape속성을 통해 DataFrame의 행과 열에 대한 정보를 확인할 수 있습니다.\n"
   ]
  },
  {
   "cell_type": "markdown",
   "id": "d543b241",
   "metadata": {
    "id": "307777a1"
   },
   "source": [
    "## DataFrame의 columns의 이름 바꿔주기"
   ]
  },
  {
   "cell_type": "code",
   "execution_count": null,
   "id": "1d29126f",
   "metadata": {
    "id": "3f95732c",
    "outputId": "572d0b57-61a9-4823-a4fa-8157245f9131",
    "scrolled": false
   },
   "outputs": [],
   "source": [
    "# rename(index={}, columns={}, inplace=)함수를 통해 DataFrame의 행과 열의 이름을 바꿔줄 수 있다.\n",
    "# df.rename(columns={'연령별(1)' : '연령별', '암검진별(1)' : '암검진별', '성별(1)' : '성별'}, inplace=True)\n",
    "col_rename = {'연령별(1)' : '연령별', '암검진별(1)' : '암검진별', '성별(1)' : '성별'}\n"
   ]
  },
  {
   "cell_type": "code",
   "execution_count": null,
   "id": "a8d005f9",
   "metadata": {},
   "outputs": [],
   "source": []
  },
  {
   "cell_type": "markdown",
   "id": "444c65e1",
   "metadata": {
    "id": "bda470ca"
   },
   "source": [
    "## 데이터 전처리 및 타입 변경하기\n",
    "* astype 으로 데이터 타입 변경"
   ]
  },
  {
   "cell_type": "code",
   "execution_count": null,
   "id": "224e0eaa",
   "metadata": {
    "id": "588a5916",
    "outputId": "741e8ed4-771f-4794-9a60-0a15f48cbd12"
   },
   "outputs": [],
   "source": [
    "# replace함수로 DataFrame안에 있는 내용을 바꿔줄 수 있습니다.\n",
    "# 데이터 안의 '-'(하이픈)을 0으로 바꿔줍니다.\n",
    "# 이후 '데이터' column의 dtype을 int로 바꾸기 위해 내용을 바꿔줘야 합니다.\n",
    "# pd.to_numeric(df[\"대상인원 (명)\"], errors=\"coerce\")\n",
    "# df[\"대상인원\"]\n",
    "# df[\"수검인원\"]\n"
   ]
  },
  {
   "cell_type": "markdown",
   "id": "1f80a7a2",
   "metadata": {},
   "source": [
    "## 사용하지 않는 데이터 제거"
   ]
  },
  {
   "cell_type": "code",
   "execution_count": null,
   "id": "3a4cd8a2",
   "metadata": {
    "id": "9fa7389d",
    "outputId": "21ae07b1-bce5-4c30-8ea3-04a76d72e1f0"
   },
   "outputs": [],
   "source": [
    "# drop함수를 통해 DataFrame안에 있는 행을 제거해줄 수 있습니다.\n",
    "# 데이터안의 '연령별' column안에 있는 '계'는 사용하지 않을 예정이기 때문에 제거합니다.\n",
    "# 데이터안의 '암검진별' column안에 있는 '계'는 사용하지 않을 예정이기 때문에 제거합니다.\n",
    "# 데이터안의 '성별' column안에 있는 '합계'는 사용하지 않을 예정이기 때문에 제거합니다.\n",
    "# 이후 index를  다시 재지정해 준 뒤 기존의 index column을 제거합니다.\n",
    "# df\n",
    "\n",
    "# df = df[df[\"연령별\"] != \"계\"]\n"
   ]
  },
  {
   "cell_type": "markdown",
   "id": "6c0e5cab",
   "metadata": {
    "id": "ab4c2f4d"
   },
   "source": [
    "## 일부 데이터 확인하기"
   ]
  },
  {
   "cell_type": "code",
   "execution_count": null,
   "id": "514b322d",
   "metadata": {
    "id": "fbcae81e",
    "outputId": "60bc5588-cc30-41f5-9e9f-78e0167ecc07"
   },
   "outputs": [],
   "source": [
    "# 판다스의 head() 함수로 DataFrame의 앞쪽 데이터를 괄호 안에 지정한 개수만큼 얻어올 수 있습니다.\n",
    "# 지정하지 않으면 기본값인 5개를 얻어오게 됩니다.\n"
   ]
  },
  {
   "cell_type": "code",
   "execution_count": null,
   "id": "48208f09",
   "metadata": {
    "id": "6b709e32",
    "outputId": "0a20dd5c-991f-435f-9a70-b9fa0eeece6a"
   },
   "outputs": [],
   "source": [
    "# 판다스의 tail() 함수로 DataFrame의 뒤쪽 데이터를 괄호 안에 지정한 개수만큼 얻어올 수 있습니다.\n",
    "# 지정하지 않으면 기본값인 5개를 얻어오게 됩니다.\n"
   ]
  },
  {
   "cell_type": "code",
   "execution_count": null,
   "id": "478caace",
   "metadata": {
    "id": "f325fc49",
    "outputId": "61170414-ab26-458d-c71e-d70fae2b2eff"
   },
   "outputs": [],
   "source": [
    "# sample() 함수로 DataFrame의 랜덤 데이터를 괄호 안에 지정한 개수만큼 얻어올 수 있습니다.\n",
    "# 지정하지 않으면 기본값인 1개를 얻어오게 됩니다.\n"
   ]
  },
  {
   "cell_type": "markdown",
   "id": "9ff460e6",
   "metadata": {
    "id": "aeaa2d8a"
   },
   "source": [
    "## 데이터 요약하기"
   ]
  },
  {
   "cell_type": "code",
   "execution_count": null,
   "id": "8ae5dfe6",
   "metadata": {
    "id": "808813c8",
    "outputId": "d357b21d-75ed-49f7-8e8e-2e1a1ae6dca2"
   },
   "outputs": [],
   "source": [
    "# info() 함수를 사용하면 DataFrame을 구성하고있는 데이터 자료형의 자세한 내용을 확인할 수 있습니다.\n"
   ]
  },
  {
   "cell_type": "code",
   "execution_count": null,
   "id": "b5da4b74",
   "metadata": {
    "id": "eea6e379",
    "outputId": "e28f209f-4217-4f7a-eff3-0b2087c11f66"
   },
   "outputs": [],
   "source": [
    "# describe() 함수로 DataFrame에 저장된 숫자 데이터의 요약 통계량을 확인 할 수 있습니다.\n",
    "# df에 숫자데이터는 '시점' column만 존재하기 때문에 '시점' column만 요약 통계량이 나오게 됩니다.\n"
   ]
  },
  {
   "cell_type": "code",
   "execution_count": null,
   "id": "3e24e428",
   "metadata": {
    "id": "4d6bc70e",
    "outputId": "9429c383-e29d-476c-d818-2e62978c8098"
   },
   "outputs": [],
   "source": [
    "# nunique() 함수로 DataFrame에 고유값의 개수를 확인할 수 있습니다.\n"
   ]
  },
  {
   "cell_type": "markdown",
   "id": "09e4028c",
   "metadata": {
    "id": "80f2740b"
   },
   "source": [
    "## 데이터 색인하기"
   ]
  },
  {
   "cell_type": "markdown",
   "id": "3c0f04ee",
   "metadata": {
    "id": "1a339cc3"
   },
   "source": [
    "### Boolean Indexing\n",
    "* 결과값이 True, False bool형태로 반환되기 대문에 boolean indexing이라고 부른다.\n",
    "* boolean indexing을 사용해 특정 조건식을 만족하는 데이터를 서브셋으로 가져온다."
   ]
  },
  {
   "cell_type": "code",
   "execution_count": null,
   "id": "a8fcce83",
   "metadata": {
    "id": "c3db1df9",
    "outputId": "71ec5b6e-127f-40ae-d64b-23d2c89674a7"
   },
   "outputs": [],
   "source": [
    "# DataFrame에서 폐암과 자궁경부암에 관한 내용 찾아보기\n",
    "# 폐암 국가검진은 2019년 7월부터 추가되었기 때문에 폐암에 관한 데이터는 없습니다."
   ]
  },
  {
   "cell_type": "code",
   "execution_count": null,
   "id": "19627a9c",
   "metadata": {
    "id": "c26613e5",
    "outputId": "10e03aaf-d67b-41b5-fd2c-c0fdeda810c3"
   },
   "outputs": [],
   "source": [
    "# 자궁경부암\n"
   ]
  },
  {
   "cell_type": "markdown",
   "id": "43dbf6e4",
   "metadata": {},
   "source": [
    "## 파생변수 만들기\n",
    "\n",
    "<img src = 'https://pandas.pydata.org/docs/_images/05_newcolumn_1.svg' width=\"600\">\n",
    "\n",
    "* 연령을 다음과 같이 만들기\n",
    "\"20대\"\n",
    "\"30대\""
   ]
  },
  {
   "cell_type": "code",
   "execution_count": null,
   "id": "edfe060a",
   "metadata": {},
   "outputs": [],
   "source": [
    "# 연령별 unique 값을 확인합니다.\n"
   ]
  },
  {
   "cell_type": "code",
   "execution_count": null,
   "id": "841bc73e",
   "metadata": {},
   "outputs": [],
   "source": [
    "# 연령대 파생변수를 생성합니다.\n",
    "# df[\"연령대\"]"
   ]
  },
  {
   "cell_type": "markdown",
   "id": "cae4071e",
   "metadata": {},
   "source": [
    "## 여러 조건 검색하기\n",
    "* and => &\n",
    "* or => | "
   ]
  },
  {
   "cell_type": "code",
   "execution_count": null,
   "id": "d29c42bd",
   "metadata": {
    "id": "0ee537ab",
    "outputId": "cb0e54b9-cbeb-404e-caf1-85b105a6dcb8"
   },
   "outputs": [],
   "source": [
    "# 2010년에 간암에 관한 데이터를 확인해 봅니다.\n",
    "# .loc[행, 열]\n",
    "# .loc[조건식, 열]\n",
    "# df.loc[(df['시점'] == 2010) & (df['암검진별'] == '간암')] \n",
    "# 시점의 type은 int64이기 때문에 int형식으로 지정해 주어야 합니다.\n",
    "# 시점을 \"2010\" 과 같이 문자열로 지정하면 원하는 데이터를 얻을 수 없습니다.\n",
    "# year\n",
    "# cancer\n"
   ]
  },
  {
   "cell_type": "markdown",
   "id": "6f4c1e7d",
   "metadata": {
    "id": "c9553453"
   },
   "source": [
    "## 사용하지 않는 컬럼 제거"
   ]
  },
  {
   "cell_type": "code",
   "execution_count": null,
   "id": "ddf018ec",
   "metadata": {
    "id": "b39078a0",
    "outputId": "5830ef72-80a5-41ba-fa12-5eef533f5942",
    "scrolled": false
   },
   "outputs": [],
   "source": [
    "# \"대상인원 (명)\", \"수검인원 (명)\" 은 사용하지 않을 예정이라 제거합니다.\n",
    "# df"
   ]
  },
  {
   "cell_type": "markdown",
   "id": "4eb200f7",
   "metadata": {
    "id": "688dea84"
   },
   "source": [
    "## 데이터 저장하기\n",
    "\n",
    "<img src = 'https://pandas.pydata.org/docs/_images/02_io_readwrite.svg'>"
   ]
  },
  {
   "cell_type": "code",
   "execution_count": null,
   "id": "2cc659b4",
   "metadata": {
    "id": "c4e636ab"
   },
   "outputs": [],
   "source": [
    "# 데이터를 저장할 때 index를 False로 저장하면 index번호는 같이 저장되지 않습니다.\n",
    "# DataFrame은 excel형식으로도 저장이 가능합니다.\n",
    "# df.to_excel('data/kosis-cancer.xlsx', index=False)\n"
   ]
  },
  {
   "cell_type": "code",
   "execution_count": null,
   "id": "a72e1bd0",
   "metadata": {
    "id": "0d1e867a"
   },
   "outputs": [],
   "source": []
  },
  {
   "cell_type": "code",
   "execution_count": null,
   "id": "cb7dc648",
   "metadata": {
    "id": "46544fa3"
   },
   "outputs": [],
   "source": []
  }
 ],
 "metadata": {
  "colab": {
   "name": "healthCare_12_31.ipynb",
   "provenance": [],
   "toc_visible": true
  },
  "kernelspec": {
   "display_name": "Python 3 (ipykernel)",
   "language": "python",
   "name": "python3"
  },
  "language_info": {
   "codemirror_mode": {
    "name": "ipython",
    "version": 3
   },
   "file_extension": ".py",
   "mimetype": "text/x-python",
   "name": "python",
   "nbconvert_exporter": "python",
   "pygments_lexer": "ipython3",
   "version": "3.7.13"
  },
  "toc": {
   "base_numbering": 1,
   "nav_menu": {},
   "number_sections": true,
   "sideBar": true,
   "skip_h1_title": false,
   "title_cell": "Table of Contents",
   "title_sidebar": "Contents",
   "toc_cell": false,
   "toc_position": {},
   "toc_section_display": true,
   "toc_window_display": true
  },
  "varInspector": {
   "cols": {
    "lenName": 16,
    "lenType": 16,
    "lenVar": 40
   },
   "kernels_config": {
    "python": {
     "delete_cmd_postfix": "",
     "delete_cmd_prefix": "del ",
     "library": "var_list.py",
     "varRefreshCmd": "print(var_dic_list())"
    },
    "r": {
     "delete_cmd_postfix": ") ",
     "delete_cmd_prefix": "rm(",
     "library": "var_list.r",
     "varRefreshCmd": "cat(var_dic_list()) "
    }
   },
   "types_to_exclude": [
    "module",
    "function",
    "builtin_function_or_method",
    "instance",
    "_Feature"
   ],
   "window_display": false
  }
 },
 "nbformat": 4,
 "nbformat_minor": 5
}
