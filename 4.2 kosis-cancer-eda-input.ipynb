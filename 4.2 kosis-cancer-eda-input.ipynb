{
 "cells": [
  {
   "cell_type": "markdown",
   "id": "rFgo4bs4YUtd",
   "metadata": {
    "id": "rFgo4bs4YUtd"
   },
   "source": [
    "## 파이썬 라이브러리를 활용한 데이터 분석과 시각화\n",
    "\n",
    "### numpy\n",
    "* numpy는 n차원 데이터를 빠르고 쉽게 계산할 수 있게 해 주는 라이브러리입니다.\n",
    "*  https://numpy.org/\n",
    "\n",
    "### pandas\n",
    "* pandas는 데이터 분석과 조작을 도와주는 라이브러리입니다.\n",
    "*  https://pandas.pydata.org/\n",
    "\n",
    "##  시각화 도구\n",
    "\n",
    "<img src=\"https://rougier.github.io/python-visualization-landscape/landscape-colors.png\">\n",
    "\n",
    "### matplotlib\n",
    "* https://matplotlib.org/\n",
    "\n",
    "### matplotlib.pyplot\n",
    "* pyplot은 matplotlib에 대한 상태 기반 인터페이스입니다.\n",
    "* 파이썬의 가장 인기있는 데이터 시각화 도구입니다.\n",
    "*  https://matplotlib.org/stable/api/_as_gen/matplotlib.pyplot.html\n",
    "\n",
    "### seaborn\n",
    "* seaborn은 matplotlib에 기반한 통계적 데이터 시각화 지원 라이브러리입니다.\n",
    "* pyplot을 사용하기 쉽게 추상화 한 시각화 도구 입니다.\n",
    "*  https://seaborn.pydata.org/\n",
    "\n",
    "### pandas visualization\n",
    "* https://pandas.pydata.org/pandas-docs/stable/user_guide/visualization.html\n"
   ]
  },
  {
   "cell_type": "code",
   "execution_count": null,
   "id": "bKVKyPQ7YUti",
   "metadata": {
    "id": "bKVKyPQ7YUti"
   },
   "outputs": [],
   "source": [
    "# pandas, numpy, seaborn, matplotlib.pyplot 을 불러옵니다.\n"
   ]
  },
  {
   "cell_type": "code",
   "execution_count": null,
   "id": "tUJu9hvnYUtj",
   "metadata": {
    "id": "tUJu9hvnYUtj"
   },
   "outputs": [],
   "source": [
    "# 저장한 Dataframe을 불러와 변수 df에 지정해줍니다.\n",
    "# kosis-cancer.csv\n",
    "# df\n"
   ]
  },
  {
   "cell_type": "markdown",
   "id": "fgNdpeY7YUtn",
   "metadata": {
    "id": "fgNdpeY7YUtn"
   },
   "source": [
    "## 한글폰트 설정하기"
   ]
  },
  {
   "cell_type": "code",
   "execution_count": null,
   "id": "5QC2lzKtYUtn",
   "metadata": {
    "id": "5QC2lzKtYUtn"
   },
   "outputs": [],
   "source": [
    "# 데이터 시각화 도구에서 한글을 그대로 출력하게 되면 글자가 깨져서 나오게 되기 때문에 글꼴설정을 해줘야 한다.\n",
    "def get_font_family():\n",
    "    \"\"\"\n",
    "    시스템 환경에 따른 기본 폰트명을 반환하는 함수\n",
    "    \"\"\"\n",
    "    import platform\n",
    "    system_name = platform.system()\n",
    "\n",
    "    if system_name == \"Darwin\" :\n",
    "        font_family = \"AppleGothic\"\n",
    "    elif system_name == \"Windows\":\n",
    "        font_family = \"Malgun Gothic\"\n",
    "    else:\n",
    "        # Linux(colab)\n",
    "        !apt-get install fonts-nanum -qq  > /dev/null\n",
    "        !fc-cache -fv\n",
    "\n",
    "        import matplotlib as mpl\n",
    "        mpl.font_manager._rebuild()\n",
    "        findfont = mpl.font_manager.fontManager.findfont\n",
    "        mpl.font_manager.findfont = findfont\n",
    "        mpl.backends.backend_agg.findfont = findfont\n",
    "\n",
    "        font_family = \"NanumBarunGothic\"\n",
    "    return font_family"
   ]
  },
  {
   "cell_type": "code",
   "execution_count": null,
   "id": "rVYHQJ1OYUto",
   "metadata": {
    "id": "rVYHQJ1OYUto"
   },
   "outputs": [],
   "source": [
    "# 위에서 만든 함수를 통해 시스템 폰트를 불러와줍니다.\n",
    "get_font_family()"
   ]
  },
  {
   "cell_type": "code",
   "execution_count": null,
   "id": "R72HcFECYUtp",
   "metadata": {
    "id": "R72HcFECYUtp"
   },
   "outputs": [],
   "source": [
    "# 시각화를 위한 폰트설정\n",
    "# 위에서 만든 함수를 통해 시스템 폰트를 불러와서 font_family라는 변수에 할당합니다.\n",
    "plt.style.use(\"ggplot\")\n",
    "\n",
    "font_family = get_font_family()\n",
    "# 폰트설정\n",
    "plt.rc(\"font\", family=font_family)\n",
    "# 마이너스 폰트 설정\n",
    "plt.rc(\"axes\", unicode_minus=False)\n",
    "\n",
    "%config InlineBackend.figure_format = 'retina'"
   ]
  },
  {
   "cell_type": "markdown",
   "id": "tR4sjYCCYUtp",
   "metadata": {
    "id": "tR4sjYCCYUtp"
   },
   "source": [
    "### 폰트설정 확인하기"
   ]
  },
  {
   "cell_type": "code",
   "execution_count": null,
   "id": "4soVydVbYUtp",
   "metadata": {
    "id": "4soVydVbYUtp"
   },
   "outputs": [],
   "source": [
    "# 한글 폰트가 정상적으로 작동하는지 확인하기\n"
   ]
  },
  {
   "cell_type": "markdown",
   "id": "OyhD6vOdYUtq",
   "metadata": {
    "id": "OyhD6vOdYUtq"
   },
   "source": [
    "## 한 개의 변수 빈도수 구하고 시각화 하기\n",
    "* Keyword\n",
    "\n",
    "    * Series.value_counts()\n",
    "    * Series.value_counts().plot()\n",
    "    * Series.value_counts().plot.bar()\n",
    "    * Series.value_counts().plot.barh()\n",
    "    * sns.countplot()"
   ]
  },
  {
   "cell_type": "code",
   "execution_count": null,
   "id": "PrSYg18mYUtq",
   "metadata": {
    "id": "PrSYg18mYUtq"
   },
   "outputs": [],
   "source": [
    "# \"암검진별\" column의 value별 개수를 확인해 봅니다.\n"
   ]
  },
  {
   "cell_type": "code",
   "execution_count": null,
   "id": "hSz51eS7YUtq",
   "metadata": {
    "id": "hSz51eS7YUtq"
   },
   "outputs": [],
   "source": [
    "# seaborn을 활용하여 암검진별 빈도수를 표현할 수 있습니다.\n"
   ]
  },
  {
   "cell_type": "code",
   "execution_count": null,
   "id": "_hGeI-f_YUtr",
   "metadata": {
    "id": "_hGeI-f_YUtr"
   },
   "outputs": [],
   "source": [
    "# seaborn countplot을 활용하여 암검진별 빈도수를 표현 합니다. hue=\"성별\"에 따라 다른 색상으로 표현합니다.\n"
   ]
  },
  {
   "cell_type": "code",
   "execution_count": null,
   "id": "kRu_qFbGYUtr",
   "metadata": {
    "id": "kRu_qFbGYUtr"
   },
   "outputs": [],
   "source": [
    "# 데이터가 0 인것은 빈도수 계산에서 제외하도록\n",
    "# 대상인원 이 0 보다 큰 데이터만 찾습니다.\n"
   ]
  },
  {
   "cell_type": "code",
   "execution_count": null,
   "id": "OqahA1JbYUtr",
   "metadata": {
    "id": "OqahA1JbYUtr"
   },
   "outputs": [],
   "source": [
    "# 데이터 > 0 보다 큰 데이터로 빈도수 시각화 해보기\n"
   ]
  },
  {
   "cell_type": "markdown",
   "id": "zsxXiEsFYUts",
   "metadata": {
    "id": "zsxXiEsFYUts"
   },
   "source": [
    "### crosstab 으로 두 개의 빈도수 구하기"
   ]
  },
  {
   "cell_type": "code",
   "execution_count": null,
   "id": "MQk8Qcx_YUts",
   "metadata": {
    "id": "MQk8Qcx_YUts"
   },
   "outputs": [],
   "source": [
    "# crosstab 으로 시각화 결과를 구하기 df[\"성별\"], df[\"암검진별\"]\n",
    "# 남성의 경우 항목이 있는지 여부를 표시하고 있기 때문에 실제 대상인원은 0이라도 해당 항목이 표시됩니다.\n"
   ]
  },
  {
   "cell_type": "markdown",
   "id": "hvJai-DxYUts",
   "metadata": {
    "id": "hvJai-DxYUts"
   },
   "source": [
    "## 수치형 데이터"
   ]
  },
  {
   "cell_type": "code",
   "execution_count": null,
   "id": "-rXVYLXvYUts",
   "metadata": {
    "id": "-rXVYLXvYUts"
   },
   "outputs": [],
   "source": [
    "# .hist 를 사용하면 전체 수치 데이터에 대한 시각화를 할 수 있습니다.\n"
   ]
  },
  {
   "cell_type": "markdown",
   "id": "hxvTgpmaYUts",
   "metadata": {
    "id": "hxvTgpmaYUts"
   },
   "source": [
    "## 2019 년 데이터만 보기"
   ]
  },
  {
   "cell_type": "code",
   "execution_count": null,
   "id": "FbBxdXv4YUtt",
   "metadata": {
    "id": "FbBxdXv4YUtt"
   },
   "outputs": [],
   "source": [
    "# 2019년의 데이터를 확인하기 위해 2019년의 데이터만 지정해줍니다.\n",
    "# df_2019"
   ]
  },
  {
   "cell_type": "code",
   "execution_count": null,
   "id": "dMaq2DlBYUtt",
   "metadata": {
    "id": "dMaq2DlBYUtt"
   },
   "outputs": [],
   "source": [
    "# seaborn의 barplot을 사용해서 데이터를 시각화 할 수 있습니다.\n",
    "# x축에는 암검진별, y축에는 데이터, hue값에는 성별을 넣어줍니다.\n",
    "# 2019년 남자와 여자의 암검진별 수검인원을 비교합니다.\n",
    "plt.figure(figsize=(15, 4))\n"
   ]
  },
  {
   "cell_type": "code",
   "execution_count": null,
   "id": "J5nECGj6YUtt",
   "metadata": {
    "id": "J5nECGj6YUtt",
    "scrolled": false
   },
   "outputs": [],
   "source": [
    "# 2019년의 x=\"연령별\", y='수검인원', hue='암검진별', kind=\"bar\", col=\"성별\" 시각화\n",
    "plt.figure(figsize=(15, 6))\n"
   ]
  },
  {
   "cell_type": "markdown",
   "id": "A2E9ZvN0YUtt",
   "metadata": {
    "id": "A2E9ZvN0YUtt"
   },
   "source": [
    "## 연도별 암검진 현황\n",
    "### 평균 시각화"
   ]
  },
  {
   "cell_type": "code",
   "execution_count": null,
   "id": "ECmAi1I4YUtt",
   "metadata": {
    "id": "ECmAi1I4YUtt"
   },
   "outputs": [],
   "source": [
    "# pointplot 으로 연도별 암검진 **평균** 수검인원을 시각화 합니다.\n"
   ]
  },
  {
   "cell_type": "markdown",
   "id": "BJcur5QRYUtu",
   "metadata": {
    "id": "BJcur5QRYUtu"
   },
   "source": [
    "### 합계 시각화"
   ]
  },
  {
   "cell_type": "code",
   "execution_count": null,
   "id": "5UF115dVYUtu",
   "metadata": {
    "id": "5UF115dVYUtu"
   },
   "outputs": [],
   "source": [
    "# pointplot 으로 연도별 암검진 **합계** 수검인원을 시각화 합니다.\n"
   ]
  },
  {
   "cell_type": "code",
   "execution_count": null,
   "id": "c98e8n2eYUtu",
   "metadata": {
    "id": "c98e8n2eYUtu"
   },
   "outputs": [],
   "source": [
    "# catplot 으로 연도별 암검진 수검인원을 시각화 합니다.\n"
   ]
  },
  {
   "cell_type": "code",
   "execution_count": null,
   "id": "ngwfbIAWYUtu",
   "metadata": {
    "id": "ngwfbIAWYUtu"
   },
   "outputs": [],
   "source": [
    "# catplot 으로 연도별 암검진 수검인원 **합계**를 pointplot으로 시각화 합니다.\n"
   ]
  },
  {
   "cell_type": "markdown",
   "id": "zSzxCCr7YUtu",
   "metadata": {
    "id": "zSzxCCr7YUtu"
   },
   "source": [
    "## groupby와 pivot_table활용해보기\n",
    "\n",
    "<img src = 'https://pandas.pydata.org/docs/_images/06_groupby.svg' width=\"800\">\n",
    "\n",
    "<img src = 'https://pandas.pydata.org/docs/_images/reshaping_pivot.png' width = '600'>"
   ]
  },
  {
   "cell_type": "code",
   "execution_count": null,
   "id": "4jjZl1RNYUtu",
   "metadata": {
    "id": "4jjZl1RNYUtu"
   },
   "outputs": [],
   "source": [
    "# groupby([인덱스 컬럼 리스트])[연산에 사용할 컬럼].연산()\n"
   ]
  },
  {
   "cell_type": "code",
   "execution_count": null,
   "id": "yXhDbx7fYUtv",
   "metadata": {
    "id": "yXhDbx7fYUtv"
   },
   "outputs": [],
   "source": [
    "# pivot_table로 같은 결과가 나오게 연산하기\n"
   ]
  },
  {
   "cell_type": "code",
   "execution_count": null,
   "id": "5i16dL28YUtv",
   "metadata": {
    "id": "5i16dL28YUtv"
   },
   "outputs": [],
   "source": []
  },
  {
   "cell_type": "code",
   "execution_count": null,
   "id": "rRxBWgKqYUtv",
   "metadata": {
    "id": "rRxBWgKqYUtv"
   },
   "outputs": [],
   "source": []
  }
 ],
 "metadata": {
  "colab": {
   "name": "04-kosis-cancer-eda-input.ipynb",
   "provenance": []
  },
  "kernelspec": {
   "display_name": "Python 3 (ipykernel)",
   "language": "python",
   "name": "python3"
  },
  "language_info": {
   "codemirror_mode": {
    "name": "ipython",
    "version": 3
   },
   "file_extension": ".py",
   "mimetype": "text/x-python",
   "name": "python",
   "nbconvert_exporter": "python",
   "pygments_lexer": "ipython3",
   "version": "3.7.13"
  },
  "toc": {
   "base_numbering": 1,
   "nav_menu": {},
   "number_sections": true,
   "sideBar": true,
   "skip_h1_title": false,
   "title_cell": "Table of Contents",
   "title_sidebar": "Contents",
   "toc_cell": false,
   "toc_position": {},
   "toc_section_display": true,
   "toc_window_display": true
  },
  "varInspector": {
   "cols": {
    "lenName": 16,
    "lenType": 16,
    "lenVar": 40
   },
   "kernels_config": {
    "python": {
     "delete_cmd_postfix": "",
     "delete_cmd_prefix": "del ",
     "library": "var_list.py",
     "varRefreshCmd": "print(var_dic_list())"
    },
    "r": {
     "delete_cmd_postfix": ") ",
     "delete_cmd_prefix": "rm(",
     "library": "var_list.r",
     "varRefreshCmd": "cat(var_dic_list()) "
    }
   },
   "types_to_exclude": [
    "module",
    "function",
    "builtin_function_or_method",
    "instance",
    "_Feature"
   ],
   "window_display": false
  }
 },
 "nbformat": 4,
 "nbformat_minor": 5
}
