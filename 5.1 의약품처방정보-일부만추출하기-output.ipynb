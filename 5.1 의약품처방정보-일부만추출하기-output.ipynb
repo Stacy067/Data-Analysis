{
 "cells": [
  {
   "cell_type": "markdown",
   "metadata": {
    "id": "92qFsVay0Kmz"
   },
   "source": [
    "## 의약품 처방정보\n",
    "* https://www.data.go.kr/data/15007117/fileData.do\n",
    "\n",
    "* 의약품처방정보는 국민건강보험 가입자 중 의약품처방이력이 있는 각 연도별 수진자 100만 명에 대한 기본정보(성, 연령대, 시도코드 등)와 의약품처방전별 개별 의약품에 대한 처방내역(요양개시일자, 1회투약량, 1일투약량, 총투여일수 등)으로 구성된 개방데이터입니다.\n",
    "\n",
    "* <img src=\"https://i.imgur.com/hsrpJp4.png\">\n",
    "\n",
    "* 약품일반성분명코드\n",
    "* http://www.hira.or.kr/rf/medicine/getHistoryList.do?pgmid=HIRAA030035020000\n",
    "\n",
    "* 주성분코드부여방법\n",
    "* https://www.health.kr/drug_info/basedrug/main_ingredient.html\n",
    "\n",
    "\n",
    "## 데이터 샘플링\n",
    "* 원본 데이터는 매우 큽니다.\n",
    "* 컴퓨터 개인 사양에 따라 데이터 불러오기가 되지 않을 수 있습니다. \n",
    "* 보통 메모리 8기가 정도를 사용하고 있다면 다른 프로그램에서 4G를 사용하고 있다고 가정할 때 2~3G의 데이터를 불러와서 분석할 수 있습니다."
   ]
  },
  {
   "cell_type": "code",
   "execution_count": 7,
   "metadata": {},
   "outputs": [
    {
     "data": {
      "text/plain": [
       "2.0"
      ]
     },
     "execution_count": 7,
     "metadata": {},
     "output_type": "execute_result"
    }
   ],
   "source": [
    "(100 / 5000) * 100"
   ]
  },
  {
   "cell_type": "code",
   "execution_count": 1,
   "metadata": {
    "id": "7WxoT1ygFzhD"
   },
   "outputs": [],
   "source": [
    "import numpy as np\n",
    "import pandas as pd"
   ]
  },
  {
   "cell_type": "code",
   "execution_count": 5,
   "metadata": {},
   "outputs": [
    {
     "name": "stdout",
     "output_type": "stream",
     "text": [
      "현재 작업 경로: /Users/corazzon/codes/snu-python\n"
     ]
    },
    {
     "data": {
      "text/plain": [
       "['.DS_Store',\n",
       " 'HP_T60_2020_1.CSV',\n",
       " 'HP_T60_2020_2.CSV',\n",
       " 'HP_T60_2020_3.CSV',\n",
       " 'kosis-cancer-raw.csv',\n",
       " 'kosis-cancer.csv']"
      ]
     },
     "execution_count": 5,
     "metadata": {},
     "output_type": "execute_result"
    }
   ],
   "source": [
    "import os\n",
    "\n",
    "print(\"현재 작업 경로:\", os.getcwd())\n",
    "os.listdir(\"data\")"
   ]
  },
  {
   "cell_type": "code",
   "execution_count": 9,
   "metadata": {
    "colab": {
     "base_uri": "https://localhost:8080/",
     "height": 424
    },
    "executionInfo": {
     "elapsed": 25782,
     "status": "ok",
     "timestamp": 1640766065315,
     "user": {
      "displayName": "김진연",
      "photoUrl": "https://lh3.googleusercontent.com/a/default-user=s64",
      "userId": "15053695256072630202"
     },
     "user_tz": -540
    },
    "id": "1HNcNlFmQNad",
    "outputId": "818be111-7d08-465c-92d4-1b140f589bee"
   },
   "outputs": [
    {
     "data": {
      "text/plain": [
       "(10923225, 15)"
      ]
     },
     "execution_count": 9,
     "metadata": {},
     "output_type": "execute_result"
    }
   ],
   "source": [
    "# cp949 : 한글 윈도우에서 사용하는 인코딩 방식\n",
    "raw = pd.read_csv(\"data/HP_T60_2020_3.CSV\", encoding=\"cp949\")\n",
    "raw.shape"
   ]
  },
  {
   "cell_type": "code",
   "execution_count": 10,
   "metadata": {},
   "outputs": [
    {
     "data": {
      "text/html": [
       "<div>\n",
       "<style scoped>\n",
       "    .dataframe tbody tr th:only-of-type {\n",
       "        vertical-align: middle;\n",
       "    }\n",
       "\n",
       "    .dataframe tbody tr th {\n",
       "        vertical-align: top;\n",
       "    }\n",
       "\n",
       "    .dataframe thead th {\n",
       "        text-align: right;\n",
       "    }\n",
       "</style>\n",
       "<table border=\"1\" class=\"dataframe\">\n",
       "  <thead>\n",
       "    <tr style=\"text-align: right;\">\n",
       "      <th></th>\n",
       "      <th>기준년도</th>\n",
       "      <th>가입자 일련번호</th>\n",
       "      <th>처방내역일련번호</th>\n",
       "      <th>일련번호</th>\n",
       "      <th>성별코드</th>\n",
       "      <th>연령대코드(5세단위)</th>\n",
       "      <th>시도코드</th>\n",
       "      <th>요양개시일자</th>\n",
       "      <th>약품일반성분명코드</th>\n",
       "      <th>1회 투약량</th>\n",
       "      <th>1일투약량</th>\n",
       "      <th>총투여일수</th>\n",
       "      <th>단가</th>\n",
       "      <th>금액</th>\n",
       "      <th>데이터 공개일자</th>\n",
       "    </tr>\n",
       "  </thead>\n",
       "  <tbody>\n",
       "    <tr>\n",
       "      <th>0</th>\n",
       "      <td>2020</td>\n",
       "      <td>666668</td>\n",
       "      <td>5260626</td>\n",
       "      <td>2</td>\n",
       "      <td>1</td>\n",
       "      <td>11</td>\n",
       "      <td>43</td>\n",
       "      <td>2020-04-15</td>\n",
       "      <td>134103ATB</td>\n",
       "      <td>2.0</td>\n",
       "      <td>2</td>\n",
       "      <td>4</td>\n",
       "      <td>476.0</td>\n",
       "      <td>7616</td>\n",
       "      <td>2021-12-29</td>\n",
       "    </tr>\n",
       "    <tr>\n",
       "      <th>1</th>\n",
       "      <td>2020</td>\n",
       "      <td>666668</td>\n",
       "      <td>6859861</td>\n",
       "      <td>1</td>\n",
       "      <td>1</td>\n",
       "      <td>11</td>\n",
       "      <td>43</td>\n",
       "      <td>2020-04-03</td>\n",
       "      <td>146432ASS</td>\n",
       "      <td>20.0</td>\n",
       "      <td>2</td>\n",
       "      <td>3</td>\n",
       "      <td>14.0</td>\n",
       "      <td>1680</td>\n",
       "      <td>2021-12-29</td>\n",
       "    </tr>\n",
       "  </tbody>\n",
       "</table>\n",
       "</div>"
      ],
      "text/plain": [
       "   기준년도  가입자 일련번호  처방내역일련번호  일련번호  성별코드  연령대코드(5세단위)  시도코드      요양개시일자  \\\n",
       "0  2020    666668   5260626     2     1           11    43  2020-04-15   \n",
       "1  2020    666668   6859861     1     1           11    43  2020-04-03   \n",
       "\n",
       "   약품일반성분명코드  1회 투약량  1일투약량  총투여일수     단가    금액    데이터 공개일자  \n",
       "0  134103ATB     2.0      2      4  476.0  7616  2021-12-29  \n",
       "1  146432ASS    20.0      2      3   14.0  1680  2021-12-29  "
      ]
     },
     "execution_count": 10,
     "metadata": {},
     "output_type": "execute_result"
    }
   ],
   "source": [
    "raw.head(2)"
   ]
  },
  {
   "cell_type": "code",
   "execution_count": 11,
   "metadata": {},
   "outputs": [
    {
     "data": {
      "text/html": [
       "<div>\n",
       "<style scoped>\n",
       "    .dataframe tbody tr th:only-of-type {\n",
       "        vertical-align: middle;\n",
       "    }\n",
       "\n",
       "    .dataframe tbody tr th {\n",
       "        vertical-align: top;\n",
       "    }\n",
       "\n",
       "    .dataframe thead th {\n",
       "        text-align: right;\n",
       "    }\n",
       "</style>\n",
       "<table border=\"1\" class=\"dataframe\">\n",
       "  <thead>\n",
       "    <tr style=\"text-align: right;\">\n",
       "      <th></th>\n",
       "      <th>기준년도</th>\n",
       "      <th>가입자 일련번호</th>\n",
       "      <th>처방내역일련번호</th>\n",
       "      <th>일련번호</th>\n",
       "      <th>성별코드</th>\n",
       "      <th>연령대코드(5세단위)</th>\n",
       "      <th>시도코드</th>\n",
       "      <th>요양개시일자</th>\n",
       "      <th>약품일반성분명코드</th>\n",
       "      <th>1회 투약량</th>\n",
       "      <th>1일투약량</th>\n",
       "      <th>총투여일수</th>\n",
       "      <th>단가</th>\n",
       "      <th>금액</th>\n",
       "      <th>데이터 공개일자</th>\n",
       "    </tr>\n",
       "  </thead>\n",
       "  <tbody>\n",
       "    <tr>\n",
       "      <th>10923220</th>\n",
       "      <td>2020</td>\n",
       "      <td>1000000</td>\n",
       "      <td>143885</td>\n",
       "      <td>4</td>\n",
       "      <td>1</td>\n",
       "      <td>7</td>\n",
       "      <td>36</td>\n",
       "      <td>2020-11-07</td>\n",
       "      <td>532500ASY</td>\n",
       "      <td>1.0</td>\n",
       "      <td>4</td>\n",
       "      <td>5</td>\n",
       "      <td>200.0</td>\n",
       "      <td>4000</td>\n",
       "      <td>2021-12-29</td>\n",
       "    </tr>\n",
       "    <tr>\n",
       "      <th>10923221</th>\n",
       "      <td>2020</td>\n",
       "      <td>1000000</td>\n",
       "      <td>143885</td>\n",
       "      <td>5</td>\n",
       "      <td>1</td>\n",
       "      <td>7</td>\n",
       "      <td>36</td>\n",
       "      <td>2020-11-07</td>\n",
       "      <td>222901ATB</td>\n",
       "      <td>1.0</td>\n",
       "      <td>3</td>\n",
       "      <td>5</td>\n",
       "      <td>103.0</td>\n",
       "      <td>1545</td>\n",
       "      <td>2021-12-29</td>\n",
       "    </tr>\n",
       "    <tr>\n",
       "      <th>10923222</th>\n",
       "      <td>2020</td>\n",
       "      <td>1000000</td>\n",
       "      <td>143885</td>\n",
       "      <td>3</td>\n",
       "      <td>1</td>\n",
       "      <td>7</td>\n",
       "      <td>36</td>\n",
       "      <td>2020-11-07</td>\n",
       "      <td>458402ATB</td>\n",
       "      <td>1.0</td>\n",
       "      <td>3</td>\n",
       "      <td>5</td>\n",
       "      <td>163.0</td>\n",
       "      <td>2445</td>\n",
       "      <td>2021-12-29</td>\n",
       "    </tr>\n",
       "    <tr>\n",
       "      <th>10923223</th>\n",
       "      <td>2020</td>\n",
       "      <td>1000000</td>\n",
       "      <td>143885</td>\n",
       "      <td>2</td>\n",
       "      <td>1</td>\n",
       "      <td>7</td>\n",
       "      <td>36</td>\n",
       "      <td>2020-11-07</td>\n",
       "      <td>296900ATB</td>\n",
       "      <td>1.0</td>\n",
       "      <td>3</td>\n",
       "      <td>5</td>\n",
       "      <td>24.0</td>\n",
       "      <td>360</td>\n",
       "      <td>2021-12-29</td>\n",
       "    </tr>\n",
       "    <tr>\n",
       "      <th>10923224</th>\n",
       "      <td>2020</td>\n",
       "      <td>1000000</td>\n",
       "      <td>143885</td>\n",
       "      <td>1</td>\n",
       "      <td>1</td>\n",
       "      <td>7</td>\n",
       "      <td>36</td>\n",
       "      <td>2020-11-07</td>\n",
       "      <td>153101ATB</td>\n",
       "      <td>1.0</td>\n",
       "      <td>3</td>\n",
       "      <td>5</td>\n",
       "      <td>192.0</td>\n",
       "      <td>2880</td>\n",
       "      <td>2021-12-29</td>\n",
       "    </tr>\n",
       "  </tbody>\n",
       "</table>\n",
       "</div>"
      ],
      "text/plain": [
       "          기준년도  가입자 일련번호  처방내역일련번호  일련번호  성별코드  연령대코드(5세단위)  시도코드      요양개시일자  \\\n",
       "10923220  2020   1000000    143885     4     1            7    36  2020-11-07   \n",
       "10923221  2020   1000000    143885     5     1            7    36  2020-11-07   \n",
       "10923222  2020   1000000    143885     3     1            7    36  2020-11-07   \n",
       "10923223  2020   1000000    143885     2     1            7    36  2020-11-07   \n",
       "10923224  2020   1000000    143885     1     1            7    36  2020-11-07   \n",
       "\n",
       "          약품일반성분명코드  1회 투약량  1일투약량  총투여일수     단가    금액    데이터 공개일자  \n",
       "10923220  532500ASY     1.0      4      5  200.0  4000  2021-12-29  \n",
       "10923221  222901ATB     1.0      3      5  103.0  1545  2021-12-29  \n",
       "10923222  458402ATB     1.0      3      5  163.0  2445  2021-12-29  \n",
       "10923223  296900ATB     1.0      3      5   24.0   360  2021-12-29  \n",
       "10923224  153101ATB     1.0      3      5  192.0  2880  2021-12-29  "
      ]
     },
     "execution_count": 11,
     "metadata": {},
     "output_type": "execute_result"
    }
   ],
   "source": [
    "raw.tail()"
   ]
  },
  {
   "cell_type": "code",
   "execution_count": 13,
   "metadata": {},
   "outputs": [
    {
     "data": {
      "text/plain": [
       "array(['134103ATB', '146432ASS', '451302ATB', '185102ACH', '260100ACR',\n",
       "       '503301ACH', '438901ATB', '125201ACH', '186101ATB', '203802ATB'],\n",
       "      dtype=object)"
      ]
     },
     "execution_count": 13,
     "metadata": {},
     "output_type": "execute_result"
    }
   ],
   "source": [
    "raw[\"약품일반성분명코드\"].unique()[:10]"
   ]
  },
  {
   "cell_type": "code",
   "execution_count": 12,
   "metadata": {
    "scrolled": true
   },
   "outputs": [
    {
     "data": {
      "text/plain": [
       "333333"
      ]
     },
     "execution_count": 12,
     "metadata": {},
     "output_type": "execute_result"
    }
   ],
   "source": [
    "raw['가입자 일련번호'].nunique()"
   ]
  },
  {
   "cell_type": "code",
   "execution_count": 25,
   "metadata": {},
   "outputs": [
    {
     "data": {
      "text/plain": [
       "[720717, 776285, 864183, 828872, 886495]"
      ]
     },
     "execution_count": 25,
     "metadata": {},
     "output_type": "execute_result"
    }
   ],
   "source": [
    "# 판다스로 샘플링 하는 방법\n",
    "user_sample = raw[\"가입자 일련번호\"].sample(1000, random_state=42).tolist()\n",
    "user_sample[:5]"
   ]
  },
  {
   "cell_type": "code",
   "execution_count": 33,
   "metadata": {
    "colab": {
     "base_uri": "https://localhost:8080/",
     "height": 424
    },
    "executionInfo": {
     "elapsed": 1575,
     "status": "ok",
     "timestamp": 1640766276970,
     "user": {
      "displayName": "김진연",
      "photoUrl": "https://lh3.googleusercontent.com/a/default-user=s64",
      "userId": "15053695256072630202"
     },
     "user_tz": -540
    },
    "id": "64AT0sFdSdOH",
    "outputId": "7636cce3-8751-4959-a159-8d368c1b0c33"
   },
   "outputs": [
    {
     "data": {
      "text/plain": [
       "(79751, 15)"
      ]
     },
     "execution_count": 33,
     "metadata": {},
     "output_type": "execute_result"
    }
   ],
   "source": [
    "# isin으로 샘플링한 가입자 일련번호 데이터만 추출하기\n",
    "df_temp = raw[raw[\"가입자 일련번호\"].isin(user_sample)]\n",
    "df_temp.shape"
   ]
  },
  {
   "cell_type": "markdown",
   "metadata": {},
   "source": [
    "## 샘플링한 데이터 저장"
   ]
  },
  {
   "cell_type": "code",
   "execution_count": 34,
   "metadata": {},
   "outputs": [],
   "source": [
    "df_temp.to_csv(\"data/nhis_drug_sample_2020_3.csv\", index=False)"
   ]
  },
  {
   "cell_type": "code",
   "execution_count": 35,
   "metadata": {},
   "outputs": [
    {
     "data": {
      "text/html": [
       "<div>\n",
       "<style scoped>\n",
       "    .dataframe tbody tr th:only-of-type {\n",
       "        vertical-align: middle;\n",
       "    }\n",
       "\n",
       "    .dataframe tbody tr th {\n",
       "        vertical-align: top;\n",
       "    }\n",
       "\n",
       "    .dataframe thead th {\n",
       "        text-align: right;\n",
       "    }\n",
       "</style>\n",
       "<table border=\"1\" class=\"dataframe\">\n",
       "  <thead>\n",
       "    <tr style=\"text-align: right;\">\n",
       "      <th></th>\n",
       "      <th>기준년도</th>\n",
       "      <th>가입자 일련번호</th>\n",
       "      <th>처방내역일련번호</th>\n",
       "      <th>일련번호</th>\n",
       "      <th>성별코드</th>\n",
       "      <th>연령대코드(5세단위)</th>\n",
       "      <th>시도코드</th>\n",
       "      <th>요양개시일자</th>\n",
       "      <th>약품일반성분명코드</th>\n",
       "      <th>1회 투약량</th>\n",
       "      <th>1일투약량</th>\n",
       "      <th>총투여일수</th>\n",
       "      <th>단가</th>\n",
       "      <th>금액</th>\n",
       "      <th>데이터 공개일자</th>\n",
       "    </tr>\n",
       "  </thead>\n",
       "  <tbody>\n",
       "    <tr>\n",
       "      <th>0</th>\n",
       "      <td>2020</td>\n",
       "      <td>666699</td>\n",
       "      <td>1188743</td>\n",
       "      <td>2</td>\n",
       "      <td>2</td>\n",
       "      <td>11</td>\n",
       "      <td>48</td>\n",
       "      <td>2020-08-31</td>\n",
       "      <td>109931ALQ</td>\n",
       "      <td>1.0</td>\n",
       "      <td>2</td>\n",
       "      <td>30</td>\n",
       "      <td>220.0</td>\n",
       "      <td>13200</td>\n",
       "      <td>2021-12-29</td>\n",
       "    </tr>\n",
       "    <tr>\n",
       "      <th>1</th>\n",
       "      <td>2020</td>\n",
       "      <td>666699</td>\n",
       "      <td>1188743</td>\n",
       "      <td>5</td>\n",
       "      <td>2</td>\n",
       "      <td>11</td>\n",
       "      <td>48</td>\n",
       "      <td>2020-08-31</td>\n",
       "      <td>146602ACH</td>\n",
       "      <td>1.0</td>\n",
       "      <td>2</td>\n",
       "      <td>30</td>\n",
       "      <td>184.0</td>\n",
       "      <td>11040</td>\n",
       "      <td>2021-12-29</td>\n",
       "    </tr>\n",
       "    <tr>\n",
       "      <th>2</th>\n",
       "      <td>2020</td>\n",
       "      <td>666699</td>\n",
       "      <td>1188743</td>\n",
       "      <td>3</td>\n",
       "      <td>2</td>\n",
       "      <td>11</td>\n",
       "      <td>48</td>\n",
       "      <td>2020-08-31</td>\n",
       "      <td>367202ATB</td>\n",
       "      <td>1.0</td>\n",
       "      <td>1</td>\n",
       "      <td>30</td>\n",
       "      <td>1078.0</td>\n",
       "      <td>32340</td>\n",
       "      <td>2021-12-29</td>\n",
       "    </tr>\n",
       "    <tr>\n",
       "      <th>3</th>\n",
       "      <td>2020</td>\n",
       "      <td>666699</td>\n",
       "      <td>1188743</td>\n",
       "      <td>1</td>\n",
       "      <td>2</td>\n",
       "      <td>11</td>\n",
       "      <td>48</td>\n",
       "      <td>2020-08-31</td>\n",
       "      <td>222901ATB</td>\n",
       "      <td>1.0</td>\n",
       "      <td>2</td>\n",
       "      <td>30</td>\n",
       "      <td>103.0</td>\n",
       "      <td>6180</td>\n",
       "      <td>2021-12-29</td>\n",
       "    </tr>\n",
       "    <tr>\n",
       "      <th>4</th>\n",
       "      <td>2020</td>\n",
       "      <td>666699</td>\n",
       "      <td>1188743</td>\n",
       "      <td>4</td>\n",
       "      <td>2</td>\n",
       "      <td>11</td>\n",
       "      <td>48</td>\n",
       "      <td>2020-08-31</td>\n",
       "      <td>244301ATB</td>\n",
       "      <td>1.0</td>\n",
       "      <td>2</td>\n",
       "      <td>30</td>\n",
       "      <td>81.0</td>\n",
       "      <td>4860</td>\n",
       "      <td>2021-12-29</td>\n",
       "    </tr>\n",
       "    <tr>\n",
       "      <th>...</th>\n",
       "      <td>...</td>\n",
       "      <td>...</td>\n",
       "      <td>...</td>\n",
       "      <td>...</td>\n",
       "      <td>...</td>\n",
       "      <td>...</td>\n",
       "      <td>...</td>\n",
       "      <td>...</td>\n",
       "      <td>...</td>\n",
       "      <td>...</td>\n",
       "      <td>...</td>\n",
       "      <td>...</td>\n",
       "      <td>...</td>\n",
       "      <td>...</td>\n",
       "      <td>...</td>\n",
       "    </tr>\n",
       "    <tr>\n",
       "      <th>79746</th>\n",
       "      <td>2020</td>\n",
       "      <td>999867</td>\n",
       "      <td>830095</td>\n",
       "      <td>2</td>\n",
       "      <td>1</td>\n",
       "      <td>15</td>\n",
       "      <td>26</td>\n",
       "      <td>2020-11-20</td>\n",
       "      <td>183231COS</td>\n",
       "      <td>1.0</td>\n",
       "      <td>1</td>\n",
       "      <td>2</td>\n",
       "      <td>4044.0</td>\n",
       "      <td>8088</td>\n",
       "      <td>2021-12-29</td>\n",
       "    </tr>\n",
       "    <tr>\n",
       "      <th>79747</th>\n",
       "      <td>2020</td>\n",
       "      <td>999867</td>\n",
       "      <td>830095</td>\n",
       "      <td>1</td>\n",
       "      <td>1</td>\n",
       "      <td>15</td>\n",
       "      <td>26</td>\n",
       "      <td>2020-11-20</td>\n",
       "      <td>180138COS</td>\n",
       "      <td>1.0</td>\n",
       "      <td>1</td>\n",
       "      <td>2</td>\n",
       "      <td>3882.0</td>\n",
       "      <td>7764</td>\n",
       "      <td>2021-12-29</td>\n",
       "    </tr>\n",
       "    <tr>\n",
       "      <th>79748</th>\n",
       "      <td>2020</td>\n",
       "      <td>999867</td>\n",
       "      <td>12770105</td>\n",
       "      <td>3</td>\n",
       "      <td>1</td>\n",
       "      <td>15</td>\n",
       "      <td>26</td>\n",
       "      <td>2020-09-11</td>\n",
       "      <td>530029COS</td>\n",
       "      <td>1.0</td>\n",
       "      <td>1</td>\n",
       "      <td>1</td>\n",
       "      <td>4440.0</td>\n",
       "      <td>4440</td>\n",
       "      <td>2021-12-29</td>\n",
       "    </tr>\n",
       "    <tr>\n",
       "      <th>79749</th>\n",
       "      <td>2020</td>\n",
       "      <td>999867</td>\n",
       "      <td>12770105</td>\n",
       "      <td>2</td>\n",
       "      <td>1</td>\n",
       "      <td>15</td>\n",
       "      <td>26</td>\n",
       "      <td>2020-09-11</td>\n",
       "      <td>183231COS</td>\n",
       "      <td>1.0</td>\n",
       "      <td>1</td>\n",
       "      <td>1</td>\n",
       "      <td>4044.0</td>\n",
       "      <td>4044</td>\n",
       "      <td>2021-12-29</td>\n",
       "    </tr>\n",
       "    <tr>\n",
       "      <th>79750</th>\n",
       "      <td>2020</td>\n",
       "      <td>999867</td>\n",
       "      <td>12770105</td>\n",
       "      <td>1</td>\n",
       "      <td>1</td>\n",
       "      <td>15</td>\n",
       "      <td>26</td>\n",
       "      <td>2020-09-11</td>\n",
       "      <td>180138COS</td>\n",
       "      <td>1.0</td>\n",
       "      <td>1</td>\n",
       "      <td>1</td>\n",
       "      <td>3882.0</td>\n",
       "      <td>3882</td>\n",
       "      <td>2021-12-29</td>\n",
       "    </tr>\n",
       "  </tbody>\n",
       "</table>\n",
       "<p>79751 rows × 15 columns</p>\n",
       "</div>"
      ],
      "text/plain": [
       "       기준년도  가입자 일련번호  처방내역일련번호  일련번호  성별코드  연령대코드(5세단위)  시도코드      요양개시일자  \\\n",
       "0      2020    666699   1188743     2     2           11    48  2020-08-31   \n",
       "1      2020    666699   1188743     5     2           11    48  2020-08-31   \n",
       "2      2020    666699   1188743     3     2           11    48  2020-08-31   \n",
       "3      2020    666699   1188743     1     2           11    48  2020-08-31   \n",
       "4      2020    666699   1188743     4     2           11    48  2020-08-31   \n",
       "...     ...       ...       ...   ...   ...          ...   ...         ...   \n",
       "79746  2020    999867    830095     2     1           15    26  2020-11-20   \n",
       "79747  2020    999867    830095     1     1           15    26  2020-11-20   \n",
       "79748  2020    999867  12770105     3     1           15    26  2020-09-11   \n",
       "79749  2020    999867  12770105     2     1           15    26  2020-09-11   \n",
       "79750  2020    999867  12770105     1     1           15    26  2020-09-11   \n",
       "\n",
       "       약품일반성분명코드  1회 투약량  1일투약량  총투여일수      단가     금액    데이터 공개일자  \n",
       "0      109931ALQ     1.0      2     30   220.0  13200  2021-12-29  \n",
       "1      146602ACH     1.0      2     30   184.0  11040  2021-12-29  \n",
       "2      367202ATB     1.0      1     30  1078.0  32340  2021-12-29  \n",
       "3      222901ATB     1.0      2     30   103.0   6180  2021-12-29  \n",
       "4      244301ATB     1.0      2     30    81.0   4860  2021-12-29  \n",
       "...          ...     ...    ...    ...     ...    ...         ...  \n",
       "79746  183231COS     1.0      1      2  4044.0   8088  2021-12-29  \n",
       "79747  180138COS     1.0      1      2  3882.0   7764  2021-12-29  \n",
       "79748  530029COS     1.0      1      1  4440.0   4440  2021-12-29  \n",
       "79749  183231COS     1.0      1      1  4044.0   4044  2021-12-29  \n",
       "79750  180138COS     1.0      1      1  3882.0   3882  2021-12-29  \n",
       "\n",
       "[79751 rows x 15 columns]"
      ]
     },
     "execution_count": 35,
     "metadata": {},
     "output_type": "execute_result"
    }
   ],
   "source": [
    "pd.read_csv(\"data/nhis_drug_sample_2020_3.csv\")"
   ]
  },
  {
   "cell_type": "code",
   "execution_count": null,
   "metadata": {},
   "outputs": [],
   "source": []
  }
 ],
 "metadata": {
  "colab": {
   "authorship_tag": "ABX9TyNF8QnQzgAlrHDKA+kUfSzR",
   "collapsed_sections": [],
   "name": "의약품처방정보_데이터샘플링.ipynb",
   "provenance": []
  },
  "kernelspec": {
   "display_name": "Python 3 (ipykernel)",
   "language": "python",
   "name": "python3"
  },
  "language_info": {
   "codemirror_mode": {
    "name": "ipython",
    "version": 3
   },
   "file_extension": ".py",
   "mimetype": "text/x-python",
   "name": "python",
   "nbconvert_exporter": "python",
   "pygments_lexer": "ipython3",
   "version": "3.7.13"
  },
  "toc": {
   "base_numbering": 1,
   "nav_menu": {},
   "number_sections": true,
   "sideBar": true,
   "skip_h1_title": false,
   "title_cell": "Table of Contents",
   "title_sidebar": "Contents",
   "toc_cell": false,
   "toc_position": {},
   "toc_section_display": true,
   "toc_window_display": false
  },
  "varInspector": {
   "cols": {
    "lenName": 16,
    "lenType": 16,
    "lenVar": 40
   },
   "kernels_config": {
    "python": {
     "delete_cmd_postfix": "",
     "delete_cmd_prefix": "del ",
     "library": "var_list.py",
     "varRefreshCmd": "print(var_dic_list())"
    },
    "r": {
     "delete_cmd_postfix": ") ",
     "delete_cmd_prefix": "rm(",
     "library": "var_list.r",
     "varRefreshCmd": "cat(var_dic_list()) "
    }
   },
   "types_to_exclude": [
    "module",
    "function",
    "builtin_function_or_method",
    "instance",
    "_Feature"
   ],
   "window_display": false
  }
 },
 "nbformat": 4,
 "nbformat_minor": 1
}
