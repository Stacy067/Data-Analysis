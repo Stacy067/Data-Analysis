{
 "cells": [
  {
   "cell_type": "markdown",
   "metadata": {
    "id": "_6F6rxolVUph"
   },
   "source": [
    "* 데이터셋 : https://archive.ics.uci.edu/ml/datasets/Online+Retail#\n",
    "## 라이브러리 로드"
   ]
  },
  {
   "cell_type": "code",
   "execution_count": 1,
   "metadata": {
    "id": "al7uPLI5VUpu"
   },
   "outputs": [],
   "source": [
    "import pandas as pd\n",
    "import numpy as np\n",
    "import seaborn as sns\n",
    "import datetime as dt\n",
    "import matplotlib.pyplot as plt"
   ]
  },
  {
   "cell_type": "markdown",
   "metadata": {
    "id": "pG9cuPCfVUpy"
   },
   "source": [
    "## 폰트 설정"
   ]
  },
  {
   "cell_type": "code",
   "execution_count": 2,
   "metadata": {
    "colab": {
     "base_uri": "https://localhost:8080/"
    },
    "executionInfo": {
     "elapsed": 4226,
     "status": "ok",
     "timestamp": 1634789334125,
     "user": {
      "displayName": "JINY ROH",
      "photoUrl": "https://lh3.googleusercontent.com/a-/AOh14Gi7VIzxUnr7MUJE9Bupl4bkwgEAsz4e1gsgrYIPZw=s64",
      "userId": "06348894780083418282"
     },
     "user_tz": -540
    },
    "id": "TZZCAq_CVUpz",
    "outputId": "803a6ac5-5de0-4186-88e1-78928981c948"
   },
   "outputs": [],
   "source": [
    "def get_font_family():\n",
    "    \"\"\"\n",
    "    시스템 환경에 따른 기본 폰트명을 반환하는 함수\n",
    "    \"\"\"\n",
    "    import platform\n",
    "    system_name = platform.system()\n",
    "    \n",
    "    if system_name == \"Darwin\" :\n",
    "        font_family = \"AppleGothic\"\n",
    "    elif system_name == \"Windows\":\n",
    "        font_family = \"Malgun Gothic\"\n",
    "    else:\n",
    "        # Linux(colab)\n",
    "        !apt-get install fonts-nanum -qq  > /dev/null\n",
    "        !fc-cache -fv\n",
    "\n",
    "        import matplotlib as mpl\n",
    "        mpl.font_manager._rebuild()\n",
    "        findfont = mpl.font_manager.fontManager.findfont\n",
    "        mpl.font_manager.findfont = findfont\n",
    "        mpl.backends.backend_agg.findfont = findfont\n",
    "        \n",
    "        font_family = \"NanumBarunGothic\"\n",
    "    return font_family\n",
    "\n",
    "plt.rc(\"font\", family=get_font_family())\n",
    "plt.rc(\"axes\", unicode_minus=False)"
   ]
  },
  {
   "cell_type": "markdown",
   "metadata": {
    "id": "zB3XCKfr8ne9"
   },
   "source": [
    "<img src=\"https://pandas.pydata.org/docs/_images/02_io_readwrite.svg\">"
   ]
  },
  {
   "cell_type": "code",
   "execution_count": 5,
   "metadata": {},
   "outputs": [
    {
     "data": {
      "text/plain": [
       "'/Users/corazzon/codes/snu-python'"
      ]
     },
     "execution_count": 5,
     "metadata": {},
     "output_type": "execute_result"
    }
   ],
   "source": [
    "import os\n",
    "\n",
    "os.getcwd()"
   ]
  },
  {
   "cell_type": "code",
   "execution_count": 6,
   "metadata": {},
   "outputs": [
    {
     "data": {
      "text/plain": [
       "['.DS_Store',\n",
       " 'nhis_drug_sample_10.csv',\n",
       " 'online_retail.csv',\n",
       " 'nhis_drug_sample_2020_3.csv',\n",
       " 'HP_T60_2020_1.CSV',\n",
       " 'HP_T60_2020_2.CSV',\n",
       " 'HP_T60_2020_3.CSV',\n",
       " 'kosis-cancer-raw.csv',\n",
       " 'kosis-cancer.csv']"
      ]
     },
     "execution_count": 6,
     "metadata": {},
     "output_type": "execute_result"
    }
   ],
   "source": [
    "os.listdir(\"data\")"
   ]
  },
  {
   "cell_type": "code",
   "execution_count": 13,
   "metadata": {
    "colab": {
     "base_uri": "https://localhost:8080/"
    },
    "executionInfo": {
     "elapsed": 933,
     "status": "ok",
     "timestamp": 1634789335055,
     "user": {
      "displayName": "JINY ROH",
      "photoUrl": "https://lh3.googleusercontent.com/a-/AOh14Gi7VIzxUnr7MUJE9Bupl4bkwgEAsz4e1gsgrYIPZw=s64",
      "userId": "06348894780083418282"
     },
     "user_tz": -540
    },
    "id": "aCg7NWdbVUp2",
    "outputId": "76f5f611-8b15-4a51-8a77-c905905703e8"
   },
   "outputs": [
    {
     "data": {
      "text/plain": [
       "(541909, 8)"
      ]
     },
     "execution_count": 13,
     "metadata": {},
     "output_type": "execute_result"
    }
   ],
   "source": [
    "# pd.read_excel 로 데이터를 불러옵니다.\n",
    "# 데이터의 용량이 커서 로드하는데 1분 이상 걸릴 수도 있습니다. 또 read_excel은 시간이 오래 걸립니다.\n",
    "# csv로 로드하는 것이 훨씬빠릅니다.\n",
    "# df = pd.read_excel(\"http://archive.ics.uci.edu/ml/machine-learning-databases/00352/Online%20Retail.xlsx\")\n",
    "df = pd.read_csv(\"data/online_retail.csv\")\n",
    "df.shape"
   ]
  },
  {
   "cell_type": "markdown",
   "metadata": {
    "id": "n_IHFwI6VUp3"
   },
   "source": [
    "## 데이터 미리보기 및 요약"
   ]
  },
  {
   "cell_type": "code",
   "execution_count": 14,
   "metadata": {
    "colab": {
     "base_uri": "https://localhost:8080/",
     "height": 206
    },
    "executionInfo": {
     "elapsed": 14,
     "status": "ok",
     "timestamp": 1634789335056,
     "user": {
      "displayName": "JINY ROH",
      "photoUrl": "https://lh3.googleusercontent.com/a-/AOh14Gi7VIzxUnr7MUJE9Bupl4bkwgEAsz4e1gsgrYIPZw=s64",
      "userId": "06348894780083418282"
     },
     "user_tz": -540
    },
    "id": "3QlSbyvNVUp4",
    "outputId": "35d077f9-aab1-4489-c123-c66b2a877428"
   },
   "outputs": [
    {
     "data": {
      "text/html": [
       "<div>\n",
       "<style scoped>\n",
       "    .dataframe tbody tr th:only-of-type {\n",
       "        vertical-align: middle;\n",
       "    }\n",
       "\n",
       "    .dataframe tbody tr th {\n",
       "        vertical-align: top;\n",
       "    }\n",
       "\n",
       "    .dataframe thead th {\n",
       "        text-align: right;\n",
       "    }\n",
       "</style>\n",
       "<table border=\"1\" class=\"dataframe\">\n",
       "  <thead>\n",
       "    <tr style=\"text-align: right;\">\n",
       "      <th></th>\n",
       "      <th>InvoiceNo</th>\n",
       "      <th>StockCode</th>\n",
       "      <th>Description</th>\n",
       "      <th>Quantity</th>\n",
       "      <th>InvoiceDate</th>\n",
       "      <th>UnitPrice</th>\n",
       "      <th>CustomerID</th>\n",
       "      <th>Country</th>\n",
       "    </tr>\n",
       "  </thead>\n",
       "  <tbody>\n",
       "    <tr>\n",
       "      <th>0</th>\n",
       "      <td>536365</td>\n",
       "      <td>85123A</td>\n",
       "      <td>WHITE HANGING HEART T-LIGHT HOLDER</td>\n",
       "      <td>6</td>\n",
       "      <td>2010-12-01 08:26:00</td>\n",
       "      <td>2.55</td>\n",
       "      <td>17850.0</td>\n",
       "      <td>United Kingdom</td>\n",
       "    </tr>\n",
       "    <tr>\n",
       "      <th>1</th>\n",
       "      <td>536365</td>\n",
       "      <td>71053</td>\n",
       "      <td>WHITE METAL LANTERN</td>\n",
       "      <td>6</td>\n",
       "      <td>2010-12-01 08:26:00</td>\n",
       "      <td>3.39</td>\n",
       "      <td>17850.0</td>\n",
       "      <td>United Kingdom</td>\n",
       "    </tr>\n",
       "  </tbody>\n",
       "</table>\n",
       "</div>"
      ],
      "text/plain": [
       "  InvoiceNo StockCode                         Description  Quantity  \\\n",
       "0    536365    85123A  WHITE HANGING HEART T-LIGHT HOLDER         6   \n",
       "1    536365     71053                 WHITE METAL LANTERN         6   \n",
       "\n",
       "           InvoiceDate  UnitPrice  CustomerID         Country  \n",
       "0  2010-12-01 08:26:00       2.55     17850.0  United Kingdom  \n",
       "1  2010-12-01 08:26:00       3.39     17850.0  United Kingdom  "
      ]
     },
     "execution_count": 14,
     "metadata": {},
     "output_type": "execute_result"
    }
   ],
   "source": [
    "# head\n",
    "df.head(2)"
   ]
  },
  {
   "cell_type": "code",
   "execution_count": 15,
   "metadata": {
    "colab": {
     "base_uri": "https://localhost:8080/",
     "height": 206
    },
    "executionInfo": {
     "elapsed": 13,
     "status": "ok",
     "timestamp": 1634789335056,
     "user": {
      "displayName": "JINY ROH",
      "photoUrl": "https://lh3.googleusercontent.com/a-/AOh14Gi7VIzxUnr7MUJE9Bupl4bkwgEAsz4e1gsgrYIPZw=s64",
      "userId": "06348894780083418282"
     },
     "user_tz": -540
    },
    "id": "RAlJtBTNVUp6",
    "outputId": "44743a68-6d98-4c62-b430-788f8f61a7b5"
   },
   "outputs": [
    {
     "data": {
      "text/html": [
       "<div>\n",
       "<style scoped>\n",
       "    .dataframe tbody tr th:only-of-type {\n",
       "        vertical-align: middle;\n",
       "    }\n",
       "\n",
       "    .dataframe tbody tr th {\n",
       "        vertical-align: top;\n",
       "    }\n",
       "\n",
       "    .dataframe thead th {\n",
       "        text-align: right;\n",
       "    }\n",
       "</style>\n",
       "<table border=\"1\" class=\"dataframe\">\n",
       "  <thead>\n",
       "    <tr style=\"text-align: right;\">\n",
       "      <th></th>\n",
       "      <th>InvoiceNo</th>\n",
       "      <th>StockCode</th>\n",
       "      <th>Description</th>\n",
       "      <th>Quantity</th>\n",
       "      <th>InvoiceDate</th>\n",
       "      <th>UnitPrice</th>\n",
       "      <th>CustomerID</th>\n",
       "      <th>Country</th>\n",
       "    </tr>\n",
       "  </thead>\n",
       "  <tbody>\n",
       "    <tr>\n",
       "      <th>541907</th>\n",
       "      <td>581587</td>\n",
       "      <td>23255</td>\n",
       "      <td>CHILDRENS CUTLERY CIRCUS PARADE</td>\n",
       "      <td>4</td>\n",
       "      <td>2011-12-09 12:50:00</td>\n",
       "      <td>4.15</td>\n",
       "      <td>12680.0</td>\n",
       "      <td>France</td>\n",
       "    </tr>\n",
       "    <tr>\n",
       "      <th>541908</th>\n",
       "      <td>581587</td>\n",
       "      <td>22138</td>\n",
       "      <td>BAKING SET 9 PIECE RETROSPOT</td>\n",
       "      <td>3</td>\n",
       "      <td>2011-12-09 12:50:00</td>\n",
       "      <td>4.95</td>\n",
       "      <td>12680.0</td>\n",
       "      <td>France</td>\n",
       "    </tr>\n",
       "  </tbody>\n",
       "</table>\n",
       "</div>"
      ],
      "text/plain": [
       "       InvoiceNo StockCode                      Description  Quantity  \\\n",
       "541907    581587     23255  CHILDRENS CUTLERY CIRCUS PARADE         4   \n",
       "541908    581587     22138    BAKING SET 9 PIECE RETROSPOT          3   \n",
       "\n",
       "                InvoiceDate  UnitPrice  CustomerID Country  \n",
       "541907  2011-12-09 12:50:00       4.15     12680.0  France  \n",
       "541908  2011-12-09 12:50:00       4.95     12680.0  France  "
      ]
     },
     "execution_count": 15,
     "metadata": {},
     "output_type": "execute_result"
    }
   ],
   "source": [
    "# tail\n",
    "df.tail(2)"
   ]
  },
  {
   "cell_type": "markdown",
   "metadata": {},
   "source": [
    "## info"
   ]
  },
  {
   "cell_type": "code",
   "execution_count": 16,
   "metadata": {
    "colab": {
     "base_uri": "https://localhost:8080/"
    },
    "executionInfo": {
     "elapsed": 13,
     "status": "ok",
     "timestamp": 1634789335057,
     "user": {
      "displayName": "JINY ROH",
      "photoUrl": "https://lh3.googleusercontent.com/a-/AOh14Gi7VIzxUnr7MUJE9Bupl4bkwgEAsz4e1gsgrYIPZw=s64",
      "userId": "06348894780083418282"
     },
     "user_tz": -540
    },
    "id": "LREXvgJBVUp7",
    "outputId": "d34ae5bc-79da-4592-99a7-a9ea7fafb1f8"
   },
   "outputs": [
    {
     "name": "stdout",
     "output_type": "stream",
     "text": [
      "<class 'pandas.core.frame.DataFrame'>\n",
      "RangeIndex: 541909 entries, 0 to 541908\n",
      "Data columns (total 8 columns):\n",
      " #   Column       Non-Null Count   Dtype  \n",
      "---  ------       --------------   -----  \n",
      " 0   InvoiceNo    541909 non-null  object \n",
      " 1   StockCode    541909 non-null  object \n",
      " 2   Description  540455 non-null  object \n",
      " 3   Quantity     541909 non-null  int64  \n",
      " 4   InvoiceDate  541909 non-null  object \n",
      " 5   UnitPrice    541909 non-null  float64\n",
      " 6   CustomerID   406829 non-null  float64\n",
      " 7   Country      541909 non-null  object \n",
      "dtypes: float64(2), int64(1), object(5)\n",
      "memory usage: 33.1+ MB\n"
     ]
    }
   ],
   "source": [
    "# 데이터 집합과 각 열들의 자료형을 확인합니다.\n",
    "df.info()"
   ]
  },
  {
   "cell_type": "markdown",
   "metadata": {
    "id": "2HuBJz6q2tNw"
   },
   "source": [
    "Attribute Information:\n",
    "\n",
    "- InvoiceNo: 송장번호. 해당 거래에 할당된 6자리 정수\n",
    "  * 이 코드가 문자 'c'로 시작하면 취소를 나타냅니다.\n",
    "- StockCode: 제품 코드. 각 고유 제품에 고유하게 할당된 5자리 정수\n",
    "- Description: 제품 이름\n",
    "- Quantity: 거래당 각 제품의 수량 \n",
    "  * 이 코드가 ‘-’(마이너스)로 시작하면 취소를 나타냅니다.\n",
    "- InvoiceDate:  송장 날짜 및 시간. 숫자, 각 거래가 생성된 날짜 및 시간\n",
    "- UnitPrice: 단가. 제품 가격(영국 화폐)\n",
    "- CustomerID: 고객 번호. 해당 고객에게 고유하게 할당된 5자리 정수\n",
    "- Country: 국가 이름. 해당 고객이 거주하는 국가의 이름"
   ]
  },
  {
   "cell_type": "markdown",
   "metadata": {
    "id": "FK7JmRLSVUp7"
   },
   "source": [
    "## 기술통계"
   ]
  },
  {
   "cell_type": "code",
   "execution_count": 17,
   "metadata": {
    "colab": {
     "base_uri": "https://localhost:8080/",
     "height": 300
    },
    "executionInfo": {
     "elapsed": 446,
     "status": "ok",
     "timestamp": 1634789335496,
     "user": {
      "displayName": "JINY ROH",
      "photoUrl": "https://lh3.googleusercontent.com/a-/AOh14Gi7VIzxUnr7MUJE9Bupl4bkwgEAsz4e1gsgrYIPZw=s64",
      "userId": "06348894780083418282"
     },
     "user_tz": -540
    },
    "id": "7SbTfuoXVUp8",
    "outputId": "facfd927-5f5f-479f-86e5-e62eb3bdf7cf"
   },
   "outputs": [
    {
     "data": {
      "text/html": [
       "<div>\n",
       "<style scoped>\n",
       "    .dataframe tbody tr th:only-of-type {\n",
       "        vertical-align: middle;\n",
       "    }\n",
       "\n",
       "    .dataframe tbody tr th {\n",
       "        vertical-align: top;\n",
       "    }\n",
       "\n",
       "    .dataframe thead th {\n",
       "        text-align: right;\n",
       "    }\n",
       "</style>\n",
       "<table border=\"1\" class=\"dataframe\">\n",
       "  <thead>\n",
       "    <tr style=\"text-align: right;\">\n",
       "      <th></th>\n",
       "      <th>Quantity</th>\n",
       "      <th>UnitPrice</th>\n",
       "      <th>CustomerID</th>\n",
       "    </tr>\n",
       "  </thead>\n",
       "  <tbody>\n",
       "    <tr>\n",
       "      <th>count</th>\n",
       "      <td>541909.000000</td>\n",
       "      <td>541909.000000</td>\n",
       "      <td>406829.000000</td>\n",
       "    </tr>\n",
       "    <tr>\n",
       "      <th>mean</th>\n",
       "      <td>9.552250</td>\n",
       "      <td>4.611114</td>\n",
       "      <td>15287.690570</td>\n",
       "    </tr>\n",
       "    <tr>\n",
       "      <th>std</th>\n",
       "      <td>218.081158</td>\n",
       "      <td>96.759853</td>\n",
       "      <td>1713.600303</td>\n",
       "    </tr>\n",
       "    <tr>\n",
       "      <th>min</th>\n",
       "      <td>-80995.000000</td>\n",
       "      <td>-11062.060000</td>\n",
       "      <td>12346.000000</td>\n",
       "    </tr>\n",
       "    <tr>\n",
       "      <th>25%</th>\n",
       "      <td>1.000000</td>\n",
       "      <td>1.250000</td>\n",
       "      <td>13953.000000</td>\n",
       "    </tr>\n",
       "    <tr>\n",
       "      <th>50%</th>\n",
       "      <td>3.000000</td>\n",
       "      <td>2.080000</td>\n",
       "      <td>15152.000000</td>\n",
       "    </tr>\n",
       "    <tr>\n",
       "      <th>75%</th>\n",
       "      <td>10.000000</td>\n",
       "      <td>4.130000</td>\n",
       "      <td>16791.000000</td>\n",
       "    </tr>\n",
       "    <tr>\n",
       "      <th>max</th>\n",
       "      <td>80995.000000</td>\n",
       "      <td>38970.000000</td>\n",
       "      <td>18287.000000</td>\n",
       "    </tr>\n",
       "  </tbody>\n",
       "</table>\n",
       "</div>"
      ],
      "text/plain": [
       "            Quantity      UnitPrice     CustomerID\n",
       "count  541909.000000  541909.000000  406829.000000\n",
       "mean        9.552250       4.611114   15287.690570\n",
       "std       218.081158      96.759853    1713.600303\n",
       "min    -80995.000000  -11062.060000   12346.000000\n",
       "25%         1.000000       1.250000   13953.000000\n",
       "50%         3.000000       2.080000   15152.000000\n",
       "75%        10.000000       4.130000   16791.000000\n",
       "max     80995.000000   38970.000000   18287.000000"
      ]
     },
     "execution_count": 17,
     "metadata": {},
     "output_type": "execute_result"
    }
   ],
   "source": [
    "# describe 를 통해 수치 타입의 기술통계를 구합니다.\n",
    "df.describe()"
   ]
  },
  {
   "cell_type": "code",
   "execution_count": 18,
   "metadata": {
    "colab": {
     "base_uri": "https://localhost:8080/",
     "height": 175
    },
    "executionInfo": {
     "elapsed": 384,
     "status": "ok",
     "timestamp": 1634789335877,
     "user": {
      "displayName": "JINY ROH",
      "photoUrl": "https://lh3.googleusercontent.com/a-/AOh14Gi7VIzxUnr7MUJE9Bupl4bkwgEAsz4e1gsgrYIPZw=s64",
      "userId": "06348894780083418282"
     },
     "user_tz": -540
    },
    "id": "iQptie-vVUp9",
    "outputId": "478093f0-95eb-4dc3-ffad-721681b88816"
   },
   "outputs": [
    {
     "data": {
      "text/html": [
       "<div>\n",
       "<style scoped>\n",
       "    .dataframe tbody tr th:only-of-type {\n",
       "        vertical-align: middle;\n",
       "    }\n",
       "\n",
       "    .dataframe tbody tr th {\n",
       "        vertical-align: top;\n",
       "    }\n",
       "\n",
       "    .dataframe thead th {\n",
       "        text-align: right;\n",
       "    }\n",
       "</style>\n",
       "<table border=\"1\" class=\"dataframe\">\n",
       "  <thead>\n",
       "    <tr style=\"text-align: right;\">\n",
       "      <th></th>\n",
       "      <th>InvoiceNo</th>\n",
       "      <th>StockCode</th>\n",
       "      <th>Description</th>\n",
       "      <th>InvoiceDate</th>\n",
       "      <th>Country</th>\n",
       "    </tr>\n",
       "  </thead>\n",
       "  <tbody>\n",
       "    <tr>\n",
       "      <th>count</th>\n",
       "      <td>541909</td>\n",
       "      <td>541909</td>\n",
       "      <td>540455</td>\n",
       "      <td>541909</td>\n",
       "      <td>541909</td>\n",
       "    </tr>\n",
       "    <tr>\n",
       "      <th>unique</th>\n",
       "      <td>25900</td>\n",
       "      <td>4070</td>\n",
       "      <td>4223</td>\n",
       "      <td>23260</td>\n",
       "      <td>38</td>\n",
       "    </tr>\n",
       "    <tr>\n",
       "      <th>top</th>\n",
       "      <td>573585</td>\n",
       "      <td>85123A</td>\n",
       "      <td>WHITE HANGING HEART T-LIGHT HOLDER</td>\n",
       "      <td>2011-10-31 14:41:00</td>\n",
       "      <td>United Kingdom</td>\n",
       "    </tr>\n",
       "    <tr>\n",
       "      <th>freq</th>\n",
       "      <td>1114</td>\n",
       "      <td>2313</td>\n",
       "      <td>2369</td>\n",
       "      <td>1114</td>\n",
       "      <td>495478</td>\n",
       "    </tr>\n",
       "  </tbody>\n",
       "</table>\n",
       "</div>"
      ],
      "text/plain": [
       "       InvoiceNo StockCode                         Description  \\\n",
       "count     541909    541909                              540455   \n",
       "unique     25900      4070                                4223   \n",
       "top       573585    85123A  WHITE HANGING HEART T-LIGHT HOLDER   \n",
       "freq        1114      2313                                2369   \n",
       "\n",
       "                InvoiceDate         Country  \n",
       "count                541909          541909  \n",
       "unique                23260              38  \n",
       "top     2011-10-31 14:41:00  United Kingdom  \n",
       "freq                   1114          495478  "
      ]
     },
     "execution_count": 18,
     "metadata": {},
     "output_type": "execute_result"
    }
   ],
   "source": [
    "# describe 를 통해 object 타입의 기술통계를 구합니다.\n",
    "df.describe(include=\"object\")"
   ]
  },
  {
   "cell_type": "markdown",
   "metadata": {
    "id": "ncWBHyToVUp_"
   },
   "source": [
    "## 결측치"
   ]
  },
  {
   "cell_type": "code",
   "execution_count": 21,
   "metadata": {
    "colab": {
     "base_uri": "https://localhost:8080/"
    },
    "executionInfo": {
     "elapsed": 11,
     "status": "ok",
     "timestamp": 1634789335878,
     "user": {
      "displayName": "JINY ROH",
      "photoUrl": "https://lh3.googleusercontent.com/a-/AOh14Gi7VIzxUnr7MUJE9Bupl4bkwgEAsz4e1gsgrYIPZw=s64",
      "userId": "06348894780083418282"
     },
     "user_tz": -540
    },
    "id": "eaER7TiDVUp_",
    "outputId": "a890869c-56ea-4a3e-c80b-235eb9346405"
   },
   "outputs": [
    {
     "data": {
      "text/plain": [
       "InvoiceNo           0\n",
       "StockCode           0\n",
       "Description      1454\n",
       "Quantity            0\n",
       "InvoiceDate         0\n",
       "UnitPrice           0\n",
       "CustomerID     135080\n",
       "Country             0\n",
       "dtype: int64"
      ]
     },
     "execution_count": 21,
     "metadata": {},
     "output_type": "execute_result"
    }
   ],
   "source": [
    "# 결측치 합계를 구합니다.\n",
    "df.isnull().sum()"
   ]
  },
  {
   "cell_type": "code",
   "execution_count": 24,
   "metadata": {
    "colab": {
     "base_uri": "https://localhost:8080/"
    },
    "executionInfo": {
     "elapsed": 7,
     "status": "ok",
     "timestamp": 1634789335878,
     "user": {
      "displayName": "JINY ROH",
      "photoUrl": "https://lh3.googleusercontent.com/a-/AOh14Gi7VIzxUnr7MUJE9Bupl4bkwgEAsz4e1gsgrYIPZw=s64",
      "userId": "06348894780083418282"
     },
     "user_tz": -540
    },
    "id": "5e9vOOm5VUqA",
    "outputId": "27e9dc38-81dc-4e92-aa0e-d47d6e81f253"
   },
   "outputs": [
    {
     "data": {
      "text/plain": [
       "InvoiceNo       0.000000\n",
       "StockCode       0.000000\n",
       "Description     0.268311\n",
       "Quantity        0.000000\n",
       "InvoiceDate     0.000000\n",
       "UnitPrice       0.000000\n",
       "CustomerID     24.926694\n",
       "Country         0.000000\n",
       "dtype: float64"
      ]
     },
     "execution_count": 24,
     "metadata": {},
     "output_type": "execute_result"
    }
   ],
   "source": [
    "# 결측치 비율을 구합니다.\n",
    "df.isnull().mean() * 100"
   ]
  },
  {
   "cell_type": "code",
   "execution_count": 26,
   "metadata": {
    "colab": {
     "base_uri": "https://localhost:8080/",
     "height": 289
    },
    "executionInfo": {
     "elapsed": 6034,
     "status": "ok",
     "timestamp": 1634789341908,
     "user": {
      "displayName": "JINY ROH",
      "photoUrl": "https://lh3.googleusercontent.com/a-/AOh14Gi7VIzxUnr7MUJE9Bupl4bkwgEAsz4e1gsgrYIPZw=s64",
      "userId": "06348894780083418282"
     },
     "user_tz": -540
    },
    "id": "oIOP4VyOVUqA",
    "outputId": "2578887d-0b55-47de-e095-60c186040723"
   },
   "outputs": [
    {
     "data": {
      "text/plain": [
       "<AxesSubplot:>"
      ]
     },
     "execution_count": 26,
     "metadata": {},
     "output_type": "execute_result"
    },
    {
     "data": {
      "image/png": "[encoded data removed]",
      "text/plain": [
       "<Figure size 432x288 with 2 Axes>"
      ]
     },
     "metadata": {
      "needs_background": "light"
     },
     "output_type": "display_data"
    }
   ],
   "source": [
    "# 결측치를 시각화 합니다.\n",
    "sns.heatmap(df.isnull(), cmap=\"gray\")"
   ]
  },
  {
   "cell_type": "markdown",
   "metadata": {
    "id": "B1pBw-_OVUqB"
   },
   "source": [
    "## 히스토그램으로 전체 수치변수 시각화"
   ]
  },
  {
   "cell_type": "code",
   "execution_count": 30,
   "metadata": {
    "colab": {
     "base_uri": "https://localhost:8080/",
     "height": 607
    },
    "executionInfo": {
     "elapsed": 902,
     "status": "ok",
     "timestamp": 1634789342808,
     "user": {
      "displayName": "JINY ROH",
      "photoUrl": "https://lh3.googleusercontent.com/a-/AOh14Gi7VIzxUnr7MUJE9Bupl4bkwgEAsz4e1gsgrYIPZw=s64",
      "userId": "06348894780083418282"
     },
     "user_tz": -540
    },
    "id": "R84kQu4mVUqC",
    "outputId": "54f51d78-f5f4-49e1-b403-516d4039b00b"
   },
   "outputs": [
    {
     "data": {
      "image/png": "[encoded data removed]",
      "text/plain": [
       "<Figure size 864x432 with 4 Axes>"
      ]
     },
     "metadata": {
      "needs_background": "light"
     },
     "output_type": "display_data"
    }
   ],
   "source": [
    "# 히스토그램은 측정값을 구간으로 나누어 도수분포로 나타낸 plot입니다.\n",
    "_ = df.hist(figsize=(12, 6), bins=50)"
   ]
  },
  {
   "cell_type": "markdown",
   "metadata": {
    "id": "2mX7Cx0NVUqC"
   },
   "source": [
    "## 전체 주문금액 파생변수 만들기\n",
    "* 수량 X 금액으로 전체 금액 계산하기"
   ]
  },
  {
   "cell_type": "code",
   "execution_count": 34,
   "metadata": {
    "id": "wlEz7o0CVUqC"
   },
   "outputs": [
    {
     "data": {
      "text/html": [
       "<div>\n",
       "<style scoped>\n",
       "    .dataframe tbody tr th:only-of-type {\n",
       "        vertical-align: middle;\n",
       "    }\n",
       "\n",
       "    .dataframe tbody tr th {\n",
       "        vertical-align: top;\n",
       "    }\n",
       "\n",
       "    .dataframe thead th {\n",
       "        text-align: right;\n",
       "    }\n",
       "</style>\n",
       "<table border=\"1\" class=\"dataframe\">\n",
       "  <thead>\n",
       "    <tr style=\"text-align: right;\">\n",
       "      <th></th>\n",
       "      <th>InvoiceNo</th>\n",
       "      <th>StockCode</th>\n",
       "      <th>Description</th>\n",
       "      <th>Quantity</th>\n",
       "      <th>InvoiceDate</th>\n",
       "      <th>UnitPrice</th>\n",
       "      <th>CustomerID</th>\n",
       "      <th>Country</th>\n",
       "      <th>TotalPrice</th>\n",
       "    </tr>\n",
       "  </thead>\n",
       "  <tbody>\n",
       "    <tr>\n",
       "      <th>0</th>\n",
       "      <td>536365</td>\n",
       "      <td>85123A</td>\n",
       "      <td>WHITE HANGING HEART T-LIGHT HOLDER</td>\n",
       "      <td>6</td>\n",
       "      <td>2010-12-01 08:26:00</td>\n",
       "      <td>2.55</td>\n",
       "      <td>17850.0</td>\n",
       "      <td>United Kingdom</td>\n",
       "      <td>15.3</td>\n",
       "    </tr>\n",
       "  </tbody>\n",
       "</table>\n",
       "</div>"
      ],
      "text/plain": [
       "  InvoiceNo StockCode                         Description  Quantity  \\\n",
       "0    536365    85123A  WHITE HANGING HEART T-LIGHT HOLDER         6   \n",
       "\n",
       "           InvoiceDate  UnitPrice  CustomerID         Country  TotalPrice  \n",
       "0  2010-12-01 08:26:00       2.55     17850.0  United Kingdom        15.3  "
      ]
     },
     "execution_count": 34,
     "metadata": {},
     "output_type": "execute_result"
    }
   ],
   "source": [
    "# TotalPrice 는 RFM 중 MonetaryValue의 값이 됩니다.\n",
    "df[\"TotalPrice\"] = df[\"Quantity\"] * df[\"UnitPrice\"]\n",
    "df.head(1)"
   ]
  },
  {
   "cell_type": "markdown",
   "metadata": {
    "id": "B7YCaej9VUqD"
   },
   "source": [
    "## 회원 vs 비회원 구매"
   ]
  },
  {
   "cell_type": "code",
   "execution_count": 36,
   "metadata": {
    "colab": {
     "base_uri": "https://localhost:8080/"
    },
    "executionInfo": {
     "elapsed": 19,
     "status": "ok",
     "timestamp": 1634789342809,
     "user": {
      "displayName": "JINY ROH",
      "photoUrl": "https://lh3.googleusercontent.com/a-/AOh14Gi7VIzxUnr7MUJE9Bupl4bkwgEAsz4e1gsgrYIPZw=s64",
      "userId": "06348894780083418282"
     },
     "user_tz": -540
    },
    "id": "IMfr249QVUqD",
    "outputId": "1558140c-5967-41e5-a2bc-acb36af049d8"
   },
   "outputs": [
    {
     "data": {
      "text/plain": [
       "False    406829\n",
       "True     135080\n",
       "Name: CustomerID, dtype: int64"
      ]
     },
     "execution_count": 36,
     "metadata": {},
     "output_type": "execute_result"
    }
   ],
   "source": [
    "# CustomerID 결측치 유무\n",
    "df[\"CustomerID\"].isnull().value_counts()"
   ]
  },
  {
   "cell_type": "code",
   "execution_count": 37,
   "metadata": {},
   "outputs": [
    {
     "data": {
      "text/plain": [
       "False    0.750733\n",
       "True     0.249267\n",
       "Name: CustomerID, dtype: float64"
      ]
     },
     "execution_count": 37,
     "metadata": {},
     "output_type": "execute_result"
    }
   ],
   "source": [
    "df[\"CustomerID\"].isnull().value_counts(normalize=True)"
   ]
  },
  {
   "cell_type": "markdown",
   "metadata": {
    "id": "82lJFz5oVUqF"
   },
   "source": [
    "## 매출액 상위 국가"
   ]
  },
  {
   "cell_type": "code",
   "execution_count": 38,
   "metadata": {
    "colab": {
     "base_uri": "https://localhost:8080/",
     "height": 275
    },
    "executionInfo": {
     "elapsed": 8,
     "status": "ok",
     "timestamp": 1634789342811,
     "user": {
      "displayName": "JINY ROH",
      "photoUrl": "https://lh3.googleusercontent.com/a-/AOh14Gi7VIzxUnr7MUJE9Bupl4bkwgEAsz4e1gsgrYIPZw=s64",
      "userId": "06348894780083418282"
     },
     "user_tz": -540
    },
    "id": "7MBnsUThVUqF",
    "outputId": "b2a3f354-a1e8-46a0-b3b1-8525c4682a64"
   },
   "outputs": [
    {
     "data": {
      "text/html": [
       "<style type=\"text/css\">\n",
       "</style>\n",
       "<table id=\"T_046f4_\">\n",
       "  <thead>\n",
       "    <tr>\n",
       "      <th class=\"blank level0\" >&nbsp;</th>\n",
       "      <th class=\"col_heading level0 col0\" >mean</th>\n",
       "      <th class=\"col_heading level0 col1\" >sum</th>\n",
       "    </tr>\n",
       "    <tr>\n",
       "      <th class=\"index_name level0\" >Country</th>\n",
       "      <th class=\"blank col0\" >&nbsp;</th>\n",
       "      <th class=\"blank col1\" >&nbsp;</th>\n",
       "    </tr>\n",
       "  </thead>\n",
       "  <tbody>\n",
       "    <tr>\n",
       "      <th id=\"T_046f4_level0_row0\" class=\"row_heading level0 row0\" >United Kingdom</th>\n",
       "      <td id=\"T_046f4_row0_col0\" class=\"data row0 col0\" >16.525065419655363</td>\n",
       "      <td id=\"T_046f4_row0_col1\" class=\"data row0 col1\" >8,187,806.364</td>\n",
       "    </tr>\n",
       "    <tr>\n",
       "      <th id=\"T_046f4_level0_row1\" class=\"row_heading level0 row1\" >Netherlands</th>\n",
       "      <td id=\"T_046f4_row1_col0\" class=\"data row1 col0\" >120.05969633066216</td>\n",
       "      <td id=\"T_046f4_row1_col1\" class=\"data row1 col1\" >284,661.54</td>\n",
       "    </tr>\n",
       "    <tr>\n",
       "      <th id=\"T_046f4_level0_row2\" class=\"row_heading level0 row2\" >EIRE</th>\n",
       "      <td id=\"T_046f4_row2_col0\" class=\"data row2 col0\" >32.12259882869693</td>\n",
       "      <td id=\"T_046f4_row2_col1\" class=\"data row2 col1\" >263,276.82</td>\n",
       "    </tr>\n",
       "    <tr>\n",
       "      <th id=\"T_046f4_level0_row3\" class=\"row_heading level0 row3\" >Germany</th>\n",
       "      <td id=\"T_046f4_row3_col0\" class=\"data row3 col0\" >23.348942601369142</td>\n",
       "      <td id=\"T_046f4_row3_col1\" class=\"data row3 col1\" >221,698.21</td>\n",
       "    </tr>\n",
       "    <tr>\n",
       "      <th id=\"T_046f4_level0_row4\" class=\"row_heading level0 row4\" >France</th>\n",
       "      <td id=\"T_046f4_row4_col0\" class=\"data row4 col0\" >23.06928830197499</td>\n",
       "      <td id=\"T_046f4_row4_col1\" class=\"data row4 col1\" >197,403.9</td>\n",
       "    </tr>\n",
       "    <tr>\n",
       "      <th id=\"T_046f4_level0_row5\" class=\"row_heading level0 row5\" >Australia</th>\n",
       "      <td id=\"T_046f4_row5_col0\" class=\"data row5 col0\" >108.87789515488483</td>\n",
       "      <td id=\"T_046f4_row5_col1\" class=\"data row5 col1\" >137,077.27</td>\n",
       "    </tr>\n",
       "    <tr>\n",
       "      <th id=\"T_046f4_level0_row6\" class=\"row_heading level0 row6\" >Switzerland</th>\n",
       "      <td id=\"T_046f4_row6_col0\" class=\"data row6 col0\" >28.164510489510487</td>\n",
       "      <td id=\"T_046f4_row6_col1\" class=\"data row6 col1\" >56,385.35</td>\n",
       "    </tr>\n",
       "    <tr>\n",
       "      <th id=\"T_046f4_level0_row7\" class=\"row_heading level0 row7\" >Spain</th>\n",
       "      <td id=\"T_046f4_row7_col0\" class=\"data row7 col0\" >21.624390051322543</td>\n",
       "      <td id=\"T_046f4_row7_col1\" class=\"data row7 col1\" >54,774.58</td>\n",
       "    </tr>\n",
       "    <tr>\n",
       "      <th id=\"T_046f4_level0_row8\" class=\"row_heading level0 row8\" >Belgium</th>\n",
       "      <td id=\"T_046f4_row8_col0\" class=\"data row8 col0\" >19.773301111648138</td>\n",
       "      <td id=\"T_046f4_row8_col1\" class=\"data row8 col1\" >40,910.96</td>\n",
       "    </tr>\n",
       "    <tr>\n",
       "      <th id=\"T_046f4_level0_row9\" class=\"row_heading level0 row9\" >Sweden</th>\n",
       "      <td id=\"T_046f4_row9_col0\" class=\"data row9 col0\" >79.21192640692641</td>\n",
       "      <td id=\"T_046f4_row9_col1\" class=\"data row9 col1\" >36,595.91</td>\n",
       "    </tr>\n",
       "  </tbody>\n",
       "</table>\n"
      ],
      "text/plain": [
       "<pandas.io.formats.style.Styler at 0x7fbca99eeb10>"
      ]
     },
     "execution_count": 38,
     "metadata": {},
     "output_type": "execute_result"
    }
   ],
   "source": [
    "# 국가별 매출액의 평균과 합계를 구합니다.\n",
    "# TotalPrice를 통해 매출액 상위 10개만 가져옵니다.\n",
    "top_sale_country =  df.groupby(\"Country\")[\"TotalPrice\"].agg(\n",
    "    [\"mean\", \"sum\"]).sort_values(\"sum\", ascending=False)\n",
    "top_sale_country.head(10).style.format(\"{:,}\")"
   ]
  },
  {
   "cell_type": "markdown",
   "metadata": {
    "id": "OAeweOlzVUqJ"
   },
   "source": [
    "## 날짜와 시간"
   ]
  },
  {
   "cell_type": "code",
   "execution_count": 39,
   "metadata": {
    "colab": {
     "base_uri": "https://localhost:8080/"
    },
    "executionInfo": {
     "elapsed": 14,
     "status": "ok",
     "timestamp": 1634789344443,
     "user": {
      "displayName": "JINY ROH",
      "photoUrl": "https://lh3.googleusercontent.com/a-/AOh14Gi7VIzxUnr7MUJE9Bupl4bkwgEAsz4e1gsgrYIPZw=s64",
      "userId": "06348894780083418282"
     },
     "user_tz": -540
    },
    "id": "7stfxt2XVUqJ",
    "outputId": "30e13872-d61a-4166-d760-b4236bd95915"
   },
   "outputs": [
    {
     "data": {
      "text/plain": [
       "0   2010-12-01 08:26:00\n",
       "Name: InvoiceDate, dtype: datetime64[ns]"
      ]
     },
     "execution_count": 39,
     "metadata": {},
     "output_type": "execute_result"
    }
   ],
   "source": [
    "# InvoiceDate를 datetime 모듈을 통해 날짜형식으로 변환해 줍니다.\n",
    "df[\"InvoiceDate\"] = pd.to_datetime(df[\"InvoiceDate\"])\n",
    "df[\"InvoiceDate\"].head(1)"
   ]
  },
  {
   "cell_type": "code",
   "execution_count": 40,
   "metadata": {
    "colab": {
     "base_uri": "https://localhost:8080/",
     "height": 170
    },
    "executionInfo": {
     "elapsed": 328,
     "status": "ok",
     "timestamp": 1634789344762,
     "user": {
      "displayName": "JINY ROH",
      "photoUrl": "https://lh3.googleusercontent.com/a-/AOh14Gi7VIzxUnr7MUJE9Bupl4bkwgEAsz4e1gsgrYIPZw=s64",
      "userId": "06348894780083418282"
     },
     "user_tz": -540
    },
    "id": "sVkvqHweVUqK",
    "outputId": "74ebfa68-6106-451a-8e0e-88307f3307d5"
   },
   "outputs": [
    {
     "data": {
      "text/html": [
       "<div>\n",
       "<style scoped>\n",
       "    .dataframe tbody tr th:only-of-type {\n",
       "        vertical-align: middle;\n",
       "    }\n",
       "\n",
       "    .dataframe tbody tr th {\n",
       "        vertical-align: top;\n",
       "    }\n",
       "\n",
       "    .dataframe thead th {\n",
       "        text-align: right;\n",
       "    }\n",
       "</style>\n",
       "<table border=\"1\" class=\"dataframe\">\n",
       "  <thead>\n",
       "    <tr style=\"text-align: right;\">\n",
       "      <th></th>\n",
       "      <th>InvoiceNo</th>\n",
       "      <th>StockCode</th>\n",
       "      <th>Description</th>\n",
       "      <th>Quantity</th>\n",
       "      <th>InvoiceDate</th>\n",
       "      <th>UnitPrice</th>\n",
       "      <th>CustomerID</th>\n",
       "      <th>Country</th>\n",
       "      <th>TotalPrice</th>\n",
       "      <th>InvoiceYear</th>\n",
       "      <th>InvoiceMonth</th>\n",
       "      <th>InvoiceDay</th>\n",
       "      <th>InvoiceDow</th>\n",
       "    </tr>\n",
       "  </thead>\n",
       "  <tbody>\n",
       "    <tr>\n",
       "      <th>0</th>\n",
       "      <td>536365</td>\n",
       "      <td>85123A</td>\n",
       "      <td>WHITE HANGING HEART T-LIGHT HOLDER</td>\n",
       "      <td>6</td>\n",
       "      <td>2010-12-01 08:26:00</td>\n",
       "      <td>2.55</td>\n",
       "      <td>17850.0</td>\n",
       "      <td>United Kingdom</td>\n",
       "      <td>15.3</td>\n",
       "      <td>2010</td>\n",
       "      <td>12</td>\n",
       "      <td>1</td>\n",
       "      <td>2</td>\n",
       "    </tr>\n",
       "  </tbody>\n",
       "</table>\n",
       "</div>"
      ],
      "text/plain": [
       "  InvoiceNo StockCode                         Description  Quantity  \\\n",
       "0    536365    85123A  WHITE HANGING HEART T-LIGHT HOLDER         6   \n",
       "\n",
       "          InvoiceDate  UnitPrice  CustomerID         Country  TotalPrice  \\\n",
       "0 2010-12-01 08:26:00       2.55     17850.0  United Kingdom        15.3   \n",
       "\n",
       "   InvoiceYear  InvoiceMonth  InvoiceDay  InvoiceDow  \n",
       "0         2010            12           1           2  "
      ]
     },
     "execution_count": 40,
     "metadata": {},
     "output_type": "execute_result"
    }
   ],
   "source": [
    "# year, month, day, dayofweek 를 InvoiceDate에서 추출하여 파생변수로 생성합니다.\n",
    "df[\"InvoiceYear\"] = df[\"InvoiceDate\"].dt.year\n",
    "df[\"InvoiceMonth\"] = df[\"InvoiceDate\"].dt.month\n",
    "df[\"InvoiceDay\"] = df[\"InvoiceDate\"].dt.day\n",
    "df[\"InvoiceDow\"] = df[\"InvoiceDate\"].dt.dayofweek\n",
    "df.head(1)"
   ]
  },
  {
   "cell_type": "code",
   "execution_count": 41,
   "metadata": {
    "colab": {
     "base_uri": "https://localhost:8080/",
     "height": 170
    },
    "executionInfo": {
     "elapsed": 346,
     "status": "ok",
     "timestamp": 1634789346545,
     "user": {
      "displayName": "JINY ROH",
      "photoUrl": "https://lh3.googleusercontent.com/a-/AOh14Gi7VIzxUnr7MUJE9Bupl4bkwgEAsz4e1gsgrYIPZw=s64",
      "userId": "06348894780083418282"
     },
     "user_tz": -540
    },
    "id": "cVXFooyFVUqK",
    "outputId": "a0a64f5c-1959-4d2f-fe65-2b97bec2a701"
   },
   "outputs": [
    {
     "data": {
      "text/html": [
       "<div>\n",
       "<style scoped>\n",
       "    .dataframe tbody tr th:only-of-type {\n",
       "        vertical-align: middle;\n",
       "    }\n",
       "\n",
       "    .dataframe tbody tr th {\n",
       "        vertical-align: top;\n",
       "    }\n",
       "\n",
       "    .dataframe thead th {\n",
       "        text-align: right;\n",
       "    }\n",
       "</style>\n",
       "<table border=\"1\" class=\"dataframe\">\n",
       "  <thead>\n",
       "    <tr style=\"text-align: right;\">\n",
       "      <th></th>\n",
       "      <th>InvoiceNo</th>\n",
       "      <th>StockCode</th>\n",
       "      <th>Description</th>\n",
       "      <th>Quantity</th>\n",
       "      <th>InvoiceDate</th>\n",
       "      <th>UnitPrice</th>\n",
       "      <th>CustomerID</th>\n",
       "      <th>Country</th>\n",
       "      <th>TotalPrice</th>\n",
       "      <th>InvoiceYear</th>\n",
       "      <th>InvoiceMonth</th>\n",
       "      <th>InvoiceDay</th>\n",
       "      <th>InvoiceDow</th>\n",
       "      <th>InvoiceTime</th>\n",
       "      <th>InvoiceHour</th>\n",
       "    </tr>\n",
       "  </thead>\n",
       "  <tbody>\n",
       "    <tr>\n",
       "      <th>0</th>\n",
       "      <td>536365</td>\n",
       "      <td>85123A</td>\n",
       "      <td>WHITE HANGING HEART T-LIGHT HOLDER</td>\n",
       "      <td>6</td>\n",
       "      <td>2010-12-01 08:26:00</td>\n",
       "      <td>2.55</td>\n",
       "      <td>17850.0</td>\n",
       "      <td>United Kingdom</td>\n",
       "      <td>15.3</td>\n",
       "      <td>2010</td>\n",
       "      <td>12</td>\n",
       "      <td>1</td>\n",
       "      <td>2</td>\n",
       "      <td>08:26:00</td>\n",
       "      <td>8</td>\n",
       "    </tr>\n",
       "  </tbody>\n",
       "</table>\n",
       "</div>"
      ],
      "text/plain": [
       "  InvoiceNo StockCode                         Description  Quantity  \\\n",
       "0    536365    85123A  WHITE HANGING HEART T-LIGHT HOLDER         6   \n",
       "\n",
       "          InvoiceDate  UnitPrice  CustomerID         Country  TotalPrice  \\\n",
       "0 2010-12-01 08:26:00       2.55     17850.0  United Kingdom        15.3   \n",
       "\n",
       "   InvoiceYear  InvoiceMonth  InvoiceDay  InvoiceDow InvoiceTime  InvoiceHour  \n",
       "0         2010            12           1           2    08:26:00            8  "
      ]
     },
     "execution_count": 41,
     "metadata": {},
     "output_type": "execute_result"
    }
   ],
   "source": [
    "# InvoiceDate 에서 time, hour 에 대한 파생변수도 생성합니다.\n",
    "df[\"InvoiceTime\"] = df[\"InvoiceDate\"].dt.time\n",
    "df[\"InvoiceHour\"] = df[\"InvoiceDate\"].dt.hour\n",
    "df.head(1)"
   ]
  },
  {
   "cell_type": "code",
   "execution_count": 42,
   "metadata": {
    "colab": {
     "base_uri": "https://localhost:8080/",
     "height": 170
    },
    "executionInfo": {
     "elapsed": 325,
     "status": "ok",
     "timestamp": 1634789345083,
     "user": {
      "displayName": "JINY ROH",
      "photoUrl": "https://lh3.googleusercontent.com/a-/AOh14Gi7VIzxUnr7MUJE9Bupl4bkwgEAsz4e1gsgrYIPZw=s64",
      "userId": "06348894780083418282"
     },
     "user_tz": -540
    },
    "id": "294gQT94VUqK",
    "outputId": "ee3c0498-b8d2-4025-839b-b3d648f70127"
   },
   "outputs": [
    {
     "data": {
      "text/plain": [
       "170819     Thursday\n",
       "159106       Sunday\n",
       "128908      Tuesday\n",
       "534698    Wednesday\n",
       "267797       Monday\n",
       "Name: InvoiceDayname, dtype: object"
      ]
     },
     "execution_count": 42,
     "metadata": {},
     "output_type": "execute_result"
    }
   ],
   "source": [
    "# day_name() 을 통해 InvoiceDate 에서 요일명을 추출하여 파생변수로 생성합니다.\n",
    "df[\"InvoiceDayname\"] = df[\"InvoiceDate\"].dt.day_name()\n",
    "df[\"InvoiceDayname\"].sample(5)"
   ]
  },
  {
   "cell_type": "code",
   "execution_count": 43,
   "metadata": {
    "colab": {
     "base_uri": "https://localhost:8080/",
     "height": 170
    },
    "executionInfo": {
     "elapsed": 1120,
     "status": "ok",
     "timestamp": 1634789346201,
     "user": {
      "displayName": "JINY ROH",
      "photoUrl": "https://lh3.googleusercontent.com/a-/AOh14Gi7VIzxUnr7MUJE9Bupl4bkwgEAsz4e1gsgrYIPZw=s64",
      "userId": "06348894780083418282"
     },
     "user_tz": -540
    },
    "id": "p4Gr-7GiVUqK",
    "outputId": "9b0c9bd6-a26f-42d3-b9b2-8ccbcbe3b19f"
   },
   "outputs": [
    {
     "data": {
      "text/html": [
       "<div>\n",
       "<style scoped>\n",
       "    .dataframe tbody tr th:only-of-type {\n",
       "        vertical-align: middle;\n",
       "    }\n",
       "\n",
       "    .dataframe tbody tr th {\n",
       "        vertical-align: top;\n",
       "    }\n",
       "\n",
       "    .dataframe thead th {\n",
       "        text-align: right;\n",
       "    }\n",
       "</style>\n",
       "<table border=\"1\" class=\"dataframe\">\n",
       "  <thead>\n",
       "    <tr style=\"text-align: right;\">\n",
       "      <th></th>\n",
       "      <th>InvoiceDate</th>\n",
       "      <th>InvoiceYM</th>\n",
       "    </tr>\n",
       "  </thead>\n",
       "  <tbody>\n",
       "    <tr>\n",
       "      <th>435834</th>\n",
       "      <td>2011-11-02 15:38:00</td>\n",
       "      <td>2011-11</td>\n",
       "    </tr>\n",
       "    <tr>\n",
       "      <th>470117</th>\n",
       "      <td>2011-11-15 16:57:00</td>\n",
       "      <td>2011-11</td>\n",
       "    </tr>\n",
       "    <tr>\n",
       "      <th>142381</th>\n",
       "      <td>2011-04-01 11:28:00</td>\n",
       "      <td>2011-04</td>\n",
       "    </tr>\n",
       "    <tr>\n",
       "      <th>438421</th>\n",
       "      <td>2011-11-03 18:49:00</td>\n",
       "      <td>2011-11</td>\n",
       "    </tr>\n",
       "    <tr>\n",
       "      <th>35430</th>\n",
       "      <td>2010-12-17 14:49:00</td>\n",
       "      <td>2010-12</td>\n",
       "    </tr>\n",
       "  </tbody>\n",
       "</table>\n",
       "</div>"
      ],
      "text/plain": [
       "               InvoiceDate InvoiceYM\n",
       "435834 2011-11-02 15:38:00   2011-11\n",
       "470117 2011-11-15 16:57:00   2011-11\n",
       "142381 2011-04-01 11:28:00   2011-04\n",
       "438421 2011-11-03 18:49:00   2011-11\n",
       "35430  2010-12-17 14:49:00   2010-12"
      ]
     },
     "execution_count": 43,
     "metadata": {},
     "output_type": "execute_result"
    }
   ],
   "source": [
    "# InvoiceDate 에서 앞에서 7개문자만 가져오면([:7]) 연, 월만 따로 생성합니다.\n",
    "df[\"InvoiceYM\"] = df[\"InvoiceDate\"].astype(str).str[:7]\n",
    "df[[\"InvoiceDate\", \"InvoiceYM\"]].sample(5)"
   ]
  },
  {
   "cell_type": "code",
   "execution_count": 44,
   "metadata": {
    "colab": {
     "base_uri": "https://localhost:8080/",
     "height": 298
    },
    "executionInfo": {
     "elapsed": 13,
     "status": "ok",
     "timestamp": 1634789346545,
     "user": {
      "displayName": "JINY ROH",
      "photoUrl": "https://lh3.googleusercontent.com/a-/AOh14Gi7VIzxUnr7MUJE9Bupl4bkwgEAsz4e1gsgrYIPZw=s64",
      "userId": "06348894780083418282"
     },
     "user_tz": -540
    },
    "id": "UiLRfNfRVUqK",
    "outputId": "f6da291f-7e90-4575-b202-a0fe29008926"
   },
   "outputs": [
    {
     "data": {
      "text/plain": [
       "<AxesSubplot:xlabel='InvoiceYear', ylabel='count'>"
      ]
     },
     "execution_count": 44,
     "metadata": {},
     "output_type": "execute_result"
    },
    {
     "data": {
      "image/png": "[encoded data removed]",
      "text/plain": [
       "<Figure size 432x288 with 1 Axes>"
      ]
     },
     "metadata": {
      "needs_background": "light"
     },
     "output_type": "display_data"
    }
   ],
   "source": [
    "# countplot 으로 연도(InvoiceYear)별 구매 빈도수 시각화합니다.\n",
    "sns.countplot(data=df, x=\"InvoiceYear\")"
   ]
  },
  {
   "cell_type": "code",
   "execution_count": 45,
   "metadata": {
    "colab": {
     "base_uri": "https://localhost:8080/",
     "height": 298
    },
    "executionInfo": {
     "elapsed": 437,
     "status": "ok",
     "timestamp": 1634789346976,
     "user": {
      "displayName": "JINY ROH",
      "photoUrl": "https://lh3.googleusercontent.com/a-/AOh14Gi7VIzxUnr7MUJE9Bupl4bkwgEAsz4e1gsgrYIPZw=s64",
      "userId": "06348894780083418282"
     },
     "user_tz": -540
    },
    "id": "XzJ5efozVUqL",
    "outputId": "74f9ec47-31a1-4046-b95d-d2396cd6487a"
   },
   "outputs": [
    {
     "data": {
      "text/plain": [
       "<AxesSubplot:xlabel='InvoiceMonth', ylabel='count'>"
      ]
     },
     "execution_count": 45,
     "metadata": {},
     "output_type": "execute_result"
    },
    {
     "data": {
      "image/png": "[encoded data removed]",
      "text/plain": [
       "<Figure size 432x288 with 1 Axes>"
      ]
     },
     "metadata": {
      "needs_background": "light"
     },
     "output_type": "display_data"
    }
   ],
   "source": [
    "# countplot 으로 월(InvoiceMonth)별 구매 빈도수 시각화합니다.\n",
    "\n",
    "sns.countplot(data=df, x=\"InvoiceMonth\")"
   ]
  },
  {
   "cell_type": "code",
   "execution_count": 46,
   "metadata": {
    "colab": {
     "base_uri": "https://localhost:8080/",
     "height": 298
    },
    "executionInfo": {
     "elapsed": 620,
     "status": "ok",
     "timestamp": 1634789347592,
     "user": {
      "displayName": "JINY ROH",
      "photoUrl": "https://lh3.googleusercontent.com/a-/AOh14Gi7VIzxUnr7MUJE9Bupl4bkwgEAsz4e1gsgrYIPZw=s64",
      "userId": "06348894780083418282"
     },
     "user_tz": -540
    },
    "id": "t8GRdWq_VUqL",
    "outputId": "a160294e-85f8-4234-9532-f9532b9ffb17"
   },
   "outputs": [
    {
     "data": {
      "text/plain": [
       "<AxesSubplot:xlabel='InvoiceYM', ylabel='count'>"
      ]
     },
     "execution_count": 46,
     "metadata": {},
     "output_type": "execute_result"
    },
    {
     "data": {
      "image/png": "[encoded data removed]",
      "text/plain": [
       "<Figure size 864x288 with 1 Axes>"
      ]
     },
     "metadata": {
      "needs_background": "light"
     },
     "output_type": "display_data"
    }
   ],
   "source": [
    "# countplot 으로 연도-월별(InvoiceYM) 구매 빈도수 시각화합니다.\n",
    "plt.figure(figsize=(12, 4))\n",
    "sns.countplot(data=df, x=\"InvoiceYM\")"
   ]
  },
  {
   "cell_type": "code",
   "execution_count": 47,
   "metadata": {},
   "outputs": [
    {
     "data": {
      "text/html": [
       "<div>\n",
       "<style scoped>\n",
       "    .dataframe tbody tr th:only-of-type {\n",
       "        vertical-align: middle;\n",
       "    }\n",
       "\n",
       "    .dataframe tbody tr th {\n",
       "        vertical-align: top;\n",
       "    }\n",
       "\n",
       "    .dataframe thead th {\n",
       "        text-align: right;\n",
       "    }\n",
       "</style>\n",
       "<table border=\"1\" class=\"dataframe\">\n",
       "  <thead>\n",
       "    <tr style=\"text-align: right;\">\n",
       "      <th></th>\n",
       "      <th>InvoiceNo</th>\n",
       "      <th>StockCode</th>\n",
       "      <th>Description</th>\n",
       "      <th>Quantity</th>\n",
       "      <th>InvoiceDate</th>\n",
       "      <th>UnitPrice</th>\n",
       "      <th>CustomerID</th>\n",
       "      <th>Country</th>\n",
       "      <th>TotalPrice</th>\n",
       "      <th>InvoiceYear</th>\n",
       "      <th>InvoiceMonth</th>\n",
       "      <th>InvoiceDay</th>\n",
       "      <th>InvoiceDow</th>\n",
       "      <th>InvoiceTime</th>\n",
       "      <th>InvoiceHour</th>\n",
       "      <th>InvoiceDayname</th>\n",
       "      <th>InvoiceYM</th>\n",
       "    </tr>\n",
       "  </thead>\n",
       "  <tbody>\n",
       "    <tr>\n",
       "      <th>541907</th>\n",
       "      <td>581587</td>\n",
       "      <td>23255</td>\n",
       "      <td>CHILDRENS CUTLERY CIRCUS PARADE</td>\n",
       "      <td>4</td>\n",
       "      <td>2011-12-09 12:50:00</td>\n",
       "      <td>4.15</td>\n",
       "      <td>12680.0</td>\n",
       "      <td>France</td>\n",
       "      <td>16.60</td>\n",
       "      <td>2011</td>\n",
       "      <td>12</td>\n",
       "      <td>9</td>\n",
       "      <td>4</td>\n",
       "      <td>12:50:00</td>\n",
       "      <td>12</td>\n",
       "      <td>Friday</td>\n",
       "      <td>2011-12</td>\n",
       "    </tr>\n",
       "    <tr>\n",
       "      <th>541908</th>\n",
       "      <td>581587</td>\n",
       "      <td>22138</td>\n",
       "      <td>BAKING SET 9 PIECE RETROSPOT</td>\n",
       "      <td>3</td>\n",
       "      <td>2011-12-09 12:50:00</td>\n",
       "      <td>4.95</td>\n",
       "      <td>12680.0</td>\n",
       "      <td>France</td>\n",
       "      <td>14.85</td>\n",
       "      <td>2011</td>\n",
       "      <td>12</td>\n",
       "      <td>9</td>\n",
       "      <td>4</td>\n",
       "      <td>12:50:00</td>\n",
       "      <td>12</td>\n",
       "      <td>Friday</td>\n",
       "      <td>2011-12</td>\n",
       "    </tr>\n",
       "  </tbody>\n",
       "</table>\n",
       "</div>"
      ],
      "text/plain": [
       "       InvoiceNo StockCode                      Description  Quantity  \\\n",
       "541907    581587     23255  CHILDRENS CUTLERY CIRCUS PARADE         4   \n",
       "541908    581587     22138    BAKING SET 9 PIECE RETROSPOT          3   \n",
       "\n",
       "               InvoiceDate  UnitPrice  CustomerID Country  TotalPrice  \\\n",
       "541907 2011-12-09 12:50:00       4.15     12680.0  France       16.60   \n",
       "541908 2011-12-09 12:50:00       4.95     12680.0  France       14.85   \n",
       "\n",
       "        InvoiceYear  InvoiceMonth  InvoiceDay  InvoiceDow InvoiceTime  \\\n",
       "541907         2011            12           9           4    12:50:00   \n",
       "541908         2011            12           9           4    12:50:00   \n",
       "\n",
       "        InvoiceHour InvoiceDayname InvoiceYM  \n",
       "541907           12         Friday   2011-12  \n",
       "541908           12         Friday   2011-12  "
      ]
     },
     "execution_count": 47,
     "metadata": {},
     "output_type": "execute_result"
    }
   ],
   "source": [
    "df.tail(2)"
   ]
  },
  {
   "cell_type": "markdown",
   "metadata": {
    "id": "PsbAaCqsVUqL"
   },
   "source": [
    "### 요일별 빈도수"
   ]
  },
  {
   "cell_type": "code",
   "execution_count": 48,
   "metadata": {
    "colab": {
     "base_uri": "https://localhost:8080/",
     "height": 298
    },
    "executionInfo": {
     "elapsed": 823,
     "status": "ok",
     "timestamp": 1634789348410,
     "user": {
      "displayName": "JINY ROH",
      "photoUrl": "https://lh3.googleusercontent.com/a-/AOh14Gi7VIzxUnr7MUJE9Bupl4bkwgEAsz4e1gsgrYIPZw=s64",
      "userId": "06348894780083418282"
     },
     "user_tz": -540
    },
    "id": "4JKPmUJrVUqL",
    "outputId": "ddca263f-7ebf-48bf-a786-fb3246df16ce"
   },
   "outputs": [
    {
     "data": {
      "text/plain": [
       "<AxesSubplot:xlabel='InvoiceDow', ylabel='count'>"
      ]
     },
     "execution_count": 48,
     "metadata": {},
     "output_type": "execute_result"
    },
    {
     "data": {
      "image/png": "[encoded data removed]",
      "text/plain": [
       "<Figure size 432x288 with 1 Axes>"
      ]
     },
     "metadata": {
      "needs_background": "light"
     },
     "output_type": "display_data"
    }
   ],
   "source": [
    "# countplot 으로 요일별( InvoiceDow ) 구매 빈도수 시각화합니다.\n",
    "sns.countplot(data=df, x=\"InvoiceDow\")"
   ]
  },
  {
   "cell_type": "code",
   "execution_count": 49,
   "metadata": {
    "colab": {
     "base_uri": "https://localhost:8080/",
     "height": 551
    },
    "executionInfo": {
     "elapsed": 773,
     "status": "ok",
     "timestamp": 1634789350817,
     "user": {
      "displayName": "JINY ROH",
      "photoUrl": "https://lh3.googleusercontent.com/a-/AOh14Gi7VIzxUnr7MUJE9Bupl4bkwgEAsz4e1gsgrYIPZw=s64",
      "userId": "06348894780083418282"
     },
     "user_tz": -540
    },
    "id": "T_DEDaZSVUqO",
    "outputId": "a0affbfe-c48d-4ddb-8c63-ba52a86b3641"
   },
   "outputs": [
    {
     "data": {
      "text/html": [
       "<div>\n",
       "<style scoped>\n",
       "    .dataframe tbody tr th:only-of-type {\n",
       "        vertical-align: middle;\n",
       "    }\n",
       "\n",
       "    .dataframe tbody tr th {\n",
       "        vertical-align: top;\n",
       "    }\n",
       "\n",
       "    .dataframe thead th {\n",
       "        text-align: right;\n",
       "    }\n",
       "</style>\n",
       "<table border=\"1\" class=\"dataframe\">\n",
       "  <thead>\n",
       "    <tr style=\"text-align: right;\">\n",
       "      <th>InvoiceDow</th>\n",
       "      <th>0</th>\n",
       "      <th>1</th>\n",
       "      <th>2</th>\n",
       "      <th>3</th>\n",
       "      <th>4</th>\n",
       "      <th>6</th>\n",
       "    </tr>\n",
       "    <tr>\n",
       "      <th>InvoiceHour</th>\n",
       "      <th></th>\n",
       "      <th></th>\n",
       "      <th></th>\n",
       "      <th></th>\n",
       "      <th></th>\n",
       "      <th></th>\n",
       "    </tr>\n",
       "  </thead>\n",
       "  <tbody>\n",
       "    <tr>\n",
       "      <th>6</th>\n",
       "      <td>0</td>\n",
       "      <td>0</td>\n",
       "      <td>0</td>\n",
       "      <td>41</td>\n",
       "      <td>0</td>\n",
       "      <td>0</td>\n",
       "    </tr>\n",
       "    <tr>\n",
       "      <th>7</th>\n",
       "      <td>61</td>\n",
       "      <td>65</td>\n",
       "      <td>59</td>\n",
       "      <td>64</td>\n",
       "      <td>134</td>\n",
       "      <td>0</td>\n",
       "    </tr>\n",
       "    <tr>\n",
       "      <th>8</th>\n",
       "      <td>1641</td>\n",
       "      <td>1751</td>\n",
       "      <td>1826</td>\n",
       "      <td>1834</td>\n",
       "      <td>1857</td>\n",
       "      <td>0</td>\n",
       "    </tr>\n",
       "    <tr>\n",
       "      <th>9</th>\n",
       "      <td>7497</td>\n",
       "      <td>6440</td>\n",
       "      <td>5186</td>\n",
       "      <td>8060</td>\n",
       "      <td>7119</td>\n",
       "      <td>30</td>\n",
       "    </tr>\n",
       "    <tr>\n",
       "      <th>10</th>\n",
       "      <td>8872</td>\n",
       "      <td>9125</td>\n",
       "      <td>7904</td>\n",
       "      <td>9321</td>\n",
       "      <td>10215</td>\n",
       "      <td>3600</td>\n",
       "    </tr>\n",
       "    <tr>\n",
       "      <th>11</th>\n",
       "      <td>8926</td>\n",
       "      <td>10052</td>\n",
       "      <td>9973</td>\n",
       "      <td>8369</td>\n",
       "      <td>9589</td>\n",
       "      <td>10765</td>\n",
       "    </tr>\n",
       "    <tr>\n",
       "      <th>12</th>\n",
       "      <td>11801</td>\n",
       "      <td>14327</td>\n",
       "      <td>14527</td>\n",
       "      <td>13485</td>\n",
       "      <td>10942</td>\n",
       "      <td>13627</td>\n",
       "    </tr>\n",
       "    <tr>\n",
       "      <th>13</th>\n",
       "      <td>12756</td>\n",
       "      <td>12619</td>\n",
       "      <td>11901</td>\n",
       "      <td>12428</td>\n",
       "      <td>10488</td>\n",
       "      <td>12067</td>\n",
       "    </tr>\n",
       "    <tr>\n",
       "      <th>14</th>\n",
       "      <td>11502</td>\n",
       "      <td>11656</td>\n",
       "      <td>11006</td>\n",
       "      <td>11518</td>\n",
       "      <td>11737</td>\n",
       "      <td>10052</td>\n",
       "    </tr>\n",
       "    <tr>\n",
       "      <th>15</th>\n",
       "      <td>13977</td>\n",
       "      <td>16017</td>\n",
       "      <td>16510</td>\n",
       "      <td>11830</td>\n",
       "      <td>9043</td>\n",
       "      <td>10142</td>\n",
       "    </tr>\n",
       "    <tr>\n",
       "      <th>16</th>\n",
       "      <td>9529</td>\n",
       "      <td>11924</td>\n",
       "      <td>10768</td>\n",
       "      <td>11765</td>\n",
       "      <td>6438</td>\n",
       "      <td>4092</td>\n",
       "    </tr>\n",
       "    <tr>\n",
       "      <th>17</th>\n",
       "      <td>8136</td>\n",
       "      <td>5746</td>\n",
       "      <td>4849</td>\n",
       "      <td>5257</td>\n",
       "      <td>4521</td>\n",
       "      <td>0</td>\n",
       "    </tr>\n",
       "    <tr>\n",
       "      <th>18</th>\n",
       "      <td>413</td>\n",
       "      <td>2086</td>\n",
       "      <td>23</td>\n",
       "      <td>5439</td>\n",
       "      <td>13</td>\n",
       "      <td>0</td>\n",
       "    </tr>\n",
       "    <tr>\n",
       "      <th>19</th>\n",
       "      <td>0</td>\n",
       "      <td>0</td>\n",
       "      <td>15</td>\n",
       "      <td>3601</td>\n",
       "      <td>89</td>\n",
       "      <td>0</td>\n",
       "    </tr>\n",
       "    <tr>\n",
       "      <th>20</th>\n",
       "      <td>0</td>\n",
       "      <td>0</td>\n",
       "      <td>18</td>\n",
       "      <td>845</td>\n",
       "      <td>8</td>\n",
       "      <td>0</td>\n",
       "    </tr>\n",
       "  </tbody>\n",
       "</table>\n",
       "</div>"
      ],
      "text/plain": [
       "InvoiceDow       0      1      2      3      4      6\n",
       "InvoiceHour                                          \n",
       "6                0      0      0     41      0      0\n",
       "7               61     65     59     64    134      0\n",
       "8             1641   1751   1826   1834   1857      0\n",
       "9             7497   6440   5186   8060   7119     30\n",
       "10            8872   9125   7904   9321  10215   3600\n",
       "11            8926  10052   9973   8369   9589  10765\n",
       "12           11801  14327  14527  13485  10942  13627\n",
       "13           12756  12619  11901  12428  10488  12067\n",
       "14           11502  11656  11006  11518  11737  10052\n",
       "15           13977  16017  16510  11830   9043  10142\n",
       "16            9529  11924  10768  11765   6438   4092\n",
       "17            8136   5746   4849   5257   4521      0\n",
       "18             413   2086     23   5439     13      0\n",
       "19               0      0     15   3601     89      0\n",
       "20               0      0     18    845      8      0"
      ]
     },
     "execution_count": 49,
     "metadata": {},
     "output_type": "execute_result"
    }
   ],
   "source": [
    "# 시간별( InvoiceHour ), 요일별( InvoiceDow )로 crosstab 을 통해 구매 빈도수 구합니다.\n",
    "order_hour_dow = pd.crosstab(df[\"InvoiceHour\"], df[\"InvoiceDow\"])\n",
    "order_hour_dow"
   ]
  },
  {
   "cell_type": "code",
   "execution_count": 53,
   "metadata": {},
   "outputs": [
    {
     "data": {
      "text/plain": [
       "['월', '화', '수', '목', '금', '일']"
      ]
     },
     "execution_count": 53,
     "metadata": {},
     "output_type": "execute_result"
    }
   ],
   "source": [
    "[w for w in \"월화수목금일\"]"
   ]
  },
  {
   "cell_type": "code",
   "execution_count": 50,
   "metadata": {
    "colab": {
     "base_uri": "https://localhost:8080/",
     "height": 382
    },
    "executionInfo": {
     "elapsed": 14,
     "status": "ok",
     "timestamp": 1634789350817,
     "user": {
      "displayName": "JINY ROH",
      "photoUrl": "https://lh3.googleusercontent.com/a-/AOh14Gi7VIzxUnr7MUJE9Bupl4bkwgEAsz4e1gsgrYIPZw=s64",
      "userId": "06348894780083418282"
     },
     "user_tz": -540
    },
    "id": "EQSbfhQcVUqP",
    "outputId": "ea3a1b8e-dd8e-4549-e367-52ccf95f935b"
   },
   "outputs": [
    {
     "data": {
      "text/html": [
       "<style type=\"text/css\">\n",
       "#T_361e0_row0_col0, #T_361e0_row0_col1, #T_361e0_row0_col2, #T_361e0_row0_col3, #T_361e0_row0_col4, #T_361e0_row0_col5, #T_361e0_row1_col2, #T_361e0_row1_col3, #T_361e0_row1_col5, #T_361e0_row2_col5, #T_361e0_row3_col5, #T_361e0_row11_col5, #T_361e0_row12_col2, #T_361e0_row12_col4, #T_361e0_row12_col5, #T_361e0_row13_col0, #T_361e0_row13_col1, #T_361e0_row13_col2, #T_361e0_row13_col5, #T_361e0_row14_col0, #T_361e0_row14_col1, #T_361e0_row14_col2, #T_361e0_row14_col4, #T_361e0_row14_col5 {\n",
       "  background-color: #fff7fb;\n",
       "  color: #000000;\n",
       "}\n",
       "#T_361e0_row1_col0, #T_361e0_row1_col1, #T_361e0_row13_col4 {\n",
       "  background-color: #fef6fb;\n",
       "  color: #000000;\n",
       "}\n",
       "#T_361e0_row1_col4 {\n",
       "  background-color: #fef6fa;\n",
       "  color: #000000;\n",
       "}\n",
       "#T_361e0_row2_col0 {\n",
       "  background-color: #ede8f3;\n",
       "  color: #000000;\n",
       "}\n",
       "#T_361e0_row2_col1 {\n",
       "  background-color: #efe9f3;\n",
       "  color: #000000;\n",
       "}\n",
       "#T_361e0_row2_col2 {\n",
       "  background-color: #eee9f3;\n",
       "  color: #000000;\n",
       "}\n",
       "#T_361e0_row2_col3 {\n",
       "  background-color: #eae6f1;\n",
       "  color: #000000;\n",
       "}\n",
       "#T_361e0_row2_col4 {\n",
       "  background-color: #e5e1ef;\n",
       "  color: #000000;\n",
       "}\n",
       "#T_361e0_row3_col0 {\n",
       "  background-color: #62a2cb;\n",
       "  color: #f1f1f1;\n",
       "}\n",
       "#T_361e0_row3_col1, #T_361e0_row12_col3 {\n",
       "  background-color: #9cb9d9;\n",
       "  color: #000000;\n",
       "}\n",
       "#T_361e0_row3_col2 {\n",
       "  background-color: #bbc7e0;\n",
       "  color: #000000;\n",
       "}\n",
       "#T_361e0_row3_col3 {\n",
       "  background-color: #4496c3;\n",
       "  color: #f1f1f1;\n",
       "}\n",
       "#T_361e0_row3_col4 {\n",
       "  background-color: #3f93c2;\n",
       "  color: #f1f1f1;\n",
       "}\n",
       "#T_361e0_row4_col0 {\n",
       "  background-color: #328dbf;\n",
       "  color: #f1f1f1;\n",
       "}\n",
       "#T_361e0_row4_col1 {\n",
       "  background-color: #529bc7;\n",
       "  color: #f1f1f1;\n",
       "}\n",
       "#T_361e0_row4_col2 {\n",
       "  background-color: #7dacd1;\n",
       "  color: #f1f1f1;\n",
       "}\n",
       "#T_361e0_row4_col3 {\n",
       "  background-color: #1c7fb8;\n",
       "  color: #f1f1f1;\n",
       "}\n",
       "#T_361e0_row4_col4 {\n",
       "  background-color: #045b8e;\n",
       "  color: #f1f1f1;\n",
       "}\n",
       "#T_361e0_row4_col5, #T_361e0_row13_col3 {\n",
       "  background-color: #cccfe5;\n",
       "  color: #000000;\n",
       "}\n",
       "#T_361e0_row5_col0 {\n",
       "  background-color: #308cbe;\n",
       "  color: #f1f1f1;\n",
       "}\n",
       "#T_361e0_row5_col1 {\n",
       "  background-color: #358fc0;\n",
       "  color: #f1f1f1;\n",
       "}\n",
       "#T_361e0_row5_col2 {\n",
       "  background-color: #4094c3;\n",
       "  color: #f1f1f1;\n",
       "}\n",
       "#T_361e0_row5_col3 {\n",
       "  background-color: #3991c1;\n",
       "  color: #f1f1f1;\n",
       "}\n",
       "#T_361e0_row5_col4 {\n",
       "  background-color: #04649d;\n",
       "  color: #f1f1f1;\n",
       "}\n",
       "#T_361e0_row5_col5 {\n",
       "  background-color: #0569a4;\n",
       "  color: #f1f1f1;\n",
       "}\n",
       "#T_361e0_row6_col0 {\n",
       "  background-color: #045f95;\n",
       "  color: #f1f1f1;\n",
       "}\n",
       "#T_361e0_row6_col1, #T_361e0_row7_col4 {\n",
       "  background-color: #045585;\n",
       "  color: #f1f1f1;\n",
       "}\n",
       "#T_361e0_row6_col2 {\n",
       "  background-color: #04588a;\n",
       "  color: #f1f1f1;\n",
       "}\n",
       "#T_361e0_row6_col3, #T_361e0_row6_col5, #T_361e0_row8_col4, #T_361e0_row9_col0, #T_361e0_row9_col1, #T_361e0_row9_col2 {\n",
       "  background-color: #023858;\n",
       "  color: #f1f1f1;\n",
       "}\n",
       "#T_361e0_row6_col4 {\n",
       "  background-color: #034a74;\n",
       "  color: #f1f1f1;\n",
       "}\n",
       "#T_361e0_row7_col0 {\n",
       "  background-color: #034f7d;\n",
       "  color: #f1f1f1;\n",
       "}\n",
       "#T_361e0_row7_col1 {\n",
       "  background-color: #0569a5;\n",
       "  color: #f1f1f1;\n",
       "}\n",
       "#T_361e0_row7_col2 {\n",
       "  background-color: #1077b4;\n",
       "  color: #f1f1f1;\n",
       "}\n",
       "#T_361e0_row7_col3 {\n",
       "  background-color: #034d79;\n",
       "  color: #f1f1f1;\n",
       "}\n",
       "#T_361e0_row7_col5 {\n",
       "  background-color: #045788;\n",
       "  color: #f1f1f1;\n",
       "}\n",
       "#T_361e0_row8_col0 {\n",
       "  background-color: #04639b;\n",
       "  color: #f1f1f1;\n",
       "}\n",
       "#T_361e0_row8_col1 {\n",
       "  background-color: #0d75b3;\n",
       "  color: #f1f1f1;\n",
       "}\n",
       "#T_361e0_row8_col2 {\n",
       "  background-color: #2685bb;\n",
       "  color: #f1f1f1;\n",
       "}\n",
       "#T_361e0_row8_col3 {\n",
       "  background-color: #045e93;\n",
       "  color: #f1f1f1;\n",
       "}\n",
       "#T_361e0_row8_col5 {\n",
       "  background-color: #0a73b2;\n",
       "  color: #f1f1f1;\n",
       "}\n",
       "#T_361e0_row9_col3 {\n",
       "  background-color: #04598c;\n",
       "  color: #f1f1f1;\n",
       "}\n",
       "#T_361e0_row9_col4 {\n",
       "  background-color: #056caa;\n",
       "  color: #f1f1f1;\n",
       "}\n",
       "#T_361e0_row9_col5, #T_361e0_row10_col1 {\n",
       "  background-color: #0771b1;\n",
       "  color: #f1f1f1;\n",
       "}\n",
       "#T_361e0_row10_col0 {\n",
       "  background-color: #2081b9;\n",
       "  color: #f1f1f1;\n",
       "}\n",
       "#T_361e0_row10_col2 {\n",
       "  background-color: #2c89bd;\n",
       "  color: #f1f1f1;\n",
       "}\n",
       "#T_361e0_row10_col3 {\n",
       "  background-color: #045a8d;\n",
       "  color: #f1f1f1;\n",
       "}\n",
       "#T_361e0_row10_col4 {\n",
       "  background-color: #5c9fc9;\n",
       "  color: #f1f1f1;\n",
       "}\n",
       "#T_361e0_row10_col5 {\n",
       "  background-color: #c0c9e2;\n",
       "  color: #000000;\n",
       "}\n",
       "#T_361e0_row11_col0 {\n",
       "  background-color: #4a98c5;\n",
       "  color: #f1f1f1;\n",
       "}\n",
       "#T_361e0_row11_col1 {\n",
       "  background-color: #acc0dd;\n",
       "  color: #000000;\n",
       "}\n",
       "#T_361e0_row11_col2 {\n",
       "  background-color: #c1cae2;\n",
       "  color: #000000;\n",
       "}\n",
       "#T_361e0_row11_col3 {\n",
       "  background-color: #a1bbda;\n",
       "  color: #000000;\n",
       "}\n",
       "#T_361e0_row11_col4 {\n",
       "  background-color: #a2bcda;\n",
       "  color: #000000;\n",
       "}\n",
       "#T_361e0_row12_col0 {\n",
       "  background-color: #fbf3f9;\n",
       "  color: #000000;\n",
       "}\n",
       "#T_361e0_row12_col1 {\n",
       "  background-color: #ebe6f2;\n",
       "  color: #000000;\n",
       "}\n",
       "#T_361e0_row14_col3 {\n",
       "  background-color: #f6eff7;\n",
       "  color: #000000;\n",
       "}\n",
       "</style>\n",
       "<table id=\"T_361e0_\">\n",
       "  <thead>\n",
       "    <tr>\n",
       "      <th class=\"blank level0\" >&nbsp;</th>\n",
       "      <th class=\"col_heading level0 col0\" >월</th>\n",
       "      <th class=\"col_heading level0 col1\" >화</th>\n",
       "      <th class=\"col_heading level0 col2\" >수</th>\n",
       "      <th class=\"col_heading level0 col3\" >목</th>\n",
       "      <th class=\"col_heading level0 col4\" >금</th>\n",
       "      <th class=\"col_heading level0 col5\" >일</th>\n",
       "    </tr>\n",
       "    <tr>\n",
       "      <th class=\"index_name level0\" >InvoiceHour</th>\n",
       "      <th class=\"blank col0\" >&nbsp;</th>\n",
       "      <th class=\"blank col1\" >&nbsp;</th>\n",
       "      <th class=\"blank col2\" >&nbsp;</th>\n",
       "      <th class=\"blank col3\" >&nbsp;</th>\n",
       "      <th class=\"blank col4\" >&nbsp;</th>\n",
       "      <th class=\"blank col5\" >&nbsp;</th>\n",
       "    </tr>\n",
       "  </thead>\n",
       "  <tbody>\n",
       "    <tr>\n",
       "      <th id=\"T_361e0_level0_row0\" class=\"row_heading level0 row0\" >6</th>\n",
       "      <td id=\"T_361e0_row0_col0\" class=\"data row0 col0\" >0</td>\n",
       "      <td id=\"T_361e0_row0_col1\" class=\"data row0 col1\" >0</td>\n",
       "      <td id=\"T_361e0_row0_col2\" class=\"data row0 col2\" >0</td>\n",
       "      <td id=\"T_361e0_row0_col3\" class=\"data row0 col3\" >41</td>\n",
       "      <td id=\"T_361e0_row0_col4\" class=\"data row0 col4\" >0</td>\n",
       "      <td id=\"T_361e0_row0_col5\" class=\"data row0 col5\" >0</td>\n",
       "    </tr>\n",
       "    <tr>\n",
       "      <th id=\"T_361e0_level0_row1\" class=\"row_heading level0 row1\" >7</th>\n",
       "      <td id=\"T_361e0_row1_col0\" class=\"data row1 col0\" >61</td>\n",
       "      <td id=\"T_361e0_row1_col1\" class=\"data row1 col1\" >65</td>\n",
       "      <td id=\"T_361e0_row1_col2\" class=\"data row1 col2\" >59</td>\n",
       "      <td id=\"T_361e0_row1_col3\" class=\"data row1 col3\" >64</td>\n",
       "      <td id=\"T_361e0_row1_col4\" class=\"data row1 col4\" >134</td>\n",
       "      <td id=\"T_361e0_row1_col5\" class=\"data row1 col5\" >0</td>\n",
       "    </tr>\n",
       "    <tr>\n",
       "      <th id=\"T_361e0_level0_row2\" class=\"row_heading level0 row2\" >8</th>\n",
       "      <td id=\"T_361e0_row2_col0\" class=\"data row2 col0\" >1641</td>\n",
       "      <td id=\"T_361e0_row2_col1\" class=\"data row2 col1\" >1751</td>\n",
       "      <td id=\"T_361e0_row2_col2\" class=\"data row2 col2\" >1826</td>\n",
       "      <td id=\"T_361e0_row2_col3\" class=\"data row2 col3\" >1834</td>\n",
       "      <td id=\"T_361e0_row2_col4\" class=\"data row2 col4\" >1857</td>\n",
       "      <td id=\"T_361e0_row2_col5\" class=\"data row2 col5\" >0</td>\n",
       "    </tr>\n",
       "    <tr>\n",
       "      <th id=\"T_361e0_level0_row3\" class=\"row_heading level0 row3\" >9</th>\n",
       "      <td id=\"T_361e0_row3_col0\" class=\"data row3 col0\" >7497</td>\n",
       "      <td id=\"T_361e0_row3_col1\" class=\"data row3 col1\" >6440</td>\n",
       "      <td id=\"T_361e0_row3_col2\" class=\"data row3 col2\" >5186</td>\n",
       "      <td id=\"T_361e0_row3_col3\" class=\"data row3 col3\" >8060</td>\n",
       "      <td id=\"T_361e0_row3_col4\" class=\"data row3 col4\" >7119</td>\n",
       "      <td id=\"T_361e0_row3_col5\" class=\"data row3 col5\" >30</td>\n",
       "    </tr>\n",
       "    <tr>\n",
       "      <th id=\"T_361e0_level0_row4\" class=\"row_heading level0 row4\" >10</th>\n",
       "      <td id=\"T_361e0_row4_col0\" class=\"data row4 col0\" >8872</td>\n",
       "      <td id=\"T_361e0_row4_col1\" class=\"data row4 col1\" >9125</td>\n",
       "      <td id=\"T_361e0_row4_col2\" class=\"data row4 col2\" >7904</td>\n",
       "      <td id=\"T_361e0_row4_col3\" class=\"data row4 col3\" >9321</td>\n",
       "      <td id=\"T_361e0_row4_col4\" class=\"data row4 col4\" >10215</td>\n",
       "      <td id=\"T_361e0_row4_col5\" class=\"data row4 col5\" >3600</td>\n",
       "    </tr>\n",
       "    <tr>\n",
       "      <th id=\"T_361e0_level0_row5\" class=\"row_heading level0 row5\" >11</th>\n",
       "      <td id=\"T_361e0_row5_col0\" class=\"data row5 col0\" >8926</td>\n",
       "      <td id=\"T_361e0_row5_col1\" class=\"data row5 col1\" >10052</td>\n",
       "      <td id=\"T_361e0_row5_col2\" class=\"data row5 col2\" >9973</td>\n",
       "      <td id=\"T_361e0_row5_col3\" class=\"data row5 col3\" >8369</td>\n",
       "      <td id=\"T_361e0_row5_col4\" class=\"data row5 col4\" >9589</td>\n",
       "      <td id=\"T_361e0_row5_col5\" class=\"data row5 col5\" >10765</td>\n",
       "    </tr>\n",
       "    <tr>\n",
       "      <th id=\"T_361e0_level0_row6\" class=\"row_heading level0 row6\" >12</th>\n",
       "      <td id=\"T_361e0_row6_col0\" class=\"data row6 col0\" >11801</td>\n",
       "      <td id=\"T_361e0_row6_col1\" class=\"data row6 col1\" >14327</td>\n",
       "      <td id=\"T_361e0_row6_col2\" class=\"data row6 col2\" >14527</td>\n",
       "      <td id=\"T_361e0_row6_col3\" class=\"data row6 col3\" >13485</td>\n",
       "      <td id=\"T_361e0_row6_col4\" class=\"data row6 col4\" >10942</td>\n",
       "      <td id=\"T_361e0_row6_col5\" class=\"data row6 col5\" >13627</td>\n",
       "    </tr>\n",
       "    <tr>\n",
       "      <th id=\"T_361e0_level0_row7\" class=\"row_heading level0 row7\" >13</th>\n",
       "      <td id=\"T_361e0_row7_col0\" class=\"data row7 col0\" >12756</td>\n",
       "      <td id=\"T_361e0_row7_col1\" class=\"data row7 col1\" >12619</td>\n",
       "      <td id=\"T_361e0_row7_col2\" class=\"data row7 col2\" >11901</td>\n",
       "      <td id=\"T_361e0_row7_col3\" class=\"data row7 col3\" >12428</td>\n",
       "      <td id=\"T_361e0_row7_col4\" class=\"data row7 col4\" >10488</td>\n",
       "      <td id=\"T_361e0_row7_col5\" class=\"data row7 col5\" >12067</td>\n",
       "    </tr>\n",
       "    <tr>\n",
       "      <th id=\"T_361e0_level0_row8\" class=\"row_heading level0 row8\" >14</th>\n",
       "      <td id=\"T_361e0_row8_col0\" class=\"data row8 col0\" >11502</td>\n",
       "      <td id=\"T_361e0_row8_col1\" class=\"data row8 col1\" >11656</td>\n",
       "      <td id=\"T_361e0_row8_col2\" class=\"data row8 col2\" >11006</td>\n",
       "      <td id=\"T_361e0_row8_col3\" class=\"data row8 col3\" >11518</td>\n",
       "      <td id=\"T_361e0_row8_col4\" class=\"data row8 col4\" >11737</td>\n",
       "      <td id=\"T_361e0_row8_col5\" class=\"data row8 col5\" >10052</td>\n",
       "    </tr>\n",
       "    <tr>\n",
       "      <th id=\"T_361e0_level0_row9\" class=\"row_heading level0 row9\" >15</th>\n",
       "      <td id=\"T_361e0_row9_col0\" class=\"data row9 col0\" >13977</td>\n",
       "      <td id=\"T_361e0_row9_col1\" class=\"data row9 col1\" >16017</td>\n",
       "      <td id=\"T_361e0_row9_col2\" class=\"data row9 col2\" >16510</td>\n",
       "      <td id=\"T_361e0_row9_col3\" class=\"data row9 col3\" >11830</td>\n",
       "      <td id=\"T_361e0_row9_col4\" class=\"data row9 col4\" >9043</td>\n",
       "      <td id=\"T_361e0_row9_col5\" class=\"data row9 col5\" >10142</td>\n",
       "    </tr>\n",
       "    <tr>\n",
       "      <th id=\"T_361e0_level0_row10\" class=\"row_heading level0 row10\" >16</th>\n",
       "      <td id=\"T_361e0_row10_col0\" class=\"data row10 col0\" >9529</td>\n",
       "      <td id=\"T_361e0_row10_col1\" class=\"data row10 col1\" >11924</td>\n",
       "      <td id=\"T_361e0_row10_col2\" class=\"data row10 col2\" >10768</td>\n",
       "      <td id=\"T_361e0_row10_col3\" class=\"data row10 col3\" >11765</td>\n",
       "      <td id=\"T_361e0_row10_col4\" class=\"data row10 col4\" >6438</td>\n",
       "      <td id=\"T_361e0_row10_col5\" class=\"data row10 col5\" >4092</td>\n",
       "    </tr>\n",
       "    <tr>\n",
       "      <th id=\"T_361e0_level0_row11\" class=\"row_heading level0 row11\" >17</th>\n",
       "      <td id=\"T_361e0_row11_col0\" class=\"data row11 col0\" >8136</td>\n",
       "      <td id=\"T_361e0_row11_col1\" class=\"data row11 col1\" >5746</td>\n",
       "      <td id=\"T_361e0_row11_col2\" class=\"data row11 col2\" >4849</td>\n",
       "      <td id=\"T_361e0_row11_col3\" class=\"data row11 col3\" >5257</td>\n",
       "      <td id=\"T_361e0_row11_col4\" class=\"data row11 col4\" >4521</td>\n",
       "      <td id=\"T_361e0_row11_col5\" class=\"data row11 col5\" >0</td>\n",
       "    </tr>\n",
       "    <tr>\n",
       "      <th id=\"T_361e0_level0_row12\" class=\"row_heading level0 row12\" >18</th>\n",
       "      <td id=\"T_361e0_row12_col0\" class=\"data row12 col0\" >413</td>\n",
       "      <td id=\"T_361e0_row12_col1\" class=\"data row12 col1\" >2086</td>\n",
       "      <td id=\"T_361e0_row12_col2\" class=\"data row12 col2\" >23</td>\n",
       "      <td id=\"T_361e0_row12_col3\" class=\"data row12 col3\" >5439</td>\n",
       "      <td id=\"T_361e0_row12_col4\" class=\"data row12 col4\" >13</td>\n",
       "      <td id=\"T_361e0_row12_col5\" class=\"data row12 col5\" >0</td>\n",
       "    </tr>\n",
       "    <tr>\n",
       "      <th id=\"T_361e0_level0_row13\" class=\"row_heading level0 row13\" >19</th>\n",
       "      <td id=\"T_361e0_row13_col0\" class=\"data row13 col0\" >0</td>\n",
       "      <td id=\"T_361e0_row13_col1\" class=\"data row13 col1\" >0</td>\n",
       "      <td id=\"T_361e0_row13_col2\" class=\"data row13 col2\" >15</td>\n",
       "      <td id=\"T_361e0_row13_col3\" class=\"data row13 col3\" >3601</td>\n",
       "      <td id=\"T_361e0_row13_col4\" class=\"data row13 col4\" >89</td>\n",
       "      <td id=\"T_361e0_row13_col5\" class=\"data row13 col5\" >0</td>\n",
       "    </tr>\n",
       "    <tr>\n",
       "      <th id=\"T_361e0_level0_row14\" class=\"row_heading level0 row14\" >20</th>\n",
       "      <td id=\"T_361e0_row14_col0\" class=\"data row14 col0\" >0</td>\n",
       "      <td id=\"T_361e0_row14_col1\" class=\"data row14 col1\" >0</td>\n",
       "      <td id=\"T_361e0_row14_col2\" class=\"data row14 col2\" >18</td>\n",
       "      <td id=\"T_361e0_row14_col3\" class=\"data row14 col3\" >845</td>\n",
       "      <td id=\"T_361e0_row14_col4\" class=\"data row14 col4\" >8</td>\n",
       "      <td id=\"T_361e0_row14_col5\" class=\"data row14 col5\" >0</td>\n",
       "    </tr>\n",
       "  </tbody>\n",
       "</table>\n"
      ],
      "text/plain": [
       "<pandas.io.formats.style.Styler at 0x7fbc8d669ad0>"
      ]
     },
     "execution_count": 50,
     "metadata": {},
     "output_type": "execute_result"
    }
   ],
   "source": [
    "# 리스트컴프리헨션(List comprehension)을 통해 토요일을 제외한 \n",
    "# \"월화수목금일\"요일 문자열을 리스트를 컬럼명으로 대체합니다.\n",
    "# 위에서 구한 값을 .style.background_gradient() 통해서 시각화합니다.\n",
    "# order_hour_dow\n",
    "\n",
    "order_hour_dow.columns = [w for w in \"월화수목금일\"]\n",
    "order_hour_dow.style.background_gradient()"
   ]
  },
  {
   "cell_type": "code",
   "execution_count": 54,
   "metadata": {
    "colab": {
     "base_uri": "https://localhost:8080/",
     "height": 298
    },
    "executionInfo": {
     "elapsed": 13,
     "status": "ok",
     "timestamp": 1634789350818,
     "user": {
      "displayName": "JINY ROH",
      "photoUrl": "https://lh3.googleusercontent.com/a-/AOh14Gi7VIzxUnr7MUJE9Bupl4bkwgEAsz4e1gsgrYIPZw=s64",
      "userId": "06348894780083418282"
     },
     "user_tz": -540
    },
    "id": "YU1ofas-VUqP",
    "outputId": "83656899-4ae7-442e-a92d-03a99b4dc67e"
   },
   "outputs": [
    {
     "data": {
      "text/plain": [
       "<AxesSubplot:xlabel='InvoiceHour'>"
      ]
     },
     "execution_count": 54,
     "metadata": {},
     "output_type": "execute_result"
    },
    {
     "data": {
      "image/png": "[encoded data removed]",
      "text/plain": [
       "<Figure size 864x216 with 1 Axes>"
      ]
     },
     "metadata": {
      "needs_background": "light"
     },
     "output_type": "display_data"
    }
   ],
   "source": [
    "# 시간별_요열별 구매 주문( order_hour_dow )을 시각화합니다.\n",
    "order_hour_dow.plot(figsize=(12, 3))"
   ]
  },
  {
   "cell_type": "code",
   "execution_count": 55,
   "metadata": {
    "colab": {
     "base_uri": "https://localhost:8080/",
     "height": 458
    },
    "executionInfo": {
     "elapsed": 1934,
     "status": "ok",
     "timestamp": 1634789352743,
     "user": {
      "displayName": "JINY ROH",
      "photoUrl": "https://lh3.googleusercontent.com/a-/AOh14Gi7VIzxUnr7MUJE9Bupl4bkwgEAsz4e1gsgrYIPZw=s64",
      "userId": "06348894780083418282"
     },
     "user_tz": -540
    },
    "id": "0Yfzh3qdVUqQ",
    "outputId": "0ae91fa5-f2b5-4d67-97b4-fcc6e5b83c0d"
   },
   "outputs": [
    {
     "data": {
      "image/png": "[encoded data removed]",
      "text/plain": [
       "<Figure size 864x432 with 6 Axes>"
      ]
     },
     "metadata": {
      "needs_background": "light"
     },
     "output_type": "display_data"
    }
   ],
   "source": [
    "# 시간별_요열별 구매 주문( order_hour_dow )을 subplot을 통해 요일별 시각화합니다.\n",
    "\n",
    "_ = order_hour_dow.plot.area(figsize=(12, 6), subplots=True)"
   ]
  },
  {
   "cell_type": "code",
   "execution_count": 56,
   "metadata": {
    "colab": {
     "base_uri": "https://localhost:8080/",
     "height": 502
    },
    "executionInfo": {
     "elapsed": 732,
     "status": "ok",
     "timestamp": 1634789353469,
     "user": {
      "displayName": "JINY ROH",
      "photoUrl": "https://lh3.googleusercontent.com/a-/AOh14Gi7VIzxUnr7MUJE9Bupl4bkwgEAsz4e1gsgrYIPZw=s64",
      "userId": "06348894780083418282"
     },
     "user_tz": -540
    },
    "id": "qZdWYtTBVUqQ",
    "outputId": "b11dbe8e-6471-40c0-ffb2-98e096160c3b"
   },
   "outputs": [
    {
     "data": {
      "text/plain": [
       "<AxesSubplot:ylabel='InvoiceHour'>"
      ]
     },
     "execution_count": 56,
     "metadata": {},
     "output_type": "execute_result"
    },
    {
     "data": {
      "image/png": "[encoded data removed]",
      "text/plain": [
       "<Figure size 864x576 with 2 Axes>"
      ]
     },
     "metadata": {
      "needs_background": "light"
     },
     "output_type": "display_data"
    }
   ],
   "source": [
    "# 시간별_요열별 구매 주문( order_hour_dow )을 heatmap을 통해 구매 빈도수를 시각화합니다.\n",
    "plt.figure(figsize=(12, 8))\n",
    "sns.heatmap(order_hour_dow, annot=True, fmt=',.0f',cmap=\"Blues\")"
   ]
  },
  {
   "cell_type": "markdown",
   "metadata": {
    "id": "CnzPBth_VUqR"
   },
   "source": [
    "### 시간대 빈도수"
   ]
  },
  {
   "cell_type": "code",
   "execution_count": 57,
   "metadata": {
    "colab": {
     "base_uri": "https://localhost:8080/",
     "height": 298
    },
    "executionInfo": {
     "elapsed": 678,
     "status": "ok",
     "timestamp": 1634789354142,
     "user": {
      "displayName": "JINY ROH",
      "photoUrl": "https://lh3.googleusercontent.com/a-/AOh14Gi7VIzxUnr7MUJE9Bupl4bkwgEAsz4e1gsgrYIPZw=s64",
      "userId": "06348894780083418282"
     },
     "user_tz": -540
    },
    "id": "yXpnGPBEVUqR",
    "outputId": "8cf7ae41-0dcf-4f32-9b9e-83f1103244dd"
   },
   "outputs": [
    {
     "data": {
      "text/plain": [
       "<AxesSubplot:xlabel='InvoiceHour', ylabel='count'>"
      ]
     },
     "execution_count": 57,
     "metadata": {},
     "output_type": "execute_result"
    },
    {
     "data": {
      "image/png": "[encoded data removed]",
      "text/plain": [
       "<Figure size 864x288 with 1 Axes>"
      ]
     },
     "metadata": {
      "needs_background": "light"
     },
     "output_type": "display_data"
    }
   ],
   "source": [
    "# countplot으로 시간대( InvoiceHour ) 구매 빈도수를 시각화합니다.\n",
    "plt.figure(figsize=(12, 4))\n",
    "sns.countplot(data=df, x=\"InvoiceHour\")"
   ]
  },
  {
   "cell_type": "markdown",
   "metadata": {},
   "source": [
    "## 유효한 데이터만 추출\n",
    "```python\n",
    "\n",
    "df_valid = df[df[\"CustomerID\"].notnull() & (df[\"Quantity\"] > 0) & (df[\"UnitPrice\"] > 0)]\n",
    "df_valid = df_valid.drop_duplicates()\n",
    "df_valid.shape\n",
    "```"
   ]
  },
  {
   "cell_type": "code",
   "execution_count": 65,
   "metadata": {
    "colab": {
     "base_uri": "https://localhost:8080/",
     "height": 911
    },
    "executionInfo": {
     "elapsed": 334,
     "status": "ok",
     "timestamp": 1634789354905,
     "user": {
      "displayName": "JINY ROH",
      "photoUrl": "https://lh3.googleusercontent.com/a-/AOh14Gi7VIzxUnr7MUJE9Bupl4bkwgEAsz4e1gsgrYIPZw=s64",
      "userId": "06348894780083418282"
     },
     "user_tz": -540
    },
    "id": "UkxMnfspVUqc",
    "outputId": "fdba401d-fae8-4b2f-aa31-84cbbf5f550d"
   },
   "outputs": [
    {
     "name": "stdout",
     "output_type": "stream",
     "text": [
      "(541909, 17)\n"
     ]
    },
    {
     "data": {
      "text/plain": [
       "(397884, 17)"
      ]
     },
     "execution_count": 65,
     "metadata": {},
     "output_type": "execute_result"
    }
   ],
   "source": [
    "# \"CustomerID\" 가 있고(notnull) \"Quantity\", \"UnitPrice\" 가 0보다 큰 데이터를 가져옵니다.\n",
    "# 구매하고 취소한 건 중 취소한 건만 제외하고 구매 건은 남깁니다.\n",
    "# 유효한 데이터를 df_valid 변수에 할당합니다.\n",
    "print(df.shape)\n",
    "df_valid = df[(df[\"CustomerID\"].notnull()) &\n",
    "              (df[\"Quantity\"] > 0) &\n",
    "              (df[\"UnitPrice\"] > 0)]\n",
    "df_valid.shape"
   ]
  },
  {
   "cell_type": "code",
   "execution_count": 66,
   "metadata": {
    "colab": {
     "base_uri": "https://localhost:8080/",
     "height": 911
    },
    "executionInfo": {
     "elapsed": 8,
     "status": "ok",
     "timestamp": 1634789354906,
     "user": {
      "displayName": "JINY ROH",
      "photoUrl": "https://lh3.googleusercontent.com/a-/AOh14Gi7VIzxUnr7MUJE9Bupl4bkwgEAsz4e1gsgrYIPZw=s64",
      "userId": "06348894780083418282"
     },
     "user_tz": -540
    },
    "id": "dUSmXEq_1BXf",
    "outputId": "1a4f35cb-c23a-485b-9c4f-8c0ef6f071cc"
   },
   "outputs": [
    {
     "data": {
      "text/plain": [
       "(392692, 17)"
      ]
     },
     "execution_count": 66,
     "metadata": {},
     "output_type": "execute_result"
    }
   ],
   "source": [
    "# 고객ID가 없는 건도 제거하여 df_valid 변수에 할당합니다.\n",
    "# 중복 데이터 제거\n",
    "df_valid = df_valid.drop_duplicates()\n",
    "df_valid.shape"
   ]
  },
  {
   "cell_type": "markdown",
   "metadata": {
    "id": "tZRUYNdmVUqc"
   },
   "source": [
    "## 고객"
   ]
  },
  {
   "cell_type": "code",
   "execution_count": 67,
   "metadata": {
    "colab": {
     "base_uri": "https://localhost:8080/"
    },
    "executionInfo": {
     "elapsed": 319,
     "status": "ok",
     "timestamp": 1634789355218,
     "user": {
      "displayName": "JINY ROH",
      "photoUrl": "https://lh3.googleusercontent.com/a-/AOh14Gi7VIzxUnr7MUJE9Bupl4bkwgEAsz4e1gsgrYIPZw=s64",
      "userId": "06348894780083418282"
     },
     "user_tz": -540
    },
    "id": "2LqFRCJKVUqd",
    "outputId": "9a3bd4d8-8ab9-4372-ba84-0ce1ce905c01"
   },
   "outputs": [
    {
     "data": {
      "text/plain": [
       "CustomerID\n",
       "12346.0      1\n",
       "12347.0    182\n",
       "12348.0     31\n",
       "12349.0     73\n",
       "12350.0     17\n",
       "          ... \n",
       "18280.0     10\n",
       "18281.0      7\n",
       "18282.0     12\n",
       "18283.0    721\n",
       "18287.0     70\n",
       "Name: InvoiceNo, Length: 4338, dtype: int64"
      ]
     },
     "execution_count": 67,
     "metadata": {},
     "output_type": "execute_result"
    }
   ],
   "source": [
    "# df_valid(유효고객, 유효주문) 내 고객별( CustomerID ) 구매( InvoiceNo ) 빈도수를 구합니다.\n",
    "cust_count = df_valid.groupby(\"CustomerID\")[\"InvoiceNo\"].count()\n",
    "cust_count"
   ]
  },
  {
   "cell_type": "code",
   "execution_count": 68,
   "metadata": {
    "colab": {
     "base_uri": "https://localhost:8080/"
    },
    "executionInfo": {
     "elapsed": 13,
     "status": "ok",
     "timestamp": 1634789355219,
     "user": {
      "displayName": "JINY ROH",
      "photoUrl": "https://lh3.googleusercontent.com/a-/AOh14Gi7VIzxUnr7MUJE9Bupl4bkwgEAsz4e1gsgrYIPZw=s64",
      "userId": "06348894780083418282"
     },
     "user_tz": -540
    },
    "id": "Yijqdf-AVUqd",
    "outputId": "8d113d3e-280e-4e8c-8a69-2f13638968e9",
    "scrolled": true
   },
   "outputs": [
    {
     "data": {
      "text/plain": [
       "count    4338.000000\n",
       "mean       90.523744\n",
       "std       225.506968\n",
       "min         1.000000\n",
       "25%        17.000000\n",
       "50%        41.000000\n",
       "75%        98.000000\n",
       "max      7676.000000\n",
       "Name: InvoiceNo, dtype: float64"
      ]
     },
     "execution_count": 68,
     "metadata": {},
     "output_type": "execute_result"
    }
   ],
   "source": [
    "# 고객별( CustomerID ) 구매( InvoiceNo ) 빈도수의 기술통계 값을 확인합니다.\n",
    "cust_count.describe()"
   ]
  },
  {
   "cell_type": "code",
   "execution_count": 69,
   "metadata": {
    "colab": {
     "base_uri": "https://localhost:8080/",
     "height": 455
    },
    "executionInfo": {
     "elapsed": 11,
     "status": "ok",
     "timestamp": 1634789355220,
     "user": {
      "displayName": "JINY ROH",
      "photoUrl": "https://lh3.googleusercontent.com/a-/AOh14Gi7VIzxUnr7MUJE9Bupl4bkwgEAsz4e1gsgrYIPZw=s64",
      "userId": "06348894780083418282"
     },
     "user_tz": -540
    },
    "id": "GQjvC0xmVUqe",
    "outputId": "600e3607-6df9-4fa6-9cbf-b15456842135"
   },
   "outputs": [
    {
     "data": {
      "text/html": [
       "<div>\n",
       "<style scoped>\n",
       "    .dataframe tbody tr th:only-of-type {\n",
       "        vertical-align: middle;\n",
       "    }\n",
       "\n",
       "    .dataframe tbody tr th {\n",
       "        vertical-align: top;\n",
       "    }\n",
       "\n",
       "    .dataframe thead th {\n",
       "        text-align: right;\n",
       "    }\n",
       "</style>\n",
       "<table border=\"1\" class=\"dataframe\">\n",
       "  <thead>\n",
       "    <tr style=\"text-align: right;\">\n",
       "      <th></th>\n",
       "      <th>count</th>\n",
       "    </tr>\n",
       "    <tr>\n",
       "      <th>CustomerID</th>\n",
       "      <th></th>\n",
       "    </tr>\n",
       "  </thead>\n",
       "  <tbody>\n",
       "    <tr>\n",
       "      <th>12346.0</th>\n",
       "      <td>1</td>\n",
       "    </tr>\n",
       "    <tr>\n",
       "      <th>12347.0</th>\n",
       "      <td>182</td>\n",
       "    </tr>\n",
       "    <tr>\n",
       "      <th>12348.0</th>\n",
       "      <td>31</td>\n",
       "    </tr>\n",
       "    <tr>\n",
       "      <th>12349.0</th>\n",
       "      <td>73</td>\n",
       "    </tr>\n",
       "    <tr>\n",
       "      <th>12350.0</th>\n",
       "      <td>17</td>\n",
       "    </tr>\n",
       "    <tr>\n",
       "      <th>...</th>\n",
       "      <td>...</td>\n",
       "    </tr>\n",
       "    <tr>\n",
       "      <th>18280.0</th>\n",
       "      <td>10</td>\n",
       "    </tr>\n",
       "    <tr>\n",
       "      <th>18281.0</th>\n",
       "      <td>7</td>\n",
       "    </tr>\n",
       "    <tr>\n",
       "      <th>18282.0</th>\n",
       "      <td>12</td>\n",
       "    </tr>\n",
       "    <tr>\n",
       "      <th>18283.0</th>\n",
       "      <td>721</td>\n",
       "    </tr>\n",
       "    <tr>\n",
       "      <th>18287.0</th>\n",
       "      <td>70</td>\n",
       "    </tr>\n",
       "  </tbody>\n",
       "</table>\n",
       "<p>4338 rows × 1 columns</p>\n",
       "</div>"
      ],
      "text/plain": [
       "            count\n",
       "CustomerID       \n",
       "12346.0         1\n",
       "12347.0       182\n",
       "12348.0        31\n",
       "12349.0        73\n",
       "12350.0        17\n",
       "...           ...\n",
       "18280.0        10\n",
       "18281.0         7\n",
       "18282.0        12\n",
       "18283.0       721\n",
       "18287.0        70\n",
       "\n",
       "[4338 rows x 1 columns]"
      ]
     },
     "execution_count": 69,
     "metadata": {},
     "output_type": "execute_result"
    }
   ],
   "source": [
    "# cust_count.to_frame(name=\"count\") 으로 데이터 타입을 Series에서 Dataframe으로 변환합니다.\n",
    "df_cust_count = cust_count.to_frame(name=\"count\")\n",
    "df_cust_count"
   ]
  },
  {
   "cell_type": "code",
   "execution_count": 70,
   "metadata": {},
   "outputs": [
    {
     "data": {
      "text/plain": [
       "array([[<AxesSubplot:title={'center':'count'}>]], dtype=object)"
      ]
     },
     "execution_count": 70,
     "metadata": {},
     "output_type": "execute_result"
    },
    {
     "data": {
      "image/png": "[encoded data removed]",
      "text/plain": [
       "<Figure size 432x288 with 1 Axes>"
      ]
     },
     "metadata": {
      "needs_background": "light"
     },
     "output_type": "display_data"
    }
   ],
   "source": [
    "df_cust_count.hist(bins=50)"
   ]
  },
  {
   "cell_type": "code",
   "execution_count": 71,
   "metadata": {
    "colab": {
     "base_uri": "https://localhost:8080/",
     "height": 284
    },
    "executionInfo": {
     "elapsed": 10,
     "status": "ok",
     "timestamp": 1634789355220,
     "user": {
      "displayName": "JINY ROH",
      "photoUrl": "https://lh3.googleusercontent.com/a-/AOh14Gi7VIzxUnr7MUJE9Bupl4bkwgEAsz4e1gsgrYIPZw=s64",
      "userId": "06348894780083418282"
     },
     "user_tz": -540
    },
    "id": "YZzKbOFCVUqf",
    "outputId": "227f3111-88cc-40f3-bc4c-c6d14c209e74",
    "scrolled": true
   },
   "outputs": [
    {
     "data": {
      "text/plain": [
       "<AxesSubplot:>"
      ]
     },
     "execution_count": 71,
     "metadata": {},
     "output_type": "execute_result"
    },
    {
     "data": {
      "image/png": "[encoded data removed]",
      "text/plain": [
       "<Figure size 432x288 with 1 Axes>"
      ]
     },
     "metadata": {
      "needs_background": "light"
     },
     "output_type": "display_data"
    }
   ],
   "source": [
    "# df_cust_count 를 violinplot 으로 시각화합니다.\n",
    "sns.violinplot(data=df_cust_count)"
   ]
  },
  {
   "cell_type": "markdown",
   "metadata": {
    "id": "_fBp-TimVUqf"
   },
   "source": [
    "## 월단위 데이터 전처리"
   ]
  },
  {
   "cell_type": "code",
   "execution_count": 72,
   "metadata": {
    "id": "NiKg56-UVUqg"
   },
   "outputs": [],
   "source": [
    "# get_month_day1() 함수를 통해 \" 연도-월-1 \" 형식으로 만듭니다.\n",
    "# 일자를 \" 1 \"로 통일화한 이유는 월별 잔존률을 구하기 위해서 입니다.(월 단위)\n",
    "def get_month_day1(x): \n",
    "    return dt.datetime(x.year, x.month, 1)"
   ]
  },
  {
   "cell_type": "markdown",
   "metadata": {},
   "source": [
    "```python\n",
    "df_valid[\"InvoiceDate1\"] = df_valid[\"InvoiceDate\"].map(get_month_day1)\n",
    "```"
   ]
  },
  {
   "cell_type": "code",
   "execution_count": 74,
   "metadata": {
    "id": "nM00s5M8VUqg"
   },
   "outputs": [
    {
     "data": {
      "text/html": [
       "<div>\n",
       "<style scoped>\n",
       "    .dataframe tbody tr th:only-of-type {\n",
       "        vertical-align: middle;\n",
       "    }\n",
       "\n",
       "    .dataframe tbody tr th {\n",
       "        vertical-align: top;\n",
       "    }\n",
       "\n",
       "    .dataframe thead th {\n",
       "        text-align: right;\n",
       "    }\n",
       "</style>\n",
       "<table border=\"1\" class=\"dataframe\">\n",
       "  <thead>\n",
       "    <tr style=\"text-align: right;\">\n",
       "      <th></th>\n",
       "      <th>InvoiceDate</th>\n",
       "      <th>InvoiceDate1</th>\n",
       "    </tr>\n",
       "  </thead>\n",
       "  <tbody>\n",
       "    <tr>\n",
       "      <th>397363</th>\n",
       "      <td>2011-10-14 11:08:00</td>\n",
       "      <td>2011-10-01</td>\n",
       "    </tr>\n",
       "    <tr>\n",
       "      <th>182963</th>\n",
       "      <td>2011-05-10 12:55:00</td>\n",
       "      <td>2011-05-01</td>\n",
       "    </tr>\n",
       "    <tr>\n",
       "      <th>270721</th>\n",
       "      <td>2011-07-19 15:23:00</td>\n",
       "      <td>2011-07-01</td>\n",
       "    </tr>\n",
       "    <tr>\n",
       "      <th>144734</th>\n",
       "      <td>2011-04-04 12:42:00</td>\n",
       "      <td>2011-04-01</td>\n",
       "    </tr>\n",
       "    <tr>\n",
       "      <th>95217</th>\n",
       "      <td>2011-02-20 12:23:00</td>\n",
       "      <td>2011-02-01</td>\n",
       "    </tr>\n",
       "  </tbody>\n",
       "</table>\n",
       "</div>"
      ],
      "text/plain": [
       "               InvoiceDate InvoiceDate1\n",
       "397363 2011-10-14 11:08:00   2011-10-01\n",
       "182963 2011-05-10 12:55:00   2011-05-01\n",
       "270721 2011-07-19 15:23:00   2011-07-01\n",
       "144734 2011-04-04 12:42:00   2011-04-01\n",
       "95217  2011-02-20 12:23:00   2011-02-01"
      ]
     },
     "execution_count": 74,
     "metadata": {},
     "output_type": "execute_result"
    }
   ],
   "source": [
    "# map() 함수를 통해 get_month_day1() 함수를 df_valid(유효고객, 유효주문)에 일괄 적용합니다.\n",
    "# \" 연도-월-1 \"로 표기가 통일된 InvoiceDate1 이라는 파생변수를 생성합니다.\n",
    "df_valid[\"InvoiceDate1\"] = df_valid[\"InvoiceDate\"].map(get_month_day1)\n",
    "df_valid[[\"InvoiceDate\", \"InvoiceDate1\"]].sample(5)"
   ]
  },
  {
   "cell_type": "code",
   "execution_count": 75,
   "metadata": {
    "colab": {
     "base_uri": "https://localhost:8080/"
    },
    "executionInfo": {
     "elapsed": 9,
     "status": "ok",
     "timestamp": 1634789357432,
     "user": {
      "displayName": "JINY ROH",
      "photoUrl": "https://lh3.googleusercontent.com/a-/AOh14Gi7VIzxUnr7MUJE9Bupl4bkwgEAsz4e1gsgrYIPZw=s64",
      "userId": "06348894780083418282"
     },
     "user_tz": -540
    },
    "id": "wGjB_hCIVUqg",
    "outputId": "74cce784-822a-499d-ab71-9dae2f5ecaa9"
   },
   "outputs": [
    {
     "data": {
      "text/plain": [
       "0        2010-12-01\n",
       "1        2010-12-01\n",
       "2        2010-12-01\n",
       "3        2010-12-01\n",
       "4        2010-12-01\n",
       "            ...    \n",
       "541904   2011-08-01\n",
       "541905   2011-08-01\n",
       "541906   2011-08-01\n",
       "541907   2011-08-01\n",
       "541908   2011-08-01\n",
       "Name: InvoiceDate1, Length: 392692, dtype: datetime64[ns]"
      ]
     },
     "execution_count": 75,
     "metadata": {},
     "output_type": "execute_result"
    }
   ],
   "source": [
    "# InvoiceDdf_valid[\"InvoiceDate1\"]을 구합니다.\n",
    "df_valid.groupby(\"CustomerID\")[\"InvoiceDate1\"].transform(\"min\")"
   ]
  },
  {
   "cell_type": "markdown",
   "metadata": {},
   "source": [
    "```python\n",
    "df_valid[\"InvoiceDateMin\"] = df_valid.groupby(\"CustomerID\")[\"InvoiceDate1\"].transform(\"min\")\n",
    "```"
   ]
  },
  {
   "cell_type": "code",
   "execution_count": 76,
   "metadata": {
    "id": "87EjZ0a5VUqh"
   },
   "outputs": [
    {
     "data": {
      "text/html": [
       "<div>\n",
       "<style scoped>\n",
       "    .dataframe tbody tr th:only-of-type {\n",
       "        vertical-align: middle;\n",
       "    }\n",
       "\n",
       "    .dataframe tbody tr th {\n",
       "        vertical-align: top;\n",
       "    }\n",
       "\n",
       "    .dataframe thead th {\n",
       "        text-align: right;\n",
       "    }\n",
       "</style>\n",
       "<table border=\"1\" class=\"dataframe\">\n",
       "  <thead>\n",
       "    <tr style=\"text-align: right;\">\n",
       "      <th></th>\n",
       "      <th>InvoiceDate</th>\n",
       "      <th>InvoiceDate1</th>\n",
       "      <th>InvoiceDateMin</th>\n",
       "    </tr>\n",
       "  </thead>\n",
       "  <tbody>\n",
       "    <tr>\n",
       "      <th>101128</th>\n",
       "      <td>2011-02-24 12:41:00</td>\n",
       "      <td>2011-02-01</td>\n",
       "      <td>2011-02-01</td>\n",
       "    </tr>\n",
       "    <tr>\n",
       "      <th>100749</th>\n",
       "      <td>2011-02-24 10:15:00</td>\n",
       "      <td>2011-02-01</td>\n",
       "      <td>2011-02-01</td>\n",
       "    </tr>\n",
       "    <tr>\n",
       "      <th>475682</th>\n",
       "      <td>2011-11-17 09:51:00</td>\n",
       "      <td>2011-11-01</td>\n",
       "      <td>2011-02-01</td>\n",
       "    </tr>\n",
       "    <tr>\n",
       "      <th>407128</th>\n",
       "      <td>2011-10-19 12:35:00</td>\n",
       "      <td>2011-10-01</td>\n",
       "      <td>2010-12-01</td>\n",
       "    </tr>\n",
       "    <tr>\n",
       "      <th>323114</th>\n",
       "      <td>2011-09-02 10:21:00</td>\n",
       "      <td>2011-09-01</td>\n",
       "      <td>2011-01-01</td>\n",
       "    </tr>\n",
       "  </tbody>\n",
       "</table>\n",
       "</div>"
      ],
      "text/plain": [
       "               InvoiceDate InvoiceDate1 InvoiceDateMin\n",
       "101128 2011-02-24 12:41:00   2011-02-01     2011-02-01\n",
       "100749 2011-02-24 10:15:00   2011-02-01     2011-02-01\n",
       "475682 2011-11-17 09:51:00   2011-11-01     2011-02-01\n",
       "407128 2011-10-19 12:35:00   2011-10-01     2010-12-01\n",
       "323114 2011-09-02 10:21:00   2011-09-01     2011-01-01"
      ]
     },
     "execution_count": 76,
     "metadata": {},
     "output_type": "execute_result"
    }
   ],
   "source": [
    "# 최초 구매일( InvoiceDateMin )에 InvoiceDate1의 최솟값을 구하여 할당합니다.\n",
    "# 일자가 \" 1 \"로 통일되어 있어 \" 최근 구매일 - 최초 구매일 \"로 첫 구매 후 몇달 후 구매인지를 알 수 있습니다.\n",
    "df_valid[\"InvoiceDateMin\"] = df_valid.groupby(\"CustomerID\")[\"InvoiceDate1\"].transform(\"min\")\n",
    "\n",
    "df_valid[[\"InvoiceDate\", \"InvoiceDate1\", \"InvoiceDateMin\"]].sample(5)"
   ]
  },
  {
   "cell_type": "markdown",
   "metadata": {},
   "source": [
    "```python\n",
    "year_diff = df_valid[\"InvoiceDate1\"].dt.year - df_valid[\"InvoiceDateMin\"].dt.year\n",
    "month_diff = df_valid[\"InvoiceDate1\"].dt.month - df_valid[\"InvoiceDateMin\"].dt.month\n",
    "```"
   ]
  },
  {
   "cell_type": "code",
   "execution_count": 77,
   "metadata": {
    "id": "QpDiUiQKVUqh"
   },
   "outputs": [],
   "source": [
    "# 연도별 차이(year_diff)와 월별 차이(month_diff)를 구합니다.\n",
    " \n",
    "year_diff = df_valid[\"InvoiceDate1\"].dt.year - df_valid[\"InvoiceDateMin\"].dt.year\n",
    "month_diff = df_valid[\"InvoiceDate1\"].dt.month - df_valid[\"InvoiceDateMin\"].dt.month"
   ]
  },
  {
   "cell_type": "markdown",
   "metadata": {},
   "source": [
    "```python\n",
    "df_valid[\"CohortIndex\"] = year_diff * 12 + month_diff + 1\n",
    "```"
   ]
  },
  {
   "cell_type": "code",
   "execution_count": 81,
   "metadata": {
    "id": "2CqjhHRhVUqh"
   },
   "outputs": [
    {
     "data": {
      "text/html": [
       "<div>\n",
       "<style scoped>\n",
       "    .dataframe tbody tr th:only-of-type {\n",
       "        vertical-align: middle;\n",
       "    }\n",
       "\n",
       "    .dataframe tbody tr th {\n",
       "        vertical-align: top;\n",
       "    }\n",
       "\n",
       "    .dataframe thead th {\n",
       "        text-align: right;\n",
       "    }\n",
       "</style>\n",
       "<table border=\"1\" class=\"dataframe\">\n",
       "  <thead>\n",
       "    <tr style=\"text-align: right;\">\n",
       "      <th></th>\n",
       "      <th>InvoiceDateMin</th>\n",
       "      <th>InvoiceDate1</th>\n",
       "      <th>CohortIndex</th>\n",
       "    </tr>\n",
       "  </thead>\n",
       "  <tbody>\n",
       "    <tr>\n",
       "      <th>460466</th>\n",
       "      <td>2010-12-01</td>\n",
       "      <td>2011-11-01</td>\n",
       "      <td>12</td>\n",
       "    </tr>\n",
       "    <tr>\n",
       "      <th>404609</th>\n",
       "      <td>2011-10-01</td>\n",
       "      <td>2011-10-01</td>\n",
       "      <td>1</td>\n",
       "    </tr>\n",
       "    <tr>\n",
       "      <th>375621</th>\n",
       "      <td>2011-09-01</td>\n",
       "      <td>2011-10-01</td>\n",
       "      <td>2</td>\n",
       "    </tr>\n",
       "    <tr>\n",
       "      <th>40232</th>\n",
       "      <td>2010-12-01</td>\n",
       "      <td>2010-12-01</td>\n",
       "      <td>1</td>\n",
       "    </tr>\n",
       "    <tr>\n",
       "      <th>487904</th>\n",
       "      <td>2011-11-01</td>\n",
       "      <td>2011-11-01</td>\n",
       "      <td>1</td>\n",
       "    </tr>\n",
       "  </tbody>\n",
       "</table>\n",
       "</div>"
      ],
      "text/plain": [
       "       InvoiceDateMin InvoiceDate1  CohortIndex\n",
       "460466     2010-12-01   2011-11-01           12\n",
       "404609     2011-10-01   2011-10-01            1\n",
       "375621     2011-09-01   2011-10-01            2\n",
       "40232      2010-12-01   2010-12-01            1\n",
       "487904     2011-11-01   2011-11-01            1"
      ]
     },
     "execution_count": 81,
     "metadata": {},
     "output_type": "execute_result"
    }
   ],
   "source": [
    "# \" 연도차이 * 12개월 + 월차이 + 1 \"로 첫 구매 후 몇달 후 구매인지 알 수 있도록 CohortIndex 변수를 생성합니다.\n",
    "# 2010-12-01부터 2011-12-01의 데이터를 기반으로 진행되어 CohortIndex 변수의 최솟값은 1이며, 최댓값 13입니다.\n",
    "df_valid[\"CohortIndex\"] = year_diff * 12 + month_diff + 1\n",
    "df_valid[[\"InvoiceDateMin\", \"InvoiceDate1\", \"CohortIndex\"]].sample(5)"
   ]
  },
  {
   "cell_type": "markdown",
   "metadata": {
    "id": "Dzrk-uO5VUqi"
   },
   "source": [
    "### 코호트 월별 빈도수"
   ]
  },
  {
   "cell_type": "code",
   "execution_count": 82,
   "metadata": {
    "colab": {
     "base_uri": "https://localhost:8080/"
    },
    "executionInfo": {
     "elapsed": 15,
     "status": "ok",
     "timestamp": 1634789357990,
     "user": {
      "displayName": "JINY ROH",
      "photoUrl": "https://lh3.googleusercontent.com/a-/AOh14Gi7VIzxUnr7MUJE9Bupl4bkwgEAsz4e1gsgrYIPZw=s64",
      "userId": "06348894780083418282"
     },
     "user_tz": -540
    },
    "id": "cuGdlq1jVUqi",
    "outputId": "850241c5-7e74-472c-e1fd-c9283a9c4f37"
   },
   "outputs": [
    {
     "data": {
      "text/plain": [
       "1     116857\n",
       "2      27516\n",
       "3      26727\n",
       "4      26993\n",
       "5      25165\n",
       "6      26673\n",
       "7      23462\n",
       "8      23298\n",
       "9      22751\n",
       "10     22968\n",
       "11     20098\n",
       "12     23011\n",
       "13      7173\n",
       "Name: CohortIndex, dtype: int64"
      ]
     },
     "execution_count": 82,
     "metadata": {},
     "output_type": "execute_result"
    }
   ],
   "source": [
    "# CohortIndex 값으로 월별 잔존 구매에 대한 빈도수를 구합니다.\n",
    "# 회원가입 후 월별 구매 빈도수를 value_counts 로 구합니다.\n",
    "df_valid[\"CohortIndex\"].value_counts().sort_index()"
   ]
  },
  {
   "cell_type": "code",
   "execution_count": 83,
   "metadata": {
    "colab": {
     "base_uri": "https://localhost:8080/",
     "height": 298
    },
    "executionInfo": {
     "elapsed": 12,
     "status": "ok",
     "timestamp": 1634789357991,
     "user": {
      "displayName": "JINY ROH",
      "photoUrl": "https://lh3.googleusercontent.com/a-/AOh14Gi7VIzxUnr7MUJE9Bupl4bkwgEAsz4e1gsgrYIPZw=s64",
      "userId": "06348894780083418282"
     },
     "user_tz": -540
    },
    "id": "O3yTHc5EVUqi",
    "outputId": "3d00b9d7-f686-4791-fe56-8ad23e8de469"
   },
   "outputs": [
    {
     "data": {
      "text/plain": [
       "<AxesSubplot:xlabel='CohortIndex', ylabel='count'>"
      ]
     },
     "execution_count": 83,
     "metadata": {},
     "output_type": "execute_result"
    },
    {
     "data": {
      "image/png": "[encoded data removed]",
      "text/plain": [
       "<Figure size 864x288 with 1 Axes>"
      ]
     },
     "metadata": {
      "needs_background": "light"
     },
     "output_type": "display_data"
    }
   ],
   "source": [
    "# countplot 으로 CohortIndex 의 빈도수를 시각화합니다.\n",
    "plt.figure(figsize=(12, 4))\n",
    "sns.countplot(data=df_valid, x=\"CohortIndex\")"
   ]
  },
  {
   "cell_type": "markdown",
   "metadata": {
    "id": "pttmLPouVUqk"
   },
   "source": [
    "## 월별, 주문건, 주문제품 종류 수, 중복을 제외한 고객 수, 총 주문금액"
   ]
  },
  {
   "cell_type": "code",
   "execution_count": 84,
   "metadata": {
    "colab": {
     "base_uri": "https://localhost:8080/",
     "height": 318
    },
    "executionInfo": {
     "elapsed": 318,
     "status": "ok",
     "timestamp": 1634789358304,
     "user": {
      "displayName": "JINY ROH",
      "photoUrl": "https://lh3.googleusercontent.com/a-/AOh14Gi7VIzxUnr7MUJE9Bupl4bkwgEAsz4e1gsgrYIPZw=s64",
      "userId": "06348894780083418282"
     },
     "user_tz": -540
    },
    "id": "kaoFCIYHVUqk",
    "outputId": "644076c3-3d1b-4ebc-9cc2-d37af490dab9"
   },
   "outputs": [
    {
     "data": {
      "text/html": [
       "<style type=\"text/css\">\n",
       "</style>\n",
       "<table id=\"T_ec25d_\">\n",
       "  <thead>\n",
       "    <tr>\n",
       "      <th class=\"blank level0\" >&nbsp;</th>\n",
       "      <th class=\"col_heading level0 col0\" >InvoiceNo</th>\n",
       "      <th class=\"col_heading level0 col1\" >StockCode</th>\n",
       "      <th class=\"col_heading level0 col2\" >CustomerID</th>\n",
       "      <th class=\"col_heading level0 col3\" >UnitPrice</th>\n",
       "      <th class=\"col_heading level0 col4\" >Quantity</th>\n",
       "      <th class=\"col_heading level0 col5\" >TotalPrice</th>\n",
       "    </tr>\n",
       "    <tr>\n",
       "      <th class=\"index_name level0\" >InvoiceMonth</th>\n",
       "      <th class=\"blank col0\" >&nbsp;</th>\n",
       "      <th class=\"blank col1\" >&nbsp;</th>\n",
       "      <th class=\"blank col2\" >&nbsp;</th>\n",
       "      <th class=\"blank col3\" >&nbsp;</th>\n",
       "      <th class=\"blank col4\" >&nbsp;</th>\n",
       "      <th class=\"blank col5\" >&nbsp;</th>\n",
       "    </tr>\n",
       "  </thead>\n",
       "  <tbody>\n",
       "    <tr>\n",
       "      <th id=\"T_ec25d_level0_row0\" class=\"row_heading level0 row0\" >1</th>\n",
       "      <td id=\"T_ec25d_row0_col0\" class=\"data row0 col0\" >20,988</td>\n",
       "      <td id=\"T_ec25d_row0_col1\" class=\"data row0 col1\" >2,121</td>\n",
       "      <td id=\"T_ec25d_row0_col2\" class=\"data row0 col2\" >741</td>\n",
       "      <td id=\"T_ec25d_row0_col3\" class=\"data row0 col3\" >66,234.65</td>\n",
       "      <td id=\"T_ec25d_row0_col4\" class=\"data row0 col4\" >348,473</td>\n",
       "      <td id=\"T_ec25d_row0_col5\" class=\"data row0 col5\" >568,101.31</td>\n",
       "    </tr>\n",
       "    <tr>\n",
       "      <th id=\"T_ec25d_level0_row1\" class=\"row_heading level0 row1\" >2</th>\n",
       "      <td id=\"T_ec25d_row1_col0\" class=\"data row1 col0\" >19,706</td>\n",
       "      <td id=\"T_ec25d_row1_col1\" class=\"data row1 col1\" >2,124</td>\n",
       "      <td id=\"T_ec25d_row1_col2\" class=\"data row1 col2\" >758</td>\n",
       "      <td id=\"T_ec25d_row1_col3\" class=\"data row1 col3\" >62,619.48</td>\n",
       "      <td id=\"T_ec25d_row1_col4\" class=\"data row1 col4\" >265,027</td>\n",
       "      <td id=\"T_ec25d_row1_col5\" class=\"data row1 col5\" >446,084.92</td>\n",
       "    </tr>\n",
       "    <tr>\n",
       "      <th id=\"T_ec25d_level0_row2\" class=\"row_heading level0 row2\" >3</th>\n",
       "      <td id=\"T_ec25d_row2_col0\" class=\"data row2 col0\" >26,870</td>\n",
       "      <td id=\"T_ec25d_row2_col1\" class=\"data row2 col1\" >2,234</td>\n",
       "      <td id=\"T_ec25d_row2_col2\" class=\"data row2 col2\" >974</td>\n",
       "      <td id=\"T_ec25d_row2_col3\" class=\"data row2 col3\" >87,864.79</td>\n",
       "      <td id=\"T_ec25d_row2_col4\" class=\"data row2 col4\" >347,582</td>\n",
       "      <td id=\"T_ec25d_row2_col5\" class=\"data row2 col5\" >594,081.76</td>\n",
       "    </tr>\n",
       "    <tr>\n",
       "      <th id=\"T_ec25d_level0_row3\" class=\"row_heading level0 row3\" >4</th>\n",
       "      <td id=\"T_ec25d_row3_col0\" class=\"data row3 col0\" >22,433</td>\n",
       "      <td id=\"T_ec25d_row3_col1\" class=\"data row3 col1\" >2,217</td>\n",
       "      <td id=\"T_ec25d_row3_col2\" class=\"data row3 col2\" >856</td>\n",
       "      <td id=\"T_ec25d_row3_col3\" class=\"data row3 col3\" >78,543.481</td>\n",
       "      <td id=\"T_ec25d_row3_col4\" class=\"data row3 col4\" >291,366</td>\n",
       "      <td id=\"T_ec25d_row3_col5\" class=\"data row3 col5\" >468,374.331</td>\n",
       "    </tr>\n",
       "    <tr>\n",
       "      <th id=\"T_ec25d_level0_row4\" class=\"row_heading level0 row4\" >5</th>\n",
       "      <td id=\"T_ec25d_row4_col0\" class=\"data row4 col0\" >28,073</td>\n",
       "      <td id=\"T_ec25d_row4_col1\" class=\"data row4 col1\" >2,219</td>\n",
       "      <td id=\"T_ec25d_row4_col2\" class=\"data row4 col2\" >1,056</td>\n",
       "      <td id=\"T_ec25d_row4_col3\" class=\"data row4 col3\" >101,500.91</td>\n",
       "      <td id=\"T_ec25d_row4_col4\" class=\"data row4 col4\" >372,864</td>\n",
       "      <td id=\"T_ec25d_row4_col5\" class=\"data row4 col5\" >677,355.15</td>\n",
       "    </tr>\n",
       "    <tr>\n",
       "      <th id=\"T_ec25d_level0_row5\" class=\"row_heading level0 row5\" >6</th>\n",
       "      <td id=\"T_ec25d_row5_col0\" class=\"data row5 col0\" >26,926</td>\n",
       "      <td id=\"T_ec25d_row5_col1\" class=\"data row5 col1\" >2,339</td>\n",
       "      <td id=\"T_ec25d_row5_col2\" class=\"data row5 col2\" >991</td>\n",
       "      <td id=\"T_ec25d_row5_col3\" class=\"data row5 col3\" >84,602.66</td>\n",
       "      <td id=\"T_ec25d_row5_col4\" class=\"data row5 col4\" >363,014</td>\n",
       "      <td id=\"T_ec25d_row5_col5\" class=\"data row5 col5\" >660,046.05</td>\n",
       "    </tr>\n",
       "    <tr>\n",
       "      <th id=\"T_ec25d_level0_row6\" class=\"row_heading level0 row6\" >7</th>\n",
       "      <td id=\"T_ec25d_row6_col0\" class=\"data row6 col0\" >26,580</td>\n",
       "      <td id=\"T_ec25d_row6_col1\" class=\"data row6 col1\" >2,351</td>\n",
       "      <td id=\"T_ec25d_row6_col2\" class=\"data row6 col2\" >949</td>\n",
       "      <td id=\"T_ec25d_row6_col3\" class=\"data row6 col3\" >75,454.521</td>\n",
       "      <td id=\"T_ec25d_row6_col4\" class=\"data row6 col4\" >367,360</td>\n",
       "      <td id=\"T_ec25d_row6_col5\" class=\"data row6 col5\" >598,962.901</td>\n",
       "    </tr>\n",
       "    <tr>\n",
       "      <th id=\"T_ec25d_level0_row7\" class=\"row_heading level0 row7\" >8</th>\n",
       "      <td id=\"T_ec25d_row7_col0\" class=\"data row7 col0\" >26,790</td>\n",
       "      <td id=\"T_ec25d_row7_col1\" class=\"data row7 col1\" >2,356</td>\n",
       "      <td id=\"T_ec25d_row7_col2\" class=\"data row7 col2\" >935</td>\n",
       "      <td id=\"T_ec25d_row7_col3\" class=\"data row7 col3\" >78,877.09</td>\n",
       "      <td id=\"T_ec25d_row7_col4\" class=\"data row7 col4\" >397,373</td>\n",
       "      <td id=\"T_ec25d_row7_col5\" class=\"data row7 col5\" >644,051.04</td>\n",
       "    </tr>\n",
       "    <tr>\n",
       "      <th id=\"T_ec25d_level0_row8\" class=\"row_heading level0 row8\" >9</th>\n",
       "      <td id=\"T_ec25d_row8_col0\" class=\"data row8 col0\" >39,669</td>\n",
       "      <td id=\"T_ec25d_row8_col1\" class=\"data row8 col1\" >2,545</td>\n",
       "      <td id=\"T_ec25d_row8_col2\" class=\"data row8 col2\" >1,266</td>\n",
       "      <td id=\"T_ec25d_row8_col3\" class=\"data row8 col3\" >118,160.322</td>\n",
       "      <td id=\"T_ec25d_row8_col4\" class=\"data row8 col4\" >543,652</td>\n",
       "      <td id=\"T_ec25d_row8_col5\" class=\"data row8 col5\" >950,690.202</td>\n",
       "    </tr>\n",
       "    <tr>\n",
       "      <th id=\"T_ec25d_level0_row9\" class=\"row_heading level0 row9\" >10</th>\n",
       "      <td id=\"T_ec25d_row9_col0\" class=\"data row9 col0\" >48,793</td>\n",
       "      <td id=\"T_ec25d_row9_col1\" class=\"data row9 col1\" >2,622</td>\n",
       "      <td id=\"T_ec25d_row9_col2\" class=\"data row9 col2\" >1,364</td>\n",
       "      <td id=\"T_ec25d_row9_col3\" class=\"data row9 col3\" >164,084.09</td>\n",
       "      <td id=\"T_ec25d_row9_col4\" class=\"data row9 col4\" >591,543</td>\n",
       "      <td id=\"T_ec25d_row9_col5\" class=\"data row9 col5\" >1,035,642.45</td>\n",
       "    </tr>\n",
       "    <tr>\n",
       "      <th id=\"T_ec25d_level0_row10\" class=\"row_heading level0 row10\" >11</th>\n",
       "      <td id=\"T_ec25d_row10_col0\" class=\"data row10 col0\" >63,168</td>\n",
       "      <td id=\"T_ec25d_row10_col1\" class=\"data row10 col1\" >2,695</td>\n",
       "      <td id=\"T_ec25d_row10_col2\" class=\"data row10 col2\" >1,664</td>\n",
       "      <td id=\"T_ec25d_row10_col3\" class=\"data row10 col3\" >182,340.09</td>\n",
       "      <td id=\"T_ec25d_row10_col4\" class=\"data row10 col4\" >665,923</td>\n",
       "      <td id=\"T_ec25d_row10_col5\" class=\"data row10 col5\" >1,156,205.61</td>\n",
       "    </tr>\n",
       "    <tr>\n",
       "      <th id=\"T_ec25d_level0_row11\" class=\"row_heading level0 row11\" >12</th>\n",
       "      <td id=\"T_ec25d_row11_col0\" class=\"data row11 col0\" >42,696</td>\n",
       "      <td id=\"T_ec25d_row11_col1\" class=\"data row11 col1\" >3,079</td>\n",
       "      <td id=\"T_ec25d_row11_col2\" class=\"data row11 col2\" >1,265</td>\n",
       "      <td id=\"T_ec25d_row11_col3\" class=\"data row11 col3\" >127,239.3</td>\n",
       "      <td id=\"T_ec25d_row11_col4\" class=\"data row11 col4\" >597,825</td>\n",
       "      <td id=\"T_ec25d_row11_col5\" class=\"data row11 col5\" >1,087,613.17</td>\n",
       "    </tr>\n",
       "  </tbody>\n",
       "</table>\n"
      ],
      "text/plain": [
       "<pandas.io.formats.style.Styler at 0x7fbc8e391550>"
      ]
     },
     "execution_count": 84,
     "metadata": {},
     "output_type": "execute_result"
    }
   ],
   "source": [
    "# df_valid(유효고객, 유효주문)에 대해 월별 데이터( InvoiceMonth )를 확인합니다.\n",
    "# InvoiceNo 의 수\n",
    "# StockCode, CustomerID 의 유일값의 수\n",
    "# UnitPrice, Quantity, TotalPrice 의 sum\n",
    "df_valid.groupby('InvoiceMonth').agg({\"InvoiceNo\":\"count\", \n",
    "                                      \"StockCode\":\"nunique\", \n",
    "                                      \"CustomerID\":\"nunique\",\n",
    "                                      \"UnitPrice\":\"sum\",\n",
    "                                      \"Quantity\":\"sum\",\n",
    "                                      \"TotalPrice\":\"sum\"\n",
    "                                     }).style.format(\"{:,}\")"
   ]
  },
  {
   "cell_type": "markdown",
   "metadata": {
    "id": "iGfd7BtbVUqk"
   },
   "source": [
    "## 잔존 빈도 구하기\n",
    "```python\n",
    "cohort_count = df_valid.groupby([\"InvoiceDateMin\", \"CohortIndex\"])[\"CustomerID\"].nunique().unstack()\n",
    "cohort_count\n",
    "```"
   ]
  },
  {
   "cell_type": "code",
   "execution_count": 87,
   "metadata": {
    "colab": {
     "base_uri": "https://localhost:8080/",
     "height": 488
    },
    "executionInfo": {
     "elapsed": 9,
     "status": "ok",
     "timestamp": 1634789358305,
     "user": {
      "displayName": "JINY ROH",
      "photoUrl": "https://lh3.googleusercontent.com/a-/AOh14Gi7VIzxUnr7MUJE9Bupl4bkwgEAsz4e1gsgrYIPZw=s64",
      "userId": "06348894780083418282"
     },
     "user_tz": -540
    },
    "id": "Jk5MZXgfVUql",
    "outputId": "2952174e-01d5-4394-fb06-8ee0125eea09"
   },
   "outputs": [
    {
     "data": {
      "text/html": [
       "<div>\n",
       "<style scoped>\n",
       "    .dataframe tbody tr th:only-of-type {\n",
       "        vertical-align: middle;\n",
       "    }\n",
       "\n",
       "    .dataframe tbody tr th {\n",
       "        vertical-align: top;\n",
       "    }\n",
       "\n",
       "    .dataframe thead th {\n",
       "        text-align: right;\n",
       "    }\n",
       "</style>\n",
       "<table border=\"1\" class=\"dataframe\">\n",
       "  <thead>\n",
       "    <tr style=\"text-align: right;\">\n",
       "      <th>CohortIndex</th>\n",
       "      <th>1</th>\n",
       "      <th>2</th>\n",
       "      <th>3</th>\n",
       "      <th>4</th>\n",
       "      <th>5</th>\n",
       "      <th>6</th>\n",
       "      <th>7</th>\n",
       "      <th>8</th>\n",
       "      <th>9</th>\n",
       "      <th>10</th>\n",
       "      <th>11</th>\n",
       "      <th>12</th>\n",
       "      <th>13</th>\n",
       "    </tr>\n",
       "    <tr>\n",
       "      <th>InvoiceDateMin</th>\n",
       "      <th></th>\n",
       "      <th></th>\n",
       "      <th></th>\n",
       "      <th></th>\n",
       "      <th></th>\n",
       "      <th></th>\n",
       "      <th></th>\n",
       "      <th></th>\n",
       "      <th></th>\n",
       "      <th></th>\n",
       "      <th></th>\n",
       "      <th></th>\n",
       "      <th></th>\n",
       "    </tr>\n",
       "  </thead>\n",
       "  <tbody>\n",
       "    <tr>\n",
       "      <th>2010-12-01</th>\n",
       "      <td>885.0</td>\n",
       "      <td>324.0</td>\n",
       "      <td>286.0</td>\n",
       "      <td>340.0</td>\n",
       "      <td>321.0</td>\n",
       "      <td>352.0</td>\n",
       "      <td>321.0</td>\n",
       "      <td>309.0</td>\n",
       "      <td>313.0</td>\n",
       "      <td>350.0</td>\n",
       "      <td>331.0</td>\n",
       "      <td>445.0</td>\n",
       "      <td>235.0</td>\n",
       "    </tr>\n",
       "    <tr>\n",
       "      <th>2011-01-01</th>\n",
       "      <td>417.0</td>\n",
       "      <td>92.0</td>\n",
       "      <td>111.0</td>\n",
       "      <td>96.0</td>\n",
       "      <td>134.0</td>\n",
       "      <td>120.0</td>\n",
       "      <td>103.0</td>\n",
       "      <td>101.0</td>\n",
       "      <td>125.0</td>\n",
       "      <td>136.0</td>\n",
       "      <td>152.0</td>\n",
       "      <td>49.0</td>\n",
       "      <td>NaN</td>\n",
       "    </tr>\n",
       "    <tr>\n",
       "      <th>2011-02-01</th>\n",
       "      <td>380.0</td>\n",
       "      <td>71.0</td>\n",
       "      <td>71.0</td>\n",
       "      <td>108.0</td>\n",
       "      <td>103.0</td>\n",
       "      <td>94.0</td>\n",
       "      <td>96.0</td>\n",
       "      <td>106.0</td>\n",
       "      <td>94.0</td>\n",
       "      <td>116.0</td>\n",
       "      <td>26.0</td>\n",
       "      <td>NaN</td>\n",
       "      <td>NaN</td>\n",
       "    </tr>\n",
       "    <tr>\n",
       "      <th>2011-03-01</th>\n",
       "      <td>452.0</td>\n",
       "      <td>68.0</td>\n",
       "      <td>114.0</td>\n",
       "      <td>90.0</td>\n",
       "      <td>101.0</td>\n",
       "      <td>76.0</td>\n",
       "      <td>121.0</td>\n",
       "      <td>104.0</td>\n",
       "      <td>126.0</td>\n",
       "      <td>39.0</td>\n",
       "      <td>NaN</td>\n",
       "      <td>NaN</td>\n",
       "      <td>NaN</td>\n",
       "    </tr>\n",
       "    <tr>\n",
       "      <th>2011-04-01</th>\n",
       "      <td>300.0</td>\n",
       "      <td>64.0</td>\n",
       "      <td>61.0</td>\n",
       "      <td>63.0</td>\n",
       "      <td>59.0</td>\n",
       "      <td>68.0</td>\n",
       "      <td>65.0</td>\n",
       "      <td>78.0</td>\n",
       "      <td>22.0</td>\n",
       "      <td>NaN</td>\n",
       "      <td>NaN</td>\n",
       "      <td>NaN</td>\n",
       "      <td>NaN</td>\n",
       "    </tr>\n",
       "    <tr>\n",
       "      <th>2011-05-01</th>\n",
       "      <td>284.0</td>\n",
       "      <td>54.0</td>\n",
       "      <td>49.0</td>\n",
       "      <td>49.0</td>\n",
       "      <td>59.0</td>\n",
       "      <td>66.0</td>\n",
       "      <td>75.0</td>\n",
       "      <td>27.0</td>\n",
       "      <td>NaN</td>\n",
       "      <td>NaN</td>\n",
       "      <td>NaN</td>\n",
       "      <td>NaN</td>\n",
       "      <td>NaN</td>\n",
       "    </tr>\n",
       "    <tr>\n",
       "      <th>2011-06-01</th>\n",
       "      <td>242.0</td>\n",
       "      <td>42.0</td>\n",
       "      <td>38.0</td>\n",
       "      <td>64.0</td>\n",
       "      <td>56.0</td>\n",
       "      <td>81.0</td>\n",
       "      <td>23.0</td>\n",
       "      <td>NaN</td>\n",
       "      <td>NaN</td>\n",
       "      <td>NaN</td>\n",
       "      <td>NaN</td>\n",
       "      <td>NaN</td>\n",
       "      <td>NaN</td>\n",
       "    </tr>\n",
       "    <tr>\n",
       "      <th>2011-07-01</th>\n",
       "      <td>188.0</td>\n",
       "      <td>34.0</td>\n",
       "      <td>39.0</td>\n",
       "      <td>42.0</td>\n",
       "      <td>51.0</td>\n",
       "      <td>21.0</td>\n",
       "      <td>NaN</td>\n",
       "      <td>NaN</td>\n",
       "      <td>NaN</td>\n",
       "      <td>NaN</td>\n",
       "      <td>NaN</td>\n",
       "      <td>NaN</td>\n",
       "      <td>NaN</td>\n",
       "    </tr>\n",
       "    <tr>\n",
       "      <th>2011-08-01</th>\n",
       "      <td>169.0</td>\n",
       "      <td>35.0</td>\n",
       "      <td>42.0</td>\n",
       "      <td>41.0</td>\n",
       "      <td>21.0</td>\n",
       "      <td>NaN</td>\n",
       "      <td>NaN</td>\n",
       "      <td>NaN</td>\n",
       "      <td>NaN</td>\n",
       "      <td>NaN</td>\n",
       "      <td>NaN</td>\n",
       "      <td>NaN</td>\n",
       "      <td>NaN</td>\n",
       "    </tr>\n",
       "    <tr>\n",
       "      <th>2011-09-01</th>\n",
       "      <td>299.0</td>\n",
       "      <td>70.0</td>\n",
       "      <td>90.0</td>\n",
       "      <td>34.0</td>\n",
       "      <td>NaN</td>\n",
       "      <td>NaN</td>\n",
       "      <td>NaN</td>\n",
       "      <td>NaN</td>\n",
       "      <td>NaN</td>\n",
       "      <td>NaN</td>\n",
       "      <td>NaN</td>\n",
       "      <td>NaN</td>\n",
       "      <td>NaN</td>\n",
       "    </tr>\n",
       "    <tr>\n",
       "      <th>2011-10-01</th>\n",
       "      <td>358.0</td>\n",
       "      <td>86.0</td>\n",
       "      <td>41.0</td>\n",
       "      <td>NaN</td>\n",
       "      <td>NaN</td>\n",
       "      <td>NaN</td>\n",
       "      <td>NaN</td>\n",
       "      <td>NaN</td>\n",
       "      <td>NaN</td>\n",
       "      <td>NaN</td>\n",
       "      <td>NaN</td>\n",
       "      <td>NaN</td>\n",
       "      <td>NaN</td>\n",
       "    </tr>\n",
       "    <tr>\n",
       "      <th>2011-11-01</th>\n",
       "      <td>323.0</td>\n",
       "      <td>36.0</td>\n",
       "      <td>NaN</td>\n",
       "      <td>NaN</td>\n",
       "      <td>NaN</td>\n",
       "      <td>NaN</td>\n",
       "      <td>NaN</td>\n",
       "      <td>NaN</td>\n",
       "      <td>NaN</td>\n",
       "      <td>NaN</td>\n",
       "      <td>NaN</td>\n",
       "      <td>NaN</td>\n",
       "      <td>NaN</td>\n",
       "    </tr>\n",
       "    <tr>\n",
       "      <th>2011-12-01</th>\n",
       "      <td>41.0</td>\n",
       "      <td>NaN</td>\n",
       "      <td>NaN</td>\n",
       "      <td>NaN</td>\n",
       "      <td>NaN</td>\n",
       "      <td>NaN</td>\n",
       "      <td>NaN</td>\n",
       "      <td>NaN</td>\n",
       "      <td>NaN</td>\n",
       "      <td>NaN</td>\n",
       "      <td>NaN</td>\n",
       "      <td>NaN</td>\n",
       "      <td>NaN</td>\n",
       "    </tr>\n",
       "  </tbody>\n",
       "</table>\n",
       "</div>"
      ],
      "text/plain": [
       "CohortIndex        1      2      3      4      5      6      7      8      9   \\\n",
       "InvoiceDateMin                                                                  \n",
       "2010-12-01      885.0  324.0  286.0  340.0  321.0  352.0  321.0  309.0  313.0   \n",
       "2011-01-01      417.0   92.0  111.0   96.0  134.0  120.0  103.0  101.0  125.0   \n",
       "2011-02-01      380.0   71.0   71.0  108.0  103.0   94.0   96.0  106.0   94.0   \n",
       "2011-03-01      452.0   68.0  114.0   90.0  101.0   76.0  121.0  104.0  126.0   \n",
       "2011-04-01      300.0   64.0   61.0   63.0   59.0   68.0   65.0   78.0   22.0   \n",
       "2011-05-01      284.0   54.0   49.0   49.0   59.0   66.0   75.0   27.0    NaN   \n",
       "2011-06-01      242.0   42.0   38.0   64.0   56.0   81.0   23.0    NaN    NaN   \n",
       "2011-07-01      188.0   34.0   39.0   42.0   51.0   21.0    NaN    NaN    NaN   \n",
       "2011-08-01      169.0   35.0   42.0   41.0   21.0    NaN    NaN    NaN    NaN   \n",
       "2011-09-01      299.0   70.0   90.0   34.0    NaN    NaN    NaN    NaN    NaN   \n",
       "2011-10-01      358.0   86.0   41.0    NaN    NaN    NaN    NaN    NaN    NaN   \n",
       "2011-11-01      323.0   36.0    NaN    NaN    NaN    NaN    NaN    NaN    NaN   \n",
       "2011-12-01       41.0    NaN    NaN    NaN    NaN    NaN    NaN    NaN    NaN   \n",
       "\n",
       "CohortIndex        10     11     12     13  \n",
       "InvoiceDateMin                              \n",
       "2010-12-01      350.0  331.0  445.0  235.0  \n",
       "2011-01-01      136.0  152.0   49.0    NaN  \n",
       "2011-02-01      116.0   26.0    NaN    NaN  \n",
       "2011-03-01       39.0    NaN    NaN    NaN  \n",
       "2011-04-01        NaN    NaN    NaN    NaN  \n",
       "2011-05-01        NaN    NaN    NaN    NaN  \n",
       "2011-06-01        NaN    NaN    NaN    NaN  \n",
       "2011-07-01        NaN    NaN    NaN    NaN  \n",
       "2011-08-01        NaN    NaN    NaN    NaN  \n",
       "2011-09-01        NaN    NaN    NaN    NaN  \n",
       "2011-10-01        NaN    NaN    NaN    NaN  \n",
       "2011-11-01        NaN    NaN    NaN    NaN  \n",
       "2011-12-01        NaN    NaN    NaN    NaN  "
      ]
     },
     "execution_count": 87,
     "metadata": {},
     "output_type": "execute_result"
    }
   ],
   "source": [
    "# InvoiceDateMin , CohortIndex 로 그룹화 하여 CustomerID 의 유일값에 대한 빈도수를 구합니다.\n",
    "cohort_count = df_valid.groupby([\"InvoiceDateMin\", \"CohortIndex\"])[\"CustomerID\"].nunique().unstack()\n",
    "cohort_count"
   ]
  },
  {
   "cell_type": "code",
   "execution_count": 88,
   "metadata": {},
   "outputs": [],
   "source": [
    "cohort_count.index = cohort_count.index.astype(str)"
   ]
  },
  {
   "cell_type": "code",
   "execution_count": 97,
   "metadata": {
    "colab": {
     "base_uri": "https://localhost:8080/",
     "height": 516
    },
    "executionInfo": {
     "elapsed": 1168,
     "status": "ok",
     "timestamp": 1634789359465,
     "user": {
      "displayName": "JINY ROH",
      "photoUrl": "https://lh3.googleusercontent.com/a-/AOh14Gi7VIzxUnr7MUJE9Bupl4bkwgEAsz4e1gsgrYIPZw=s64",
      "userId": "06348894780083418282"
     },
     "user_tz": -540
    },
    "id": "u_HooWzvVUql",
    "outputId": "087b5350-76a3-4502-afa7-b7e8444dab91"
   },
   "outputs": [
    {
     "data": {
      "text/plain": [
       "<AxesSubplot:xlabel='CohortIndex', ylabel='InvoiceDateMin'>"
      ]
     },
     "execution_count": 97,
     "metadata": {},
     "output_type": "execute_result"
    },
    {
     "data": {
      "image/png": "[encoded data removed]",
      "text/plain": [
       "<Figure size 864x576 with 2 Axes>"
      ]
     },
     "metadata": {
      "needs_background": "light"
     },
     "output_type": "display_data"
    }
   ],
   "source": [
    "# heatmap을 통해 위에서 구한 잔존수을 시각화 합니다.\n",
    "plt.figure(figsize=(12, 8))\n",
    "sns.heatmap(cohort_count, annot=True, fmt=\",.0f\", cmap=\"Blues\")"
   ]
  },
  {
   "cell_type": "markdown",
   "metadata": {},
   "source": [
    "### 월별 신규 유입 고객 수 \n",
    "* Acqusition"
   ]
  },
  {
   "cell_type": "code",
   "execution_count": 93,
   "metadata": {
    "scrolled": true
   },
   "outputs": [
    {
     "data": {
      "text/plain": [
       "InvoiceDateMin\n",
       "2010-12-01    885.0\n",
       "2011-01-01    417.0\n",
       "2011-02-01    380.0\n",
       "2011-03-01    452.0\n",
       "2011-04-01    300.0\n",
       "2011-05-01    284.0\n",
       "2011-06-01    242.0\n",
       "2011-07-01    188.0\n",
       "2011-08-01    169.0\n",
       "2011-09-01    299.0\n",
       "2011-10-01    358.0\n",
       "2011-11-01    323.0\n",
       "2011-12-01     41.0\n",
       "Name: 1, dtype: float64"
      ]
     },
     "execution_count": 93,
     "metadata": {},
     "output_type": "execute_result"
    }
   ],
   "source": [
    "cohort_count[1]"
   ]
  },
  {
   "cell_type": "code",
   "execution_count": 94,
   "metadata": {},
   "outputs": [
    {
     "data": {
      "text/plain": [
       "<AxesSubplot:title={'center':'Monthly Acqusition'}, ylabel='InvoiceDateMin'>"
      ]
     },
     "execution_count": 94,
     "metadata": {},
     "output_type": "execute_result"
    },
    {
     "data": {
      "image/png": "[encoded data removed]",
      "text/plain": [
       "<Figure size 864x432 with 1 Axes>"
      ]
     },
     "metadata": {
      "needs_background": "light"
     },
     "output_type": "display_data"
    }
   ],
   "source": [
    "# Monthly Acqusition 을 구합니다.\n",
    "cohort_count[1].sort_index(\n",
    "    ascending=False).plot.barh(figsize=(12, 6), title=\"Monthly Acqusition\")"
   ]
  },
  {
   "cell_type": "markdown",
   "metadata": {
    "id": "pBm8RhFuVUql"
   },
   "source": [
    "## 잔존율 구하기\n",
    "```python\n",
    "\n",
    "cohort_ratio = cohort_count.div(cohort_count[1], axis=0) * 100\n",
    "cohort_ratio = cohort_ratio.round(2)\n",
    "cohort_ratio\n",
    "```"
   ]
  },
  {
   "cell_type": "code",
   "execution_count": null,
   "metadata": {},
   "outputs": [],
   "source": [
    "# NAN == Not a Number 의 약자\n",
    "np.nan"
   ]
  },
  {
   "cell_type": "code",
   "execution_count": 102,
   "metadata": {
    "colab": {
     "base_uri": "https://localhost:8080/",
     "height": 488
    },
    "executionInfo": {
     "elapsed": 10,
     "status": "ok",
     "timestamp": 1634789359466,
     "user": {
      "displayName": "JINY ROH",
      "photoUrl": "https://lh3.googleusercontent.com/a-/AOh14Gi7VIzxUnr7MUJE9Bupl4bkwgEAsz4e1gsgrYIPZw=s64",
      "userId": "06348894780083418282"
     },
     "user_tz": -540
    },
    "id": "tJPPTLnJVUqm",
    "outputId": "64bcbda8-8f14-4845-a4f5-c0e575d85a6b"
   },
   "outputs": [
    {
     "data": {
      "text/html": [
       "<div>\n",
       "<style scoped>\n",
       "    .dataframe tbody tr th:only-of-type {\n",
       "        vertical-align: middle;\n",
       "    }\n",
       "\n",
       "    .dataframe tbody tr th {\n",
       "        vertical-align: top;\n",
       "    }\n",
       "\n",
       "    .dataframe thead th {\n",
       "        text-align: right;\n",
       "    }\n",
       "</style>\n",
       "<table border=\"1\" class=\"dataframe\">\n",
       "  <thead>\n",
       "    <tr style=\"text-align: right;\">\n",
       "      <th>CohortIndex</th>\n",
       "      <th>1</th>\n",
       "      <th>2</th>\n",
       "      <th>3</th>\n",
       "      <th>4</th>\n",
       "      <th>5</th>\n",
       "      <th>6</th>\n",
       "      <th>7</th>\n",
       "      <th>8</th>\n",
       "      <th>9</th>\n",
       "      <th>10</th>\n",
       "      <th>11</th>\n",
       "      <th>12</th>\n",
       "      <th>13</th>\n",
       "    </tr>\n",
       "    <tr>\n",
       "      <th>InvoiceDateMin</th>\n",
       "      <th></th>\n",
       "      <th></th>\n",
       "      <th></th>\n",
       "      <th></th>\n",
       "      <th></th>\n",
       "      <th></th>\n",
       "      <th></th>\n",
       "      <th></th>\n",
       "      <th></th>\n",
       "      <th></th>\n",
       "      <th></th>\n",
       "      <th></th>\n",
       "      <th></th>\n",
       "    </tr>\n",
       "  </thead>\n",
       "  <tbody>\n",
       "    <tr>\n",
       "      <th>2010-12-01</th>\n",
       "      <td>1.0</td>\n",
       "      <td>0.366102</td>\n",
       "      <td>0.323164</td>\n",
       "      <td>0.384181</td>\n",
       "      <td>0.362712</td>\n",
       "      <td>0.397740</td>\n",
       "      <td>0.362712</td>\n",
       "      <td>0.349153</td>\n",
       "      <td>0.353672</td>\n",
       "      <td>0.395480</td>\n",
       "      <td>0.374011</td>\n",
       "      <td>0.502825</td>\n",
       "      <td>0.265537</td>\n",
       "    </tr>\n",
       "    <tr>\n",
       "      <th>2011-01-01</th>\n",
       "      <td>1.0</td>\n",
       "      <td>0.220624</td>\n",
       "      <td>0.266187</td>\n",
       "      <td>0.230216</td>\n",
       "      <td>0.321343</td>\n",
       "      <td>0.287770</td>\n",
       "      <td>0.247002</td>\n",
       "      <td>0.242206</td>\n",
       "      <td>0.299760</td>\n",
       "      <td>0.326139</td>\n",
       "      <td>0.364508</td>\n",
       "      <td>0.117506</td>\n",
       "      <td>NaN</td>\n",
       "    </tr>\n",
       "    <tr>\n",
       "      <th>2011-02-01</th>\n",
       "      <td>1.0</td>\n",
       "      <td>0.186842</td>\n",
       "      <td>0.186842</td>\n",
       "      <td>0.284211</td>\n",
       "      <td>0.271053</td>\n",
       "      <td>0.247368</td>\n",
       "      <td>0.252632</td>\n",
       "      <td>0.278947</td>\n",
       "      <td>0.247368</td>\n",
       "      <td>0.305263</td>\n",
       "      <td>0.068421</td>\n",
       "      <td>NaN</td>\n",
       "      <td>NaN</td>\n",
       "    </tr>\n",
       "    <tr>\n",
       "      <th>2011-03-01</th>\n",
       "      <td>1.0</td>\n",
       "      <td>0.150442</td>\n",
       "      <td>0.252212</td>\n",
       "      <td>0.199115</td>\n",
       "      <td>0.223451</td>\n",
       "      <td>0.168142</td>\n",
       "      <td>0.267699</td>\n",
       "      <td>0.230088</td>\n",
       "      <td>0.278761</td>\n",
       "      <td>0.086283</td>\n",
       "      <td>NaN</td>\n",
       "      <td>NaN</td>\n",
       "      <td>NaN</td>\n",
       "    </tr>\n",
       "    <tr>\n",
       "      <th>2011-04-01</th>\n",
       "      <td>1.0</td>\n",
       "      <td>0.213333</td>\n",
       "      <td>0.203333</td>\n",
       "      <td>0.210000</td>\n",
       "      <td>0.196667</td>\n",
       "      <td>0.226667</td>\n",
       "      <td>0.216667</td>\n",
       "      <td>0.260000</td>\n",
       "      <td>0.073333</td>\n",
       "      <td>NaN</td>\n",
       "      <td>NaN</td>\n",
       "      <td>NaN</td>\n",
       "      <td>NaN</td>\n",
       "    </tr>\n",
       "    <tr>\n",
       "      <th>2011-05-01</th>\n",
       "      <td>1.0</td>\n",
       "      <td>0.190141</td>\n",
       "      <td>0.172535</td>\n",
       "      <td>0.172535</td>\n",
       "      <td>0.207746</td>\n",
       "      <td>0.232394</td>\n",
       "      <td>0.264085</td>\n",
       "      <td>0.095070</td>\n",
       "      <td>NaN</td>\n",
       "      <td>NaN</td>\n",
       "      <td>NaN</td>\n",
       "      <td>NaN</td>\n",
       "      <td>NaN</td>\n",
       "    </tr>\n",
       "    <tr>\n",
       "      <th>2011-06-01</th>\n",
       "      <td>1.0</td>\n",
       "      <td>0.173554</td>\n",
       "      <td>0.157025</td>\n",
       "      <td>0.264463</td>\n",
       "      <td>0.231405</td>\n",
       "      <td>0.334711</td>\n",
       "      <td>0.095041</td>\n",
       "      <td>NaN</td>\n",
       "      <td>NaN</td>\n",
       "      <td>NaN</td>\n",
       "      <td>NaN</td>\n",
       "      <td>NaN</td>\n",
       "      <td>NaN</td>\n",
       "    </tr>\n",
       "    <tr>\n",
       "      <th>2011-07-01</th>\n",
       "      <td>1.0</td>\n",
       "      <td>0.180851</td>\n",
       "      <td>0.207447</td>\n",
       "      <td>0.223404</td>\n",
       "      <td>0.271277</td>\n",
       "      <td>0.111702</td>\n",
       "      <td>NaN</td>\n",
       "      <td>NaN</td>\n",
       "      <td>NaN</td>\n",
       "      <td>NaN</td>\n",
       "      <td>NaN</td>\n",
       "      <td>NaN</td>\n",
       "      <td>NaN</td>\n",
       "    </tr>\n",
       "    <tr>\n",
       "      <th>2011-08-01</th>\n",
       "      <td>1.0</td>\n",
       "      <td>0.207101</td>\n",
       "      <td>0.248521</td>\n",
       "      <td>0.242604</td>\n",
       "      <td>0.124260</td>\n",
       "      <td>NaN</td>\n",
       "      <td>NaN</td>\n",
       "      <td>NaN</td>\n",
       "      <td>NaN</td>\n",
       "      <td>NaN</td>\n",
       "      <td>NaN</td>\n",
       "      <td>NaN</td>\n",
       "      <td>NaN</td>\n",
       "    </tr>\n",
       "    <tr>\n",
       "      <th>2011-09-01</th>\n",
       "      <td>1.0</td>\n",
       "      <td>0.234114</td>\n",
       "      <td>0.301003</td>\n",
       "      <td>0.113712</td>\n",
       "      <td>NaN</td>\n",
       "      <td>NaN</td>\n",
       "      <td>NaN</td>\n",
       "      <td>NaN</td>\n",
       "      <td>NaN</td>\n",
       "      <td>NaN</td>\n",
       "      <td>NaN</td>\n",
       "      <td>NaN</td>\n",
       "      <td>NaN</td>\n",
       "    </tr>\n",
       "    <tr>\n",
       "      <th>2011-10-01</th>\n",
       "      <td>1.0</td>\n",
       "      <td>0.240223</td>\n",
       "      <td>0.114525</td>\n",
       "      <td>NaN</td>\n",
       "      <td>NaN</td>\n",
       "      <td>NaN</td>\n",
       "      <td>NaN</td>\n",
       "      <td>NaN</td>\n",
       "      <td>NaN</td>\n",
       "      <td>NaN</td>\n",
       "      <td>NaN</td>\n",
       "      <td>NaN</td>\n",
       "      <td>NaN</td>\n",
       "    </tr>\n",
       "    <tr>\n",
       "      <th>2011-11-01</th>\n",
       "      <td>1.0</td>\n",
       "      <td>0.111455</td>\n",
       "      <td>NaN</td>\n",
       "      <td>NaN</td>\n",
       "      <td>NaN</td>\n",
       "      <td>NaN</td>\n",
       "      <td>NaN</td>\n",
       "      <td>NaN</td>\n",
       "      <td>NaN</td>\n",
       "      <td>NaN</td>\n",
       "      <td>NaN</td>\n",
       "      <td>NaN</td>\n",
       "      <td>NaN</td>\n",
       "    </tr>\n",
       "    <tr>\n",
       "      <th>2011-12-01</th>\n",
       "      <td>1.0</td>\n",
       "      <td>NaN</td>\n",
       "      <td>NaN</td>\n",
       "      <td>NaN</td>\n",
       "      <td>NaN</td>\n",
       "      <td>NaN</td>\n",
       "      <td>NaN</td>\n",
       "      <td>NaN</td>\n",
       "      <td>NaN</td>\n",
       "      <td>NaN</td>\n",
       "      <td>NaN</td>\n",
       "      <td>NaN</td>\n",
       "      <td>NaN</td>\n",
       "    </tr>\n",
       "  </tbody>\n",
       "</table>\n",
       "</div>"
      ],
      "text/plain": [
       "CohortIndex      1         2         3         4         5         6   \\\n",
       "InvoiceDateMin                                                          \n",
       "2010-12-01      1.0  0.366102  0.323164  0.384181  0.362712  0.397740   \n",
       "2011-01-01      1.0  0.220624  0.266187  0.230216  0.321343  0.287770   \n",
       "2011-02-01      1.0  0.186842  0.186842  0.284211  0.271053  0.247368   \n",
       "2011-03-01      1.0  0.150442  0.252212  0.199115  0.223451  0.168142   \n",
       "2011-04-01      1.0  0.213333  0.203333  0.210000  0.196667  0.226667   \n",
       "2011-05-01      1.0  0.190141  0.172535  0.172535  0.207746  0.232394   \n",
       "2011-06-01      1.0  0.173554  0.157025  0.264463  0.231405  0.334711   \n",
       "2011-07-01      1.0  0.180851  0.207447  0.223404  0.271277  0.111702   \n",
       "2011-08-01      1.0  0.207101  0.248521  0.242604  0.124260       NaN   \n",
       "2011-09-01      1.0  0.234114  0.301003  0.113712       NaN       NaN   \n",
       "2011-10-01      1.0  0.240223  0.114525       NaN       NaN       NaN   \n",
       "2011-11-01      1.0  0.111455       NaN       NaN       NaN       NaN   \n",
       "2011-12-01      1.0       NaN       NaN       NaN       NaN       NaN   \n",
       "\n",
       "CohortIndex           7         8         9         10        11        12  \\\n",
       "InvoiceDateMin                                                               \n",
       "2010-12-01      0.362712  0.349153  0.353672  0.395480  0.374011  0.502825   \n",
       "2011-01-01      0.247002  0.242206  0.299760  0.326139  0.364508  0.117506   \n",
       "2011-02-01      0.252632  0.278947  0.247368  0.305263  0.068421       NaN   \n",
       "2011-03-01      0.267699  0.230088  0.278761  0.086283       NaN       NaN   \n",
       "2011-04-01      0.216667  0.260000  0.073333       NaN       NaN       NaN   \n",
       "2011-05-01      0.264085  0.095070       NaN       NaN       NaN       NaN   \n",
       "2011-06-01      0.095041       NaN       NaN       NaN       NaN       NaN   \n",
       "2011-07-01           NaN       NaN       NaN       NaN       NaN       NaN   \n",
       "2011-08-01           NaN       NaN       NaN       NaN       NaN       NaN   \n",
       "2011-09-01           NaN       NaN       NaN       NaN       NaN       NaN   \n",
       "2011-10-01           NaN       NaN       NaN       NaN       NaN       NaN   \n",
       "2011-11-01           NaN       NaN       NaN       NaN       NaN       NaN   \n",
       "2011-12-01           NaN       NaN       NaN       NaN       NaN       NaN   \n",
       "\n",
       "CohortIndex           13  \n",
       "InvoiceDateMin            \n",
       "2010-12-01      0.265537  \n",
       "2011-01-01           NaN  \n",
       "2011-02-01           NaN  \n",
       "2011-03-01           NaN  \n",
       "2011-04-01           NaN  \n",
       "2011-05-01           NaN  \n",
       "2011-06-01           NaN  \n",
       "2011-07-01           NaN  \n",
       "2011-08-01           NaN  \n",
       "2011-09-01           NaN  \n",
       "2011-10-01           NaN  \n",
       "2011-11-01           NaN  \n",
       "2011-12-01           NaN  "
      ]
     },
     "execution_count": 102,
     "metadata": {},
     "output_type": "execute_result"
    }
   ],
   "source": [
    "# 가입한 달을 1로 나누면 잔존률을 구할 수 있습니다.\n",
    "# div 를 통해 구하며 axis=0 으로 설정하면 첫 달을 기준으로 나머지 달을 나누게 됩니다.\n",
    "cohort_ratio = cohort_count.div(cohort_count[1], axis=0)\n",
    "cohort_ratio"
   ]
  },
  {
   "cell_type": "code",
   "execution_count": 105,
   "metadata": {
    "colab": {
     "base_uri": "https://localhost:8080/",
     "height": 519
    },
    "executionInfo": {
     "elapsed": 630,
     "status": "ok",
     "timestamp": 1634789360088,
     "user": {
      "displayName": "JINY ROH",
      "photoUrl": "https://lh3.googleusercontent.com/a-/AOh14Gi7VIzxUnr7MUJE9Bupl4bkwgEAsz4e1gsgrYIPZw=s64",
      "userId": "06348894780083418282"
     },
     "user_tz": -540
    },
    "id": "GNU1FBAhVUqm",
    "outputId": "90eb7c49-609c-4acf-b245-1298c8b6aff6"
   },
   "outputs": [
    {
     "data": {
      "text/plain": [
       "<AxesSubplot:xlabel='CohortIndex', ylabel='InvoiceDateMin'>"
      ]
     },
     "execution_count": 105,
     "metadata": {},
     "output_type": "execute_result"
    },
    {
     "data": {
      "image/png": "[encoded data removed]",
      "text/plain": [
       "<Figure size 864x576 with 2 Axes>"
      ]
     },
     "metadata": {
      "needs_background": "light"
     },
     "output_type": "display_data"
    }
   ],
   "source": [
    "# heatmap을 통해 위에서 구한 잔존률을 시각화 합니다.\n",
    "plt.figure(figsize=(12, 8))\n",
    "sns.heatmap(cohort_ratio, annot=True, cmap=\"Greens\")"
   ]
  },
  {
   "cell_type": "code",
   "execution_count": null,
   "metadata": {},
   "outputs": [],
   "source": []
  }
 ],
 "metadata": {
  "colab": {
   "collapsed_sections": [],
   "name": "01-basic-eda.ipynb",
   "provenance": []
  },
  "kernelspec": {
   "display_name": "Python 3 (ipykernel)",
   "language": "python",
   "name": "python3"
  },
  "language_info": {
   "codemirror_mode": {
    "name": "ipython",
    "version": 3
   },
   "file_extension": ".py",
   "mimetype": "text/x-python",
   "name": "python",
   "nbconvert_exporter": "python",
   "pygments_lexer": "ipython3",
   "version": "3.7.13"
  },
  "toc": {
   "base_numbering": 1,
   "nav_menu": {},
   "number_sections": true,
   "sideBar": true,
   "skip_h1_title": false,
   "title_cell": "Table of Contents",
   "title_sidebar": "Contents",
   "toc_cell": false,
   "toc_position": {
    "height": "calc(100% - 180px)",
    "left": "10px",
    "top": "150px",
    "width": "165px"
   },
   "toc_section_display": true,
   "toc_window_display": true
  },
  "varInspector": {
   "cols": {
    "lenName": 16,
    "lenType": 16,
    "lenVar": 40
   },
   "kernels_config": {
    "python": {
     "delete_cmd_postfix": "",
     "delete_cmd_prefix": "del ",
     "library": "var_list.py",
     "varRefreshCmd": "print(var_dic_list())"
    },
    "r": {
     "delete_cmd_postfix": ") ",
     "delete_cmd_prefix": "rm(",
     "library": "var_list.r",
     "varRefreshCmd": "cat(var_dic_list()) "
    }
   },
   "types_to_exclude": [
    "module",
    "function",
    "builtin_function_or_method",
    "instance",
    "_Feature"
   ],
   "window_display": false
  }
 },
 "nbformat": 4,
 "nbformat_minor": 1
}
